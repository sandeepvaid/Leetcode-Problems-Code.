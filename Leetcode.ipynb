{
 "cells": [
  {
   "cell_type": "markdown",
   "metadata": {},
   "source": [
    "Program to return median from two sorted arrays ."
   ]
  },
  {
   "cell_type": "code",
   "execution_count": 2,
   "metadata": {},
   "outputs": [
    {
     "data": {
      "text/plain": [
       "2.5"
      ]
     },
     "execution_count": 2,
     "metadata": {},
     "output_type": "execute_result"
    }
   ],
   "source": [
    "class Solution(object):\n",
    "    def findMedianSortedArrays(self, nums1, nums2):\n",
    "        \"\"\"\n",
    "        :type nums1: List[int]\n",
    "        :type nums2: List[int]\n",
    "        :rtype: float\n",
    "        \"\"\"\n",
    "        i=0\n",
    "        j=0\n",
    "        merged_array = []\n",
    "        while i < len(nums1) and j<len(nums2):\n",
    "            if nums1[i] < nums2[j]:\n",
    "                merged_array.append(nums1[i])\n",
    "                i=i+1\n",
    "            else:\n",
    "                merged_array.append(nums2[j])\n",
    "                j=j+1\n",
    "        while i < len(nums1):\n",
    "                merged_array.append(nums1[i])\n",
    "                i=i+1\n",
    "        while j<len(nums2):\n",
    "                merged_array.append(nums2[j])\n",
    "                j=j+1   \n",
    "        \n",
    "        if len(merged_array) %2!=0:\n",
    "            median = len(merged_array)//2\n",
    "            return merged_array[median]\n",
    "    \n",
    "        else:\n",
    "            median = len(merged_array)//2\n",
    "            return (merged_array[median-1] + merged_array[median])/2\n",
    "                    \n",
    "        \n",
    "s1=Solution()\n",
    "s1.findMedianSortedArrays([1,2],[3,4])"
   ]
  },
  {
   "cell_type": "markdown",
   "metadata": {},
   "source": [
    "Program for containing with most water"
   ]
  },
  {
   "cell_type": "code",
   "execution_count": 6,
   "metadata": {},
   "outputs": [
    {
     "name": "stdout",
     "output_type": "stream",
     "text": [
      "2\n"
     ]
    }
   ],
   "source": [
    "#Formula used to solve problem is :- 1st and last array length difference eg:-[1,2,3] so here [1] has 1 length and [3] has 3 and \n",
    "#difference is 2. After that the minimum of these two value is 1. and we calculate value as(length_differ * min. value of two) .\n",
    "\n",
    "class Solution1(object):\n",
    "    def maxArea(self, height):\n",
    "        i = 0\n",
    "        j = len(height) - 1\n",
    "        ans = 0\n",
    "        \n",
    "        while i < j:\n",
    "            length = (j+1) - (i+1) \n",
    "            minival = min(height[i] , height[j])\n",
    "            calc = length * minival\n",
    "            if calc > ans:\n",
    "                ans = calc\n",
    "            if  height[i] < height[j]:\n",
    "                i = i+1\n",
    "            else:\n",
    "                j=j-1\n",
    "        \n",
    "        return ans\n",
    "    \n",
    "s1  =Solution1()  \n",
    "print(s1.maxArea([1,2,1]))"
   ]
  },
  {
   "cell_type": "code",
   "execution_count": 1,
   "metadata": {},
   "outputs": [
    {
     "data": {
      "text/plain": [
       "[[0, 0, 0], [0, 0, 0], [0, 0, 0], [0, 0, 0]]"
      ]
     },
     "execution_count": 1,
     "metadata": {},
     "output_type": "execute_result"
    }
   ],
   "source": [
    "output = [[0 for j in range(3)]for i in range(4)]    \n",
    "output"
   ]
  },
  {
   "cell_type": "code",
   "execution_count": 13,
   "metadata": {},
   "outputs": [
    {
     "name": "stdout",
     "output_type": "stream",
     "text": [
      "5\n",
      "0 1 0 1 1\n",
      "1 1 1 0 1\n",
      "0 1 0 1 0\n",
      "1 0 1 1 1\n",
      "1 0 0 0 1\n"
     ]
    },
    {
     "data": {
      "text/plain": [
       "[[0, 1, 0, 1, 2],\n",
       " [1, 2, 1, 0, 1],\n",
       " [0, 1, 0, 1, 0],\n",
       " [1, 0, 1, 1, 1],\n",
       " [1, 0, 0, 0, 1]]"
      ]
     },
     "execution_count": 13,
     "metadata": {},
     "output_type": "execute_result"
    }
   ],
   "source": [
    "import sys\n",
    "sys.setrecursionlimit(10**6)\n",
    "class Solution:\n",
    "    def GetMin(self,mat,i,j,n,m,output):\n",
    "        if mat[i][j] == 0:\n",
    "            return 0\n",
    "        if j-1>=0:\n",
    "            output[i][j] = min(output[i][j] , output[i][j-1] + 1 )\n",
    "        \n",
    "        if j + 1 < m:\n",
    "            output[i][j] = min(output[i][j] , output[i][j+1] + 1)\n",
    "        \n",
    "        \n",
    "        if i-1 >= 0:\n",
    "            output[i][j] = min(output[i][j] , output[i-1][j] + 1)\n",
    "    \n",
    "        if i+1 < n:\n",
    "            output[i][j] = min(output[i][j] , output[i+1][j] + 1)\n",
    "        \n",
    "        return output[i][j]\n",
    "    \n",
    "    def updateMatrixHelper(self,i,j,n,m,mat,output):\n",
    "        while i < n:\n",
    "            while j < m:\n",
    "                if mat[i][j] == 0:\n",
    "                    output[i][j] = 0\n",
    "                    j += 1\n",
    "                else:\n",
    "                    output[i][j] = self.GetMin(mat,i,j,n,m,output)\n",
    "                    j += 1\n",
    "            i += 1\n",
    "            j = 0\n",
    "            \n",
    "        k = n - 1\n",
    "        l = m - 1\n",
    "        while k >= 0:\n",
    "            while l >= 0:\n",
    "                if output[k][l] == 0:\n",
    "                    l -= 1 \n",
    "                    \n",
    "                else:\n",
    "                    output[k][l] = self.GetMin(mat,k,l,n,m,output)\n",
    "                    l -= 1\n",
    "            l = m - 1\n",
    "            k -= 1\n",
    "        return output    \n",
    "    \n",
    "    def updateMatrix(self,mat):\n",
    "        i = 0\n",
    "        j = 0\n",
    "        n = len(mat)\n",
    "        m = 0\n",
    "        for k in mat:\n",
    "            m += len(k)\n",
    "            break\n",
    "        output = [[sys.maxsize-1 for j in range(m)]for i in range(n)]    \n",
    "        return self.updateMatrixHelper(i,j,n,m,mat,output)     \n",
    "                \n",
    "        \n",
    "mat = []\n",
    "n = int(input())\n",
    "while n!=0:\n",
    "    row = [int(i) for i in input().split()]\n",
    "    mat.append(row)\n",
    "    n -= 1\n",
    "    \n",
    "s = Solution()\n",
    "ans = s.updateMatrix(mat)\n",
    "ans"
   ]
  },
  {
   "cell_type": "code",
   "execution_count": 18,
   "metadata": {},
   "outputs": [
    {
     "data": {
      "text/plain": [
       "[None]"
      ]
     },
     "execution_count": 18,
     "metadata": {},
     "output_type": "execute_result"
    }
   ],
   "source": [
    "a = []\n",
    "a.append(None)\n",
    "a"
   ]
  },
  {
   "cell_type": "code",
   "execution_count": 26,
   "metadata": {},
   "outputs": [
    {
     "name": "stdout",
     "output_type": "stream",
     "text": [
      "1 2 3 4 5 6\n"
     ]
    },
    {
     "data": {
      "text/plain": [
       "[4, 2, 6, 1, 3, 5]"
      ]
     },
     "execution_count": 26,
     "metadata": {},
     "output_type": "execute_result"
    }
   ],
   "source": [
    "import queue\n",
    "# Definition for a binary tree node.\n",
    "class TreeNode:\n",
    "    def __init__(self, val=0, left=None, right=None):\n",
    "        self.val = val\n",
    "        self.left = left\n",
    "        self.right = right\n",
    "class Solution:\n",
    "    def sortedArrayToBSTHelper(self,nums):\n",
    "        if len(nums) == 0:\n",
    "            return \n",
    "        mid = len(nums) // 2\n",
    "        node = TreeNode(nums[mid])\n",
    "        node.left = self.sortedArrayToBSTHelper(nums[:mid])\n",
    "        node.right = self.sortedArrayToBSTHelper(nums[mid+1:])  \n",
    "        return node\n",
    "    \n",
    "    def CreateOutput(self,root):\n",
    "        output = []\n",
    "        q = queue.Queue()\n",
    "        q.put(root)\n",
    "        while not q.empty():\n",
    "            ele = q.get()\n",
    "            if ele is None:\n",
    "                output.append(None)\n",
    "            else:\n",
    "                output.append(ele.val)\n",
    "            if ele is not None:\n",
    "                if ele.left is not None and ele.right is not None:\n",
    "                    q.put(ele.left)\n",
    "                    q.put(ele.right)\n",
    "                elif ele.left is not None:\n",
    "                    q.put(ele.left)\n",
    "                    q.put(None)\n",
    "                elif ele.right is not None:\n",
    "                    q.put(ele.right)\n",
    "                    q.put(None)\n",
    "                \n",
    "        if output[-1] == None:\n",
    "            output.pop()\n",
    "            return output\n",
    "        else:\n",
    "            return output\n",
    "    \n",
    "#     def PrintTree(self,root):\n",
    "#         if root is None:\n",
    "#             return\n",
    "#         print(root.val , end=' ')\n",
    "#         self.PrintTree(root.left)\n",
    "#         self.PrintTree(root.right)\n",
    "    \n",
    "    def sortedArrayToBST(self, nums):\n",
    "        root =  self.sortedArrayToBSTHelper(nums)\n",
    "#         self.PrintTree(root)\n",
    "\n",
    "        ans = self.CreateOutput(root)\n",
    "        return ans\n",
    "nums = [int(i) for i in input().split()]        \n",
    "s = Solution()\n",
    "s.sortedArrayToBST(nums)"
   ]
  },
  {
   "cell_type": "code",
   "execution_count": 30,
   "metadata": {},
   "outputs": [
    {
     "name": "stdout",
     "output_type": "stream",
     "text": [
      "5\n",
      "[[1], [1, 1], [1, 2, 1], [1, 3, 3, 1], [1, 4, 6, 4, 1]]\n"
     ]
    }
   ],
   "source": [
    "class Solution:\n",
    "    def generate(self,nums):\n",
    "        output = []\n",
    "        if nums == 0:\n",
    "            return \n",
    "        for i in range(nums):\n",
    "            if i == 0:\n",
    "                output.append([1])\n",
    "            else:\n",
    "                \n",
    "                temp = []\n",
    "                for j in range(i+1):\n",
    "                    if j == 0 or j == i:\n",
    "                        temp.append(1)\n",
    "                    else:\n",
    "                        ans = 0\n",
    "                        for k in range(2):\n",
    "                            ans += output[i-1][j-1+k]\n",
    "                        temp.append(ans)\n",
    "                output.append(temp)        \n",
    "        return output\n",
    "    \n",
    "s = Solution()\n",
    "n = int(input())\n",
    "ans = s.generate(n)\n",
    "print(ans)"
   ]
  },
  {
   "cell_type": "code",
   "execution_count": 43,
   "metadata": {},
   "outputs": [
    {
     "name": "stdout",
     "output_type": "stream",
     "text": [
      "-1 0 1 2 -1 -4 \n",
      "[[-1, -1, 2], [-1, 0, 1]]\n"
     ]
    }
   ],
   "source": [
    "def pairSum(arr, n ,num):\n",
    "    arr.sort()\n",
    "    i=0\n",
    "    j=n-1\n",
    "    comb=[]\n",
    "    while i<j:\n",
    "        if arr[i] + arr[j] < num:\n",
    "            i=i+1\n",
    "        elif arr[i] + arr[j] >num:\n",
    "            j=j-1\n",
    "        else:\n",
    "            temp = []\n",
    "            temp.append(arr[i])\n",
    "            temp.append(arr[j])\n",
    "            i += 1\n",
    "            j -= 1\n",
    "            comb.append(temp)\n",
    "\n",
    "    return comb\n",
    "\n",
    "def tripletSum(arr) :\n",
    "    count=0\n",
    "    arr.sort()\n",
    "    n = len(arr)\n",
    "    output = []\n",
    "    visited = {}\n",
    "    for i in range(0,n):\n",
    "        temp1 = []\n",
    "        new_num = 0 + arr[i]\n",
    "        if arr[i] not in visited:\n",
    "            visited[arr[i]] = True\n",
    "            temp1.append(arr[i])\n",
    "            new_arr=arr[i+1:]\n",
    "            n=len(new_arr)\n",
    "            temp2 = pairSum(new_arr,n,-1*new_num)\n",
    "            if len(temp2)>=1:\n",
    "                for ele in temp2:\n",
    "                    temp1.append(ele)\n",
    "                    ele.insert(0,temp1[0])\n",
    "                    output = output + [ele]\n",
    "            else:\n",
    "                pass\n",
    "        else:\n",
    "            pass\n",
    "    return output\n",
    "\n",
    "arr=[int(i) for i in input().strip().split()]\n",
    "ans=tripletSum(arr)\n",
    "print(ans)   "
   ]
  },
  {
   "cell_type": "code",
   "execution_count": 47,
   "metadata": {},
   "outputs": [
    {
     "name": "stdout",
     "output_type": "stream",
     "text": [
      "-1 0 1 2 -1 -4 \n",
      "[[-1, -1, 2], [-1, 0, 1]]\n"
     ]
    }
   ],
   "source": [
    "class Solution:\n",
    "    def pairSum(self,arr, n ,num):\n",
    "        arr.sort()\n",
    "        i=0\n",
    "        j=n-1\n",
    "        comb=[]\n",
    "        visited1 ={}\n",
    "        while i<j:\n",
    "            if arr[i] + arr[j] < num:\n",
    "                i=i+1\n",
    "            elif arr[i] + arr[j] >num:\n",
    "                j=j-1\n",
    "            else:\n",
    "                if arr[i] not in visited1 and arr[j] not in visited1:\n",
    "                    visited1[arr[i]] = True\n",
    "                    visited1[arr[j]] = True\n",
    "                    temp = []\n",
    "                    temp.append(arr[i])\n",
    "                    temp.append(arr[j])\n",
    "                    i += 1\n",
    "                    j -= 1\n",
    "                    comb.append(temp)\n",
    "                else:\n",
    "                    i += 1\n",
    "                    j -= 1\n",
    "        return comb\n",
    "    \n",
    "    \n",
    "    def threeSum(self, arr):\n",
    "        arr.sort()\n",
    "        n = len(arr)\n",
    "        output = []\n",
    "        visited = {}\n",
    "        for i in range(0,n):\n",
    "            temp1 = []\n",
    "            new_num = 0 + arr[i]\n",
    "            if arr[i] not in visited:\n",
    "                visited[arr[i]] = True\n",
    "                temp1.append(arr[i])\n",
    "                new_arr=arr[i+1:]\n",
    "                n=len(new_arr)\n",
    "                temp2 = self.pairSum(new_arr,n,-1*new_num)\n",
    "                if len(temp2)>=1:\n",
    "                    for ele in temp2:\n",
    "                        temp1.append(ele)\n",
    "                        ele.insert(0,temp1[0])\n",
    "                        output = output + [ele]\n",
    "                else:\n",
    "                    pass\n",
    "            else:\n",
    "                pass\n",
    "        return output\n",
    "    \n",
    "s = Solution()\n",
    "arr=[int(i) for i in input().strip().split()]\n",
    "ans = s.threeSum(arr)\n",
    "print(ans)"
   ]
  },
  {
   "cell_type": "code",
   "execution_count": 53,
   "metadata": {},
   "outputs": [
    {
     "name": "stdout",
     "output_type": "stream",
     "text": [
      "2 2 2 2 2 \n",
      "8\n",
      "[[2, 2, 2, 2]]\n"
     ]
    }
   ],
   "source": [
    "class Solution:\n",
    "    def pairSum(self,arr, n ,num):\n",
    "        arr.sort()\n",
    "        i=0\n",
    "        j=n-1\n",
    "        comb=[]\n",
    "        visited1 ={}\n",
    "        while i<j:\n",
    "            if arr[i] + arr[j] < num:\n",
    "                i=i+1\n",
    "            elif arr[i] + arr[j] >num:\n",
    "                j=j-1\n",
    "            else:\n",
    "                if arr[i] not in visited1 and arr[j] not in visited1:\n",
    "                    visited1[arr[i]] = True\n",
    "                    visited1[arr[j]] = True\n",
    "                    temp = []\n",
    "                    temp.append(arr[i])\n",
    "                    temp.append(arr[j])\n",
    "                    i += 1\n",
    "                    j -= 1\n",
    "                    comb.append(temp)\n",
    "                else:\n",
    "                    i += 1\n",
    "                    j -= 1\n",
    "        return comb    \n",
    "    def threeSum(self, arr,n,target):\n",
    "        arr.sort()\n",
    "        n = len(arr)\n",
    "        output = []\n",
    "        visited = {}\n",
    "        for i in range(0,n):\n",
    "            temp1 = []\n",
    "            new_num = target - arr[i]\n",
    "            if arr[i] not in visited:\n",
    "                visited[arr[i]] = True\n",
    "                temp1.append(arr[i])\n",
    "                new_arr=arr[i+1:]\n",
    "                n=len(new_arr)\n",
    "                temp2 = self.pairSum(new_arr,n,new_num)\n",
    "                if len(temp2)>=1:\n",
    "                    for ele in temp2:\n",
    "                        temp1.append(ele)\n",
    "                        ele.insert(0,temp1[0])\n",
    "                        output = output + [ele]\n",
    "                else:\n",
    "                    pass\n",
    "            else:\n",
    "                pass\n",
    "        return output    \n",
    "    def fourSum(self, arr, target):\n",
    "        arr.sort()\n",
    "        n = len(arr)\n",
    "        output = []\n",
    "        visited = {}\n",
    "        for i in range(0,n):\n",
    "            temp1 = []\n",
    "            new_num = target - arr[i]\n",
    "            if arr[i] not in visited:\n",
    "                visited[arr[i]] = True\n",
    "                temp1.append(arr[i])\n",
    "                new_arr=arr[i+1:]\n",
    "                n=len(new_arr)\n",
    "                temp2 = self.threeSum(new_arr,n,new_num)\n",
    "                if len(temp2)>=1:\n",
    "                    for ele in temp2:\n",
    "                        temp1.append(ele)\n",
    "                        ele.insert(0,temp1[0])\n",
    "                        output = output + [ele]\n",
    "                else:\n",
    "                    pass\n",
    "            else:\n",
    "                pass\n",
    "        return output        \n",
    "    \n",
    "s = Solution()\n",
    "arr=[int(i) for i in input().strip().split()]\n",
    "target = int(input())\n",
    "ans = s.fourSum(arr,target)\n",
    "print(ans)    "
   ]
  },
  {
   "cell_type": "code",
   "execution_count": 5,
   "metadata": {},
   "outputs": [
    {
     "name": "stdout",
     "output_type": "stream",
     "text": [
      "1\n",
      "1\n"
     ]
    },
    {
     "data": {
      "text/plain": [
       "-1"
      ]
     },
     "execution_count": 5,
     "metadata": {},
     "output_type": "execute_result"
    }
   ],
   "source": [
    "class Solution:\n",
    "    def search(self, nums,target):\n",
    "        if len(nums) == 1:\n",
    "            if nums[0] == target:\n",
    "                return 0\n",
    "            else:\n",
    "                return -1\n",
    "        i = 0 \n",
    "        j = len(nums) - 1\n",
    "        while i < j:\n",
    "            if nums[i] == target:\n",
    "                return i\n",
    "            elif nums[j] == target:\n",
    "                return j\n",
    "            elif nums[i] > nums[j]:\n",
    "                if nums[i] > target:\n",
    "                    j -= 1\n",
    "                else:\n",
    "                    i += 1\n",
    "            else:\n",
    "                if nums[j] > target:\n",
    "                    j -= 1\n",
    "                else:\n",
    "                    i += 1\n",
    "        return -1\n",
    "    \n",
    "    \n",
    "nums = [ int(i) for i in input().split()]\n",
    "target = int(input())\n",
    "s = Solution()\n",
    "s.search(nums,target)"
   ]
  },
  {
   "cell_type": "code",
   "execution_count": null,
   "metadata": {},
   "outputs": [],
   "source": [
    "class Solution:\n",
    "    \n",
    "    def CheckNum(self,i,j,board,num):\n",
    "        #Check horizontal\n",
    "        col = 0\n",
    "        while col <  9:\n",
    "            if board[i][col] == num and j != col:\n",
    "                return False\n",
    "            else:\n",
    "                col += 1\n",
    "        #check vertical\n",
    "        row = 0\n",
    "        while row < 9:\n",
    "            if board[row][j] == num and row != i:\n",
    "                return False\n",
    "            else:\n",
    "                row += 1\n",
    "                \n",
    "        #Check box\n",
    "        row = i - (i % 3)\n",
    "        col = j - (j % 3)\n",
    "        for k in range(row, row+3):\n",
    "            for l in range(col , col+3):\n",
    "                if board[k][l] == num and k != i and l!= j:\n",
    "                    return False\n",
    "                else:\n",
    "                    pass\n",
    "        \n",
    "        return True\n",
    "        \n",
    "    def isValidSudoku(self, board):\n",
    "        for i in range(9):\n",
    "            for j in range(9):\n",
    "                if board[i][j] != '.':\n",
    "                    check = self.CheckNum(i,j,board,board[i][j])\n",
    "                    if check:\n",
    "                        pass\n",
    "                    else:\n",
    "                        return False\n",
    "                else:\n",
    "                    pass\n",
    "        return True       \n",
    "    \n",
    "board = []\n",
    "for i in range(9):\n",
    "    row = [i for i in input().split()]\n",
    "    board.append(row)\n",
    "s =Solution()\n",
    "ans = s.isValidSudoku(board)\n",
    "if ans:\n",
    "    print(\"true\")\n",
    "else:\n",
    "    print(\"false\")"
   ]
  },
  {
   "cell_type": "code",
   "execution_count": 9,
   "metadata": {},
   "outputs": [
    {
     "name": "stdout",
     "output_type": "stream",
     "text": [
      "4 2 0 3 2 5 \n",
      "9\n"
     ]
    }
   ],
   "source": [
    "class Solution:\n",
    "    def trap(self, arr):\n",
    "        left = 0\n",
    "        right = len(arr) - 1\n",
    "        leftmax = 0\n",
    "        rightmax = 0\n",
    "        result = 0\n",
    "        while left < right:\n",
    "            if arr[left] <= arr[right]:\n",
    "                if leftmax > arr[left]:\n",
    "                    result += leftmax - arr[left]\n",
    "                    left += 1\n",
    "                else:\n",
    "                    leftmax = arr[left]\n",
    "                    left += 1\n",
    "            else:\n",
    "                if arr[right] < rightmax:\n",
    "                    result += rightmax - arr[right]\n",
    "                    right -= 1\n",
    "                else:\n",
    "                    rightmax = arr[right]\n",
    "                    right -= 1\n",
    "        return result\n",
    "    \n",
    "arr = [int(i) for i in input().split()]    \n",
    "s = Solution()                \n",
    "ans = s.trap(arr)\n",
    "print(ans)"
   ]
  },
  {
   "cell_type": "markdown",
   "metadata": {},
   "source": [
    "Best Time to Buy and Sell Stock"
   ]
  },
  {
   "cell_type": "code",
   "execution_count": 8,
   "metadata": {},
   "outputs": [
    {
     "name": "stdout",
     "output_type": "stream",
     "text": [
      "7 1 5 3 6 4\n"
     ]
    },
    {
     "data": {
      "text/plain": [
       "5"
      ]
     },
     "execution_count": 8,
     "metadata": {},
     "output_type": "execute_result"
    }
   ],
   "source": [
    "#Brute approach :- Time complexity=O9n^2\n",
    "class Solution:\n",
    "    def maxProfit(self, price):\n",
    "        profit = 0\n",
    "        for i in range(0,len(price)):\n",
    "            for j in range(i+1,len(price)):\n",
    "                if price[i] < price[j]:\n",
    "                    if price[j] - price[i] > profit:\n",
    "                        profit =price[j] - price[i]\n",
    "        return profit\n",
    "    \n",
    "    \n",
    "s = Solution()\n",
    "price = [int(i) for i in input().split()]\n",
    "s.maxProfit(price)"
   ]
  },
  {
   "cell_type": "code",
   "execution_count": 17,
   "metadata": {},
   "outputs": [
    {
     "name": "stdout",
     "output_type": "stream",
     "text": [
      "7 1 5 3 6 4\n"
     ]
    },
    {
     "data": {
      "text/plain": [
       "5"
      ]
     },
     "execution_count": 17,
     "metadata": {},
     "output_type": "execute_result"
    }
   ],
   "source": [
    "#Same question\n",
    "#TIme-complexity--> O(n)\n",
    "#space-complexity--->O(n)\n",
    "class Solution:\n",
    "    def maxProfit(self, price):\n",
    "        maxarr = [0 for i in range(len(price))]\n",
    "        i = len(maxarr) - 1\n",
    "        maxi = 0\n",
    "        while i >= 0:\n",
    "            maxarr[i] = maxi\n",
    "            if price[i] > maxi:\n",
    "                maxi = price[i]\n",
    "            i -= 1\n",
    "            \n",
    "       \n",
    "        j = 0\n",
    "        profit = 0\n",
    "        while j < len(price):\n",
    "            if price[j] < maxarr[j]:\n",
    "                if maxarr[j] - price[j] > profit:\n",
    "                    profit = maxarr[j] - price[j]\n",
    "                    j += 1\n",
    "                else:\n",
    "                    j +=1\n",
    "            else:\n",
    "                j += 1\n",
    "                \n",
    "        return profit\n",
    "    \n",
    "    \n",
    "s = Solution()\n",
    "price = [int(i) for i in input().split()]\n",
    "s.maxProfit(price)                \n",
    "         "
   ]
  },
  {
   "cell_type": "code",
   "execution_count": 19,
   "metadata": {},
   "outputs": [
    {
     "name": "stdout",
     "output_type": "stream",
     "text": [
      "7 1 5 3 6 4\n"
     ]
    },
    {
     "data": {
      "text/plain": [
       "5"
      ]
     },
     "execution_count": 19,
     "metadata": {},
     "output_type": "execute_result"
    }
   ],
   "source": [
    "#Same question\n",
    "#TIme-complexity--> O(n)\n",
    "#space-complexity--->O(1)\n",
    "class Solution:\n",
    "    def maxProfit(self, price):\n",
    "        if len(price) < 2:\n",
    "            return 0\n",
    "        \n",
    "        mini = price[0]\n",
    "        profit = 0\n",
    "        for i in range(1,len(price)):\n",
    "            if mini > price[i]:\n",
    "                mini = price[i]\n",
    "            else:\n",
    "                profit = max(profit,price[i] - mini)\n",
    "        return profit\n",
    "    \n",
    "    \n",
    "s = Solution()\n",
    "price = [int(i) for i in input().split()]\n",
    "s.maxProfit(price)                \n",
    "         "
   ]
  },
  {
   "cell_type": "code",
   "execution_count": 5,
   "metadata": {},
   "outputs": [
    {
     "name": "stdout",
     "output_type": "stream",
     "text": [
      "8\n",
      "1 2 3 0\n",
      "[]\n"
     ]
    }
   ],
   "source": [
    "class Solution:\n",
    "    def twoSum(self, nums,target):\n",
    "        d = {}\n",
    "        j = 0\n",
    "        for i in nums:\n",
    "            d[i] = j\n",
    "            j += 1\n",
    "            \n",
    "        for i in range(len(nums)):\n",
    "            if (target - nums[i]) in d:\n",
    "                if i == d[target - nums[i]]:\n",
    "                    pass\n",
    "                else:\n",
    "                    return [i,d[target - nums[i]]]\n",
    "        return []\n",
    "\n",
    "target = int(input())\n",
    "nums = [int(i) for i in input().split()]\n",
    "s = Solution()\n",
    "ans = s.twoSum(nums,target)\n",
    "print(ans)"
   ]
  },
  {
   "cell_type": "code",
   "execution_count": 14,
   "metadata": {},
   "outputs": [
    {
     "name": "stdout",
     "output_type": "stream",
     "text": [
      "1 2 3\n",
      "[[1, 2, 3], [1, 3, 2], [2, 1, 3], [3, 1, 2], [2, 3, 1], [3, 2, 1]]\n"
     ]
    }
   ],
   "source": [
    "class Solution:\n",
    "    def permute(self, nums):\n",
    "        if len(nums) == 0:\n",
    "            return [[]]\n",
    "\n",
    "        small_ip = nums[1:]\n",
    "        small_op = self.permute(small_ip)\n",
    "        output = []\n",
    "        for i in range(len(nums)):\n",
    "            for j in range(len(small_op)):\n",
    "                output.append(small_op[j][0:i] + [nums[0]] + small_op[j][i:] )\n",
    "\n",
    "        return output\n",
    "\n",
    "                \n",
    "nums = [int(i) for i in input().split()]\n",
    "s = Solution()\n",
    "ans = s.permute(nums)\n",
    "print(ans)                      "
   ]
  },
  {
   "cell_type": "code",
   "execution_count": 35,
   "metadata": {},
   "outputs": [
    {
     "name": "stdout",
     "output_type": "stream",
     "text": [
      "2 2\n",
      "2\n",
      "[0, 1]\n"
     ]
    }
   ],
   "source": [
    "class Solution:\n",
    "    def searchRange(self, arr,target):\n",
    "        if len(arr) == 0:   #Edge case\n",
    "            return [-1,-1]\n",
    "\n",
    "        if len(arr) == 1:  #Edge case\n",
    "            if arr[0] == target:\n",
    "                return [0,0]\n",
    "            else:\n",
    "                return [-1,-1]\n",
    "        #Indexing\n",
    "        \n",
    "        i = 0  \n",
    "        j = len(arr) - 1\n",
    "        \n",
    "        while i <= j:\n",
    "            if arr[i] == target:\n",
    "                k = i\n",
    "                while k+1 < len(arr):\n",
    "                    if arr[i] == arr[k+1]:\n",
    "                        k += 1\n",
    "                    else:    \n",
    "                         break\n",
    "                return [i,k]            \n",
    "            \n",
    "            elif  arr[j] == target:\n",
    "                l = j \n",
    "                while l - 1>0:\n",
    "                    if arr[j] == arr[l-1]:\n",
    "                        l -= 1\n",
    "                    else:\n",
    "                        break\n",
    "                return [l,j]               \n",
    "            \n",
    "            elif arr[i] > target:\n",
    "                return [-1,-1]\n",
    "\n",
    "            else:\n",
    "                if arr[j] > target:\n",
    "                    if target - arr[i] < arr[j] - target:\n",
    "                        i += 1\n",
    "                    else:\n",
    "                        j -= 1\n",
    "                else:\n",
    "                    if target - arr[i] < target - arr[j]:\n",
    "                        i += 1\n",
    "                    else:\n",
    "                        j -= 1 \n",
    "        return [-1,-1]                \n",
    "                        \n",
    "                        \n",
    "nums = [int(i) for i in input().split()]\n",
    "target = int(input())\n",
    "s = Solution()\n",
    "ans = s.searchRange(nums,target)\n",
    "print(ans)                               "
   ]
  },
  {
   "cell_type": "markdown",
   "metadata": {},
   "source": [
    "Program making a large island"
   ]
  },
  {
   "cell_type": "code",
   "execution_count": 62,
   "metadata": {},
   "outputs": [
    {
     "name": "stdout",
     "output_type": "stream",
     "text": [
      "4\n",
      "0 1 0 0\n",
      "0 1 1 0\n",
      "0 1 0 0\n",
      "1 0 1 0\n",
      "7\n"
     ]
    }
   ],
   "source": [
    "\n",
    "class Solution:\n",
    "    \n",
    "    def GetId(self,i,j,arr,ids):\n",
    "        #Edge conditions\n",
    "        if i >= len(arr) or i < 0 or j >= len(arr[0]) or j < 0 or arr[i][j] != 1:\n",
    "            return 0\n",
    "        \n",
    "        arr[i][j] = ids\n",
    "        \n",
    "        left = self.GetId(i,j-1,arr,ids)\n",
    "        right = self.GetId(i,j+1,arr,ids)\n",
    "        top = self.GetId(i-1,j,arr,ids)\n",
    "        bottom = self.GetId(i+1,j,arr,ids)\n",
    "        \n",
    "        return 1 + left + right + top + bottom\n",
    "    \n",
    "    \n",
    "    def largestIsland(self, arr):\n",
    "        ids = 2\n",
    "        dic={}\n",
    "        n = len(arr) #row\n",
    "        m = len(arr[0]) #column\n",
    "        for i in range(n):  #Create a dictionary\n",
    "            for j in range(m):\n",
    "                if arr[i][j] == 1:\n",
    "                    value = self.GetId(i,j,arr,ids)\n",
    "                    dic[ids] = value\n",
    "                    ids += 1\n",
    "                    \n",
    "        maximum_area = dic.get(2,0)    \n",
    "        #Toggle zero to 1\n",
    "        for i in range(n):\n",
    "            for j in range(m):\n",
    "                if arr[i][j] == 0:\n",
    "                    s = set()\n",
    "                    #left\n",
    "                    if j-1 >= 0:\n",
    "                        s.add(arr[i][j-1])\n",
    "                    #top \n",
    "                    if i-1>=0:\n",
    "                        s.add(arr[i-1][j])\n",
    "                    #right \n",
    "                    if j+1 < len(arr[0]):\n",
    "                        s.add(arr[i][j+1])\n",
    "            \n",
    "                    #bottom\n",
    "                    if i+1 < len(arr):\n",
    "                        s.add(arr[i+1][j])\n",
    "                    \n",
    "                    temparea = 0\n",
    "                    for k in s:\n",
    "                        temparea += dic.get(k,0)\n",
    "                    \n",
    "                    maximum_area = max(maximum_area,1+temparea)\n",
    "                \n",
    "        return maximum_area\n",
    "    \n",
    "n = int((input()))    \n",
    "arr = []\n",
    "for i in range(n):\n",
    "    row = [int(i) for i in input().split()]\n",
    "    arr.append(row)\n",
    "    \n",
    "s = Solution()\n",
    "ans = s.largestIsland(arr)\n",
    "print(ans)"
   ]
  },
  {
   "cell_type": "markdown",
   "metadata": {},
   "source": [
    "Program on Max area of island"
   ]
  },
  {
   "cell_type": "code",
   "execution_count": 65,
   "metadata": {},
   "outputs": [
    {
     "name": "stdout",
     "output_type": "stream",
     "text": [
      "2\n",
      "1 1\n",
      "1 0\n",
      "3\n"
     ]
    }
   ],
   "source": [
    "class Solution:\n",
    "    \n",
    "    def GetId(self,i,j,arr,ids):\n",
    "        #Edge conditions\n",
    "        if i >= len(arr) or i < 0 or j >= len(arr[0]) or j < 0 or arr[i][j] != 1:\n",
    "            return 0\n",
    "        \n",
    "        arr[i][j] = ids\n",
    "        \n",
    "        left = self.GetId(i,j-1,arr,ids)\n",
    "        right = self.GetId(i,j+1,arr,ids)\n",
    "        top = self.GetId(i-1,j,arr,ids)\n",
    "        bottom = self.GetId(i+1,j,arr,ids)\n",
    "        \n",
    "        return 1 + left + right + top + bottom\n",
    "    \n",
    "    def maxAreaOfIsland(self,grid):\n",
    "        ids = 2\n",
    "        dic={}\n",
    "        n = len(arr) #row\n",
    "        m = len(arr[0]) #column\n",
    "        for i in range(n):  #Create a dictionary\n",
    "            for j in range(m):\n",
    "                if arr[i][j] == 1:\n",
    "                    value = self.GetId(i,j,arr,ids)\n",
    "                    dic[ids] = value\n",
    "                    ids += 1        \n",
    "        ans = dic.get(2,0)\n",
    "        for i in dic:\n",
    "            if ans < dic[i]:\n",
    "                ans = dic[i]\n",
    "        return ans\n",
    "    \n",
    "n = int((input()))    \n",
    "arr = []\n",
    "for i in range(n):\n",
    "    row = [int(i) for i in input().split()]\n",
    "    arr.append(row)\n",
    "    \n",
    "s = Solution()\n",
    "ans = s.maxAreaOfIsland(arr)\n",
    "print(ans)    "
   ]
  },
  {
   "cell_type": "markdown",
   "metadata": {},
   "source": [
    "SUbset 2"
   ]
  },
  {
   "cell_type": "code",
   "execution_count": 54,
   "metadata": {},
   "outputs": [
    {
     "name": "stdout",
     "output_type": "stream",
     "text": [
      "6 5 5\n"
     ]
    },
    {
     "data": {
      "text/plain": [
       "5"
      ]
     },
     "execution_count": 54,
     "metadata": {},
     "output_type": "execute_result"
    }
   ],
   "source": [
    "class Solution:\n",
    "    def majorityElement(self, nums):\n",
    "        dic = {}\n",
    "        for i in nums:\n",
    "            dic[i] = dic.get(i,0) + 1\n",
    "         \n",
    "     \n",
    "        ans = nums[0]\n",
    "        for ele in dic:\n",
    "            if dic[ele] > dic[ans]:\n",
    "                ans = ele\n",
    "        return ans        \n",
    "      \n",
    "\n",
    "s =Solution() \n",
    "nums = [int(i) for i in input().split()]\n",
    "ans = s.majorityElement(nums)\n",
    "ans       "
   ]
  },
  {
   "cell_type": "code",
   "execution_count": 39,
   "metadata": {},
   "outputs": [
    {
     "name": "stdout",
     "output_type": "stream",
     "text": [
      "1 2 2\n"
     ]
    },
    {
     "data": {
      "text/plain": [
       "[[], [1], [1, 2], [1, 2, 2], [2], [2, 2]]"
      ]
     },
     "execution_count": 39,
     "metadata": {},
     "output_type": "execute_result"
    }
   ],
   "source": [
    "class Solution:\n",
    "    \n",
    "    def subsetsWithDupHelper(self,index,nums,tempans,ans):\n",
    "        ans.append(tempans[:])\n",
    "        for i in range(index,len(nums)):\n",
    "            if i != index and nums[i] == nums[i-1]:\n",
    "                continue\n",
    "            else:\n",
    "                tempans.append(nums[i])\n",
    "                self.subsetsWithDupHelper(i+1,nums,tempans,ans)\n",
    "                tempans.pop()\n",
    "    \n",
    "    def subsetsWithDup(self, nums):\n",
    "        nums.sort()\n",
    "        ans = []\n",
    "        tempans = []\n",
    "        self.subsetsWithDupHelper(0,nums,tempans,ans)\n",
    "        return ans\n",
    "    \n",
    "\n",
    "s =Solution() \n",
    "nums = [int(i) for i in input().split()]\n",
    "ans = s.subsetsWithDup(nums)\n",
    "ans "
   ]
  },
  {
   "cell_type": "code",
   "execution_count": 47,
   "metadata": {},
   "outputs": [
    {
     "name": "stdout",
     "output_type": "stream",
     "text": [
      "4 1 2 1 2\n"
     ]
    },
    {
     "data": {
      "text/plain": [
       "4"
      ]
     },
     "execution_count": 47,
     "metadata": {},
     "output_type": "execute_result"
    }
   ],
   "source": [
    "class Solution:\n",
    "    def singleNumber(self, nums):\n",
    "        dic = {}\n",
    "        uniq = -1\n",
    "        for i in nums:\n",
    "            dic[i] = dic.get(i,0) + 1\n",
    "        uniq = -1\n",
    "        for d in dic:\n",
    "            if dic[d] == 1:\n",
    "                uniq = d\n",
    "        return uniq        \n",
    "     \n",
    "s =Solution() \n",
    "nums = [int(i) for i in input().split()]\n",
    "ans = s.singleNumber(nums)\n",
    "ans         "
   ]
  },
  {
   "cell_type": "code",
   "execution_count": 60,
   "metadata": {},
   "outputs": [
    {
     "name": "stdout",
     "output_type": "stream",
     "text": [
      "2 3 4 1 2 -1 1 -1 -1 -1 -1 -1 -1\n",
      "7\n"
     ]
    },
    {
     "data": {
      "text/plain": [
       "[[]]"
      ]
     },
     "execution_count": 60,
     "metadata": {},
     "output_type": "execute_result"
    }
   ],
   "source": [
    "# Definition for a binary tree node.\n",
    "# class TreeNode:\n",
    "#     def __init__(self, val=0, left=None, right=None):\n",
    "#         self.val = val\n",
    "#         self.left = left\n",
    "#         self.right = right\n",
    "import queue\n",
    "class BinaryTreeNode:\n",
    "    def __init__(self, val):\n",
    "        self.val = val\n",
    "        self.left = None\n",
    "        self.right = None\n",
    "        \n",
    "def takeInput():\n",
    "    levelOrder = [int(i) for i in input().split()]\n",
    "    start = 0\n",
    "    \n",
    "    length = len(levelOrder)\n",
    "\n",
    "    if length == 1 :\n",
    "        return None\n",
    "    \n",
    "    root = BinaryTreeNode(levelOrder[start])\n",
    "    start += 1\n",
    "\n",
    "    q = queue.Queue()\n",
    "    q.put(root)\n",
    "\n",
    "    while not q.empty():\n",
    "        currentNode = q.get()\n",
    "\n",
    "        leftChild = levelOrder[start]\n",
    "        start += 1\n",
    "\n",
    "        if leftChild != -1:\n",
    "            leftNode = BinaryTreeNode(leftChild)\n",
    "            currentNode.left =leftNode\n",
    "            q.put(leftNode)\n",
    "\n",
    "        rightChild = levelOrder[start]\n",
    "        start += 1\n",
    "\n",
    "        if rightChild != -1:\n",
    "            rightNode = BinaryTreeNode(rightChild)\n",
    "            currentNode.right =rightNode\n",
    "            q.put(rightNode)\n",
    "\n",
    "    return root\n",
    "\n",
    "class Solution:\n",
    "    \n",
    "    def pathSumHelper(self,root,targetsum,ans):\n",
    "        if root is None:\n",
    "            return None\n",
    "        if root.left is None and root.right is None:\n",
    "            if targetsum - root.val == 0:\n",
    "                return ans+ [root.val]\n",
    "            else:\n",
    "                return None\n",
    "        leftans = self.pathSumHelper(root.left,targetsum-root.val,ans+[root.val])\n",
    "        rightans = self.pathSumHelper(root.right ,targetsum-root.val,ans+[root.val])\n",
    "        if leftans is None and rightans is None:\n",
    "            return\n",
    "        if leftans is not None:\n",
    "            return ans\n",
    "        \n",
    "        if rightans is not None:\n",
    "            return ans\n",
    "    \n",
    "    def pathSum(self, root , targetsum):\n",
    "        output = []\n",
    "        ans = self.pathSumHelper(root,targetsum,[])\n",
    "        if ans is None:\n",
    "            pass\n",
    "        else:\n",
    "            output.append(ans)\n",
    "            return output\n",
    "        \n",
    "        \n",
    "root = takeInput()\n",
    "s = Solution()\n",
    "targetsum = int(input())\n",
    "ans = s.pathSum(root,targetsum)\n",
    "ans"
   ]
  },
  {
   "cell_type": "code",
   "execution_count": 92,
   "metadata": {},
   "outputs": [
    {
     "name": "stdout",
     "output_type": "stream",
     "text": [
      "1\n",
      "2\n",
      "-1\n",
      "-1\n",
      "3\n",
      "-1\n",
      "-1\n",
      "5\n"
     ]
    },
    {
     "data": {
      "text/plain": [
       "[]"
      ]
     },
     "execution_count": 92,
     "metadata": {},
     "output_type": "execute_result"
    }
   ],
   "source": [
    "# Definition for a binary tree node.\n",
    "# class TreeNode:\n",
    "#     def __init__(self, val=0, left=None, right=None):\n",
    "#         self.val = val\n",
    "#         self.left = left\n",
    "#         self.right = right\n",
    "\n",
    "class binarytree:\n",
    "    def __init__(self,val):\n",
    "        self.val = val\n",
    "        self.left = None\n",
    "        self.right = None\n",
    "        \n",
    "def taketreeinput():\n",
    "    rootdata = int(input())\n",
    "    if rootdata == -1:\n",
    "        return None\n",
    "    root = binarytree(rootdata)\n",
    "    leftsubtree = taketreeinput()\n",
    "    rightsubtree =  taketreeinput()\n",
    "    root.left = leftsubtree\n",
    "    root.right = rightsubtree\n",
    "    return root\n",
    "\n",
    "class Solution:\n",
    "    \n",
    "    def pathSumHelper(self,root,targetsum,ans,mainans):\n",
    "        if root is None:\n",
    "            return None\n",
    "        if root.left is None and root.right is None:\n",
    "            if targetsum - root.val == 0:\n",
    "                mainans.append(ans+ [root.val])\n",
    "                return\n",
    "            else:\n",
    "                return None\n",
    "        leftans = self.pathSumHelper(root.left,targetsum-root.val,ans+[root.val],mainans)\n",
    "        rightans = self.pathSumHelper(root.right ,targetsum-root.val,ans+[root.val],mainans)\n",
    "        \n",
    "        return\n",
    "\n",
    "    \n",
    "            \n",
    "    \n",
    "    def pathSum(self, root , targetsum):\n",
    "        mainans = []\n",
    "        self.pathSumHelper(root,targetsum,[],mainans)\n",
    "        return mainans\n",
    "        \n",
    "        \n",
    "root = taketreeinput()\n",
    "s = Solution()\n",
    "targetsum = int(input())\n",
    "ans = s.pathSum(root,targetsum)\n",
    "ans"
   ]
  },
  {
   "cell_type": "code",
   "execution_count": 25,
   "metadata": {},
   "outputs": [
    {
     "name": "stdout",
     "output_type": "stream",
     "text": [
      "12\n",
      "5\n"
     ]
    }
   ],
   "source": [
    "class Solution:\n",
    "    def countPrimes(self, n):\n",
    "        if n == 0 or n == 1:\n",
    "            return 0\n",
    "        if n == 2:\n",
    "            return 0\n",
    "        flag = False\n",
    "        count = 0\n",
    "        for i in range(2,n):\n",
    "            k = i-1\n",
    "            while k >= 2:\n",
    "                if i == 2:\n",
    "                    k -= 1\n",
    "                elif i % k == 0:\n",
    "                    flag = True\n",
    "                    break\n",
    "                else:\n",
    "                    k -= 1\n",
    "                    \n",
    "            if flag is False:\n",
    "                count += 1\n",
    "                flag = False\n",
    "            else:\n",
    "                flag = False\n",
    "        return count \n",
    "    \n",
    "n = int(input())    \n",
    "s = Solution()\n",
    "ans = s.countPrimes(n)\n",
    "print(ans)"
   ]
  },
  {
   "cell_type": "code",
   "execution_count": 36,
   "metadata": {},
   "outputs": [
    {
     "name": "stdout",
     "output_type": "stream",
     "text": [
      "3\n",
      "1\n"
     ]
    }
   ],
   "source": [
    "import math\n",
    "class Solution:\n",
    "    def countPrimes(self, n):\n",
    "        if n == 0 or n == 1:\n",
    "            return 0\n",
    "        if n == 2:\n",
    "            return 0\n",
    "        \n",
    "        sieve = [True for i in range(n+1)]\n",
    "        i = 2\n",
    "        while i*i<n:\n",
    "            if sieve[i] == True:\n",
    "                for j in range(i*i,n+1,i):\n",
    "                    sieve[j] = False\n",
    "                i += 1\n",
    "            else:\n",
    "                i += 1\n",
    "        count = 0\n",
    "        for i in range(2,n):\n",
    "            if sieve[i] == True:\n",
    "                count += 1\n",
    "        return count     \n",
    "\n",
    "n = int(input())  \n",
    "s = Solution()\n",
    "ans = s.countPrimes(n)\n",
    "print(ans)"
   ]
  },
  {
   "cell_type": "code",
   "execution_count": 43,
   "metadata": {},
   "outputs": [
    {
     "name": "stdout",
     "output_type": "stream",
     "text": [
      "3 2 10 4\n",
      "false\n"
     ]
    }
   ],
   "source": [
    "class Solution:\n",
    "    def stoneGame(self, piles):\n",
    "        al = 0\n",
    "        an = 0\n",
    "        flag = False\n",
    "        while len(piles) != 0:\n",
    "            if flag == False:\n",
    "                if piles[0] > piles[-1]:\n",
    "                    al += piles[0]\n",
    "                    piles = piles[1:]\n",
    "                    flag = True\n",
    "                else:\n",
    "                    al += piles[-1]\n",
    "                    piles = piles[:-1]\n",
    "                    flag = True\n",
    "            else:\n",
    "                if piles[0] > piles[-1]:\n",
    "                    an += piles[0]\n",
    "                    piles = piles[1:]\n",
    "                    flag = False\n",
    "                else:\n",
    "                    an += piles[-1]\n",
    "                    piles = piles[:-1]\n",
    "                    flag = False                \n",
    "        if al>an:\n",
    "            return True\n",
    "        else:\n",
    "            return False\n",
    "        \n",
    "s= Solution()        \n",
    "piles = [int(i) for i in input().split()]\n",
    "ans = s.stoneGame(piles)\n",
    "if ans:\n",
    "    print(\"true\")\n",
    "else:\n",
    "    print(\"false\")"
   ]
  },
  {
   "cell_type": "code",
   "execution_count": 55,
   "metadata": {},
   "outputs": [
    {
     "name": "stdout",
     "output_type": "stream",
     "text": [
      "9 8 7 4\n",
      "true\n"
     ]
    }
   ],
   "source": [
    "class Solution:\n",
    "    \n",
    "    def stoneGameHelper(self,piles,i,j,dp):\n",
    "        if i > j:\n",
    "            return True\n",
    "        \n",
    "        if dp[i][j] != -1:\n",
    "            return dp[i][j]\n",
    "        else:\n",
    "            dp[i][j] = max(piles[i] - self.stoneGameHelper(piles,i+1,j,dp) , piles[j] - self.stoneGameHelper(piles,i,j-1,dp))\n",
    "            return dp[i][j]\n",
    "        \n",
    "    \n",
    "    def stoneGame(self, piles):\n",
    "        i = 0\n",
    "        j = len(piles) - 1\n",
    "        dp = [[-1 for i in range(501)]for j in range(501)]\n",
    "        return self.stoneGameHelper(piles,i,j,dp) > 0\n",
    " \n",
    "        \n",
    "s= Solution()        \n",
    "piles = [int(i) for i in input().split()]\n",
    "ans = s.stoneGame(piles)\n",
    "if ans:\n",
    "    print(\"true\")\n",
    "else:\n",
    "    print(\"false\")"
   ]
  },
  {
   "cell_type": "code",
   "execution_count": 12,
   "metadata": {},
   "outputs": [
    {
     "name": "stdout",
     "output_type": "stream",
     "text": [
      "4\n",
      "5 1 9 11\n",
      "2 4 8 10\n",
      "13 3 6 7\n",
      "15 14 12 16\n",
      "\n",
      "[[15, 13, 2, 5], [14, 3, 4, 1], [12, 6, 8, 9], [16, 7, 10, 11]]\n"
     ]
    }
   ],
   "source": [
    "class Solution:\n",
    "    \n",
    "    def Transpose(self,matrix):\n",
    "        n = len(matrix)\n",
    "        for i in range(n):\n",
    "            j = i\n",
    "            k = i\n",
    "            while j < n and k < n:\n",
    "                if j == i and k == i:\n",
    "                    j += 1\n",
    "                    k += 1\n",
    "                else:\n",
    "                    matrix[j][i],matrix[i][k] = matrix[i][k],matrix[j][i]\n",
    "                    j += 1\n",
    "                    k += 1\n",
    "\n",
    "                \n",
    "    def rotateHelper(self,matrix):\n",
    "        n = len(matrix)\n",
    "        if n % 2 == 0:\n",
    "            i = 0\n",
    "            j = n-1\n",
    "            while i < j:\n",
    "                for k in range(n):\n",
    "                    matrix[k][i] , matrix[k][j] = matrix[k][j] , matrix[k][i]\n",
    "                i += 1\n",
    "                j -= 1\n",
    "        else:\n",
    "            i = 0\n",
    "            j = n-1\n",
    "            while i != j:\n",
    "                for k in range(n):\n",
    "                    matrix[k][i] , matrix[k][j] = matrix[k][j] , matrix[k][i]\n",
    "                i += 1\n",
    "                j -= 1                \n",
    "                \n",
    "        print()\n",
    "        print(matrix)\n",
    "                \n",
    "                \n",
    "    def rotate(self, matrix):\n",
    "        self.Transpose(matrix)\n",
    "        self.rotateHelper(matrix)\n",
    "        \"\"\"def\n",
    "        Do not return anything, modify matrix in-place instead.\n",
    "        \"\"\"\n",
    "    \n",
    "matrix = []\n",
    "n = int(input())\n",
    "for i in range(n):\n",
    "    row = [int(i) for i in input().split()]\n",
    "    matrix.append(row)\n",
    "    \n",
    "\n",
    "s = Solution()    \n",
    "s.rotate(matrix)"
   ]
  },
  {
   "cell_type": "code",
   "execution_count": 4,
   "metadata": {},
   "outputs": [
    {
     "name": "stdout",
     "output_type": "stream",
     "text": [
      "Enter root data\n",
      "1\n",
      "Enter number of children for root data 1\n",
      "2\n",
      "Enter root data\n",
      "3\n",
      "Enter number of children for root data 3\n",
      "0\n",
      "Enter root data\n",
      "4\n",
      "Enter number of children for root data 4\n",
      "0\n"
     ]
    },
    {
     "data": {
      "text/plain": [
       "[[1], [3, 4]]"
      ]
     },
     "execution_count": 4,
     "metadata": {},
     "output_type": "execute_result"
    }
   ],
   "source": [
    "import queue\n",
    "class Treenode:\n",
    "    def __init__(self,val):\n",
    "        self.val = val\n",
    "        self.children = list()\n",
    "def taketreeinput():\n",
    "    print(\"Enter root data\")\n",
    "    rootdata = int(input())\n",
    "    if rootdata ==-1:\n",
    "        return None\n",
    "    root = Treenode(rootdata)\n",
    "    print(\"Enter number of children for root data\",rootdata)\n",
    "    countchild = int(input())\n",
    "    for i in range(countchild): #For proper understanding please dry run this and you get that.\n",
    "        child = taketreeinput()\n",
    "        root.children.append(child)\n",
    "        \n",
    "    return root\n",
    "\n",
    "class Solution:\n",
    "    \n",
    "    def levelOrderHelper(self,root,ans):\n",
    "        q = queue.Queue()\n",
    "        q.put(root)\n",
    "        \n",
    "        while not q.empty():\n",
    "            size = q.qsize()\n",
    "            temp = []\n",
    "            while (size) != 0:\n",
    "                ele = q.get()\n",
    "                temp.append(ele.val)\n",
    "                for child in ele.children:\n",
    "                    q.put(child)\n",
    "                    \n",
    "                size -= 1\n",
    "                \n",
    "            ans.append(temp)\n",
    "        return ans\n",
    "\n",
    "    \n",
    "    def levelOrder(self, root):\n",
    "        if root is None:\n",
    "            return\n",
    "        ans = []\n",
    "        self.levelOrderHelper(root,ans)\n",
    "        return ans\n",
    "        \n",
    "root = taketreeinput()\n",
    "s = Solution()\n",
    "ans = s.levelOrder(root)\n",
    "ans"
   ]
  },
  {
   "cell_type": "code",
   "execution_count": 5,
   "metadata": {},
   "outputs": [
    {
     "name": "stdout",
     "output_type": "stream",
     "text": [
      "1 2 3 4 \n",
      "false\n"
     ]
    }
   ],
   "source": [
    "class Solution:\n",
    "    def containsDuplicate(self, nums):\n",
    "        dic = {}\n",
    "        for i in nums:\n",
    "            dic[i] = dic.get(i,0) + 1\n",
    "          \n",
    "        if len(nums) == len(dic):\n",
    "            return False\n",
    "        else:\n",
    "            return True\n",
    "        \n",
    "        \n",
    "\n",
    "s = Solution()\n",
    "row = [int(i) for i in input().split()]\n",
    "ans = s.containsDuplicate(row)\n",
    "if ans:\n",
    "    print(\"true\")\n",
    "else:\n",
    "    print(\"false\")"
   ]
  },
  {
   "cell_type": "code",
   "execution_count": 8,
   "metadata": {},
   "outputs": [
    {
     "name": "stdout",
     "output_type": "stream",
     "text": [
      "3 0 1\n"
     ]
    },
    {
     "data": {
      "text/plain": [
       "2"
      ]
     },
     "execution_count": 8,
     "metadata": {},
     "output_type": "execute_result"
    }
   ],
   "source": [
    "class Solution:\n",
    "    def missingNumber(self, nums):\n",
    "        n = len(nums)\n",
    "        i = n\n",
    "        while i >= 0:\n",
    "            if i in nums:\n",
    "                i -= 1\n",
    "            else:\n",
    "                return i\n",
    "s = Solution()\n",
    "row = [int(i) for i in input().split()]\n",
    "ans = s.missingNumber(row)\n",
    "ans  "
   ]
  },
  {
   "cell_type": "code",
   "execution_count": 23,
   "metadata": {},
   "outputs": [
    {
     "name": "stdout",
     "output_type": "stream",
     "text": [
      "1 2 1 2 0 1 0 0\n",
      "[1, 2, 1, 2, 1, 0, 0, 0]\n"
     ]
    }
   ],
   "source": [
    "class Solution:\n",
    "    def moveZeroes(self, arr):\n",
    "        \"\"\"\n",
    "        Do not return anything, modify nums in-place instead.\n",
    "        \"\"\"\n",
    "\n",
    "        i = 0\n",
    "        nz = 0\n",
    "        while i < len(arr) :\n",
    "            if arr[i] != 0:\n",
    "                arr[i],arr[nz] = arr[nz],arr[i]\n",
    "                nz += 1\n",
    "                i += 1\n",
    "            else:\n",
    "                i += 1\n",
    "       \n",
    "        \n",
    " \n",
    "s = Solution()\n",
    "row = [int(i) for i in input().split()]\n",
    "ans = s.moveZeroes(row)\n",
    "print(row)"
   ]
  },
  {
   "cell_type": "code",
   "execution_count": 27,
   "metadata": {},
   "outputs": [
    {
     "name": "stdout",
     "output_type": "stream",
     "text": [
      "4 9 5\n",
      "9 4 9 8 4\n",
      "[4, 9]\n"
     ]
    }
   ],
   "source": [
    "class Solution:\n",
    "    def intersect(self, nums1,nums2):\n",
    "        nums1.sort()\n",
    "        nums2.sort()\n",
    "        n = len(nums1)\n",
    "        m = len(nums2)\n",
    "        i = 0\n",
    "        j = 0\n",
    "        ans = []\n",
    "        while i < n and j < m:\n",
    "            if nums1[i] > nums2[j]:\n",
    "                j += 1\n",
    "            elif nums1[i] < nums2[j]:\n",
    "                i += 1\n",
    "                \n",
    "            else:\n",
    "                ans.append(nums1[i])\n",
    "                i += 1\n",
    "                j += 1\n",
    "        return ans\n",
    "    \n",
    "s = Solution()\n",
    "row1 = [int(i) for i in input().split()]\n",
    "row2 = [int(i) for i in input().split()]\n",
    "ans = s.intersect(row1,row2)\n",
    "print(ans)    "
   ]
  },
  {
   "cell_type": "code",
   "execution_count": 46,
   "metadata": {},
   "outputs": [
    {
     "name": "stdout",
     "output_type": "stream",
     "text": [
      "3\n",
      "1 2 3 4\n",
      "5 6 7 8\n",
      "9 10 11 12\n",
      "[1, 2, 3, 4, 8, 12, 11, 10, 9, 5, 6, 7]\n"
     ]
    }
   ],
   "source": [
    "class Solution:\n",
    "    def spiralOrder(self, matrix):\n",
    "        ans = []\n",
    "        rs = 0\n",
    "        re = len(matrix) - 1 #2\n",
    "        cs = 0\n",
    "        \n",
    "        n = len(matrix)\n",
    "        m = len(matrix[0])\n",
    "        ce = m-1\n",
    "        k = 0\n",
    "        while k < (n)*(m):\n",
    "            \n",
    "            #upper row\n",
    "        \n",
    "            for i in range(cs,ce+1):\n",
    "                if k < n*m:\n",
    "                    ans.append(matrix[rs][i])\n",
    "                    k += 1\n",
    "                else:\n",
    "                    break\n",
    "            rs += 1\n",
    "            \n",
    "            #right column\n",
    "            \n",
    "            \n",
    "            for i in range(rs,re+1):\n",
    "                if k < n*m:\n",
    "                    ans.append(matrix[i][ce])\n",
    "                    k += 1\n",
    "                else:\n",
    "                    break\n",
    "            ce -= 1\n",
    "            \n",
    "            #bottom row\n",
    "            for i in range(ce,cs-1,-1):\n",
    "                if k < n*m:\n",
    "                    ans.append(matrix[re][i])\n",
    "                    k += 1\n",
    "                else:\n",
    "                    break\n",
    "                \n",
    "            re -= 1\n",
    "            for i in range(re,rs-1,-1):\n",
    "                if k < n*m:\n",
    "                    ans.append(matrix[i][cs])\n",
    "                    k += 1\n",
    "                else:\n",
    "                    break\n",
    "\n",
    "            cs += 1\n",
    "            \n",
    "        return ans  \n",
    "    \n",
    "matrix = []\n",
    "n = int(input())\n",
    "for i in range(n):\n",
    "    row = [int(i) for i in input().split()]\n",
    "    matrix.append(row)\n",
    "    \n",
    "\n",
    "s = Solution()    \n",
    "ans = s.spiralOrder(matrix)             \n",
    "print(ans)"
   ]
  },
  {
   "cell_type": "code",
   "execution_count": 50,
   "metadata": {},
   "outputs": [
    {
     "name": "stdout",
     "output_type": "stream",
     "text": [
      "1 0 2 1\n",
      "false\n"
     ]
    }
   ],
   "source": [
    "class Solution:\n",
    "    def canJump(self, nums):\n",
    "        i = 0\n",
    "        n = len(nums)\n",
    "        while i < n:\n",
    "            if nums[i] == 0:\n",
    "                if i == n-1:\n",
    "                    return True\n",
    "                else:\n",
    "                    return False\n",
    "            else:\n",
    "                if i == n-1:\n",
    "                    return True\n",
    "                else:\n",
    "                    i += nums[i]\n",
    "        if i == n-1:\n",
    "            return True\n",
    "        else:\n",
    "            return False\n",
    "        \n",
    " \n",
    "s = Solution()\n",
    "row = [int(i) for i in input().split()]\n",
    "ans = s.canJump(row)\n",
    "if ans:\n",
    "    print(\"true\")\n",
    "else:\n",
    "    print(\"false\")"
   ]
  },
  {
   "cell_type": "code",
   "execution_count": 15,
   "metadata": {
    "scrolled": false
   },
   "outputs": [
    {
     "name": "stdout",
     "output_type": "stream",
     "text": [
      "3 0 8 2 0 0 1\n",
      "true\n"
     ]
    }
   ],
   "source": [
    "class Solution:\n",
    "    \n",
    "    def canJumpHelper(self,arr,i,n,dp):\n",
    "        if i == n-1:\n",
    "            return True\n",
    "        \n",
    "        if i >= n:\n",
    "            return False\n",
    "        \n",
    "        if arr[i] == 0:\n",
    "            return False\n",
    "        \n",
    "        for j in range(1,arr[i]+1):\n",
    "            if dp[i+j] == -1:\n",
    "                if self.canJumpHelper(arr,i+j,n,dp):\n",
    "                    dp[i+j] = True\n",
    "                    return True\n",
    "            else:\n",
    "                return dp[i+j]\n",
    "            \n",
    "    def canJump(self, nums):\n",
    "        i = 0\n",
    "        n = len(nums)\n",
    "        dp=[-1 for i in range(n)]\n",
    "        return self.canJumpHelper(nums,i,n,dp)\n",
    " \n",
    "s = Solution()\n",
    "row = [int(i) for i in input().split()]\n",
    "ans = s.canJump(row)\n",
    "if ans:\n",
    "    print(\"true\")\n",
    "else:\n",
    "    print(\"false\")"
   ]
  },
  {
   "cell_type": "code",
   "execution_count": 44,
   "metadata": {},
   "outputs": [
    {
     "name": "stdout",
     "output_type": "stream",
     "text": [
      "abs\n"
     ]
    },
    {
     "data": {
      "text/plain": [
       "2"
      ]
     },
     "execution_count": 44,
     "metadata": {},
     "output_type": "execute_result"
    }
   ],
   "source": [
    "class Solution:\n",
    "    def minCut(self, string):\n",
    "        dp =[[sys.maxsize for j in range(len(string))]for i in range(len(string))]\n",
    "        n = len(string)\n",
    "        for g in range(n):\n",
    "            i = 0 \n",
    "            j = g\n",
    "            while j < n:\n",
    "                if g == 0:\n",
    "                    dp[i][j] = True\n",
    "                elif g == 1:\n",
    "                    if string[i] == string[j]:\n",
    "                        dp[i][j] = True\n",
    "                    else:\n",
    "                        dp[i][j] = False\n",
    "                else:\n",
    "                    if string[i] == string[j]:\n",
    "                        if dp[i+1][j-1] == True:\n",
    "                            dp[i][j] = True\n",
    "                        else:\n",
    "                            dp[i][j] = False\n",
    "                    else:\n",
    "                        dp[i][j] = False\n",
    "                i += 1\n",
    "                j += 1\n",
    "\n",
    "        dp2 =  [[sys.maxsize for j in range(len(string))]for i in range(len(string))]    \n",
    "        for g in range(n):\n",
    "            i = 0 \n",
    "            j = g\n",
    "            while j < n:\n",
    "                if g == 0:\n",
    "                    dp2[i][j] = 0\n",
    "                elif g == 1:\n",
    "                    if string[i] == string[j]:\n",
    "                        dp2[i][j] = 0\n",
    "                    else:\n",
    "                        dp2[i][j] = 1\n",
    "                else:\n",
    "                    if dp[i][j]:\n",
    "                        dp2[i][j] = 0\n",
    "                    else:   \n",
    "                        mini = sys.maxsize \n",
    "                        for k in range(i,j):\n",
    "                            left = dp2[i][k]\n",
    "                            right = dp2[k+1][j]\n",
    "                            if mini > left + right + 1:\n",
    "                                mini = left + right + 1\n",
    "                        dp2[i][j] = mini\n",
    "                i += 1\n",
    "                j += 1\n",
    "        return dp2[0][n-1]\n",
    "\n",
    "    \n",
    "s = Solution()\n",
    "s1 = input()\n",
    "ans = s.minCut(s1)\n",
    "ans"
   ]
  },
  {
   "cell_type": "markdown",
   "metadata": {},
   "source": [
    "Bollean gap strategy"
   ]
  },
  {
   "cell_type": "code",
   "execution_count": 51,
   "metadata": {},
   "outputs": [
    {
     "name": "stdout",
     "output_type": "stream",
     "text": [
      "asdadas\n"
     ]
    },
    {
     "data": {
      "text/plain": [
       "4"
      ]
     },
     "execution_count": 51,
     "metadata": {},
     "output_type": "execute_result"
    }
   ],
   "source": [
    "import sys\n",
    "class Solution:\n",
    "    def minCut(self,string):  #Boolean gap strategy\n",
    "        dp =[[sys.maxsize for j in range(len(string))]for i in range(len(string))]\n",
    "        n = len(string)\n",
    "        for g in range(n):\n",
    "            i = 0 \n",
    "            j = g\n",
    "            while j < n:\n",
    "                if g == 0:\n",
    "                    dp[i][j] = True\n",
    "                elif g == 1:\n",
    "                    if string[i] == string[j]:\n",
    "                        dp[i][j] = True\n",
    "                    else:\n",
    "                        dp[i][j] = False\n",
    "                else:\n",
    "                    if string[i] == string[j]:\n",
    "                        if dp[i+1][j-1] == True:\n",
    "                            dp[i][j] = True\n",
    "                        else:\n",
    "                            dp[i][j] = False\n",
    "                    else:\n",
    "                        dp[i][j] = False\n",
    "                i += 1\n",
    "                j += 1\n",
    "        ans = [-1 for i in range(n)]\n",
    "        ans[0] = 0\n",
    "        for j in range(1,n):\n",
    "            if dp[0][j]:\n",
    "                ans[j] = 0\n",
    "            else:\n",
    "                mini = sys.maxsize\n",
    "                for i in range(j,0,-1):\n",
    "                    if dp[i][j]:\n",
    "                        if ans[i-1] < mini:\n",
    "                            mini = ans[i-1]\n",
    "                ans[j] = mini + 1            \n",
    "        \n",
    "        return ans[n-1]\n",
    "s = Solution()    \n",
    "string = input()\n",
    "ans = s.minCut(string)\n",
    "ans"
   ]
  },
  {
   "cell_type": "code",
   "execution_count": 18,
   "metadata": {},
   "outputs": [
    {
     "name": "stdout",
     "output_type": "stream",
     "text": [
      "11\n",
      "123\n",
      "134\n"
     ]
    }
   ],
   "source": [
    "class Solution:\n",
    "    def addStrings(self, num1,num2):\n",
    "        nnum1 = 0\n",
    "        nnum2 = 0\n",
    "        \n",
    "        for i in num1:\n",
    "            nnum1 = nnum1*10 + (ord(i)-48)\n",
    "            \n",
    "        for j in num2:\n",
    "            nnum2 = nnum2*10 + (ord(j)-48)\n",
    "            \n",
    "\n",
    "        return str(nnum1 + nnum2)\n",
    "    \n",
    "s = Solution()\n",
    "num1 = input()\n",
    "num2 = input()\n",
    "ans = s.addStrings(num1,num2)\n",
    "print(ans)"
   ]
  },
  {
   "cell_type": "code",
   "execution_count": 21,
   "metadata": {},
   "outputs": [
    {
     "data": {
      "text/plain": [
       "{2: False}"
      ]
     },
     "execution_count": 21,
     "metadata": {},
     "output_type": "execute_result"
    }
   ],
   "source": [
    "dic={2:(True,1)}\n",
    "dic[2]= False\n",
    "dic"
   ]
  },
  {
   "cell_type": "markdown",
   "metadata": {},
   "source": [
    "Merge ranges which overlap with each other"
   ]
  },
  {
   "cell_type": "code",
   "execution_count": 35,
   "metadata": {},
   "outputs": [
    {
     "name": "stdout",
     "output_type": "stream",
     "text": [
      "2\n",
      "1 4\n",
      "0 0\n"
     ]
    },
    {
     "data": {
      "text/plain": [
       "[[0, 0], [1, 4]]"
      ]
     },
     "execution_count": 35,
     "metadata": {},
     "output_type": "execute_result"
    }
   ],
   "source": [
    "class Solution:\n",
    "    def merge(self, intervals):\n",
    "        vis = [False for i in range(len(intervals))]\n",
    "        ans = []\n",
    "        intervals.sort()\n",
    "        for i in range(len(intervals)):\n",
    "            if vis[i] == False:\n",
    "                temp = []\n",
    "                vis[i] = True\n",
    "                temp.append(intervals[i][0])\n",
    "                val = intervals[i][1]\n",
    "                j = i+1\n",
    "                while j < len(intervals):\n",
    "                    if intervals[j][0] <= val and vis[j] == False:\n",
    "                        if intervals[j][0] < temp[0]:\n",
    "                            temp[0] = intervals[j][0]\n",
    "                        if val < intervals[j][1]:    \n",
    "                            val = intervals[j][1]\n",
    "                        vis[j] = True\n",
    "                        j += 1\n",
    "                    else:\n",
    "                        j += 1\n",
    "                temp.append(val)\n",
    "                ans.append(temp)\n",
    "        return ans\n",
    "    \n",
    "s = Solution()\n",
    "intervals = []\n",
    "n = int(input())\n",
    "while n > 0:\n",
    "    row = [int(i) for i in input().split()]\n",
    "    intervals.append(row)\n",
    "    n -= 1\n",
    "ans = s.merge(intervals)    \n",
    "ans"
   ]
  },
  {
   "cell_type": "markdown",
   "metadata": {},
   "source": [
    "Minimum flip require to make monotone number"
   ]
  },
  {
   "cell_type": "code",
   "execution_count": 17,
   "metadata": {},
   "outputs": [
    {
     "name": "stdout",
     "output_type": "stream",
     "text": [
      "10011111110010111011\n",
      "5\n"
     ]
    }
   ],
   "source": [
    "#Concept is to find minimum flips right not to find minimum flips for zero or ones\n",
    "\n",
    "class Solution:\n",
    "    def minFlipsMonoIncr(self, s):\n",
    "        n = len(s)\n",
    "        i = 0\n",
    "        while i < n and s[i] == '0':\n",
    "            i += 1\n",
    "            \n",
    "        countzero = 0\n",
    "        countone = 0   \n",
    "            \n",
    "        for j in range(i,n):\n",
    "            if s[j] == '0':\n",
    "                countone += 1\n",
    "            else:\n",
    "                countzero += 1\n",
    "            \n",
    "            countone = min(countzero,countone)\n",
    "                \n",
    "                \n",
    "        return countone\n",
    "        \n",
    "\n",
    "    \n",
    "st = input()\n",
    "s = Solution()\n",
    "ans = s.minFlipsMonoIncr(st)\n",
    "print(ans)"
   ]
  },
  {
   "cell_type": "markdown",
   "metadata": {},
   "source": [
    "Sort colors(striver)"
   ]
  },
  {
   "cell_type": "code",
   "execution_count": 15,
   "metadata": {
    "scrolled": true
   },
   "outputs": [
    {
     "name": "stdout",
     "output_type": "stream",
     "text": [
      "2 0 2 0 1 2 0 1\n",
      "[0, 0, 0, 1, 1, 2, 2, 2]\n"
     ]
    }
   ],
   "source": [
    "class Solution:\n",
    "    def sortColors(self, nums):\n",
    "        i = 0\n",
    "        nz = 0\n",
    "        nt = len(nums) - 1\n",
    "        while i< nt:\n",
    "            if nums[i] == 0:\n",
    "                if i == nz:\n",
    "                    i += 1\n",
    "                    nz += 1\n",
    "                else:    \n",
    "                    nums[i],nums[nz] = nums[nz] , nums[i]\n",
    "                    nz += 1\n",
    "                    \n",
    "\n",
    "             \n",
    "            elif nums[i] == 2:\n",
    "                while nums[nt] == 2 and nt>i:\n",
    "                    nt -= 1\n",
    "                nums[i],nums[nt] = nums[nt] , nums[i]\n",
    "                nt -=1 \n",
    "\n",
    "            else:\n",
    "                i += 1\n",
    "                \n",
    "                \n",
    "s = Solution()\n",
    "nums = [int(i) for i in input().split()]\n",
    "s.sortColors(nums)\n",
    "print(nums)"
   ]
  },
  {
   "cell_type": "markdown",
   "metadata": {},
   "source": [
    "Array of Doubled Pairs"
   ]
  },
  {
   "cell_type": "code",
   "execution_count": 55,
   "metadata": {},
   "outputs": [
    {
     "name": "stdout",
     "output_type": "stream",
     "text": [
      "-1 4 6 8 -4 6 -6 3 -2 3 -3 -8\n",
      "true\n"
     ]
    }
   ],
   "source": [
    "class Solution:\n",
    "    def absolute_value(self,num):\n",
    "        return abs(num)    \n",
    "\n",
    "    \n",
    "    def canReorderDoubled(self, arr):\n",
    "        arr.sort(key=self.absolute_value)\n",
    "        dic = {}\n",
    "        for i in arr:\n",
    "            dic[i] = dic.get(i,0) + 1\n",
    "        \n",
    "        for i in arr:\n",
    "            if dic[i] == 0:\n",
    "                continue\n",
    "            elif dic.get(2*i,0) == 0:\n",
    "                return False\n",
    "            \n",
    "            dic[i] -= 1\n",
    "            dic[2*i] -= 1\n",
    "            \n",
    "        return True    \n",
    "\n",
    "s = Solution()\n",
    "arr = [int(i) for i in input().split()]\n",
    "ans = s.canReorderDoubled(arr)\n",
    "if ans:\n",
    "    print(\"true\")\n",
    "else:\n",
    "    print(\"false\")"
   ]
  },
  {
   "cell_type": "code",
   "execution_count": 76,
   "metadata": {},
   "outputs": [
    {
     "name": "stdout",
     "output_type": "stream",
     "text": [
      "4 3 6 2 1 1\n"
     ]
    },
    {
     "data": {
      "text/plain": [
       "[1, 5]"
      ]
     },
     "execution_count": 76,
     "metadata": {},
     "output_type": "execute_result"
    }
   ],
   "source": [
    "class Solution:\n",
    "    def findTwoElement( self,arr, n): \n",
    "        # code here\n",
    "        arr.sort()\n",
    "        rep =  -1\n",
    "        miss = -1\n",
    "        if arr[0] == 1:\n",
    "            i = 0\n",
    "        else:\n",
    "            miss = 1\n",
    "            i = 0\n",
    "        while i < n-1:\n",
    "            if arr[i] == arr[i+1]:\n",
    "                rep = arr[i]\n",
    "                i += 1\n",
    "            elif arr[i+1] - arr[i] != 1:\n",
    "                miss = arr[i]+1\n",
    "                i += 1\n",
    "              \n",
    "            else:\n",
    "                i += 1\n",
    "        if rep == n and miss == -1:\n",
    "            miss = 1\n",
    "            \n",
    "        if miss == -1:\n",
    "            miss = n\n",
    "            \n",
    "        return [rep , miss]\n",
    "    \n",
    "s = Solution()\n",
    "arr = [int(i) for i in input().split()]\n",
    "n = len(arr)\n",
    "ans = s.findTwoElement(arr,n)\n",
    "ans"
   ]
  },
  {
   "cell_type": "code",
   "execution_count": 78,
   "metadata": {},
   "outputs": [
    {
     "name": "stdout",
     "output_type": "stream",
     "text": [
      "4 3 6 2 1 1\n"
     ]
    },
    {
     "data": {
      "text/plain": [
       "[1, 5]"
      ]
     },
     "execution_count": 78,
     "metadata": {},
     "output_type": "execute_result"
    }
   ],
   "source": [
    "class Solution:\n",
    "    def findTwoElement1( self,arr, n): \n",
    "        dic = {}\n",
    "        for i in arr:\n",
    "            dic[i] = dic.get(i,0) + 1\n",
    "         \n",
    "        rep = -1\n",
    "        miss = -1\n",
    "        for i in dic:\n",
    "            if dic[i] == 2:\n",
    "                rep = i\n",
    "        for i in range(1,n+1):\n",
    "            if i not in dic:\n",
    "                miss = i\n",
    "        return [rep,miss]\n",
    "                \n",
    "s = Solution()\n",
    "arr = [int(i) for i in input().split()]\n",
    "n = len(arr)\n",
    "ans = s.findTwoElement1(arr,n)\n",
    "ans        "
   ]
  },
  {
   "cell_type": "code",
   "execution_count": 16,
   "metadata": {},
   "outputs": [
    {
     "name": "stdout",
     "output_type": "stream",
     "text": [
      "a\n"
     ]
    },
    {
     "data": {
      "text/plain": [
       "[['a']]"
      ]
     },
     "execution_count": 16,
     "metadata": {},
     "output_type": "execute_result"
    }
   ],
   "source": [
    "class Solution:\n",
    "    \n",
    "    def getfreq(self,st1):\n",
    "        d = {}\n",
    "        for i in st1:\n",
    "            d[i] = d.get(i,0) + 1\n",
    "        return d    \n",
    "    \n",
    "    def groupAnagrams(self, strs):\n",
    "        if len(strs) == 0:\n",
    "            return [['']]\n",
    "        \n",
    "        vis = [False for i in range(len(strs))]\n",
    "        dic = {}\n",
    "        for i in range(len(strs)):\n",
    "            dic[i] = self.getfreq(strs[i])\n",
    "            \n",
    "        ans = []\n",
    "        k = 0\n",
    "        print\n",
    "        for i in range(len(strs)):\n",
    "            if vis[i] == False:\n",
    "                vis[i] = True\n",
    "                ans.append([strs[i]])\n",
    "                for j in range(i+1,len(strs)):\n",
    "                    if vis[j] == False:\n",
    "                        if len(strs[i]) == len(strs[j]):\n",
    "                            if dic[i] == dic[j]:\n",
    "                                ans[k].append(strs[j])\n",
    "                                vis[j] = True\n",
    "                k += 1\n",
    "            \n",
    "        return ans\n",
    "    \n",
    "s = Solution()    \n",
    "strs = [i for i in input().split()]\n",
    "ans = s.groupAnagrams(strs)\n",
    "\n",
    "ans"
   ]
  },
  {
   "cell_type": "markdown",
   "metadata": {},
   "source": [
    "Merge two sorted arrays with O(1) time complexity"
   ]
  },
  {
   "cell_type": "code",
   "execution_count": 31,
   "metadata": {},
   "outputs": [
    {
     "name": "stdout",
     "output_type": "stream",
     "text": [
      "1 3 5 7\n",
      "0 2 6 8 9\n",
      "[0, 1, 2, 3]\n",
      "[5, 6, 7, 8, 9]\n"
     ]
    }
   ],
   "source": [
    "#Method 1\n",
    "\n",
    "import heapq\n",
    "class Solution:\n",
    "    \n",
    "    #Function to merge the arrays.\n",
    "    def merge(self,arr1,arr2):\n",
    "        #code here\n",
    "        i = 0\n",
    "        j = 0\n",
    "        heapq.heapify(arr2)\n",
    "        while i < len(arr1):\n",
    "            if arr1[i] > arr2[0]:\n",
    "                val = arr1[i]\n",
    "                arr1[i] = arr2[0]\n",
    "                heapq.heapreplace(arr2,val)\n",
    "                i += 1\n",
    "            else:\n",
    "                i += 1\n",
    "        arr2.sort()\n",
    "\n",
    "    \n",
    "s = Solution()\n",
    "arr1 = [int(i) for i in input().split()]\n",
    "arr2 = [int(i) for i in input().split()]\n",
    "s.merge(arr1,arr2)\n",
    "print(arr1)\n",
    "print(arr2)"
   ]
  },
  {
   "cell_type": "code",
   "execution_count": 39,
   "metadata": {},
   "outputs": [
    {
     "name": "stdout",
     "output_type": "stream",
     "text": [
      "1 3 5 7\n",
      "0 2 6 8 9\n",
      "[0, 1, 2, 3]\n",
      "[8, 5, 7, 6, 9]\n"
     ]
    }
   ],
   "source": [
    "#Method 2\n",
    "\n",
    "    while gap > 0:\n",
    " \n",
    "        # comparing elements in\n",
    "        # the first array.\n",
    "        i = 0\n",
    "        while i + gap < n:\n",
    "            if (arr1[i] > arr1[i + gap]):\n",
    "                arr1[i], arr1[i + gap] = arr1[i + gap], arr1[i]\n",
    " \n",
    "            i += 1\n",
    " \n",
    "        # comparing elements in both arrays.\n",
    "        j = gap - n if gap > n else 0\n",
    "        while i < n and j < m:\n",
    "            if (arr1[i] > arr2[j]):\n",
    "                arr1[i], arr2[j] = arr2[j], arr1[i]\n",
    " \n",
    "            i += 1\n",
    "            j += 1\n",
    " \n",
    "        if (j < m):\n",
    " \n",
    "            # comparing elements in the\n",
    "            # second array.\n",
    "            j = 0\n",
    "            while j + gap < m:\n",
    "                if (arr2[j] > arr2[j + gap]):\n",
    "                    arr2[j], arr2[j + gap] = arr2[j + gap], arr2[j]\n",
    " \n",
    "                j += 1\n",
    " \n",
    "        gap = nextGap(gap)\n",
    " \n",
    "s = Solution()\n",
    "arr1 = [int(i) for i in input().split()]\n",
    "arr2 = [int(i) for i in input().split()]\n",
    "s.merge1(arr1,arr2)\n",
    "print(arr1)\n",
    "print(arr2)         \n"
   ]
  },
  {
   "cell_type": "markdown",
   "metadata": {},
   "source": [
    "Set Matrix Zeroes\n",
    "Time complexity : O(m*n + m+n)\n",
    "space complexity : O(m*n)"
   ]
  },
  {
   "cell_type": "code",
   "execution_count": 14,
   "metadata": {},
   "outputs": [
    {
     "name": "stdout",
     "output_type": "stream",
     "text": [
      "3\n",
      "1 1 1\n",
      "1 0 1\n",
      "1 1 1\n",
      "[[1, 0, 0], [0, 0, 0], [0, 0, 0]]\n"
     ]
    }
   ],
   "source": [
    "class Solution:\n",
    "    \n",
    "    def FillRowCol(self,matrix,i,j,vis):\n",
    "        n = len(matrix)\n",
    "        m = len(matrix[0])\n",
    "        #Fill column\n",
    "        row = 0\n",
    "        while row < m:\n",
    "            if matrix[i][row] != 0 and vis[i][row] == False:\n",
    "                vis[i][row] = True\n",
    "                matrix[i][row] = 0\n",
    "                row += 1\n",
    "            else:\n",
    "                row += 1\n",
    "                \n",
    "        #Fill Column\n",
    "        column = 0\n",
    "        \n",
    "        while column < n:\n",
    "            if vis[column][j] == False and matrix[column][j] != 0:\n",
    "                vis[column][j] = True\n",
    "                matrix[column][j] = 0\n",
    "                column += 1\n",
    "            else:\n",
    "                column += 1\n",
    "    \n",
    "    def setZeroes(self, matrix):\n",
    "        vis = [[False for i in range(len(matrix[0]))]for j in range(len(matrix))]\n",
    "        for i in range(len(matrix)):\n",
    "            for j in range(len(matrix[0])):\n",
    "                if matrix[i][j] == 0 and vis[i][j] == False:\n",
    "                    self.FillRowCol(matrix,i,j,vis)\n",
    "        \n",
    "        \n",
    "        \n",
    "        \n",
    "s = Solution()\n",
    "matrix = []\n",
    "n = int(input())\n",
    "for i in range(n):\n",
    "    row = [int(i) for i in input().split()]\n",
    "    matrix.append(row)\n",
    "    \n",
    "s.setZeroes(matrix)\n",
    "print(matrix)"
   ]
  },
  {
   "cell_type": "raw",
   "metadata": {},
   "source": [
    "-->Set matrix zeroes \n",
    "-->Optimal approach\n",
    "Time complexity -->O(m*n+m*n)\n",
    "Space complexity --> O(1)"
   ]
  },
  {
   "cell_type": "code",
   "execution_count": 13,
   "metadata": {},
   "outputs": [
    {
     "name": "stdout",
     "output_type": "stream",
     "text": [
      "3\n",
      "0 1 2 0\n",
      "1 2 4 2\n",
      "4 5 4 8\n",
      "[[0, 1, 0, 0], [0, 2, 4, 0], [0, 5, 4, 0]]\n"
     ]
    }
   ],
   "source": [
    "#Here we consider the 1st row and column as dummy array and make it zero if we get any cell as zero\n",
    "\n",
    "class Solution:\n",
    "    \n",
    "    def setZeroes1(self, matrix):\n",
    "        iscol = True\n",
    "        for i in range(len(matrix)):\n",
    "            if matrix[i][0] == 0:\n",
    "                iscol = False\n",
    "            for j in range(1,len(matrix[0])):\n",
    "                if matrix[i][j] == 0:\n",
    "                    matrix[0][j] = 0\n",
    "                    matrix[i][0] = 0\n",
    "                    \n",
    "        for i in range(len(matrix)-1 ,-1,-1):\n",
    "            for j in range(len(matrix[0])-1,0,-1):  #Here we go till j >= 1 coz if the 1st column is already zero it is\n",
    "                if matrix[0][j] == 0  or matrix[i][0] == 0:  #care by iscol flag because if any of the element of 1st column is\n",
    "                    matrix[i][j] = 0  #zero it become False and then we make that cell zero .\n",
    "                    \n",
    "            if iscol == False:\n",
    "                matrix[i][0] = 0\n",
    "                    \n",
    "        \n",
    "s = Solution()\n",
    "matrix = []\n",
    "n = int(input())\n",
    "for i in range(n):\n",
    "    row = [int(i) for i in input().split()]\n",
    "    matrix.append(row)\n",
    "    \n",
    "s.setZeroes1(matrix)\n",
    "print(matrix)"
   ]
  },
  {
   "cell_type": "code",
   "execution_count": 5,
   "metadata": {},
   "outputs": [
    {
     "name": "stdout",
     "output_type": "stream",
     "text": [
      "-2 1 -3 4 -1 2 1 -5 4 \n"
     ]
    },
    {
     "data": {
      "text/plain": [
       "6"
      ]
     },
     "execution_count": 5,
     "metadata": {},
     "output_type": "execute_result"
    }
   ],
   "source": [
    "import sys\n",
    "\n",
    "class Solution:\n",
    "    def maxSubArray(self, nums):\n",
    "        maxi = -1*sys.maxsize\n",
    "        sumi = 0\n",
    "        for i in nums:\n",
    "            sumi += i\n",
    "            maxi = max(sumi , maxi)\n",
    "            if sumi < 0 :\n",
    "                sumi = 0\n",
    "        return maxi \n",
    "    \n",
    "    \n",
    "s = Solution()\n",
    "nums = [int(i) for i in input().split()]\n",
    "ans = s.maxSubArray(nums)\n",
    "ans"
   ]
  },
  {
   "cell_type": "markdown",
   "metadata": {},
   "source": [
    "Remove Boxes"
   ]
  },
  {
   "cell_type": "code",
   "execution_count": 13,
   "metadata": {},
   "outputs": [
    {
     "name": "stdout",
     "output_type": "stream",
     "text": [
      "2 1 2\n"
     ]
    },
    {
     "data": {
      "text/plain": [
       "5"
      ]
     },
     "execution_count": 13,
     "metadata": {},
     "output_type": "execute_result"
    }
   ],
   "source": [
    "class Solution:\n",
    "    def removeBoxes(self,boxes):\n",
    "        profit = 0\n",
    "        if len(boxes) == 0:\n",
    "            return 0\n",
    "        \n",
    "        if len(boxes) == 1:\n",
    "            return 1\n",
    "        \n",
    "        startindex = 0\n",
    "        endindex = 0\n",
    "        while startindex < len(boxes):\n",
    "            remove_number = boxes[startindex]\n",
    "            count = 0\n",
    "            while endindex < len(boxes) and remove_number == boxes[endindex]:\n",
    "                endindex += 1\n",
    "                count += 1\n",
    "                \n",
    "                \n",
    "            if endindex >= len(boxes):\n",
    "                profit = max(profit , count*count)\n",
    "                    \n",
    "            else:\n",
    "                profit = max(profit , self.removeBoxes(boxes[0:startindex] + boxes[endindex:len(boxes)]) + count*count)\n",
    "                    \n",
    "            startindex = endindex\n",
    "   \n",
    "        return profit\n",
    "    \n",
    "        \n",
    "        \n",
    "s = Solution()    \n",
    "boxes = [int(i) for i in input().split()]        \n",
    "ans = s.removeBoxes(boxes)\n",
    "ans"
   ]
  },
  {
   "cell_type": "code",
   "execution_count": 26,
   "metadata": {},
   "outputs": [
    {
     "ename": "NameError",
     "evalue": "name 'List' is not defined",
     "output_type": "error",
     "traceback": [
      "\u001b[1;31m---------------------------------------------------------------------------\u001b[0m",
      "\u001b[1;31mNameError\u001b[0m                                 Traceback (most recent call last)",
      "\u001b[1;32m<ipython-input-26-7575b4abd25a>\u001b[0m in \u001b[0;36m<module>\u001b[1;34m\u001b[0m\n\u001b[1;32m----> 1\u001b[1;33m \u001b[1;32mclass\u001b[0m \u001b[0mSolution\u001b[0m\u001b[1;33m:\u001b[0m\u001b[1;33m\u001b[0m\u001b[1;33m\u001b[0m\u001b[0m\n\u001b[0m\u001b[0;32m      2\u001b[0m     \u001b[1;32mdef\u001b[0m \u001b[0mremoveBoxes\u001b[0m\u001b[1;33m(\u001b[0m\u001b[0mself\u001b[0m\u001b[1;33m,\u001b[0m \u001b[0mboxes\u001b[0m\u001b[1;33m:\u001b[0m \u001b[0mList\u001b[0m\u001b[1;33m[\u001b[0m\u001b[0mint\u001b[0m\u001b[1;33m]\u001b[0m\u001b[1;33m)\u001b[0m \u001b[1;33m->\u001b[0m \u001b[0mint\u001b[0m\u001b[1;33m:\u001b[0m\u001b[1;33m\u001b[0m\u001b[1;33m\u001b[0m\u001b[0m\n\u001b[0;32m      3\u001b[0m         \u001b[1;32mdef\u001b[0m \u001b[0mdp\u001b[0m\u001b[1;33m(\u001b[0m\u001b[0ml\u001b[0m\u001b[1;33m,\u001b[0m\u001b[0mr\u001b[0m\u001b[1;33m,\u001b[0m\u001b[0mcount\u001b[0m\u001b[1;33m=\u001b[0m\u001b[1;36m0\u001b[0m\u001b[1;33m)\u001b[0m\u001b[1;33m:\u001b[0m\u001b[1;33m\u001b[0m\u001b[1;33m\u001b[0m\u001b[0m\n\u001b[0;32m      4\u001b[0m             \u001b[1;32mif\u001b[0m \u001b[0ml\u001b[0m \u001b[1;33m>\u001b[0m \u001b[0mr\u001b[0m\u001b[1;33m:\u001b[0m\u001b[1;33m\u001b[0m\u001b[1;33m\u001b[0m\u001b[0m\n\u001b[0;32m      5\u001b[0m                 \u001b[1;32mreturn\u001b[0m \u001b[1;36m0\u001b[0m\u001b[1;33m\u001b[0m\u001b[1;33m\u001b[0m\u001b[0m\n",
      "\u001b[1;32m<ipython-input-26-7575b4abd25a>\u001b[0m in \u001b[0;36mSolution\u001b[1;34m()\u001b[0m\n\u001b[0;32m      1\u001b[0m \u001b[1;32mclass\u001b[0m \u001b[0mSolution\u001b[0m\u001b[1;33m:\u001b[0m\u001b[1;33m\u001b[0m\u001b[1;33m\u001b[0m\u001b[0m\n\u001b[1;32m----> 2\u001b[1;33m     \u001b[1;32mdef\u001b[0m \u001b[0mremoveBoxes\u001b[0m\u001b[1;33m(\u001b[0m\u001b[0mself\u001b[0m\u001b[1;33m,\u001b[0m \u001b[0mboxes\u001b[0m\u001b[1;33m:\u001b[0m \u001b[0mList\u001b[0m\u001b[1;33m[\u001b[0m\u001b[0mint\u001b[0m\u001b[1;33m]\u001b[0m\u001b[1;33m)\u001b[0m \u001b[1;33m->\u001b[0m \u001b[0mint\u001b[0m\u001b[1;33m:\u001b[0m\u001b[1;33m\u001b[0m\u001b[1;33m\u001b[0m\u001b[0m\n\u001b[0m\u001b[0;32m      3\u001b[0m         \u001b[1;32mdef\u001b[0m \u001b[0mdp\u001b[0m\u001b[1;33m(\u001b[0m\u001b[0ml\u001b[0m\u001b[1;33m,\u001b[0m\u001b[0mr\u001b[0m\u001b[1;33m,\u001b[0m\u001b[0mcount\u001b[0m\u001b[1;33m=\u001b[0m\u001b[1;36m0\u001b[0m\u001b[1;33m)\u001b[0m\u001b[1;33m:\u001b[0m\u001b[1;33m\u001b[0m\u001b[1;33m\u001b[0m\u001b[0m\n\u001b[0;32m      4\u001b[0m             \u001b[1;32mif\u001b[0m \u001b[0ml\u001b[0m \u001b[1;33m>\u001b[0m \u001b[0mr\u001b[0m\u001b[1;33m:\u001b[0m\u001b[1;33m\u001b[0m\u001b[1;33m\u001b[0m\u001b[0m\n\u001b[0;32m      5\u001b[0m                 \u001b[1;32mreturn\u001b[0m \u001b[1;36m0\u001b[0m\u001b[1;33m\u001b[0m\u001b[1;33m\u001b[0m\u001b[0m\n",
      "\u001b[1;31mNameError\u001b[0m: name 'List' is not defined"
     ]
    }
   ],
   "source": [
    "class Solution:\n",
    "    def removeBoxes(self, boxes: List[int]) -> int:\n",
    "        def dp(l,r,count=0):\n",
    "            if l > r:\n",
    "                return 0\n",
    "            while l+1 < r and boxes[l] == boxes[l+1]:\n",
    "                count += 1\n",
    "                l += 1\n",
    "                \n",
    "            ans = (count+1)**2 + dp(l+1,r)\n",
    "            for j in range(l+1,r+1):\n",
    "                if boxes[l] == boxes[j]:\n",
    "                    ans = max(ans , dp(j,r,count+1) + dp(l+1,j-1,0))\n",
    "              \n",
    "            return ans\n",
    "        \n",
    "        \n",
    "        return dp(0,n-1)\n",
    "        \n",
    "s = Solution()    \n",
    "boxes = [int(i) for i in input().split()]        \n",
    "ans = s.removeBoxes(boxes)\n",
    "ans"
   ]
  },
  {
   "cell_type": "code",
   "execution_count": 17,
   "metadata": {},
   "outputs": [
    {
     "name": "stdout",
     "output_type": "stream",
     "text": [
      "ADOBECODEBANC\n",
      "ABC\n"
     ]
    },
    {
     "data": {
      "text/plain": [
       "'BANC'"
      ]
     },
     "execution_count": 17,
     "metadata": {},
     "output_type": "execute_result"
    }
   ],
   "source": [
    "class Solution:\n",
    "    def minWindow(self, s,t):\n",
    "        ans = ''\n",
    "        dic2 ={}\n",
    "        for i in t:\n",
    "            dic2[i] = dic2.get(i,0) + 1\n",
    "            \n",
    "        dic1 = {}\n",
    "        i = -1\n",
    "        j = -1\n",
    "        desire_count = len(t)\n",
    "        count = 0\n",
    "        \n",
    "        while(True):\n",
    "            flag1 = False\n",
    "            flag2 = False\n",
    "            #acquire \n",
    "            while i < len(s)-1 and count < desire_count:\n",
    "                i = i + 1\n",
    "                ch = s[i]\n",
    "                dic1[ch] = dic1.get(ch,0) + 1\n",
    "                if dic1.get(ch,0) <= dic2.get(ch,0):\n",
    "                    count += 1\n",
    "                    \n",
    "                flag1 = True        \n",
    "            #release\n",
    "            \n",
    "            while j < i and count == desire_count:\n",
    "                pans = s[j+1:i+1]\n",
    "\n",
    "                if len(ans) == 0 or len(pans) < len(ans):\n",
    "                    ans = pans\n",
    "                j += 1\n",
    "                ch = s[j]\n",
    "                if dic1[ch] == 1:\n",
    "                    dic1.pop(ch)\n",
    "                    \n",
    "                else:\n",
    "                    dic1[ch] = dic1[ch] - 1\n",
    "                    \n",
    "                if dic1.get(ch,0) < dic2.get(ch,0):\n",
    "                        count -= 1\n",
    "                        \n",
    "                flag2 = True \n",
    "            \n",
    "            if flag1 == False and flag2 == False:\n",
    "                break\n",
    "\n",
    "        return ans\n",
    "    \n",
    "    \n",
    "s = Solution()\n",
    "st1 = input()\n",
    "st2 = input()\n",
    "ans = s.minWindow(st1,st2)\n",
    "ans"
   ]
  },
  {
   "cell_type": "code",
   "execution_count": 23,
   "metadata": {},
   "outputs": [
    {
     "name": "stdout",
     "output_type": "stream",
     "text": [
      "1 2 4 3 4\n"
     ]
    },
    {
     "data": {
      "text/plain": [
       "4"
      ]
     },
     "execution_count": 23,
     "metadata": {},
     "output_type": "execute_result"
    }
   ],
   "source": [
    "class Solution:\n",
    "    def findDuplicate(self, nums):\n",
    "        n = len(nums)\n",
    "        i = 0\n",
    "        j = n-1\n",
    "        while i < j:\n",
    "            if nums[i] != nums[i+1] and nums[i] != nums[j]:\n",
    "                i += 1\n",
    "            else:\n",
    "                return nums[i]\n",
    "        i = 0\n",
    "        while j > i:\n",
    "            if nums[j] != nums[j-1] and nums[j] != nums[i]:\n",
    "                j -= 1\n",
    "            else:\n",
    "                return nums[j]\n",
    "            \n",
    "s = Solution()\n",
    "nums = [int(i) for i in input().split()]\n",
    "s.findDuplicate(nums)"
   ]
  },
  {
   "cell_type": "code",
   "execution_count": 27,
   "metadata": {},
   "outputs": [
    {
     "name": "stdout",
     "output_type": "stream",
     "text": [
      "2 5 9 6 9 3 8 9 7 1\n"
     ]
    },
    {
     "data": {
      "text/plain": [
       "9"
      ]
     },
     "execution_count": 27,
     "metadata": {},
     "output_type": "execute_result"
    }
   ],
   "source": [
    "class Solution:\n",
    "    def findDuplicate(self, nums):\n",
    "        i = 0\n",
    "        slow = nums[0]\n",
    "        fast = nums[0]\n",
    "        while i == 0:\n",
    "            slow = nums[slow]\n",
    "            fast = nums[nums[fast]]\n",
    "            i += 1\n",
    "            \n",
    "        while fast != slow:\n",
    "            slow = nums[slow]\n",
    "            fast = nums[nums[fast]]\n",
    "            \n",
    "        fast = nums[0]\n",
    "        while fast != slow:\n",
    "            fast = nums[fast]\n",
    "            slow = nums[slow]\n",
    "            \n",
    "        return fast\n",
    "    \n",
    "    \n",
    "s = Solution()\n",
    "nums = [int(i) for i in input().split()]\n",
    "s.findDuplicate(nums)    "
   ]
  },
  {
   "cell_type": "markdown",
   "metadata": {},
   "source": [
    "--->Roman to integer\n",
    "https://leetcode.com/problems/roman-to-integer/\n"
   ]
  },
  {
   "cell_type": "code",
   "execution_count": 19,
   "metadata": {},
   "outputs": [
    {
     "name": "stdout",
     "output_type": "stream",
     "text": [
      "IV\n"
     ]
    },
    {
     "data": {
      "text/plain": [
       "4"
      ]
     },
     "execution_count": 19,
     "metadata": {},
     "output_type": "execute_result"
    }
   ],
   "source": [
    "class Solution:\n",
    "    def romanToInt(self, s):\n",
    "        d ={'I':1 , \"V\":5 , \"X\":10 , \"L\":50 , \"C\":100 , 'D':500 , \"M\":1000}\n",
    "        \n",
    "        prev = 0\n",
    "        ans_integer = 0\n",
    "        for i in range(len(s)):\n",
    "            curr = d[s[i]]\n",
    "            if curr >prev:\n",
    "                ans_integer += curr - 2*prev\n",
    "            else:\n",
    "                ans_integer += curr\n",
    "            prev = curr    \n",
    "                    \n",
    "        return ans_integer\n",
    "    \n",
    "s = Solution()\n",
    "st = input() \n",
    "ans = s.romanToInt(st)\n",
    "ans                    "
   ]
  },
  {
   "cell_type": "markdown",
   "metadata": {},
   "source": [
    "Next permutation --->(https://leetcode.com/problems/next-permutation/submissions/)"
   ]
  },
  {
   "cell_type": "code",
   "execution_count": 9,
   "metadata": {},
   "outputs": [
    {
     "name": "stdout",
     "output_type": "stream",
     "text": [
      "1 3 2 4\n",
      "[1, 3, 4, 2]\n"
     ]
    }
   ],
   "source": [
    "class Solution:\n",
    "    def nextPermutation(self, nums):\n",
    "        index1 = -1\n",
    "        for i in range(len(nums)-1,0,-1):\n",
    "            if nums[i] > nums[i-1]:\n",
    "                index1 = i-1\n",
    "                break\n",
    "        if index1 != -1:\n",
    "            for i in range(len(nums)-1 , index1,-1):\n",
    "                if nums[index1] < nums[i]:\n",
    "                    index2 = i\n",
    "                    break\n",
    "            nums[index1],nums[index2] = nums[index2],nums[index1]  \n",
    "            i = index1+1 \n",
    "            j = len(nums) - 1\n",
    "            while i < j:\n",
    "                nums[i],nums[j] = nums[j],nums[i]    \n",
    "                i += 1\n",
    "                j -= 1\n",
    "        else:\n",
    "            i = 0 \n",
    "            j = len(nums) - 1\n",
    "            while i < j:\n",
    "                nums[i],nums[j] = nums[j],nums[i]    \n",
    "                i += 1\n",
    "                j -= 1            \n",
    "\n",
    "s = Solution()\n",
    "nums = [int(i) for i in input().split()]\n",
    "s.nextPermutation(nums)\n",
    "print(nums)"
   ]
  },
  {
   "cell_type": "code",
   "execution_count": 52,
   "metadata": {},
   "outputs": [
    {
     "name": "stdout",
     "output_type": "stream",
     "text": [
      "2\n",
      "-1\n",
      "4\n",
      "10\n",
      "-1\n",
      "-1\n",
      "8\n",
      "4\n",
      "-1\n",
      "-1\n",
      "-1\n",
      "4\n"
     ]
    }
   ],
   "source": [
    "class binarytree:\n",
    "    def __init__(self,val):\n",
    "        self.val = val\n",
    "        self.left = None\n",
    "        self.right = None\n",
    "def taketreeinput():\n",
    "    rootdata = int(input())\n",
    "    if rootdata == -1:\n",
    "        return None\n",
    "    root = binarytree(rootdata)\n",
    "    leftsubtree = taketreeinput()\n",
    "    rightsubtree =  taketreeinput()\n",
    "    root.left = leftsubtree\n",
    "    root.right = rightsubtree\n",
    "    return root\n",
    "\n",
    "\n",
    "# Definition for a binary tree node.\n",
    "# class TreeNode:\n",
    "#     def __init__(self, val=0, left=None, right=None):\n",
    "#         self.val = val\n",
    "#         self.left = left\n",
    "#         self.right = right\n",
    "class Solution:\n",
    "    \n",
    "    def goodNodesHelper(self,root,value,count):\n",
    "        if root is None:\n",
    "            return count\n",
    "            \n",
    "        if root.val >= value:\n",
    "            value = root.val\n",
    "            count += 1\n",
    "            \n",
    "        count = self.goodNodesHelper(root.left,value,count)\n",
    "        count = self.goodNodesHelper(root.right,value,count)\n",
    "        return count\n",
    "        \n",
    "\n",
    "\n",
    "    def goodNodes(self, root):\n",
    "        goodnodescount = self.goodNodesHelper(root,root.val,0)\n",
    "        return goodnodescount\n",
    "        \n",
    "        \n",
    "s = Solution()\n",
    "root = taketreeinput()\n",
    "ans = s.goodNodes(root)\n",
    "print(ans)"
   ]
  },
  {
   "cell_type": "markdown",
   "metadata": {},
   "source": [
    "Inversion count (Hard) (https://practice.geeksforgeeks.org/problems/inversion-of-array-1587115620/1#)"
   ]
  },
  {
   "cell_type": "code",
   "execution_count": 36,
   "metadata": {},
   "outputs": [
    {
     "name": "stdout",
     "output_type": "stream",
     "text": [
      "4\n",
      "5 2 6 1\n",
      "{5: 1, 6: 1, 2: 2}\n"
     ]
    },
    {
     "data": {
      "text/plain": [
       "[1, 2, 1, 0]"
      ]
     },
     "execution_count": 36,
     "metadata": {},
     "output_type": "execute_result"
    }
   ],
   "source": [
    "class Solution:\n",
    "\n",
    "    \n",
    "    def CalculateInversionCount(self,arr,left,mid,right,temp,ans):\n",
    "        i = left\n",
    "        j = mid\n",
    "        k = left\n",
    "        inv_count = 0\n",
    "        while i < mid and j <= right:\n",
    "            if arr[i] <= arr[j]:\n",
    "                temp[k] = arr[i]\n",
    "                i += 1\n",
    "                k += 1\n",
    "            else:\n",
    "                ans[arr[i]] = ans.get(arr[i],0) + mid - i\n",
    "#                 ans[i] += (mid - i)\n",
    "                temp[k] = arr[j]\n",
    "                j += 1\n",
    "                k += 1\n",
    "                \n",
    "        while i < mid:\n",
    "            temp[k] = arr[i]\n",
    "            i += 1\n",
    "            k += 1  \n",
    "            \n",
    "        while j <= right:\n",
    "            temp[k] = arr[j]\n",
    "            j += 1\n",
    "            k += 1\n",
    "            \n",
    "        for i in range(left,right+1):\n",
    "            arr[i] = temp[i]\n",
    "         \n",
    "        return inv_count\n",
    "    \n",
    "    def merge(self,arr,left,right,temp,ans):\n",
    "        inv_count = 0\n",
    "        if left < right:\n",
    "            mid = (left+right)//2\n",
    "            \n",
    "            self.merge(arr,left,mid,temp,ans)\n",
    "            self.merge(arr,mid + 1 , right,temp,ans)\n",
    "            \n",
    "            self.CalculateInversionCount(arr,left,mid+1,right,temp,ans)\n",
    "        return ans\n",
    "    \n",
    "    def inversionCount(self, arr, n):\n",
    "        copy = arr[::]\n",
    "        temp = n*[0]\n",
    "        ans = {}\n",
    "        ans = self.merge(arr,0,n-1,temp,ans)\n",
    "        print(ans)\n",
    "        for i in range(len(arr)):\n",
    "            temp[i] = ans.get(copy[i],0)\n",
    "        return temp    \n",
    "         \n",
    "s=Solution()\n",
    "n = int(input())\n",
    "arr = [int(i) for i in input().split()]\n",
    "ans = s.inversionCount(arr,n)\n",
    "ans"
   ]
  },
  {
   "cell_type": "code",
   "execution_count": null,
   "metadata": {},
   "outputs": [],
   "source": [
    "Longest Common Prefix(Easy)"
   ]
  },
  {
   "cell_type": "code",
   "execution_count": 22,
   "metadata": {},
   "outputs": [
    {
     "name": "stdout",
     "output_type": "stream",
     "text": [
      "cir car\n"
     ]
    },
    {
     "data": {
      "text/plain": [
       "'cr'"
      ]
     },
     "execution_count": 22,
     "metadata": {},
     "output_type": "execute_result"
    }
   ],
   "source": [
    "import sys \n",
    "class Solution:\n",
    "    def longestCommonPrefix(self, strs):\n",
    "        if len(strs) == 1:\n",
    "            return strs[0]\n",
    "        ans = ''\n",
    "        mini = sys.maxsize\n",
    "        for  i in range(len(strs)):\n",
    "            mini = min(len(strs[i]),mini)\n",
    "        flag = False\n",
    "        for i in range(mini):\n",
    "            val = strs[0][i]\n",
    "            for j in range(1,len(strs)):\n",
    "                if strs[j][i] == val:\n",
    "                    flag = True\n",
    "                else:\n",
    "                    flag =False\n",
    "                    break\n",
    "            if flag:\n",
    "                ans += val\n",
    "            else:\n",
    "                break\n",
    "        return ans        \n",
    "                \n",
    "strs = [i for i in input().split()]               \n",
    "s = Solution()\n",
    "ans = s.longestCommonPrefix(strs)\n",
    "ans"
   ]
  },
  {
   "cell_type": "markdown",
   "metadata": {},
   "source": [
    "Decode Ways(Medium)(1st way to do it)(https://leetcode.com/explore/challenge/card/august-leetcoding-challenge-2021/615/week-3-august-15th-august-21st/3902/)"
   ]
  },
  {
   "cell_type": "code",
   "execution_count": 67,
   "metadata": {},
   "outputs": [
    {
     "name": "stdout",
     "output_type": "stream",
     "text": [
      "11106\n"
     ]
    },
    {
     "data": {
      "text/plain": [
       "2"
      ]
     },
     "execution_count": 67,
     "metadata": {},
     "output_type": "execute_result"
    }
   ],
   "source": [
    "class Solution:\n",
    "\n",
    "    def numDecodings(self, s):\n",
    "        if s[0] == '0':\n",
    "            return 0\n",
    "        dp = [0 for i in range(len(s))]\n",
    "        dp[0] = 1\n",
    "        for i in range(1,len(s)):\n",
    "            if s[i] == '0' and s[i-1] == '0':\n",
    "                dp[i] = 0\n",
    "            \n",
    "            elif s[i] != '0' and s[i-1] == '0':\n",
    "                dp[i] = dp[i-1]\n",
    "            \n",
    "            elif s[i] == '0' and s[i-1] != '0':\n",
    "                if int(s[i-1:i+1]) <= 26:\n",
    "                    if i-2 >= 0:\n",
    "                        dp[i] += dp[i-2]\n",
    "                    else:\n",
    "                        dp[i] += 1\n",
    "                else:\n",
    "                    dp[i] = 0\n",
    "            \n",
    "            else:\n",
    "                if int(s[i-1:i+1]) <= 26:\n",
    "                    if i-2 >= 0:\n",
    "                        dp[i] = dp[i-1] + dp[i-2]\n",
    "                    else:\n",
    "                        dp[i] = dp[i-1]+ 1\n",
    "                else:\n",
    "                    dp[i] = dp[i-1]\n",
    "                    \n",
    "        return dp[-1]          \n",
    "            \n",
    "            \n",
    "s = Solution()\n",
    "st = input()\n",
    "        \n",
    "ans = s.numDecodings(st)\n",
    "ans"
   ]
  },
  {
   "cell_type": "markdown",
   "metadata": {},
   "source": [
    "Decode Ways(Medium)(2nd way to do it)(https://leetcode.com/explore/challenge/card/august-leetcoding-challenge-2021/615/week-3-august-15th-august-21st/3902/)"
   ]
  },
  {
   "cell_type": "code",
   "execution_count": null,
   "metadata": {},
   "outputs": [],
   "source": [
    "class Solution(object):\n",
    "    def numDecodings(self, s):\n",
    "        n = len(s)\n",
    "        dp = [0 for i in range(n)]\n",
    "        if s[0]!='0':\n",
    "            dp[0]=1\n",
    "        for i in range(1,n):\n",
    "            x = int(s[i])\n",
    "            y = int(s[i-1:i+1])\n",
    "            if x>=1 and x<=9:\n",
    "                dp[i]+=dp[i-1]\n",
    "            if y>=10 and y<=26:\n",
    "                if i-2>=0:\n",
    "                    dp[i]+=dp[i-2]\n",
    "                else:\n",
    "                    dp[i]+=1\n",
    "        return dp[-1]"
   ]
  },
  {
   "cell_type": "markdown",
   "metadata": {},
   "source": [
    " Search a 2D Matrix(Medium)"
   ]
  },
  {
   "cell_type": "code",
   "execution_count": 9,
   "metadata": {},
   "outputs": [
    {
     "name": "stdout",
     "output_type": "stream",
     "text": [
      "3\n",
      "22\n",
      "1 3 5 7\n",
      "10 11 16 20 \n",
      "23 30 34 60\n",
      "false\n"
     ]
    }
   ],
   "source": [
    "class Solution:\n",
    "    \n",
    "    def checkBound(self,i,j,k,matrix,target):\n",
    "        if matrix[i][j] <= target and matrix[i][k] >= target:\n",
    "            return True\n",
    "        else:\n",
    "            return False\n",
    "    \n",
    "    def searchMatrix(self, matrix, target):\n",
    "        row = len(matrix)\n",
    "        col = len(matrix[0])\n",
    "        i = 0\n",
    "        j = 0\n",
    "        k = col - 1\n",
    "        while i < row:\n",
    "            if self.checkBound(i,j,k,matrix,target):\n",
    "                for j in range(col):\n",
    "                    if matrix[i][j] == target:\n",
    "                        return True\n",
    "            else:\n",
    "                i += 1\n",
    "                \n",
    "        return False        \n",
    "\n",
    "    \n",
    "s = Solution()\n",
    "matrix = []\n",
    "n = int(input())\n",
    "target = int(input())\n",
    "for i in range(n):\n",
    "    row = [int(i) for i in input().split()]\n",
    "    matrix.append(row)\n",
    "    \n",
    "ans = s.searchMatrix(matrix,target)\n",
    "if ans:\n",
    "    print(\"true\")\n",
    "else:\n",
    "    print(\"false\")"
   ]
  },
  {
   "cell_type": "markdown",
   "metadata": {},
   "source": [
    "valid parantheses(easy)"
   ]
  },
  {
   "cell_type": "code",
   "execution_count": 16,
   "metadata": {},
   "outputs": [
    {
     "name": "stdout",
     "output_type": "stream",
     "text": [
      "{[]}\n",
      "true\n"
     ]
    }
   ],
   "source": [
    "class Solution:\n",
    "    def isValid(self, s):\n",
    "        st = []\n",
    "        for i in s:\n",
    "            if i == '(' or i == '[' or i == '{':\n",
    "                st.append(i)\n",
    "            else:\n",
    "                if len(st) == 0:\n",
    "                    return False\n",
    "                else:\n",
    "                    if i == ')':\n",
    "                        if st.pop() == '(':\n",
    "                            pass\n",
    "                        else:\n",
    "                            return False\n",
    "                    elif i == ']':\n",
    "                        if st.pop() == '[':\n",
    "                            pass\n",
    "                        else:\n",
    "                            return False\n",
    "                    else:\n",
    "                        if st.pop() == '{':\n",
    "                            pass\n",
    "                        else:\n",
    "                            return False\n",
    "        if len(st) == 0:\n",
    "            return True\n",
    "        else:\n",
    "            return False\n",
    "        \n",
    "s = Solution()\n",
    "exp = input()\n",
    "ans = s.isValid(exp)\n",
    "if ans:\n",
    "    print(\"true\")\n",
    "else:\n",
    "    print(\"false\")"
   ]
  },
  {
   "cell_type": "code",
   "execution_count": 45,
   "metadata": {},
   "outputs": [
    {
     "name": "stdout",
     "output_type": "stream",
     "text": [
      "2.00000\n",
      "-2\n"
     ]
    },
    {
     "data": {
      "text/plain": [
       "0.25"
      ]
     },
     "execution_count": 45,
     "metadata": {},
     "output_type": "execute_result"
    }
   ],
   "source": [
    "class Solution:\n",
    "    def myPow(self, x,n):\n",
    "        if n == 0:\n",
    "            return 1\n",
    "        ans = 1\n",
    "        flag = False\n",
    "        if n < 0:\n",
    "            flag = True\n",
    "            n = abs(n)\n",
    "            \n",
    "        while n > 0:\n",
    "            if n % 2 == 0:\n",
    "                x = x*x\n",
    "                n = n//2\n",
    "            else:\n",
    "                ans = ans * x\n",
    "                n = n - 1\n",
    "                \n",
    "        if flag:\n",
    "            ans = 1/ans\n",
    "            return float(ans)\n",
    "        else:\n",
    "            return float(ans)\n",
    "        \n",
    "s = Solution()\n",
    "x = float(input())\n",
    "n = float(input())\n",
    "ans = s.myPow(x,n)\n",
    "ans"
   ]
  },
  {
   "cell_type": "markdown",
   "metadata": {},
   "source": [
    "Moores ALgorithm(Easy)Majority element greater than floor value of n / 2(https://leetcode.com/problems/majority-element/)"
   ]
  },
  {
   "cell_type": "code",
   "execution_count": null,
   "metadata": {},
   "outputs": [],
   "source": [
    "class Solution:\n",
    "    def majorityElement(self, nums):\n",
    "        ans = nums[0]\n",
    "        count = 1\n",
    "        for i in range(1,len(nums)):\n",
    "            if nums[i] == ans:\n",
    "                count += 1\n",
    "            else:\n",
    "                count -= 1\n",
    "            \n",
    "            if count == 0:\n",
    "                ans = nums[i]\n",
    "                count = 1\n",
    "                \n",
    "        return ans"
   ]
  },
  {
   "cell_type": "markdown",
   "metadata": {},
   "source": [
    "Boyer moore algorithm(Medium)(Google)(Majority element 2)(https://leetcode.com/problems/majority-element-ii/)"
   ]
  },
  {
   "cell_type": "code",
   "execution_count": 68,
   "metadata": {},
   "outputs": [
    {
     "name": "stdout",
     "output_type": "stream",
     "text": [
      "1 2 2\n"
     ]
    },
    {
     "data": {
      "text/plain": [
       "[2]"
      ]
     },
     "execution_count": 68,
     "metadata": {},
     "output_type": "execute_result"
    }
   ],
   "source": [
    "import sys\n",
    "class Solution:\n",
    "    def majorityElement(self, nums):\n",
    "        ans1 = -1*sys.maxsize\n",
    "        ans2 = -1*sys.maxsize\n",
    "        count1 = 0\n",
    "        count2 = 0\n",
    "        for i in range(len(nums)):\n",
    "            if nums[i] == ans1:\n",
    "                count1 += 1\n",
    "            elif nums[i] == ans2:\n",
    "                count2 += 1\n",
    "                \n",
    "            elif count1 == 0:\n",
    "                ans1 = nums[i]\n",
    "                count1 = 1\n",
    "            elif count2 == 0:\n",
    "                ans2 = nums[i]\n",
    "                count2 = 1\n",
    "            else:\n",
    "                count1 -= 1\n",
    "                count2 -= 1\n",
    "        ans = []\n",
    "        \n",
    "        #Verification for answer1 that is comes floor(n/3) times in the array\n",
    "        n = len(nums)\n",
    "        count = 0\n",
    "        for i in nums:\n",
    "            if i == ans1:\n",
    "                count += 1\n",
    "        if count > n//3:\n",
    "            ans.append(ans1)\n",
    "            \n",
    "        #Verification for answer2 that is comes floor(n/3) times in the array    \n",
    "        count = 0   \n",
    "        for i in nums:\n",
    "            if i == ans2:\n",
    "                count += 1 \n",
    "                \n",
    "        if count > n//3:\n",
    "            ans.append(ans2)       \n",
    "            \n",
    "        return ans \n",
    "    \n",
    "    \n",
    "s = Solution()    \n",
    "nums = [int(i) for i in input().split()]\n",
    "ans = s.majorityElement(nums)\n",
    "ans"
   ]
  },
  {
   "cell_type": "markdown",
   "metadata": {},
   "source": [
    "Maximum Product of Splitted Binary Tree(Medium)(https://leetcode.com/explore/challenge/card/august-leetcoding-challenge-2021/615/week-3-august-15th-august-21st/3903/)\n",
    "\n",
    "Brute force"
   ]
  },
  {
   "cell_type": "code",
   "execution_count": 70,
   "metadata": {},
   "outputs": [
    {
     "name": "stdout",
     "output_type": "stream",
     "text": [
      "1\n",
      "-1\n",
      "2\n",
      "3\n",
      "-1\n",
      "-1\n",
      "4\n",
      "5\n",
      "-1\n",
      "-1\n",
      "6\n",
      "-1\n",
      "-1\n"
     ]
    },
    {
     "data": {
      "text/plain": [
       "90"
      ]
     },
     "execution_count": 70,
     "metadata": {},
     "output_type": "execute_result"
    }
   ],
   "source": [
    "class binarytree:\n",
    "    def __init__(self,val):\n",
    "        self.val = val\n",
    "        self.left = None\n",
    "        self.right = None\n",
    "def taketreeinput():\n",
    "    rootdata = int(input())\n",
    "    if rootdata == -1:\n",
    "        return None\n",
    "    root = binarytree(rootdata)\n",
    "    leftsubtree = taketreeinput()\n",
    "    rightsubtree =  taketreeinput()\n",
    "    root.left = leftsubtree\n",
    "    root.right = rightsubtree\n",
    "    return root\n",
    "\n",
    "\n",
    "\n",
    "class Solution:\n",
    "    def treesum(self,root):\n",
    "        if root is None:\n",
    "            return 0\n",
    "        \n",
    "        leftsum = self.treesum(root.left)\n",
    "        rightsum = self.treesum(root.right)\n",
    "        return leftsum + rightsum + root.val\n",
    "    \n",
    "    def maxProductHelper(self,root,maximumProduct,mainsum):\n",
    "        if root.left is None and root.right is None:\n",
    "            return maximumProduct\n",
    "        \n",
    "        if root.left is not None and root.right is not None:\n",
    "            leftsums = self.treesum(root.left)\n",
    "            sums = mainsum - leftsums\n",
    "            maximumProduct = max(maximumProduct,leftsums*sums)\n",
    "            leftmax = self.maxProductHelper(root.left,maximumProduct,mainsum)\n",
    "            rightsums = self.treesum(root.right)\n",
    "            sums = mainsum - rightsums\n",
    "            maximumProduct = max(maximumProduct,rightsums*sums)            \n",
    "            rightmax = self.maxProductHelper(root.right,maximumProduct,mainsum)\n",
    "            return max(leftmax,rightmax)\n",
    "        elif root.left is not None:\n",
    "            leftsums = self.treesum(root.left)\n",
    "            sums = mainsum - leftsums\n",
    "            maximumProduct = max(maximumProduct,leftsums*sums)\n",
    "            leftmax = self.maxProductHelper(root.left,maximumProduct,mainsum)\n",
    "            return leftmax\n",
    "        else:\n",
    "            rightsums = self.treesum(root.right)\n",
    "            sums = mainsum - rightsums\n",
    "            maximumProduct = max(maximumProduct,rightsums*sums)            \n",
    "            rightmax = self.maxProductHelper(root.right,maximumProduct,mainsum)            \n",
    "            return rightmax\n",
    "            \n",
    "    def maxProduct(self, root):\n",
    "        maximumProduct = -99999\n",
    "        mainsum = self.treesum(root)\n",
    "        ans = self.maxProductHelper(root,maximumProduct,mainsum)\n",
    "        return ans % (10**9 + 7)\n",
    "    \n",
    "    \n",
    "s = Solution()\n",
    "root = taketreeinput()\n",
    "ans = s.maxProduct(root)\n",
    "ans"
   ]
  },
  {
   "cell_type": "markdown",
   "metadata": {},
   "source": [
    "#Optimal approach"
   ]
  },
  {
   "cell_type": "code",
   "execution_count": 99,
   "metadata": {},
   "outputs": [
    {
     "name": "stdout",
     "output_type": "stream",
     "text": [
      "1\n",
      "2\n",
      "4\n",
      "-1\n",
      "-1\n",
      "5\n",
      "-1\n",
      "-1\n",
      "3\n",
      "6\n",
      "-1\n",
      "-1\n",
      "-1\n"
     ]
    },
    {
     "data": {
      "text/plain": [
       "110"
      ]
     },
     "execution_count": 99,
     "metadata": {},
     "output_type": "execute_result"
    }
   ],
   "source": [
    "class binarytree:\n",
    "    def __init__(self,val):\n",
    "        self.val = val\n",
    "        self.left = None\n",
    "        self.right = None\n",
    "def taketreeinput():\n",
    "    rootdata = int(input())\n",
    "    if rootdata == -1:\n",
    "        return None\n",
    "    root = binarytree(rootdata)\n",
    "    leftsubtree = taketreeinput()\n",
    "    rightsubtree =  taketreeinput()\n",
    "    root.left = leftsubtree\n",
    "    root.right = rightsubtree\n",
    "    return root\n",
    "\n",
    "\n",
    "\n",
    "class Solution:\n",
    "    def treesum(self,root):\n",
    "        if root is None:\n",
    "            return 0\n",
    "        \n",
    "        leftsum = self.treesum(root.left)\n",
    "        rightsum = self.treesum(root.right)\n",
    "        return leftsum + rightsum + root.val\n",
    "    \n",
    "    def maxProductHelper(self,root,maximumProduct,mainsum):\n",
    "        if root is  None:\n",
    "            return 0,maximumProduct\n",
    "        \n",
    "        leftsum,maximumProduct = self.maxProductHelper(root.left,maximumProduct,mainsum)\n",
    "        rightsum,maximumProduct = self.maxProductHelper(root.right,maximumProduct,mainsum)\n",
    "        up = mainsum - leftsum-rightsum - root.val\n",
    "        \n",
    "        option1 = leftsum*(root.val+rightsum+up)\n",
    "        option2 = rightsum*(root.val+leftsum+up)\n",
    "        option3 = up*(root.val+rightsum+leftsum)\n",
    "        maximumProduct = max(maximumProduct,option1,option2,option3)\n",
    "        return leftsum + rightsum + root.val , maximumProduct\n",
    "        \n",
    "        maximumProduct = max()\n",
    "    def maxProduct(self, root):\n",
    "        maximumProduct = -99999\n",
    "        mainsum = self.treesum(root)\n",
    "        sums,maximumProduct = self.maxProductHelper(root,maximumProduct,mainsum)\n",
    "        return maximumProduct \n",
    "    \n",
    "s = Solution()\n",
    "root = taketreeinput()\n",
    "ans = s.maxProduct(root)\n",
    "ans"
   ]
  },
  {
   "cell_type": "markdown",
   "metadata": {},
   "source": [
    " Unique Paths(Medium)(https://leetcode.com/problems/unique-paths/)"
   ]
  },
  {
   "cell_type": "code",
   "execution_count": 21,
   "metadata": {},
   "outputs": [
    {
     "name": "stdout",
     "output_type": "stream",
     "text": [
      "3\n",
      "7\n"
     ]
    },
    {
     "data": {
      "text/plain": [
       "28"
      ]
     },
     "execution_count": 21,
     "metadata": {},
     "output_type": "execute_result"
    }
   ],
   "source": [
    "#time complexity = exponential and space complexity is exponenetial because we use recursion stack\n",
    "\n",
    "class Solution:\n",
    "    \n",
    "    def uniquePathsHelper(self,i,j,m,n):\n",
    "        if i == m-1 and j == n-1:\n",
    "            return 1\n",
    "        \n",
    "        if j >= n or i >= m:\n",
    "            return 0\n",
    "        \n",
    "        right = self.uniquePathsHelper(i,j+1,m,n)\n",
    "        down = self.uniquePathsHelper(i+1,j,m,n)\n",
    "        return right + down\n",
    "    \n",
    "    def uniquePaths(self, m,n):\n",
    "        return self.uniquePathsHelper(0,0,m,n)\n",
    "  \n",
    "m = int(input())\n",
    "n = int(input())\n",
    "s = Solution()\n",
    "ans = s.uniquePaths(m,n)\n",
    "ans"
   ]
  },
  {
   "cell_type": "code",
   "execution_count": 32,
   "metadata": {},
   "outputs": [
    {
     "name": "stdout",
     "output_type": "stream",
     "text": [
      "3\n",
      "3\n"
     ]
    },
    {
     "data": {
      "text/plain": [
       "6"
      ]
     },
     "execution_count": 32,
     "metadata": {},
     "output_type": "execute_result"
    }
   ],
   "source": [
    "##time complexity = O(n*m) and space complexity is O(n*m)\n",
    "class Solution:\n",
    "    \n",
    "    def uniquePathsHelper(self,i,j,m,n,dp):\n",
    "        if i == m-1 and j == n-1:\n",
    "            return 1\n",
    "        if i >=m or j>=n:\n",
    "            return 0\n",
    "        \n",
    "        if dp[i][j] == -1:\n",
    "            dp[i][j] = self.uniquePathsHelper(i+1,j,m,n,dp) + self.uniquePathsHelper(i,j+1,m,n,dp)\n",
    "            return dp[i][j]\n",
    "        else:\n",
    "            return dp[i][j]\n",
    "    \n",
    "    def uniquePaths(self, m,n):\n",
    "        dp = [[-1 for j in range(n+1)]for i in range(m+1)]\n",
    "        return self.uniquePathsHelper(0,0,m,n,dp)\n",
    "  \n",
    "m = int(input())\n",
    "n = int(input())\n",
    "s = Solution()\n",
    "ans = s.uniquePaths(m,n)\n",
    "ans"
   ]
  },
  {
   "cell_type": "code",
   "execution_count": 37,
   "metadata": {},
   "outputs": [
    {
     "name": "stdout",
     "output_type": "stream",
     "text": [
      "3\n",
      "3\n"
     ]
    },
    {
     "data": {
      "text/plain": [
       "6"
      ]
     },
     "execution_count": 37,
     "metadata": {},
     "output_type": "execute_result"
    }
   ],
   "source": [
    "#Time complexity is O(m-1) or O(n-1) which is small in m and n\n",
    "#Space complexity is O(1)\n",
    "class Solution:\n",
    "\n",
    "    def uniquePaths(self, m,n):\n",
    "        N = n+m-2\n",
    "        r = min(m,n)\n",
    "        r = r-1\n",
    "        ans = 1\n",
    "        for i in range(1,r+1):\n",
    "            ans = ans * (N-r+i)/i\n",
    "        return int(ans)\n",
    "s = Solution()\n",
    "m = int(input())\n",
    "n = int(input())  \n",
    "ans = s.uniquePaths(m,n)\n",
    "ans"
   ]
  },
  {
   "cell_type": "markdown",
   "metadata": {},
   "source": [
    ". Implement strStr(Easy)"
   ]
  },
  {
   "cell_type": "code",
   "execution_count": 60,
   "metadata": {},
   "outputs": [
    {
     "name": "stdout",
     "output_type": "stream",
     "text": [
      "helolo\n",
      "ll\n"
     ]
    },
    {
     "data": {
      "text/plain": [
       "-1"
      ]
     },
     "execution_count": 60,
     "metadata": {},
     "output_type": "execute_result"
    }
   ],
   "source": [
    "class Solution:\n",
    "    def strStr(self, haystack, needle):\n",
    "        if haystack == needle:\n",
    "            return 0\n",
    "        if len(needle) == 0 or len(haystack) < len(needle):\n",
    "            return -1\n",
    "        i = 0\n",
    "        j = 0\n",
    "        while i < len(haystack) :\n",
    "            if haystack[i] == needle[j]:\n",
    "                if haystack[i:i+len(needle)] == needle:\n",
    "                    return i\n",
    "                else:\n",
    "                    i += 1\n",
    "            else:\n",
    "                i += 1\n",
    "                \n",
    "        return -1\n",
    "    \n",
    "haystack = input()    \n",
    "needle = input()\n",
    "s=Solution()\n",
    "ans = s.strStr(haystack,needle)\n",
    "ans"
   ]
  },
  {
   "cell_type": "markdown",
   "metadata": {},
   "source": [
    " Add Two Numbers(Medium)(https://leetcode.com/problems/add-two-numbers/)"
   ]
  },
  {
   "cell_type": "code",
   "execution_count": 19,
   "metadata": {},
   "outputs": [
    {
     "name": "stdout",
     "output_type": "stream",
     "text": [
      "2 4 9\n",
      "5 6 4 9\n",
      "7->0->4->0->1->None\n"
     ]
    }
   ],
   "source": [
    "#Time complexity = O(len(largest linked list))\n",
    "#Space complexity = O(len(largest linked list)+1)\n",
    "\n",
    "# Definition for singly-linked list.\n",
    "# class ListNode:\n",
    "#     def __init__(self, val=0, next=None):\n",
    "#         self.val = val\n",
    "#         self.next = next\n",
    "\n",
    "class ListNode:\n",
    "    def __init__(self,val):\n",
    "        self.val = val\n",
    "        self.next = None\n",
    "\n",
    "def TakeNodeInput():\n",
    "    NodeArray=[int(x) for x in input().split()]\n",
    "    head=None\n",
    "    tail =None\n",
    "    for ele in NodeArray:\n",
    "        if ele == -1:\n",
    "            break\n",
    "        NewNode=ListNode(ele) \n",
    "        if head==None:\n",
    "            head=NewNode\n",
    "            tail=head\n",
    "        else:\n",
    "            tail.next = NewNode\n",
    "            tail=tail.next\n",
    "    return head\n",
    "\n",
    "def PrintLL(head):\n",
    "    while head!=None:\n",
    "        print(str(head.val) + '->',end='')\n",
    "        head=head.next\n",
    "    print(\"None\")   \n",
    "    return\n",
    "\n",
    "class Solution:\n",
    "    def addTwoNumbers(self, l1 , l2):\n",
    "        carry = 0\n",
    "        curr1 = l1\n",
    "        curr2 = l2\n",
    "        head = None\n",
    "        tail = None\n",
    "        while curr1 is not None and curr2 is not None:\n",
    "            sums = curr1.val + curr2.val + carry\n",
    "            carry = 0\n",
    "            if sums > 9:\n",
    "                carry = sums //10 \n",
    "            addedpart = sums % 10\n",
    "            if head is None:\n",
    "                head = ListNode(addedpart)\n",
    "                tail = head\n",
    "            else:\n",
    "                tail.next = ListNode(addedpart)\n",
    "                tail = tail.next\n",
    "            \n",
    "            curr1 = curr1.next\n",
    "            curr2 = curr2.next\n",
    "            \n",
    "        while curr1 is not None:\n",
    "            sums = curr1.val + carry\n",
    "            carry = 0\n",
    "            if sums > 9:\n",
    "                carry = sums // 10\n",
    "               \n",
    "            addedpart = sums % 10\n",
    "            if head is None:\n",
    "                head = ListNode(addedpart)\n",
    "                tail = head\n",
    "            else:\n",
    "                tail.next = ListNode(addedpart)\n",
    "                tail = tail.next\n",
    "            \n",
    "            curr1 = curr1.next\n",
    "            \n",
    "            \n",
    "        while curr2 is not None:\n",
    "            sums = curr2.val + carry\n",
    "            carry = 0\n",
    "            if sums > 9:\n",
    "                carry = sums // 10\n",
    "            addedpart = sums % 10    \n",
    "            if head is None:\n",
    "                head = ListNode(addedpart)\n",
    "                tail = head\n",
    "            else:\n",
    "                tail.next = ListNode(addedpart)\n",
    "                tail = tail.next\n",
    "            \n",
    "            curr2 = curr2.next \n",
    "        \n",
    "        while carry != 0:    \n",
    "            tail.next = ListNode(carry%10) \n",
    "            tail = tail.next        \n",
    "            carry = carry//10\n",
    "        return head\n",
    "    \n",
    "    \n",
    "l1 = TakeNodeInput()\n",
    "l2 = TakeNodeInput()\n",
    "s = Solution()\n",
    "ans = s.addTwoNumbers(l1,l2)\n",
    "PrintLL(ans)"
   ]
  },
  {
   "cell_type": "markdown",
   "metadata": {},
   "source": [
    "IsPalindrome (Easy)"
   ]
  },
  {
   "cell_type": "code",
   "execution_count": 26,
   "metadata": {},
   "outputs": [
    {
     "name": "stdout",
     "output_type": "stream",
     "text": [
      "001100\n",
      "false\n"
     ]
    }
   ],
   "source": [
    "class Solution:\n",
    "    def isPalindrome(self, x):\n",
    "        if x == 0:\n",
    "            return True\n",
    "        \n",
    "        if x < 0:\n",
    "            return False\n",
    "        ne = x\n",
    "        rev = 0\n",
    "        while ne != 0:\n",
    "            md = ne%10\n",
    "            rev = rev *10 + md\n",
    "            ne = ne // 10\n",
    "            \n",
    "        if x == rev:\n",
    "            return True \n",
    "        else:\n",
    "            return False\n",
    "        \n",
    "        \n",
    "x = int(input())        \n",
    "s = Solution()\n",
    "ans = s.isPalindrome(x)\n",
    "if ans:\n",
    "    print(\"true\")\n",
    "else:\n",
    "    print(\"false\")"
   ]
  },
  {
   "cell_type": "markdown",
   "metadata": {},
   "source": [
    "Longest Substring Without Repeating Characters(Medium)(https://leetcode.com/problems/longest-substring-without-repeating-characters/)"
   ]
  },
  {
   "cell_type": "code",
   "execution_count": 40,
   "metadata": {},
   "outputs": [
    {
     "name": "stdout",
     "output_type": "stream",
     "text": [
      "abcabcbb\n"
     ]
    },
    {
     "data": {
      "text/plain": [
       "3"
      ]
     },
     "execution_count": 40,
     "metadata": {},
     "output_type": "execute_result"
    }
   ],
   "source": [
    "# #Time complexity O(n^2)\n",
    "# #Space complexity O(n)\n",
    "# class Solution:\n",
    "#     def lengthOfLongestSubstring(self, s):\n",
    "#         ans = ''\n",
    "#         cache = ''\n",
    "#         flag = 1\n",
    "#         i = 0\n",
    "#         while i < len(s):\n",
    "#             if s[i] not in cache:\n",
    "#                 cache += s[i]\n",
    "#                 i += 1\n",
    "#             else:\n",
    "#                 i = flag\n",
    "#                 flag += 1\n",
    "#                 cache = ''\n",
    "                \n",
    "                \n",
    "#             if len(cache) > len(ans):\n",
    "#                 ans = cache\n",
    "#         return len(ans)\n",
    "    \n",
    "    \n",
    "# st = input()    \n",
    "# s = Solution()\n",
    "# ans = s.lengthOfLongestSubstring(st)\n",
    "# ans"
   ]
  },
  {
   "cell_type": "code",
   "execution_count": 50,
   "metadata": {},
   "outputs": [
    {
     "name": "stdout",
     "output_type": "stream",
     "text": [
      "pwwkew\n"
     ]
    },
    {
     "data": {
      "text/plain": [
       "3"
      ]
     },
     "execution_count": 50,
     "metadata": {},
     "output_type": "execute_result"
    }
   ],
   "source": [
    "#Time complexity is O(n^2)\n",
    "#Space complexity is O(n)\n",
    "\n",
    "class Solution:\n",
    "    def lengthOfLongestSubstring(self, s):\n",
    "        ans = 0\n",
    "        i = 0\n",
    "        cache = ''\n",
    "        while i < len(s) - 1:\n",
    "            j = i+1\n",
    "            while j < len(s):\n",
    "                if s[i] != s[j] and s[j] != s[j-1] and s[j] not in cache:\n",
    "                    cache += s[j]\n",
    "                    ans = max(ans,j-i+1)\n",
    "                    if j == len(s) - 1:\n",
    "                        return ans\n",
    "                    else:\n",
    "                        j += 1\n",
    "                else:\n",
    "                    cache = ''\n",
    "                    i += 1\n",
    "                    break\n",
    "        if ans <=0:\n",
    "            if len(s) > 0:\n",
    "                return 1\n",
    "            \n",
    "        return ans\n",
    "    \n",
    "    \n",
    "st = input()    \n",
    "s = Solution()\n",
    "ans = s.lengthOfLongestSubstring(st)\n",
    "ans    "
   ]
  },
  {
   "cell_type": "code",
   "execution_count": 7,
   "metadata": {},
   "outputs": [
    {
     "name": "stdout",
     "output_type": "stream",
     "text": [
      "bbbbb\n"
     ]
    },
    {
     "data": {
      "text/plain": [
       "1"
      ]
     },
     "execution_count": 7,
     "metadata": {},
     "output_type": "execute_result"
    }
   ],
   "source": [
    "#Time complexity is O(n)\n",
    "#Space complexity is O(N)\n",
    "#Approach -->Sliding window or acquire and release approach using Hashmaps\n",
    "class Solution:\n",
    "    def lengthOfLongestSubstring(self, s):\n",
    "        ans = 0\n",
    "        dic = {}\n",
    "        i = 0\n",
    "        j = 0\n",
    "        while i < len(s):\n",
    "            if s[i] not in dic:\n",
    "                ans = max(ans , i-j+1)\n",
    "                dic[s[i]] = i\n",
    "                i += 1\n",
    "            else:\n",
    "                if dic[s[i]] >= j:\n",
    "                    j = dic[s[i]] + 1\n",
    "                    dic[s[i]] = i\n",
    "                    i += 1\n",
    "                else:\n",
    "                    ans = max(ans,i-j+1)\n",
    "                    dic[s[i]] = i\n",
    "                    i += 1\n",
    "        return ans\n",
    "    \n",
    "    \n",
    "    \n",
    "st = input()    \n",
    "s = Solution()\n",
    "ans = s.lengthOfLongestSubstring(st)\n",
    "ans        "
   ]
  },
  {
   "cell_type": "code",
   "execution_count": null,
   "metadata": {},
   "outputs": [],
   "source": [
    "def isSafeopt(board,row,col,opt):\n",
    "    #Check for box\n",
    "    i = row - (row % 3)\n",
    "    j = col - (col % 3)\n",
    "    for k in range(i,i+3):\n",
    "        for l in range(j,j+3):\n",
    "            if board[k][l] == opt:\n",
    "                return False\n",
    "\n",
    "    #Check for row\n",
    "    for j in range(9):\n",
    "        if board[row][j] == opt:\n",
    "            return False\n",
    "        \n",
    "    #Check for column\n",
    "    for i in range(9):\n",
    "        if board[i][col] == opt:\n",
    "            return False\n",
    "        \n",
    "    return True    \n",
    "\n",
    "def solveSudokuHelper(board,x,j):\n",
    "    if x == 8 and j == 9 :\n",
    "        for i in range(9):\n",
    "            for j in range(9):\n",
    "                print(board[i][j],end=' ')\n",
    "            print()\n",
    "        return True    \n",
    "    \n",
    "    if j == 9:\n",
    "        return solveSudokuHelper(board,x+1,0)\n",
    "\n",
    "    if board[x][j] != '.':\n",
    "        return solveSudokuHelper(board,x,j+1)\n",
    "    else:\n",
    "        for option in range(1,10):\n",
    "            if isSafeopt(board,x,j,option):\n",
    "                board[x][j] = option\n",
    "                if solveSudokuHelper(board,x,j+1):\n",
    "                    return True\n",
    "                else:\n",
    "                    \n",
    "                    board[x][j] = 0\n",
    "                     \n",
    "        return False        \n",
    "\n",
    "\n",
    "def solveSudoku(board):\n",
    "    solveSudokuHelper(board,0,0)\n",
    "    return board\n",
    "\n",
    "\n",
    "board = [[ int(ele) for ele in input().split() ]for i in range(9)]\n",
    "ans = solveSudoku(board)\n",
    "if ans is True:\n",
    "    print('true')\n",
    "else:\n",
    "    print('false')"
   ]
  },
  {
   "cell_type": "code",
   "execution_count": null,
   "metadata": {},
   "outputs": [],
   "source": [
    "class Solution:\n",
    "    def isSafeopt(self,board,row,col,opt):\n",
    "        #Check for box\n",
    "        i = row - (row % 3)\n",
    "        j = col - (col % 3)\n",
    "        for k in range(i,i+3):\n",
    "            for l in range(j,j+3):\n",
    "                if board[k][l] == str(opt):\n",
    "                    return False\n",
    "\n",
    "        #Check for row\n",
    "        for j in range(9):\n",
    "            if board[row][j] == str(opt):\n",
    "                return False\n",
    "\n",
    "        #Check for column\n",
    "        for i in range(9):\n",
    "            if board[i][col] == str(opt):\n",
    "                return False\n",
    "\n",
    "        return True     \n",
    "\n",
    "    \n",
    "    \n",
    "    def solveSudokuHelper(self,board,x,j):\n",
    "        if x == '8' and j == '9' :\n",
    "#             for i in range(9):\n",
    "#                 for j in range(9):\n",
    "#                     print(board[i][j],end=' ')\n",
    "#                 print()\n",
    "            return True    \n",
    "\n",
    "        if j == '9':\n",
    "            return self.solveSudokuHelper(board,x+1,0)\n",
    "\n",
    "        if board[x][j] != '.':\n",
    "            return self.solveSudokuHelper(board,x,j+1)\n",
    "        else:\n",
    "            for option in range(1,10):\n",
    "                if self.isSafeopt(board,x,j,option):\n",
    "                    board[x][j] = str(option)\n",
    "                    if self.solveSudokuHelper(board,x,j+1):\n",
    "                        return True\n",
    "                    else:\n",
    "\n",
    "                        board[x][j] = '.'\n",
    "\n",
    "            return False        \n",
    "    \n",
    "    \n",
    "    \n",
    "    \n",
    "    \n",
    "    def solveSudoku(self, board):\n",
    "        \"\"\"\n",
    "        Do not return anything, modify board in-place instead.\n",
    "        \"\"\"\n",
    "        self.solveSudokuHelper(board,0,0)\n"
   ]
  },
  {
   "cell_type": "markdown",
   "metadata": {},
   "source": [
    "isPalindrome(Easy)"
   ]
  },
  {
   "cell_type": "code",
   "execution_count": 27,
   "metadata": {},
   "outputs": [
    {
     "name": "stdout",
     "output_type": "stream",
     "text": [
      "race a car\n"
     ]
    },
    {
     "data": {
      "text/plain": [
       "False"
      ]
     },
     "execution_count": 27,
     "metadata": {},
     "output_type": "execute_result"
    }
   ],
   "source": [
    "class Solution:\n",
    "    def isPalindrome(self, s):\n",
    "        validstring = ''\n",
    "        s = s.lower()\n",
    "        for i in s:\n",
    "            if ord(i) >= 97 and ord(i) <= 122 or ord(i) >=48 and ord(i) <= 57:\n",
    "                validstring += i\n",
    "                \n",
    "        if validstring == validstring[::-1]:\n",
    "            return True\n",
    "        else:\n",
    "            return False\n",
    "        \n",
    "s = Solution()\n",
    "st = input()\n",
    "s.isPalindrome(st)"
   ]
  },
  {
   "cell_type": "code",
   "execution_count": 36,
   "metadata": {},
   "outputs": [
    {
     "name": "stdout",
     "output_type": "stream",
     "text": [
      "abc\n"
     ]
    },
    {
     "data": {
      "text/plain": [
       "False"
      ]
     },
     "execution_count": 36,
     "metadata": {},
     "output_type": "execute_result"
    }
   ],
   "source": [
    "# class Solution:\n",
    "#     def validPalindrome(self, s):\n",
    "#         if s == s[::-1]:\n",
    "#             return True\n",
    "        \n",
    "#         for i in range(len(s)):\n",
    "#             temp = s[0:i]+s[i+1:]\n",
    "#             if temp == temp[::-1]:\n",
    "#                 return True\n",
    "            \n",
    "            \n",
    "#         return False    \n",
    "    \n",
    "# s = Solution()\n",
    "# st = input()\n",
    "# s.validPalindrome(st)    "
   ]
  },
  {
   "cell_type": "code",
   "execution_count": 55,
   "metadata": {},
   "outputs": [
    {
     "name": "stdout",
     "output_type": "stream",
     "text": [
      "ebcbbececabbacecbbcbe\n"
     ]
    },
    {
     "data": {
      "text/plain": [
       "True"
      ]
     },
     "execution_count": 55,
     "metadata": {},
     "output_type": "execute_result"
    }
   ],
   "source": [
    "class Solution:\n",
    "    \n",
    "    def isvalid(self,s,i,j):\n",
    "        while i < j:\n",
    "            if s[i]!=s[j]:\n",
    "                return False\n",
    "            i += 1\n",
    "            j -= 1\n",
    "        return True    \n",
    "    \n",
    "    def validPalindrome(self,s):\n",
    "        i = 0\n",
    "        j = len(s) - 1\n",
    "\n",
    "        while i < j:\n",
    "            if s[i] == s[j]:\n",
    "                i += 1\n",
    "                j -= 1\n",
    "            else:\n",
    "                return self.isvalid(s,i+1,j) or self.isvalid(s,i,j-1)\n",
    "            \n",
    "        return True\n",
    "    \n",
    "s = Solution()\n",
    "st = input()\n",
    "s.validPalindrome(st)    "
   ]
  },
  {
   "cell_type": "markdown",
   "metadata": {},
   "source": [
    "Palindrome Linkedlist"
   ]
  },
  {
   "cell_type": "code",
   "execution_count": 69,
   "metadata": {},
   "outputs": [
    {
     "name": "stdout",
     "output_type": "stream",
     "text": [
      "1 2 3\n"
     ]
    },
    {
     "data": {
      "text/plain": [
       "False"
      ]
     },
     "execution_count": 69,
     "metadata": {},
     "output_type": "execute_result"
    }
   ],
   "source": [
    "# Definition for singly-linked list.\n",
    "# class ListNode:\n",
    "#     def __init__(self, val=0, next=None):\n",
    "#         self.val = val\n",
    "#         self.next = next\n",
    "\n",
    "class ListNode:\n",
    "    def __init__(self,val):\n",
    "        self.val = val\n",
    "        self.next = None\n",
    "\n",
    "def TakeNodeInput():\n",
    "    NodeArray=[int(x) for x in input().split()]\n",
    "    head=None\n",
    "    tail =None\n",
    "    for ele in NodeArray:\n",
    "        if ele == -1:\n",
    "            break\n",
    "        NewNode=ListNode(ele) \n",
    "        if head==None:\n",
    "            head=NewNode\n",
    "            tail=head\n",
    "        else:\n",
    "            tail.next = NewNode\n",
    "            tail=tail.next\n",
    "    return head\n",
    "\n",
    "def PrintLL(head):\n",
    "    while head!=None:\n",
    "        print(str(head.val) + '->',end='')\n",
    "        head=head.next\n",
    "    print(\"None\")   \n",
    "    return\n",
    "\n",
    "class Solution:\n",
    "    \n",
    "    def reverse(self,head):\n",
    "        prev = None\n",
    "        curr = head\n",
    "        \n",
    "        while curr.next is not None:\n",
    "            temp = curr.next\n",
    "            curr.next = prev\n",
    "            prev = curr\n",
    "            curr = temp\n",
    "            \n",
    "        curr.next = prev\n",
    "        return curr\n",
    "    \n",
    "    def isPalindrome(self, head):\n",
    "        if head.next is None:\n",
    "            return True\n",
    "        fast = head\n",
    "        slow = head\n",
    "        \n",
    "        while fast.next is not None and fast.next.next is not None:\n",
    "            slow = slow.next\n",
    "            fast = fast.next.next\n",
    "            \n",
    "        head2 = slow.next\n",
    "        slow.next = None\n",
    "        \n",
    "        head2 = self.reverse(head2)\n",
    "        curr1 = head \n",
    "        curr2 = head2\n",
    "        \n",
    "        while curr1 is not None and curr2 is not None:\n",
    "            if curr1.val != curr2.val:\n",
    "                return False\n",
    "            curr1 = curr1.next\n",
    "            curr2 = curr2.next\n",
    "            \n",
    "        return True \n",
    "    \n",
    "    \n",
    "head = TakeNodeInput()\n",
    "s = Solution()\n",
    "s.isPalindrome(head)"
   ]
  },
  {
   "cell_type": "code",
   "execution_count": 27,
   "metadata": {},
   "outputs": [
    {
     "name": "stdout",
     "output_type": "stream",
     "text": [
      "dqmvxouqesajlmksdawfenyaqtnnfhmqbdcniynwhuywucbjzqxhofdzvposbegkvqqrdehxzgikgtibimupumaetjknrjjuygxvncvjlahdbibatmlobctclgbmihiphshfpymgtmpeneldeygmzlpkwzouvwvqkunihmzzzrqodtepgtnljribmqneumbzusgppodmqdvxjhqwqcztcuoqlqenvuuvgxljcnwqfnvilgqrkibuehactsxphxkiwnubszjflvvuhyfwmkgkmlhmvhygncrtcttioxndbszxsyettklotadmudcybhamlcjhjpsmfvvchduxjngoajclmkxiugdtryzinivuuwlkejcgrscldgmwujfygqrximksecmfzathdytauogffxcmfjsczaxnfzvqmylujfevjwuwwaqwtcllrilyncmkjdztleictdebpkzcdilgdmzmvcllnmuwpqxqjmyoageisiaeknbwzxxezfbfejdfausfproowsyyberhiznfmrtzqtgjkyhutieyqgrzlcfvfvxawbcdaawbeqmzjrnbidnzuxfwnfiqspjtrszetubnjbznnjfjxfwtzhzejahravwmkakqsmuynklmeffangwicghckrcjwtusfpdyxxqqmfcxeurnsrmqyameuvouqspahkvouhsjqvimznbkvmtqqzpqzyqivsmznnyoauezmrgvproomvqiuzjolejptuwbdzwalfcmweqqmvdhejguwlmvkaydjrjkijtrkdezbipxoccicygmmibflxdeoxvudzeobyyrutbcydusjhmlwnfncahxgswxiupgxgvktwkdxumqp\n"
     ]
    },
    {
     "data": {
      "text/plain": [
       "'mupum'"
      ]
     },
     "execution_count": 27,
     "metadata": {},
     "output_type": "execute_result"
    }
   ],
   "source": [
    "# class Solution:\n",
    "#     def longestPalindrome(self, st):\n",
    "#         n = len(st)\n",
    "#         dp = [[0 for i in range(len(st))] for j in range(len(st))]\n",
    "#         ans = ''\n",
    "#         anslen = 1\n",
    "#         i = 0\n",
    "#         while (i < n) :\n",
    "#             dp[i][i] = 1\n",
    "#             ans = st[i]\n",
    "            \n",
    "#             i = i + 1   \n",
    "            \n",
    "\n",
    "#         i = 0\n",
    "#         while i < n - 1 :\n",
    "#             if (st[i] == st[i + 1]) :\n",
    "#                 dp[i][i + 1] = 1\n",
    "#                 anslen = 2\n",
    "#                 ans = st[i:i+1+1]\n",
    "                \n",
    "#             i = i + 1    \n",
    "\n",
    "#         k = 3\n",
    "#         while k <= n :\n",
    "#             # Fix the starting index\n",
    "#             i = 0 \n",
    "#             while i < (n - k + 1) :\n",
    "#                 j = i + k - 1 #2\n",
    "#                 if (dp[i + 1][j - 1] == 1 and st[i] == st[j]) :\n",
    "#                     dp[i][j] = 1\n",
    "#                     if k > anslen:\n",
    "#                         anslen = k\n",
    "#                         ans = st[i:j+1] \n",
    "#                 else:\n",
    "#                     dp[i][j] = 0\n",
    "#                 i = i + 1\n",
    "#             k = k + 1                                \n",
    "    \n",
    "            \n",
    "#         return ans    \n",
    "    \n",
    "# st = input()\n",
    "# s = Solution()\n",
    "# ans = s.longestPalindrome(st)\n",
    "# ans\n"
   ]
  },
  {
   "cell_type": "code",
   "execution_count": 39,
   "metadata": {},
   "outputs": [
    {
     "name": "stdout",
     "output_type": "stream",
     "text": [
      "aba\n"
     ]
    },
    {
     "data": {
      "text/plain": [
       "'aba'"
      ]
     },
     "execution_count": 39,
     "metadata": {},
     "output_type": "execute_result"
    }
   ],
   "source": [
    "class Solution:\n",
    "    def longestPalindrome(self, s):\n",
    "        res = ''\n",
    "        for i in range(len(s)):\n",
    "            \n",
    "            even = self.helper(s,i,i+1)\n",
    "            odd = self.helper(s,i,i)      \n",
    "            \n",
    "            res =  max(res,odd,even,key=len)\n",
    "            \n",
    "        return res    \n",
    "        \n",
    "    def helper(self,s,l,r):\n",
    "        while l >=0 and r < len(s) and s[l] == s[r]:\n",
    "            l -=1 \n",
    "            r+= 1\n",
    "        return s[l+1:r] \n",
    "    \n",
    "st = input()\n",
    "s = Solution()\n",
    "ans = s.longestPalindrome(st)\n",
    "ans"
   ]
  },
  {
   "cell_type": "markdown",
   "metadata": {},
   "source": [
    "Two Sum IV - Input is a BST(Easy)(https://leetcode.com/explore/challenge/card/august-leetcoding-challenge-2021/616/week-4-august-22nd-august-28th/3908/)"
   ]
  },
  {
   "cell_type": "code",
   "execution_count": 35,
   "metadata": {},
   "outputs": [
    {
     "name": "stdout",
     "output_type": "stream",
     "text": [
      "Enter root node: \n",
      "0\n",
      "Enter left child of  0\n",
      "-1\n",
      "Enter right child of  0\n",
      "2\n",
      "Enter left child of  -1\n",
      "-1\n",
      "Enter right child of  -1\n",
      "-9\n",
      "Enter left child of  2\n",
      "-9\n",
      "Enter right child of  2\n",
      "4\n",
      "Enter left child of  -1\n",
      "-3\n",
      "Enter right child of  -1\n",
      "-9\n",
      "Enter left child of  4\n",
      "-9\n",
      "Enter right child of  4\n",
      "-9\n",
      "Enter left child of  -3\n",
      "-9\n",
      "Enter right child of  -3\n",
      "-9\n",
      "-4\n"
     ]
    },
    {
     "data": {
      "text/plain": [
       "True"
      ]
     },
     "execution_count": 35,
     "metadata": {},
     "output_type": "execute_result"
    }
   ],
   "source": [
    "#TIme complexity = O(n)\n",
    "#Space complexity = O(n)\n",
    "import queue\n",
    "class binarytree:\n",
    "    def __init__(self, val):\n",
    "        self.val = val\n",
    "        self.left = None\n",
    "        self.right = None\n",
    "\n",
    "def takeinputlevelwise():\n",
    "    q= queue.Queue()\n",
    "    print(\"Enter root node: \")\n",
    "    rootdata = int(input())\n",
    "    if rootdata == -9:\n",
    "        return None\n",
    "    root = binarytree(rootdata)\n",
    "    q.put(root)\n",
    "    while not q.empty():\n",
    "        curr_data = q.get()\n",
    "        print(\"Enter left child of \",curr_data.val)\n",
    "        leftchild = int(input())\n",
    "        if leftchild !=-9:\n",
    "            leftchildroot = binarytree(leftchild)\n",
    "            q.put(leftchildroot)\n",
    "            curr_data.left = leftchildroot\n",
    "            \n",
    "        print(\"Enter right child of \",curr_data.val)\n",
    "        rightchild = int(input())\n",
    "        if rightchild !=-9:\n",
    "            rightchildroot = binarytree(rightchild)\n",
    "            q.put(rightchildroot)\n",
    "            curr_data.right = rightchildroot \n",
    "    return root\n",
    "\n",
    "class Solution:\n",
    "\n",
    "   \n",
    "    def CreateArr(self,arr,root):\n",
    "        if root is None:\n",
    "            return arr\n",
    "        \n",
    "        self.CreateArr(arr,root.left)\n",
    "        arr.append(root.val)\n",
    "        self.CreateArr(arr,root.right)\n",
    "        \n",
    "        return arr\n",
    "                \n",
    "    \n",
    "    def findTarget(self, root,k):\n",
    "        if root is None:\n",
    "            return False\n",
    "        arr = []\n",
    "        arr = self.CreateArr(arr,root)\n",
    "        i = 0\n",
    "        j = len(arr) - 1\n",
    "        while i < j:\n",
    "            if arr[i] + arr[j] > k:\n",
    "                j -= 1\n",
    "            elif arr[i] + arr[j] < k:\n",
    "                i += 1\n",
    "            else:\n",
    "                return True\n",
    "        return False    \n",
    "            \n",
    "            \n",
    "root =  takeinputlevelwise()     \n",
    "s = Solution()\n",
    "x = int(input())\n",
    "s.findTarget(root,x)"
   ]
  },
  {
   "cell_type": "markdown",
   "metadata": {},
   "source": [
    "convertToTitle(Easy)"
   ]
  },
  {
   "cell_type": "code",
   "execution_count": 76,
   "metadata": {},
   "outputs": [
    {
     "name": "stdout",
     "output_type": "stream",
     "text": [
      "752\n"
     ]
    },
    {
     "data": {
      "text/plain": [
       "'ABX'"
      ]
     },
     "execution_count": 76,
     "metadata": {},
     "output_type": "execute_result"
    }
   ],
   "source": [
    "class Solution:\n",
    "    def convertToTitle(self, columnNumber):\n",
    "        ans = ''\n",
    "        while columnNumber != 0:\n",
    "            val = columnNumber%26\n",
    "            if val == 0:\n",
    "                ans = 'Z' + ans\n",
    "                columnNumber = (columnNumber//26) - 1\n",
    "            else:\n",
    "                ans = chr(val+64) + ans\n",
    "                columnNumber = columnNumber//26\n",
    "                \n",
    "        return ans\n",
    "    \n",
    "    \n",
    "st = int(input())\n",
    "s = Solution()\n",
    "s.convertToTitle(st)    "
   ]
  },
  {
   "cell_type": "code",
   "execution_count": 67,
   "metadata": {},
   "outputs": [
    {
     "name": "stdout",
     "output_type": "stream",
     "text": [
      "BX\n"
     ]
    },
    {
     "data": {
      "text/plain": [
       "76"
      ]
     },
     "execution_count": 67,
     "metadata": {},
     "output_type": "execute_result"
    }
   ],
   "source": [
    "class Solution:\n",
    "    def titleToNumber(self, columnTitle):\n",
    "        ans = 0\n",
    "        i = 0\n",
    "        n = len(columnTitle)\n",
    "        while i < n:\n",
    "            ans += 26**i * (ord(columnTitle[n-(i+1)])-65+1)\n",
    "            i += 1\n",
    "        return ans\n",
    "    \n",
    "st = input()\n",
    "s = Solution()\n",
    "s.titleToNumber(st)"
   ]
  },
  {
   "cell_type": "markdown",
   "metadata": {},
   "source": [
    "Reverse Pairs(Hard)(https://leetcode.com/problems/reverse-pairs/submissions/)"
   ]
  },
  {
   "cell_type": "code",
   "execution_count": 92,
   "metadata": {},
   "outputs": [
    {
     "name": "stdout",
     "output_type": "stream",
     "text": [
      "1 3 2 3 1\n"
     ]
    },
    {
     "data": {
      "text/plain": [
       "2"
      ]
     },
     "execution_count": 92,
     "metadata": {},
     "output_type": "execute_result"
    }
   ],
   "source": [
    "class Solution:\n",
    "    \n",
    "    def merge(self,nums,low,mid,high):\n",
    "        count = 0\n",
    "        j = mid + 1\n",
    "        for i in range(low,mid+1):\n",
    "            while j <= high and nums[i] > 2*nums[j]:\n",
    "                j += 1\n",
    "            \n",
    "            count += j - (mid + 1)\n",
    "            \n",
    "        temp = []\n",
    "        left = low\n",
    "        right = mid + 1\n",
    "        while left <= mid and right <= high:\n",
    "            if nums[left] < nums[right]:\n",
    "                temp.append(nums[left])\n",
    "                left += 1\n",
    "            else:\n",
    "                temp.append(nums[right])\n",
    "                right += 1\n",
    "                \n",
    "        while left <= mid:\n",
    "            temp.append(nums[left])\n",
    "            left += 1\n",
    "          \n",
    "        while right <= high:\n",
    "            temp.append(nums[right])\n",
    "            right += 1\n",
    "            \n",
    "        for i in range(low,high+1):\n",
    "            nums[i] = temp[i-low]\n",
    "            \n",
    "        return count    \n",
    "            \n",
    "    \n",
    "    def mergesort(self,nums,left,right):\n",
    "        invco = 0\n",
    "        if left >= right:\n",
    "            return invco\n",
    "        mid = (left+right)//2\n",
    "        \n",
    "        invco += self.mergesort(nums,left,mid)\n",
    "        invco += self.mergesort(nums,mid+1,right)\n",
    "        \n",
    "        invco += self.merge(nums,left,mid,right)\n",
    "        return invco\n",
    "    def reversePairs(self, nums):\n",
    "        return self.mergesort(nums,0,len(nums)-1)\n",
    "    \n",
    "    \n",
    "nums = [int(i) for i in input().split()]    \n",
    "s = Solution()\n",
    "s.reversePairs(nums)"
   ]
  },
  {
   "cell_type": "code",
   "execution_count": 104,
   "metadata": {},
   "outputs": [
    {
     "data": {
      "text/plain": [
       "'-1asd'"
      ]
     },
     "execution_count": 104,
     "metadata": {},
     "output_type": "execute_result"
    }
   ],
   "source": [
    "class Solution:\n",
    "    def complexNumberMultiply(self, num1: str, num2: str) -> str:\n",
    "        a,b = map(int,num1[:-1].split('+'))\n",
    "        c,d = map(int,num2[:-1].split('+'))\n",
    "        \n",
    "        return f\"{a*c-b*d}+{a*d+b*c}i\""
   ]
  },
  {
   "cell_type": "code",
   "execution_count": 9,
   "metadata": {},
   "outputs": [
    {
     "name": "stdout",
     "output_type": "stream",
     "text": [
      "vasa\n",
      "vass\n"
     ]
    },
    {
     "data": {
      "text/plain": [
       "False"
      ]
     },
     "execution_count": 9,
     "metadata": {},
     "output_type": "execute_result"
    }
   ],
   "source": [
    "class Solution:\n",
    "    def isAnagram(self, s: str, t: str) -> bool:\n",
    "        frq_arr = [0]*256\n",
    "        for i in s:\n",
    "            frq_arr[ord(i)] += 1\n",
    "            \n",
    "        for i in t:\n",
    "            frq_arr[ord(i)] -= 1\n",
    "            \n",
    "        for i in frq_arr:\n",
    "            if i != 0:\n",
    "                return False\n",
    "        \n",
    "        return True\n",
    "    \n",
    "st1 = input()\n",
    "st2 = input()        \n",
    "s = Solution()\n",
    "s.isAnagram(st1,st2)"
   ]
  },
  {
   "cell_type": "code",
   "execution_count": 13,
   "metadata": {},
   "outputs": [
    {
     "name": "stdout",
     "output_type": "stream",
     "text": [
      "h a n n a h\n",
      "['h', 'a', 'n', 'n', 'a', 'h']\n"
     ]
    }
   ],
   "source": [
    "class Solution:\n",
    "    def reverseString(self, s):\n",
    "        if len(s) == 1:\n",
    "            return s\n",
    "        \n",
    "        i = 0\n",
    "        j = len(s) - 1 \n",
    "        while i < j:\n",
    "            s[i] , s[j] = s[j] , s[i]\n",
    "            i += 1\n",
    "            j -= 1\n",
    "            \n",
    "st = [i for i in input().split()]            \n",
    "s = Solution()\n",
    "s.reverseString(st)\n",
    "print(st)"
   ]
  },
  {
   "cell_type": "code",
   "execution_count": null,
   "metadata": {},
   "outputs": [],
   "source": [
    "class Solution:\n",
    "    def firstUniqChar(self, s: str) -> int:\n",
    "        if len(s) == 1:\n",
    "            return 0\n",
    "        # flag = False\n",
    "        for i in range(len(s)):\n",
    "            flag = False\n",
    "            for j in range(0,len(s)):\n",
    "                if i == j:\n",
    "                    pass\n",
    "                elif s[i] == s[j]:\n",
    "                    flag = True\n",
    "                    break\n",
    "                    \n",
    "            if flag is False:\n",
    "                return i\n",
    "        return -1    "
   ]
  },
  {
   "cell_type": "code",
   "execution_count": 24,
   "metadata": {},
   "outputs": [
    {
     "name": "stdout",
     "output_type": "stream",
     "text": [
      "aabb\n"
     ]
    },
    {
     "data": {
      "text/plain": [
       "-1"
      ]
     },
     "execution_count": 24,
     "metadata": {},
     "output_type": "execute_result"
    }
   ],
   "source": [
    "class Solution:\n",
    "    def firstUniqChar(self, s: str) -> int:\n",
    "        if len(s) == 1:\n",
    "            return 0\n",
    "        \n",
    "        dic = {}\n",
    "        cont = ''\n",
    "        for i in range(len(s)):\n",
    "            if s[i] not in dic and s[i]  not in cont:\n",
    "                cont += s[i]\n",
    "                dic[s[i]] = i\n",
    "            else:\n",
    "                if s[i] in dic:\n",
    "                    dic.pop(s[i])\n",
    "                \n",
    "        if len(dic) == 0:\n",
    "            return -1\n",
    "        ans = len(s) + 1\n",
    "        for i in dic:\n",
    "            ans = min(dic[i],ans)\n",
    "            \n",
    "        return ans\n",
    "    \n",
    "st  = input()    \n",
    "s = Solution()\n",
    "s.firstUniqChar(st)"
   ]
  },
  {
   "cell_type": "code",
   "execution_count": 29,
   "metadata": {},
   "outputs": [
    {
     "name": "stdout",
     "output_type": "stream",
     "text": [
      "2 7 11 15\n",
      "9\n"
     ]
    },
    {
     "data": {
      "text/plain": [
       "[0, 1]"
      ]
     },
     "execution_count": 29,
     "metadata": {},
     "output_type": "execute_result"
    }
   ],
   "source": [
    "class Solution:\n",
    "    def twoSum(self, nums, target):\n",
    "        dic = {}\n",
    "        for i in range(len(nums)):\n",
    "            dic[nums[i]] = i\n",
    "            \n",
    "        for i in range(len(nums)):\n",
    "            if target - nums[i] in dic and i != dic[target - nums[i]]:\n",
    "                if i < dic[target - nums[i]]:\n",
    "                    return [i,dic[target - nums[i]]]\n",
    "                else:\n",
    "                    return[dic[target - nums[i]],i]\n",
    "                \n",
    "           \n",
    "nums = [int(i) for i in input().split()]\n",
    "target = int(input())\n",
    "s = Solution()\n",
    "s.twoSum(nums,target)"
   ]
  },
  {
   "cell_type": "code",
   "execution_count": 35,
   "metadata": {},
   "outputs": [
    {
     "name": "stdout",
     "output_type": "stream",
     "text": [
      "0 -1\n"
     ]
    },
    {
     "data": {
      "text/plain": [
       "2"
      ]
     },
     "execution_count": 35,
     "metadata": {},
     "output_type": "execute_result"
    }
   ],
   "source": [
    "class Solution:\n",
    "    def longestConsecutive(self, nums):\n",
    "        if len(nums) == 0:\n",
    "            return 0\n",
    "        dic = {}\n",
    "        for i in nums:\n",
    "            dic[i] = True\n",
    "            \n",
    "        ans = 1\n",
    "        for i in range(len(nums)):\n",
    "            if dic[nums[i]] == True:\n",
    "                count = 1\n",
    "                dic[nums[i]] = False\n",
    "                val = nums[i]\n",
    "                \n",
    "                #Check for increasing\n",
    "                while val + 1 in dic and dic[val+1] == True:\n",
    "                    count += 1\n",
    "                    dic[val+1] = False\n",
    "                    val += 1\n",
    "                    \n",
    "                #Check for decreasing\n",
    "                val = nums[i]\n",
    "                \n",
    "                while val - 1 in dic and dic[val-1] == True:\n",
    "                    count += 1\n",
    "                    dic[val-1] = False\n",
    "                    val -= 1\n",
    "                    \n",
    "                ans = max(count , ans)\n",
    "        return ans\n",
    "    \n",
    "nums = [int(i) for i in input().split()]    \n",
    "s = Solution()\n",
    "s.longestConsecutive(nums)"
   ]
  },
  {
   "cell_type": "code",
   "execution_count": 57,
   "metadata": {},
   "outputs": [
    {
     "name": "stdout",
     "output_type": "stream",
     "text": [
      "100000000\n"
     ]
    },
    {
     "data": {
      "text/plain": [
       "True"
      ]
     },
     "execution_count": 57,
     "metadata": {},
     "output_type": "execute_result"
    }
   ],
   "source": [
    "import math\n",
    "\n",
    "class Solution:\n",
    "    \n",
    "    def checkT(self,arr,target):\n",
    "        i = 0\n",
    "        j = len(arr) - 1\n",
    "        while i < j:\n",
    "            if arr[i] + arr[i] == target:\n",
    "                return True\n",
    "            if arr[j] + arr[j] == target:\n",
    "                return True\n",
    "            if arr[i] + arr[j] == target:\n",
    "                return True\n",
    "            \n",
    "            if arr[i] + arr[j] > target:\n",
    "                j -= 1\n",
    "            else:\n",
    "                i += 1\n",
    "        return False        \n",
    "    \n",
    "    def judgeSquareSum(self, c):\n",
    "        if c == 0 or c == 1:\n",
    "            return True\n",
    "        arr = []\n",
    "        for i in range(int(math.sqrt(c))+1):\n",
    "            arr.append(i*i)\n",
    "        return self.checkT(arr,c)\n",
    "    \n",
    "c = int(input())    \n",
    "s = Solution()\n",
    "s.judgeSquareSum(c)"
   ]
  },
  {
   "cell_type": "code",
   "execution_count": 16,
   "metadata": {},
   "outputs": [
    {
     "name": "stdout",
     "output_type": "stream",
     "text": [
      "4\n",
      "-1 1 -1 1\n"
     ]
    },
    {
     "data": {
      "text/plain": [
       "4"
      ]
     },
     "execution_count": 16,
     "metadata": {},
     "output_type": "execute_result"
    }
   ],
   "source": [
    "def maxLen(n, arr):\n",
    "    #Code here\n",
    "    if n == 0:\n",
    "        return 0\n",
    "    ans = 0    \n",
    "    dic = {}\n",
    "    sums = 0\n",
    "    for i in range(n):\n",
    "        if sums + arr[i] == 0:\n",
    "            ans = i + 1\n",
    "            sums += arr[i]\n",
    "        \n",
    "        elif sums+arr[i] in dic:\n",
    "            ans = max(ans,i - dic[sums+arr[i]])\n",
    "            sums += arr[i]\n",
    "        else:\n",
    "            dic[sums + arr[i]] = i\n",
    "            sums += arr[i]\n",
    "            \n",
    "    return ans\n",
    "\n",
    "n = int(input())\n",
    "arr = [int(i) for i in input().split()]\n",
    "maxLen(n,arr)"
   ]
  },
  {
   "cell_type": "code",
   "execution_count": 36,
   "metadata": {},
   "outputs": [
    {
     "name": "stdout",
     "output_type": "stream",
     "text": [
      "1 2 3 -3 3\n",
      "3\n"
     ]
    },
    {
     "data": {
      "text/plain": [
       "5"
      ]
     },
     "execution_count": 36,
     "metadata": {},
     "output_type": "execute_result"
    }
   ],
   "source": [
    "class Solution:\n",
    "    def subarraySum(self, nums,k):\n",
    "        dic = {}\n",
    "        ans = 0\n",
    "        sums = 0\n",
    "        for i in nums:\n",
    "            if sums + i == k:\n",
    "                ans += 1\n",
    "            if ((sums + i) - k) in dic:\n",
    "                ans += dic[(sums + i) - k]\n",
    "            sums += i\n",
    "            dic[sums] = dic.get(sums,0) + 1\n",
    "        return ans    \n",
    "   \n",
    "    \n",
    "nums = [int(i) for i in input().split()]\n",
    "k = int(input())\n",
    "s = Solution()\n",
    "s.subarraySum(nums,k)"
   ]
  },
  {
   "cell_type": "code",
   "execution_count": 45,
   "metadata": {},
   "outputs": [
    {
     "name": "stdout",
     "output_type": "stream",
     "text": [
      "234\n"
     ]
    },
    {
     "data": {
      "text/plain": [
       "['adg',\n",
       " 'adh',\n",
       " 'adi',\n",
       " 'aeg',\n",
       " 'aeh',\n",
       " 'aei',\n",
       " 'afg',\n",
       " 'afh',\n",
       " 'afi',\n",
       " 'bdg',\n",
       " 'bdh',\n",
       " 'bdi',\n",
       " 'beg',\n",
       " 'beh',\n",
       " 'bei',\n",
       " 'bfg',\n",
       " 'bfh',\n",
       " 'bfi',\n",
       " 'cdg',\n",
       " 'cdh',\n",
       " 'cdi',\n",
       " 'ceg',\n",
       " 'ceh',\n",
       " 'cei',\n",
       " 'cfg',\n",
       " 'cfh',\n",
       " 'cfi']"
      ]
     },
     "execution_count": 45,
     "metadata": {},
     "output_type": "execute_result"
    }
   ],
   "source": [
    "class Solution:\n",
    "    def getLetter(self,s):\n",
    "        if s == '2':\n",
    "            return 'abc'\n",
    "        if s == '3':\n",
    "            return 'def'\n",
    "        if s == '4':\n",
    "            return 'ghi'\n",
    "        if s == '5':\n",
    "            return 'jkl'\n",
    "        if s == '6':\n",
    "            return 'mno'\n",
    "        if s == '7':\n",
    "            return 'pqrs'\n",
    "        if s == '8':\n",
    "            return 'tuv'\n",
    "        else:\n",
    "            return 'wxyz'\n",
    "\n",
    "        \n",
    "    \n",
    "    def letterCombinations(self, digits):\n",
    "        if len(digits) == 0:\n",
    "            return []\n",
    "        \n",
    "        small_op = self.letterCombinations(digits[1:])\n",
    "        string = self.getLetter(digits[0])\n",
    "        ans = []\n",
    "        if len(small_op) == 0:\n",
    "            for i in string:\n",
    "                ans.append(i)\n",
    "        else:        \n",
    "            for i in string:\n",
    "                for j in range(len(small_op)):\n",
    "                    ans.append(i+small_op[j])\n",
    "                \n",
    "        return ans \n",
    "    \n",
    "    \n",
    "digits = input()\n",
    "s = Solution()\n",
    "s.letterCombinations(digits)"
   ]
  },
  {
   "cell_type": "markdown",
   "metadata": {},
   "source": [
    "Verify Preorder Serialization of a Binary Tree(https://leetcode.com/problems/verify-preorder-serialization-of-a-binary-tree/)"
   ]
  },
  {
   "cell_type": "code",
   "execution_count": 87,
   "metadata": {},
   "outputs": [
    {
     "name": "stdout",
     "output_type": "stream",
     "text": [
      "9,#,93,#,9,9,#,#,#\n"
     ]
    },
    {
     "data": {
      "text/plain": [
       "True"
      ]
     },
     "execution_count": 87,
     "metadata": {},
     "output_type": "execute_result"
    }
   ],
   "source": [
    "#Not so concise but i write that as my brute force or logic builder .\n",
    "\n",
    "\n",
    "class Solution:\n",
    "    def isValidSerializationHelper(self,i,arr):\n",
    "        if len(arr) == 0:\n",
    "            return False\n",
    "        if arr.pop() == \"#\":\n",
    "            return\n",
    "        else:\n",
    "            ans1 = self.isValidSerializationHelper(i+1,arr)\n",
    "            ans2 = self.isValidSerializationHelper(i+2,arr)\n",
    "            if ans1 is False or ans2 is False:\n",
    "                return False\n",
    "            return\n",
    "\n",
    "    def isValidSerialization(self, preorder):\n",
    "        \n",
    "        arr = preorder[::-1].split(',')\n",
    "        if len(arr) == 1:\n",
    "            if arr[-1] == \"#\":\n",
    "                return True\n",
    "            else:\n",
    "                return False\n",
    "        if arr[-1] == \"#\":\n",
    "            return False\n",
    "        ans = self.isValidSerializationHelper(0,arr)\n",
    "        if ans is False:\n",
    "            return ans\n",
    "        if len(arr) == 0:\n",
    "            return True \n",
    "        else:\n",
    "            return False\n",
    "        \n",
    "preorder = input()\n",
    "s = Solution()\n",
    "s.isValidSerialization(preorder)        \n",
    "        "
   ]
  },
  {
   "cell_type": "code",
   "execution_count": 89,
   "metadata": {},
   "outputs": [
    {
     "ename": "SyntaxError",
     "evalue": "invalid syntax (<ipython-input-89-d83357e72baa>, line 1)",
     "output_type": "error",
     "traceback": [
      "\u001b[1;36m  File \u001b[1;32m\"<ipython-input-89-d83357e72baa>\"\u001b[1;36m, line \u001b[1;32m1\u001b[0m\n\u001b[1;33m    [abc]*[def]\u001b[0m\n\u001b[1;37m           ^\u001b[0m\n\u001b[1;31mSyntaxError\u001b[0m\u001b[1;31m:\u001b[0m invalid syntax\n"
     ]
    }
   ],
   "source": [
    "#Concise solution.\n",
    "#Time complexity = O(n)\n",
    "\n",
    "class Solution:\n",
    "    def isValidSerialization(self, preorder):\n",
    "        treenodes = preorder.split(',')\n",
    "        parent = 1\n",
    "        for node in nodes:\n",
    "            if parent <= 0:\n",
    "                return False\n",
    "            if node == \"#\":\n",
    "                parent -= 1\n",
    "            else:\n",
    "                parent += 1\n",
    "      \n",
    "        return parent == 0"
   ]
  },
  {
   "cell_type": "markdown",
   "metadata": {},
   "source": [
    "22. Generate Parentheses (Medium) (https://leetcode.com/problems/generate-parentheses)"
   ]
  },
  {
   "cell_type": "code",
   "execution_count": 34,
   "metadata": {},
   "outputs": [
    {
     "name": "stdout",
     "output_type": "stream",
     "text": [
      "1\n",
      "['()']\n",
      "1\n"
     ]
    }
   ],
   "source": [
    "class Solution:\n",
    "    \n",
    "    def generateParenthesisHelper(self,curr_status,balancep,ans,n):\n",
    "        if balancep < 0:\n",
    "            return \n",
    "        if len(curr_status) > 2*n:\n",
    "            return \n",
    "        if len(curr_status) == 2*n and balancep == 0:\n",
    "            ans.append(curr_status)\n",
    "            return \n",
    "        self.generateParenthesisHelper(curr_status+'(',balancep+1,ans,n)\n",
    "        self.generateParenthesisHelper(curr_status+')',balancep-1,ans,n)\n",
    "        return\n",
    "    def generateParenthesis(self, n):\n",
    "        ans = []\n",
    "        curr_status = ''\n",
    "        self.generateParenthesisHelper(curr_status,0,ans,n)\n",
    "        return ans\n",
    "\n",
    "digit = int(input())\n",
    "s = Solution()\n",
    "ans = s.generateParenthesis(digit)\n",
    "print(ans)\n",
    "print(len(ans))"
   ]
  },
  {
   "cell_type": "code",
   "execution_count": null,
   "metadata": {},
   "outputs": [],
   "source": []
  },
  {
   "cell_type": "code",
   "execution_count": 90,
   "metadata": {},
   "outputs": [
    {
     "name": "stdout",
     "output_type": "stream",
     "text": [
      "aaa aaa a\n"
     ]
    },
    {
     "data": {
      "text/plain": [
       "-1"
      ]
     },
     "execution_count": 90,
     "metadata": {},
     "output_type": "execute_result"
    }
   ],
   "source": [
    "\n",
    "class Solution:\n",
    "    \n",
    "    def isSubsequence(self,large,small):\n",
    "        j = 0\n",
    "        for i in range(0,len(small)):\n",
    "            if large[j] == small[i]:\n",
    "                j += 1\n",
    "                \n",
    "            if j == len(large):\n",
    "                break\n",
    "        return j == len(large)        \n",
    "    \n",
    "    def findLUSlength(self, strs):\n",
    "        strs.sort(key=len,reverse=True)\n",
    "        ans = -1\n",
    "        \n",
    "        for i in range(len(strs)):\n",
    "            j = 0\n",
    "            flag = False\n",
    "            while j < len(strs) and len(strs[j]) >= len(strs[i]):\n",
    "                if i != j and self.isSubsequence(strs[i],strs[j]):\n",
    "                    flag = True\n",
    "                    break\n",
    "                j += 1   \n",
    "            if not flag:\n",
    "                ans = max(ans,len(strs[i]) )\n",
    "    \n",
    "        return ans\n",
    "        \n",
    "strs = [i for i in input().split()]    \n",
    "s = Solution()\n",
    "s.findLUSlength(strs)"
   ]
  },
  {
   "cell_type": "code",
   "execution_count": 60,
   "metadata": {},
   "outputs": [
    {
     "ename": "SyntaxError",
     "evalue": "invalid syntax (<ipython-input-60-e7b998bb555b>, line 8)",
     "output_type": "error",
     "traceback": [
      "\u001b[1;36m  File \u001b[1;32m\"<ipython-input-60-e7b998bb555b>\"\u001b[1;36m, line \u001b[1;32m8\u001b[0m\n\u001b[1;33m    string = int(input())\u001b[0m\n\u001b[1;37m    ^\u001b[0m\n\u001b[1;31mSyntaxError\u001b[0m\u001b[1;31m:\u001b[0m invalid syntax\n"
     ]
    }
   ],
   "source": [
    "\n",
    "\n",
    "def uniqueChar(s): \n",
    "    # Write your code here\n",
    "    \n",
    "\n",
    "                   \n",
    "\n",
    "print(uniqueChar(string))"
   ]
  },
  {
   "cell_type": "code",
   "execution_count": 21,
   "metadata": {},
   "outputs": [
    {
     "name": "stdout",
     "output_type": "stream",
     "text": [
      "1\n",
      "1->None\n"
     ]
    }
   ],
   "source": [
    "class ListNode:\n",
    "    def __init__(self,val):\n",
    "        self.val = val\n",
    "        self.next = None\n",
    "\n",
    "def TakeNodeInput():\n",
    "    NodeArray=[int(x) for x in input().split()]\n",
    "    head=None\n",
    "    tail =None\n",
    "    for ele in NodeArray:\n",
    "        if ele == -1:\n",
    "            break\n",
    "        NewNode=ListNode(ele) \n",
    "        if head==None:\n",
    "            head=NewNode\n",
    "            tail=head\n",
    "        else:\n",
    "            tail.next = NewNode\n",
    "            tail=tail.next\n",
    "    return head\n",
    "\n",
    "def PrintLL(head):\n",
    "    while head!=None:\n",
    "        print(str(head.val) + '->',end='')\n",
    "        head=head.next\n",
    "    print(\"None\")   \n",
    "    return\n",
    "class Solution:\n",
    "    def reverseList(self, head):\n",
    "        prev = None\n",
    "#         curr = head\n",
    "        while head.next is not None:\n",
    "            temp = head.next\n",
    "            head.next = prev\n",
    "            prev = head\n",
    "            head = temp\n",
    "            \n",
    "        head.next = prev\n",
    "        return head\n",
    "\n",
    "class Solution:\n",
    "    def mergeTwoLists(self, l1, l2):\n",
    "        if l1 is None and l2 is None:\n",
    "            return l1\n",
    "        \n",
    "        if l1 is None:\n",
    "            return l2\n",
    "        \n",
    "        if l2 is None:\n",
    "            return l1\n",
    "        \n",
    "        curr1 = l1\n",
    "        curr2 = l2\n",
    "        if curr1.val > curr2.val :\n",
    "            head = ListNode(curr2.val)\n",
    "            tail = head\n",
    "            curr2 = curr2.next\n",
    "        else:\n",
    "            head = ListNode(curr1.val)\n",
    "            tail = head\n",
    "            curr1 = curr1.next\n",
    "        \n",
    "        while curr1 is not None and curr2 is not None:\n",
    "            if curr1.val < curr2.val:\n",
    "                tail.next = curr1\n",
    "                tail = tail.next \n",
    "                curr1 = curr1.next\n",
    "            else:\n",
    "                tail.next = curr2\n",
    "                tail = tail.next \n",
    "                curr2 = curr2.next\n",
    "                \n",
    "        while curr1 is not None:\n",
    "            tail.next = curr1\n",
    "            tail = tail.next \n",
    "            curr1 = curr1.next\n",
    "            \n",
    "        while curr2 is not None:\n",
    "            tail.next = curr2\n",
    "            tail = tail.next \n",
    "            curr2 = curr2.next\n",
    "            \n",
    "        return head    \n",
    "    \n",
    "    \n",
    "\n",
    "l1 = TakeNodeInput()\n",
    "s = Solution()\n",
    "head = s.reverseList(l1)\n",
    "PrintLL(head)"
   ]
  },
  {
   "cell_type": "code",
   "execution_count": 11,
   "metadata": {},
   "outputs": [
    {
     "name": "stdout",
     "output_type": "stream",
     "text": [
      "4 2 2 6 4\n",
      "6\n"
     ]
    },
    {
     "data": {
      "text/plain": [
       "4"
      ]
     },
     "execution_count": 11,
     "metadata": {},
     "output_type": "execute_result"
    }
   ],
   "source": [
    "def XORSubarray(arr,k):\n",
    "    xor = 0\n",
    "    count = 0\n",
    "    dic = {}\n",
    "    for i in arr:\n",
    "        if xor ^ i == k:\n",
    "            count += 1\n",
    "        elif (xor ^ i) ^ k  in dic:\n",
    "            count += dic[(xor ^ i) ^ k]\n",
    "        \n",
    "        dic[xor^i] = dic.get(xor^i,0) + 1\n",
    "        xor = xor ^ i\n",
    "    return count\n",
    "\n",
    "arr = [int(i) for i in input().split()]\n",
    "k = int(input())\n",
    "XORSubarray(arr,k)"
   ]
  },
  {
   "cell_type": "markdown",
   "metadata": {},
   "source": [
    " Remove Nth Node From End of List(https://leetcode.com/problems/remove-nth-node-from-end-of-list/)(Medium)"
   ]
  },
  {
   "cell_type": "code",
   "execution_count": 25,
   "metadata": {},
   "outputs": [
    {
     "name": "stdout",
     "output_type": "stream",
     "text": [
      "1 2\n",
      "2\n",
      "2->None\n"
     ]
    }
   ],
   "source": [
    "#Time complexity = O(2n) Because we use length function here to solve it .\n",
    "class ListNode:\n",
    "    def __init__(self,val):\n",
    "        self.val = val\n",
    "        self.next = None\n",
    "\n",
    "def TakeNodeInput():\n",
    "    NodeArray=[int(x) for x in input().split()]\n",
    "    head=None\n",
    "    tail =None\n",
    "    for ele in NodeArray:\n",
    "        if ele == -1:\n",
    "            break\n",
    "        NewNode=ListNode(ele) \n",
    "        if head==None:\n",
    "            head=NewNode\n",
    "            tail=head\n",
    "        else:\n",
    "            tail.next = NewNode\n",
    "            tail=tail.next\n",
    "    return head\n",
    "\n",
    "def PrintLL(head):\n",
    "    while head!=None:\n",
    "        print(str(head.val) + '->',end='')\n",
    "        head=head.next\n",
    "    print(\"None\")   \n",
    "    return\n",
    "\n",
    "class Solution:\n",
    "    \n",
    "    def Length(self,head):\n",
    "        count = 0\n",
    "        while head is not None:\n",
    "            count += 1\n",
    "            head = head.next\n",
    "        return count\n",
    "    \n",
    "    def removeNthFromEnd(self, head,n):\n",
    "        if head is None:\n",
    "            return \n",
    "        \n",
    "        l = self.Length(head)\n",
    "        \n",
    "        if l == n:\n",
    "            return head.next\n",
    "        prev = None\n",
    "        curr = head\n",
    "        if n < l:\n",
    "            i = 0\n",
    "            while i != l - n:\n",
    "                prev = curr\n",
    "                curr = curr.next\n",
    "                i += 1\n",
    "                \n",
    "                \n",
    "            temp = curr.next \n",
    "            prev.next = temp\n",
    "            return head\n",
    "        \n",
    "        else:\n",
    "            return head\n",
    "        \n",
    "        \n",
    "head = TakeNodeInput()\n",
    "n = int(input())\n",
    "s = Solution()\n",
    "head = s.removeNthFromEnd(head,n)\n",
    "PrintLL(head)"
   ]
  },
  {
   "cell_type": "code",
   "execution_count": 30,
   "metadata": {},
   "outputs": [
    {
     "name": "stdout",
     "output_type": "stream",
     "text": [
      "1 2 3 4 5\n",
      "5\n",
      "2->3->4->5->None\n"
     ]
    }
   ],
   "source": [
    "#Fast slow pointer approach .\n",
    "#Time complexity = O(n) Because we use length function here to solve it .\n",
    "#Step1)First make pointes slow and fast point to the head of the linked list \n",
    "#step2)Here we have to 1 edge case here:\n",
    "#a) For simple case having linked list = [1,2,3,4,5] and n = 2\n",
    "#--> For that we move our fast pointe to n times .\n",
    "#--> Then we move fast and slow pointer by one until fast.next is not None and then simply do slow = slow.next.next and return head\n",
    "#Edge case:-\n",
    "#IF n == to same as that of length of linked list .\n",
    "#THen if we follow above steps in first iteration fast pointer reach to last and we have to check for that if fast.next is None\n",
    "#IF it is we simly have to return slow.next \n",
    "class ListNode:\n",
    "    def __init__(self,val):\n",
    "        self.val = val\n",
    "        self.next = None\n",
    "\n",
    "def TakeNodeInput():\n",
    "    NodeArray=[int(x) for x in input().split()]\n",
    "    head=None\n",
    "    tail =None\n",
    "    for ele in NodeArray:\n",
    "        if ele == -1:\n",
    "            break\n",
    "        NewNode=ListNode(ele) \n",
    "        if head==None:\n",
    "            head=NewNode\n",
    "            tail=head\n",
    "        else:\n",
    "            tail.next = NewNode\n",
    "            tail=tail.next\n",
    "    return head\n",
    "\n",
    "def PrintLL(head):\n",
    "    while head!=None:\n",
    "        print(str(head.val) + '->',end='')\n",
    "        head=head.next\n",
    "    print(\"None\")   \n",
    "    return\n",
    "\n",
    "class Solution:\n",
    "    \n",
    "    def removeNthFromEnd(self, head,n):\n",
    "        if head is None:\n",
    "            return \n",
    "\n",
    "        count = 0\n",
    "        slow = head\n",
    "        fast = head\n",
    "        \n",
    "        while count != n:\n",
    "            fast = fast.next \n",
    "            count += 1\n",
    "            \n",
    "        if fast is None:\n",
    "            return slow.next\n",
    "        else:\n",
    "            while fast.next is not None:\n",
    "                slow = slow.next\n",
    "                fast= fast.next\n",
    "                \n",
    "            slow.next = slow.next.next    \n",
    "            return head\n",
    "            \n",
    "        \n",
    "head = TakeNodeInput()\n",
    "n = int(input())\n",
    "s = Solution()\n",
    "head = s.removeNthFromEnd(head,n)\n",
    "PrintLL(head)"
   ]
  },
  {
   "cell_type": "code",
   "execution_count": null,
   "metadata": {},
   "outputs": [
    {
     "name": "stdout",
     "output_type": "stream",
     "text": [
      "1 2 3 4 60\n",
      "3 5 10 6 9\n",
      "20 20 100 70 60\n"
     ]
    }
   ],
   "source": [
    "from bisect import bisect_left\n",
    "class Solution:\n",
    "    \n",
    "    def maxprofit(self,jobs,dp,n,i,start):\n",
    "        if i == n:\n",
    "            return 0\n",
    "        #Pick  that job to do\n",
    "        if dp[i+1] == -1:\n",
    "            ans = self.maxprofit(jobs,dp,n,i+1,start)\n",
    "            dp[i+1] = ans\n",
    "        else:\n",
    "            ans = dp[i+1]\n",
    "            \n",
    "        #Pick up that job\n",
    "        j = bisect_left(start, jobs[i][1])\n",
    "        if dp[j] == -1:\n",
    "            value = self.maxprofit(jobs,dp,n,j,start)\n",
    "            dp[j] = value\n",
    "        else:\n",
    "            value = dp[j]\n",
    "\n",
    "        ans = max(ans , value + jobs[i][2])    \n",
    "        return ans\n",
    "    \n",
    "    \n",
    "    def jobScheduling(self, startTime, endTime, profit):\n",
    "        jobs = sorted(list(zip(startTime, endTime, profit)))\n",
    "        n = len(startTime)\n",
    "        start = [jobs[i][0] for i in range(n)]\n",
    "        dp = [-1 for i in range(n+1)]\n",
    "        self.maxprofit(jobs,dp,n,0,start)\n",
    "        return dp[0]\n",
    "    \n",
    "startTime = [int(i) for i in input().split()]\n",
    "endTime = [int(i) for i in input().split()]\n",
    "profit =[int(i) for i in input().split()]\n",
    "s = Solution()\n",
    "s.jobScheduling(startTime,endTime,profit)"
   ]
  },
  {
   "cell_type": "markdown",
   "metadata": {},
   "source": [
    "Intersection between two linked list(EASY but tricky"
   ]
  },
  {
   "cell_type": "code",
   "execution_count": null,
   "metadata": {},
   "outputs": [],
   "source": [
    "class Solution:\n",
    "    def getIntersectionNode(self, headA,headB):\n",
    "        curr1 = headA\n",
    "        curr2 = headB\n",
    "        \n",
    "        while curr1 != curr2:\n",
    "            if curr1 == None:\n",
    "                curr1 = headB\n",
    "            elif curr2 == None:\n",
    "                curr2 = headA\n",
    "            else:\n",
    "                curr1 = curr1.next\n",
    "                curr2 = curr2.next\n",
    "                \n",
    "        return curr1"
   ]
  },
  {
   "cell_type": "code",
   "execution_count": 5,
   "metadata": {},
   "outputs": [
    {
     "name": "stdout",
     "output_type": "stream",
     "text": [
      "1 2 3 4 5\n",
      "1\n",
      "1->2->3->4->5->None\n"
     ]
    }
   ],
   "source": [
    "class ListNode:\n",
    "    def __init__(self,val):\n",
    "        self.val = val\n",
    "        self.next = None\n",
    "\n",
    "def TakeNodeInput():\n",
    "    NodeArray=[int(x) for x in input().split()]\n",
    "    head=None\n",
    "    tail =None\n",
    "    for ele in NodeArray:\n",
    "        if ele == -1:\n",
    "            break\n",
    "        NewNode=ListNode(ele) \n",
    "        if head==None:\n",
    "            head=NewNode\n",
    "            tail=head\n",
    "        else:\n",
    "            tail.next = NewNode\n",
    "            tail=tail.next\n",
    "    return head\n",
    "\n",
    "def PrintLL(head):\n",
    "    while head!=None:\n",
    "        print(str(head.val) + '->',end='')\n",
    "        head=head.next\n",
    "    print(\"None\")   \n",
    "    return\n",
    "\n",
    "class Solution:\n",
    "    \n",
    "    def reverse(self,head):\n",
    "        tail = head\n",
    "        prev = None\n",
    "        \n",
    "        while head.next is not None:\n",
    "            temp = head.next\n",
    "            head.next = prev\n",
    "            prev = head\n",
    "            head = temp\n",
    "            \n",
    "        head.next = prev\n",
    "        return head,tail\n",
    "    \n",
    "    def reverseKGroup(self, head , k):\n",
    "        if head is None:\n",
    "            return head\n",
    "        \n",
    "        curr = head \n",
    "        count = 1\n",
    "        while count != k and curr is not None:\n",
    "            count += 1\n",
    "            curr = curr.next\n",
    "            \n",
    "        if count == k and curr is not None:\n",
    "            head2 = curr.next\n",
    "            curr.next = None\n",
    "            newhead , tail = self.reverse(head)\n",
    "            tail.next = self.reverseKGroup(head2,k)\n",
    "            return newhead\n",
    "        else:\n",
    "            return head\n",
    "        \n",
    "        \n",
    "head = TakeNodeInput()\n",
    "k = int(input())\n",
    "s = Solution()\n",
    "head = s.reverseKGroup(head,k)\n",
    "PrintLL(head)"
   ]
  },
  {
   "cell_type": "code",
   "execution_count": null,
   "metadata": {},
   "outputs": [],
   "source": [
    "class Solution:\n",
    "    \n",
    "    def reverse(self,head):\n",
    "        tail = head\n",
    "        prev = None\n",
    "        \n",
    "        while head.next is not None:\n",
    "            temp = head.next\n",
    "            head.next = prev\n",
    "            prev = head\n",
    "            head = temp\n",
    "            \n",
    "        head.next = prev\n",
    "        return head,tail\n",
    "    \n",
    "    def reverseKGroup(self, head , k):\n",
    "        if head is None:\n",
    "            return head\n",
    "            \n",
    "        curr = head \n",
    "        count = 1\n",
    "        while count != k and curr is not None:\n",
    "            count += 1\n",
    "            curr = curr.next\n",
    "            \n",
    "        if count == k and curr is not None:\n",
    "            head2 = curr.next\n",
    "            curr.next = None\n",
    "            newhead , tail = self.reverse(head)\n",
    "            tail.next = self.reverseKGroup(head2,k)\n",
    "            return newhead\n",
    "        else:\n",
    "            return head"
   ]
  },
  {
   "cell_type": "code",
   "execution_count": 10,
   "metadata": {},
   "outputs": [
    {
     "data": {
      "text/plain": [
       "[2, 2]"
      ]
     },
     "execution_count": 10,
     "metadata": {},
     "output_type": "execute_result"
    }
   ],
   "source": [
    "import sys\n",
    "class Solution:\n",
    "    def maxCount(self, m: int, n: int, ops: List[List[int]]) -> int:\n",
    "        if len(ops) == 0:\n",
    "            return n * m\n",
    "        minx = sys.maxsize\n",
    "        miny = sys.maxsize\n",
    "        for i in ops:\n",
    "            minx = min(i[0])\n",
    "            miny = min(i[1])\n",
    "            \n",
    "        return minx * miny    "
   ]
  },
  {
   "cell_type": "code",
   "execution_count": null,
   "metadata": {},
   "outputs": [],
   "source": []
  },
  {
   "cell_type": "code",
   "execution_count": 4,
   "metadata": {},
   "outputs": [
    {
     "name": "stdout",
     "output_type": "stream",
     "text": [
      "aabcb\n"
     ]
    },
    {
     "data": {
      "text/plain": [
       "[['a', 'a', 'b', 'c', 'b'],\n",
       " ['a', 'a', 'bcb'],\n",
       " ['aa', 'b', 'c', 'b'],\n",
       " ['aa', 'bcb']]"
      ]
     },
     "execution_count": 4,
     "metadata": {},
     "output_type": "execute_result"
    }
   ],
   "source": [
    "class Solution:\n",
    "    \n",
    "    def isPalindrome(self,s,i,j):\n",
    "        while i <= j:\n",
    "            if s[i] == s[j]:\n",
    "                i += 1\n",
    "                j -= 1\n",
    "            else:\n",
    "                return False\n",
    "        return True    \n",
    "    \n",
    "    def partitionHelper(self,s,index,res,path):\n",
    "        if index == len(s):\n",
    "            res.append(path[:])\n",
    "            return\n",
    "        \n",
    "        for i in range(index,len(s)):\n",
    "            if self.isPalindrome(s,index,i):\n",
    "                path.append(s[index:i+1])\n",
    "                self.partitionHelper(s,i+1,res,path)\n",
    "                path.pop()\n",
    "        \n",
    "    def partition(self, s):\n",
    "        res = []\n",
    "        path = []\n",
    "        self.partitionHelper(s,0,res,path)\n",
    "        return res\n",
    "    \n",
    "    \n",
    "st = input()\n",
    "s = Solution()\n",
    "s.partition(st)"
   ]
  },
  {
   "cell_type": "code",
   "execution_count": 1,
   "metadata": {},
   "outputs": [
    {
     "data": {
      "text/plain": [
       "'b'"
      ]
     },
     "execution_count": 1,
     "metadata": {},
     "output_type": "execute_result"
    }
   ],
   "source": [
    "class ListNode:\n",
    "    def __init__(self,val):\n",
    "        self.val = val\n",
    "        self.next = None\n",
    "\n",
    "def TakeNodeInput():\n",
    "    NodeArray=[int(x) for x in input().split()]\n",
    "    head=None\n",
    "    tail =None\n",
    "    for ele in NodeArray:\n",
    "        if ele == -1:\n",
    "            break\n",
    "        NewNode=ListNode(ele) \n",
    "        if head==None:\n",
    "            head=NewNode\n",
    "            tail=head\n",
    "        else:\n",
    "            tail.next = NewNode\n",
    "            tail=tail.next\n",
    "    return head\n",
    "\n",
    "def PrintLL(head):\n",
    "    while head!=None:\n",
    "        print(str(head.val) + '->',end='')\n",
    "        head=head.next\n",
    "    print(\"None\")   \n",
    "    return\n",
    "\n",
    "\n",
    "class Solution:\n",
    "    def detectCycle(self, head: ListNode) -> ListNode:\n",
    "        if head is None:\n",
    "            return \n",
    "        \n",
    "        if head.next is None or head.next.next is None:\n",
    "            return\n",
    "        \n",
    "        fast = head.next.next\n",
    "        slow = head.next\n",
    "        while fast.next is not None and fast.next.next is not None:\n",
    "            if fast == slow :\n",
    "                return slow\n",
    "            else:\n",
    "                fast = fast.next.next\n",
    "                slow = slow.next\n",
    "        return \n",
    "    \n",
    "    \n",
    "head = TakeNodeInput()\n",
    "s = Solution()\n",
    "s.detectCycle(head)"
   ]
  },
  {
   "cell_type": "markdown",
   "metadata": {},
   "source": [
    "142. Linked List Cycle II(Medium)(https://leetcode.com/problems/linked-list-cycle-ii/)"
   ]
  },
  {
   "cell_type": "code",
   "execution_count": null,
   "metadata": {},
   "outputs": [],
   "source": [
    "class Solution:\n",
    "    def detectCycle(self, head: ListNode) -> ListNode:\n",
    "        if head is None:\n",
    "            return \n",
    "        \n",
    "        if head.next is None or head.next.next is None:\n",
    "            return\n",
    "        \n",
    "        fast = head.next.next\n",
    "        slow = head.next\n",
    "        while fast.next is not None and fast.next.next is not None:\n",
    "            if fast == slow :\n",
    "                # return slow.next\n",
    "                fast = head\n",
    "                while fast != slow:\n",
    "                    fast = fast.next\n",
    "                    slow = slow.next\n",
    "                return fast    \n",
    "            else:\n",
    "                fast = fast.next.next\n",
    "                slow = slow.next\n",
    "        return     "
   ]
  },
  {
   "cell_type": "code",
   "execution_count": 7,
   "metadata": {},
   "outputs": [
    {
     "name": "stdout",
     "output_type": "stream",
     "text": [
      "1 1\n"
     ]
    },
    {
     "data": {
      "text/plain": [
       "1"
      ]
     },
     "execution_count": 7,
     "metadata": {},
     "output_type": "execute_result"
    }
   ],
   "source": [
    "class Solution:\n",
    "    def singleNonDuplicate(self, nums):\n",
    "        i = 0\n",
    "        j = len(nums) - 1\n",
    "        if nums[i] != nums[i+1]:\n",
    "            return nums[i]\n",
    "        if nums[j] != nums[j-1]:\n",
    "            return nums[j]\n",
    "        \n",
    "        while i < j:\n",
    "            mid  = (i+j)//2\n",
    "            if nums[mid] != nums[mid+1] and nums[mid] != nums[mid-1]:\n",
    "                return nums[mid]\n",
    "            \n",
    "            elif mid % 2 == 0:\n",
    "                if nums[mid] != nums[mid-1] and nums[i] == nums[i+1]:\n",
    "                    i = mid\n",
    "                else:\n",
    "                    j = mid\n",
    "            else:\n",
    "                if nums[mid] != nums[mid-1] and nums[i] == nums[i+1]:\n",
    "                    j = mid\n",
    "                else:\n",
    "                    i = mid\n",
    "                \n",
    "           \n",
    "        return nums[i]\n",
    "    \n",
    "    \n",
    "nums = [int(i) for i in input().split()]    \n",
    "s = Solution()\n",
    "s.singleNonDuplicate(nums)"
   ]
  },
  {
   "cell_type": "code",
   "execution_count": null,
   "metadata": {},
   "outputs": [],
   "source": [
    "\n",
    "class Node:\n",
    "    def __init__(self, d):\n",
    "        self.data=d\n",
    "        self.next=None\n",
    "        self.bottom=None\n",
    "        \n",
    "def merge(root1,root2):\n",
    "    temp = None(0)\n",
    "    res = temp\n",
    "    \n",
    "    while root1.bottom is not None and root2.bottom is not None:\n",
    "        if root1.data < root2.data:\n",
    "            temp.bottom = root1\n",
    "            root1 = root1.bottom\n",
    "            temp = temp.bottom\n",
    "            \n",
    "        else:\n",
    "            temp.bottom = root2\n",
    "            root2 = root2.bottom\n",
    "            temp = temo.bottom\n",
    "            \n",
    "    if root1 is not None:\n",
    "        temp.bottom = root1\n",
    "    else:\n",
    "        temp.bottom = root2\n",
    "        \n",
    "    return res.bottom    \n",
    "        \n",
    "\n",
    "def flatten(root):\n",
    "    if root is None or root.next is None:\n",
    "        return root\n",
    "    \n",
    "    root.next = flatten(root.next)\n",
    "    \n",
    "    root = merge(root,root.next)\n",
    "    \n",
    "    return root"
   ]
  },
  {
   "cell_type": "code",
   "execution_count": null,
   "metadata": {},
   "outputs": [],
   "source": [
    "import queue\n",
    "class binarytree:\n",
    "    def __init__(self, val):\n",
    "        self.val = val\n",
    "        self.left = None\n",
    "        self.right = None\n",
    "\n",
    "def takeinputlevelwise():\n",
    "    q= queue.Queue()\n",
    "    print(\"Enter root node: \")\n",
    "    rootdata = int(input())\n",
    "    if rootdata == -9:\n",
    "        return None\n",
    "    root = binarytree(rootdata)\n",
    "    q.put(root)\n",
    "    while not q.empty():\n",
    "        curr_data = q.get()\n",
    "        print(\"Enter left child of \",curr_data.val)\n",
    "        leftchild = int(input())\n",
    "        if leftchild !=-9:\n",
    "            leftchildroot = binarytree(leftchild)\n",
    "            q.put(leftchildroot)\n",
    "            curr_data.left = leftchildroot\n",
    "            \n",
    "        print(\"Enter right child of \",curr_data.val)\n",
    "        rightchild = int(input())\n",
    "        if rightchild !=-9:\n",
    "            rightchildroot = binarytree(rightchild)\n",
    "            q.put(rightchildroot)\n",
    "            curr_data.right = rightchildroot \n",
    "    return root\n",
    "\n",
    "class Solution:\n",
    "    \n",
    "    def isSymmetricHelper(self,leftroot,rightroot):\n",
    "        if leftroot is None and rightroot is None:\n",
    "            return True\n",
    "        \n",
    "        if leftroot.val == rightroot.val:\n",
    "            if self.isSymmetricHelper(leftroot.left,leftroot.right):\n",
    "                return True\n",
    "            else:\n",
    "                return False\n",
    "        else:\n",
    "            return False\n",
    "    \n",
    "    \n",
    "    def isSymmetric(self, root: Optional[TreeNode]) -> bool:\n",
    "        if root is None:\n",
    "            return True\n",
    "        \n",
    "        return self.isSymmetricHelper(root.left,root.right)"
   ]
  },
  {
   "cell_type": "code",
   "execution_count": null,
   "metadata": {},
   "outputs": [],
   "source": [
    "class Solution:\n",
    "    def arrayNesting(self, nums):\n",
    "        ans = 0\n",
    "        for x in nums:\n",
    "            if x != -1:\n",
    "                count = 0\n",
    "                while nums[x] != -1:\n",
    "                    count += 1\n",
    "                    x = nums[x]\n",
    "                    nums[x] = -1\n",
    "                ans = max(ans,count)    \n",
    "        \n",
    "        return ans    \n",
    "    \n",
    "    \n",
    "    \n",
    "nums = [int(i) for i in input().split()]\n",
    "s = Solution()\n",
    "s.arrayNesting(nums)"
   ]
  },
  {
   "cell_type": "code",
   "execution_count": 7,
   "metadata": {},
   "outputs": [
    {
     "name": "stdout",
     "output_type": "stream",
     "text": [
      "2\n",
      "1 2 3\n",
      "4 5 6\n"
     ]
    },
    {
     "data": {
      "text/plain": [
       "12"
      ]
     },
     "execution_count": 7,
     "metadata": {},
     "output_type": "execute_result"
    }
   ],
   "source": [
    "class Solution:\n",
    "    \n",
    "    def minPathSumHelper(self,grid,i,j,row,col):\n",
    "        if i == row and j == col:\n",
    "            return grid[i][j]\n",
    "        \n",
    "        if i >= row+1 or j >= col+1:\n",
    "            return 9999\n",
    "        \n",
    "        right = self.minPathSumHelper(grid,i,j+1,row,col)\n",
    "        bottom = self.minPathSumHelper(grid,i+1,j,row,col)\n",
    "        \n",
    "        return min(right,bottom) + grid[i][j]\n",
    "    \n",
    "    def minPathSum(self, grid):\n",
    "        row = len(grid) - 1 \n",
    "        col = len(grid[0]) - 1\n",
    "        return self.minPathSumHelper(grid,0,0,row,col)\n",
    "grid = []\n",
    "n = int(input())\n",
    "for i in range(n):\n",
    "    row = [int(i) for i in input().split()]\n",
    "    grid.append(row)\n",
    "    \n",
    "    \n",
    "s = Solution()\n",
    "s.minPathSum(grid)"
   ]
  },
  {
   "cell_type": "code",
   "execution_count": 12,
   "metadata": {},
   "outputs": [
    {
     "name": "stdout",
     "output_type": "stream",
     "text": [
      "3\n",
      "1 3 1\n",
      "1 5 1\n",
      "4 2 1\n"
     ]
    },
    {
     "data": {
      "text/plain": [
       "7"
      ]
     },
     "execution_count": 12,
     "metadata": {},
     "output_type": "execute_result"
    }
   ],
   "source": [
    "class Solution:\n",
    "    \n",
    "    def minPathSumHelper(self,grid,i,j,row,col,dp):\n",
    "        if i == row and j == col:\n",
    "            return grid[i][j]\n",
    "        \n",
    "        if i >= row+1 or j >= col+1:\n",
    "            return 9999\n",
    "        \n",
    "        if dp[i][j+1] == -1:\n",
    "            right = self.minPathSumHelper(grid,i,j+1,row,col,dp)\n",
    "            dp[i][j+1] = right\n",
    "        else:\n",
    "            right = dp[i][j+1]\n",
    "        \n",
    "        if dp[i+1][j] == -1:\n",
    "            bottom = self.minPathSumHelper(grid,i+1,j,row,col,dp)\n",
    "            dp[i+1][j] = bottom\n",
    "        else:\n",
    "            bottom = dp[i+1][j]\n",
    "            \n",
    "        return min(right,bottom) + grid[i][j]\n",
    "    \n",
    "    def minPathSum(self, grid):\n",
    "        row = len(grid) - 1 \n",
    "        col = len(grid[0]) - 1\n",
    "        dp = [[-1 for i in range(col+2)] for j in range(row+2)]\n",
    "        return self.minPathSumHelper(grid,0,0,row,col,dp)\n",
    "grid = []\n",
    "n = int(input())\n",
    "for i in range(n):\n",
    "    row = [int(i) for i in input().split()]\n",
    "    grid.append(row)\n",
    "    \n",
    "    \n",
    "s = Solution()\n",
    "s.minPathSum(grid)"
   ]
  },
  {
   "cell_type": "code",
   "execution_count": 13,
   "metadata": {},
   "outputs": [
    {
     "name": "stdout",
     "output_type": "stream",
     "text": [
      "3\n",
      "1 2 3\n",
      "4 5 6\n",
      "9 8 9\n"
     ]
    },
    {
     "data": {
      "text/plain": [
       "2"
      ]
     },
     "execution_count": 13,
     "metadata": {},
     "output_type": "execute_result"
    }
   ],
   "source": [
    "def diagonalDifference(arr):\n",
    "    # Write your code here\n",
    "    n = len(arr)\n",
    "    dig1 = 0\n",
    "    for i in range(n):\n",
    "        dig1 += arr[i][i]\n",
    "        \n",
    "    dig2 = 0\n",
    "    for i in range(n):\n",
    "        dig2 += arr[i][(n-1)-i]\n",
    "        \n",
    "    return abs(dig1-dig2)\n",
    "\n",
    "\n",
    "grid = []\n",
    "n = int(input())\n",
    "for i in range(n):\n",
    "    row = [int(i) for i in input().split()]\n",
    "    grid.append(row)\n",
    "    \n",
    "diagonalDifference(grid)    "
   ]
  },
  {
   "cell_type": "code",
   "execution_count": 17,
   "metadata": {},
   "outputs": [
    {
     "name": "stdout",
     "output_type": "stream",
     "text": [
      "4\n",
      "   #\n",
      "  ##\n",
      " ###\n",
      "####\n"
     ]
    }
   ],
   "source": [
    "\n",
    "def staircase(n):\n",
    "    # Write your code here\n",
    "    i = 0\n",
    "    while i < n:\n",
    "        space = 0\n",
    "        while space < (n-1) - i:\n",
    "            print(\" \",end='')\n",
    "            space += 1\n",
    "                \n",
    "        hashs = 0\n",
    "        while hashs < i+1:\n",
    "            print(\"#\",end='')\n",
    "            hashs += 1\n",
    "        print() \n",
    "        i += 1\n",
    "        \n",
    "n = int(input())        \n",
    "staircase(n)"
   ]
  },
  {
   "cell_type": "code",
   "execution_count": 19,
   "metadata": {},
   "outputs": [
    {
     "ename": "SyntaxError",
     "evalue": "leading zeros in decimal integer literals are not permitted; use an 0o prefix for octal integers (<ipython-input-19-bb2ea24b6663>, line 1)",
     "output_type": "error",
     "traceback": [
      "\u001b[1;36m  File \u001b[1;32m\"<ipython-input-19-bb2ea24b6663>\"\u001b[1;36m, line \u001b[1;32m1\u001b[0m\n\u001b[1;33m    12+07\u001b[0m\n\u001b[1;37m        ^\u001b[0m\n\u001b[1;31mSyntaxError\u001b[0m\u001b[1;31m:\u001b[0m leading zeros in decimal integer literals are not permitted; use an 0o prefix for octal integers\n"
     ]
    }
   ],
   "source": [
    "12+07"
   ]
  },
  {
   "cell_type": "code",
   "execution_count": 30,
   "metadata": {},
   "outputs": [
    {
     "name": "stdout",
     "output_type": "stream",
     "text": [
      "01:00:00PM\n"
     ]
    },
    {
     "data": {
      "text/plain": [
       "'13:00:00'"
      ]
     },
     "execution_count": 30,
     "metadata": {},
     "output_type": "execute_result"
    }
   ],
   "source": [
    "def timeConversion(s):\n",
    "    if s[-2] + s[-1] == \"AM\" and s[0] + s[1] == '12':\n",
    "        return '00' +s[2:8]\n",
    "    elif s[-2] + s[-1] == \"PM\" and s[0] + s[1] == '12':\n",
    "        return s[0:8]\n",
    "    elif s[-2] + s[-1] == \"PM\":\n",
    "        if s[0] == '0':\n",
    "            return str(int(s[1]) + 12) + s[2:8]\n",
    "        else:\n",
    "            return str(int(s[0:2]) + 12) + s[2:8]\n",
    "    else:\n",
    "        return s[0:8]\n",
    "    \n",
    "s = input()\n",
    "timeConversion(s)"
   ]
  },
  {
   "cell_type": "code",
   "execution_count": 6,
   "metadata": {},
   "outputs": [
    {
     "name": "stdout",
     "output_type": "stream",
     "text": [
      "1 1 1 1 1\n",
      "1->None\n"
     ]
    }
   ],
   "source": [
    "# Definition for singly-linked list.\n",
    "# class ListNode:\n",
    "#     def __init__(self, val=0, next=None):\n",
    "#         self.val = val\n",
    "#         self.next = next\n",
    "class ListNode:\n",
    "    def __init__(self,val):\n",
    "        self.val = val\n",
    "        self.next = None\n",
    "\n",
    "def TakeNodeInput():\n",
    "    NodeArray=[int(x) for x in input().split()]\n",
    "    head=None\n",
    "    tail =None\n",
    "    for ele in NodeArray:\n",
    "        if ele == -1:\n",
    "            break\n",
    "        NewNode=ListNode(ele) \n",
    "        if head==None:\n",
    "            head=NewNode\n",
    "            tail=head\n",
    "        else:\n",
    "            tail.next = NewNode\n",
    "            tail=tail.next\n",
    "    return head\n",
    "\n",
    "def PrintLL(head):\n",
    "    while head!=None:\n",
    "        print(str(head.val) + '->',end='')\n",
    "        head=head.next\n",
    "    print(\"None\")   \n",
    "    return\n",
    "\n",
    "\n",
    "class Solution:\n",
    "    def deleteDuplicates(self, head):\n",
    "        if head is None or head.next is  None:\n",
    "            return  head\n",
    "        \n",
    "        curr = head\n",
    "        nxt = curr.next\n",
    "        \n",
    "        while nxt.next is not None:\n",
    "            if curr.val == nxt.val:\n",
    "                nxt = nxt.next\n",
    "            else:\n",
    "                curr.next = nxt\n",
    "                curr = curr.next \n",
    "                nxt = nxt.next\n",
    "                \n",
    "        if curr.val == nxt.val:\n",
    "            curr.next = None\n",
    "        else:\n",
    "            curr.next = nxt\n",
    "            \n",
    "        \n",
    "        return head\n",
    "    \n",
    "    \n",
    "head = TakeNodeInput()    \n",
    "s = Solution()\n",
    "head = s.deleteDuplicates(head)\n",
    "PrintLL(head)"
   ]
  },
  {
   "cell_type": "code",
   "execution_count": 16,
   "metadata": {},
   "outputs": [
    {
     "name": "stdout",
     "output_type": "stream",
     "text": [
      "0 1 2\n",
      "8\n",
      "1->2->0->None\n"
     ]
    }
   ],
   "source": [
    "# Definition for singly-linked list.\n",
    "# class ListNode:\n",
    "#     def __init__(self, val=0, next=None):\n",
    "#         self.val = val\n",
    "#         self.next = next\n",
    "\n",
    "\n",
    "class ListNode:\n",
    "    def __init__(self,val):\n",
    "        self.val = val\n",
    "        self.next = None\n",
    "\n",
    "def TakeNodeInput():\n",
    "    NodeArray=[int(x) for x in input().split()]\n",
    "    head=None\n",
    "    tail =None\n",
    "    for ele in NodeArray:\n",
    "        if ele == -1:\n",
    "            break\n",
    "        NewNode=ListNode(ele) \n",
    "        if head==None:\n",
    "            head=NewNode\n",
    "            tail=head\n",
    "        else:\n",
    "            tail.next = NewNode\n",
    "            tail=tail.next\n",
    "    return head\n",
    "\n",
    "def PrintLL(head):\n",
    "    while head!=None:\n",
    "        print(str(head.val) + '->',end='')\n",
    "        head=head.next\n",
    "    print(\"None\")   \n",
    "    return\n",
    "\n",
    "\n",
    "\n",
    "class Solution:\n",
    "    \n",
    "    def lengthLL(self,head):\n",
    "        count = 0\n",
    "        while head is not None:\n",
    "            count += 1\n",
    "            head = head.next\n",
    "            \n",
    "        return count    \n",
    "    \n",
    "    def rotateRight(self, head,k):\n",
    "        if head is None:\n",
    "            return head\n",
    "        \n",
    "        length = self.lengthLL(head)\n",
    "        if length == k :\n",
    "            return head\n",
    "        \n",
    "        if k > length:\n",
    "            val = (k % length)\n",
    "            k = length - val\n",
    "        else:\n",
    "            k = length - k\n",
    "            \n",
    "        count = 1\n",
    "        curr = head\n",
    "        while count != k:\n",
    "            curr = curr.next\n",
    "            count += 1\n",
    "            \n",
    "            \n",
    "        head2 = curr.next\n",
    "        curr.next = None\n",
    "        curr1 = head2\n",
    "        while curr1.next is  not None:\n",
    "            curr1 = curr1.next\n",
    "            \n",
    "        curr1.next = head\n",
    "        \n",
    "        return head2\n",
    "    \n",
    "    \n",
    "head = TakeNodeInput()\n",
    "k = int(input())\n",
    "s = Solution()\n",
    "head = s.rotateRight(head,k)\n",
    "PrintLL(head)"
   ]
  },
  {
   "cell_type": "code",
   "execution_count": 17,
   "metadata": {},
   "outputs": [
    {
     "data": {
      "text/plain": [
       "0"
      ]
     },
     "execution_count": 17,
     "metadata": {},
     "output_type": "execute_result"
    }
   ],
   "source": [
    "class Solution:\n",
    "    def reverse(self, x):\n",
    "        if x == 0:\n",
    "            return 0\n",
    "        flag = False\n",
    "        if x < 0:\n",
    "            flag = True\n",
    "            \n",
    "        rev = 0\n",
    "        x = abs(x)\n",
    "        while x!=0:\n",
    "            md = rev % 10\n",
    "            rev = rev *10 + md\n",
    "            x = x // 10\n",
    "            \n",
    "        if flag:\n",
    "            return rev\n",
    "        else:\n",
    "            return -1*rev\n",
    "        \n",
    "        \n",
    "x = int(input())\n",
    "s = Solution()\n",
    "s.reverse(x)"
   ]
  },
  {
   "cell_type": "code",
   "execution_count": 47,
   "metadata": {},
   "outputs": [
    {
     "name": "stdout",
     "output_type": "stream",
     "text": [
      "3\n"
     ]
    },
    {
     "data": {
      "text/plain": [
       "[[[1, None, 2, None, 3]],\n",
       " [[2, 1]],\n",
       " [[2, 1]],\n",
       " [[1, None, 3, None, 2]],\n",
       " [[3, None, 1, None, 2]],\n",
       " [[3, None, 2, None, 1]]]"
      ]
     },
     "execution_count": 47,
     "metadata": {},
     "output_type": "execute_result"
    }
   ],
   "source": [
    "import queue\n",
    "class BinaryTreeNode:\n",
    "    def __init__(self, data=0, left=None, right=None):\n",
    "        self.data = data\n",
    "        self.left = left\n",
    "        self.right = right\n",
    "        \n",
    "    \n",
    "\n",
    "        \n",
    "class Solution:\n",
    "    \n",
    "    def Createans(self,root,ans):\n",
    "        q = queue.Queue()\n",
    "        arr = []\n",
    "        q.put(root)\n",
    "        \n",
    "        while not q.empty():\n",
    "            value = q.get()\n",
    "            arr.append(value.data)\n",
    "            \n",
    "            if value.left is not None and value.right is not None:\n",
    "                q.put(value.left)\n",
    "                q.put(value.right)\n",
    "                \n",
    "            elif value.left == None and value.right is not None:\n",
    "                arr.append(None)\n",
    "                q.put(value.right)\n",
    "            elif  value.left != None and value.right is  None:   \n",
    "                arr.append(None)\n",
    "                q.put(value.left)\n",
    "            else:\n",
    "                ans.append(arr)\n",
    "                return ans\n",
    "                \n",
    "    def generateBSTHelper(self,root,data):\n",
    "        if root is None:\n",
    "            node = BinaryTreeNode(data)\n",
    "            return node\n",
    "            \n",
    "        if root.data > data:\n",
    "            root.left = self.generateBSTHelper(root.left,data)\n",
    "            return root\n",
    "        else:\n",
    "            root.right = self.generateBSTHelper(root.right,data)\n",
    "            return root\n",
    "    def perm(self,arr,ans):\n",
    "        if len(arr) == 1:\n",
    "            return [arr]\n",
    "\n",
    "\n",
    "        small_op = perm(arr[1:],ans)\n",
    "\n",
    "        op = []\n",
    "        for i in range(len(small_op)):\n",
    "            for j in range(len(small_op[0])+1):\n",
    "                op.append(small_op[i][0:j] + [arr[0]] + small_op[i][j:])\n",
    "\n",
    "        return op              \n",
    "    \n",
    "    \n",
    "    \n",
    "    def generateTrees(self, n):\n",
    "        arr = [i for i in range(1,n+1)]\n",
    "        arr = self.perm(arr,[])\n",
    "        ans = []\n",
    "        for i in arr:\n",
    "            root = self.generateBSTHelper(None,i[0])\n",
    "            for j in range(1,len(i)):\n",
    "                root = self.generateBSTHelper(root,i[j])\n",
    "            \n",
    "                \n",
    "            ans.append(self.Createans(root,[]))\n",
    "        return ans\n",
    "            \n",
    "n = int(input())\n",
    "s = Solution()\n",
    "s.generateTrees(n)"
   ]
  },
  {
   "cell_type": "code",
   "execution_count": 43,
   "metadata": {},
   "outputs": [
    {
     "data": {
      "text/plain": [
       "[[1, 2, 3], [2, 1, 3], [2, 3, 1], [1, 3, 2], [3, 1, 2], [3, 2, 1]]"
      ]
     },
     "execution_count": 43,
     "metadata": {},
     "output_type": "execute_result"
    }
   ],
   "source": [
    "def perm(arr,ans):\n",
    "    if len(arr) == 1:\n",
    "        return [arr]\n",
    "    \n",
    "    \n",
    "    small_op = perm(arr[1:],ans)\n",
    "    \n",
    "    op = []\n",
    "    for i in range(len(small_op)):\n",
    "        for j in range(len(small_op[0])+1):\n",
    "            op.append(small_op[i][0:j] + [arr[0]] + small_op[i][j:])\n",
    "            \n",
    "    return op    \n",
    "\n",
    "perm([1,2,3],[])"
   ]
  },
  {
   "cell_type": "code",
   "execution_count": 5,
   "metadata": {},
   "outputs": [
    {
     "name": "stdout",
     "output_type": "stream",
     "text": [
      "2\n"
     ]
    },
    {
     "data": {
      "text/plain": [
       "False"
      ]
     },
     "execution_count": 5,
     "metadata": {},
     "output_type": "execute_result"
    }
   ],
   "source": [
    "class Solution:\n",
    "    def isHappy(self, n):\n",
    "        dic = {}\n",
    "        \n",
    "        while n not in dic:\n",
    "            if n == 1:\n",
    "                return True\n",
    "            else:\n",
    "                dic[n] = True\n",
    "                num = str(n)\n",
    "                value = 0\n",
    "                for i in num:\n",
    "                    value += int(i) ** 2\n",
    "                    \n",
    "                n = value\n",
    "                \n",
    "        return False\n",
    "    \n",
    "    \n",
    "n = int(input())\n",
    "s = Solution()\n",
    "s.isHappy(n)"
   ]
  },
  {
   "cell_type": "code",
   "execution_count": 13,
   "metadata": {},
   "outputs": [
    {
     "name": "stdout",
     "output_type": "stream",
     "text": [
      "3 9 20 15 7\n",
      "9 3 15 20 7\n",
      "3 9 20 15 7 "
     ]
    }
   ],
   "source": [
    "# Definition for a binary tree node.\n",
    "# class TreeNode:\n",
    "#     def __init__(self, val=0, left=None, right=None):\n",
    "#         self.val = val\n",
    "#         self.left = left\n",
    "#         self.right = right\n",
    "class TreeNode:\n",
    "    def __init__(self, val=0, left=None, right=None):\n",
    "        self.val = val\n",
    "        self.left = left\n",
    "        self.right = right\n",
    "\n",
    "    def PrintTree(self,root):\n",
    "        if root is None:\n",
    "            return\n",
    "        print(root.val , end=' ')\n",
    "        self.PrintTree(root.left)\n",
    "        self.PrintTree(root.right)\n",
    "        \n",
    "\n",
    "class Solution:\n",
    "    \n",
    "    def PrintTree(self,root):\n",
    "        if root is None:\n",
    "            return\n",
    "        \n",
    "        print(root.val , end=' ')\n",
    "        self.PrintTree(root.left)\n",
    "        self.PrintTree(root.right)    \n",
    "    \n",
    "    def buildTree(self, preorder,inorder):\n",
    "        if len(inorder) == 0 or len(preorder)==0:\n",
    "            return None\n",
    "        \n",
    "        val = preorder[0]\n",
    "        root = TreeNode(val)\n",
    "        \n",
    "        i = 0\n",
    "        while i < len(inorder):\n",
    "            if val == inorder[i]:\n",
    "                break\n",
    "            else:\n",
    "                i += 1\n",
    "                \n",
    "        leftpreorder = preorder[1:1+i]\n",
    "        rightpreorder = preorder[1+i:]\n",
    "        \n",
    "        leftinorder = inorder[0:i]\n",
    "        rightinorder = inorder[i+1:]\n",
    "        \n",
    "\n",
    "        root.left = self.buildTree(leftpreorder,leftinorder)\n",
    "        root.right = self.buildTree(rightpreorder,rightinorder)\n",
    "                \n",
    "        return root        \n",
    " \n",
    "preorder = [int(i) for i in input().split()]\n",
    "inorder = [int(i) for i in input().split()]\n",
    "\n",
    "s = Solution()\n",
    "root = s.buildTree(preorder,inorder)\n",
    "s.PrintTree(root)"
   ]
  },
  {
   "cell_type": "code",
   "execution_count": 15,
   "metadata": {},
   "outputs": [
    {
     "name": "stdout",
     "output_type": "stream",
     "text": [
      "15\n"
     ]
    },
    {
     "data": {
      "text/plain": [
       "[1,\n",
       " 2,\n",
       " 'Fizz',\n",
       " 4,\n",
       " 'Buzz',\n",
       " 'Fizz',\n",
       " 7,\n",
       " 8,\n",
       " 'Fizz',\n",
       " 'Buzz',\n",
       " 11,\n",
       " 'Fizz',\n",
       " 13,\n",
       " 14,\n",
       " 'FizzBuzz']"
      ]
     },
     "execution_count": 15,
     "metadata": {},
     "output_type": "execute_result"
    }
   ],
   "source": [
    "class Solution:\n",
    "    def fizzBuzz(self, n):\n",
    "        ans = []\n",
    "        for i in range(1,n+1):\n",
    "            if i%3 == 0 and i%5 == 0:\n",
    "                ans.append(\"FizzBuzz\")\n",
    "            elif i%3 == 0:\n",
    "                ans.append(\"Fizz\")\n",
    "            elif i%5 == 0:\n",
    "                ans.append(\"Buzz\")\n",
    "            else:\n",
    "                ans.append(i)\n",
    "                \n",
    "        return ans \n",
    "    \n",
    "s = Solution()\n",
    "n = int(input())\n",
    "s.fizzBuzz(n)"
   ]
  },
  {
   "cell_type": "code",
   "execution_count": 31,
   "metadata": {},
   "outputs": [
    {
     "name": "stdout",
     "output_type": "stream",
     "text": [
      "3\n",
      "0900 1100 12345\n",
      "1000 1200 1240\n"
     ]
    },
    {
     "data": {
      "text/plain": [
       "3"
      ]
     },
     "execution_count": 31,
     "metadata": {},
     "output_type": "execute_result"
    }
   ],
   "source": [
    "class meeting:\n",
    "    def __init__(self,star,end):\n",
    "        self.start = star\n",
    "        self.end = end\n",
    "\n",
    "class Solution:\n",
    "    \n",
    "    def maximumMeetings(self,n,start,end):\n",
    "        arr = []\n",
    "        ans = 1\n",
    "        for i in range(n):\n",
    "            arr.append(meeting(start[i],end[i]))\n",
    "            \n",
    "        arr.sort(key = lambda arr: arr.end) \n",
    "        time_limit = arr[0].end\n",
    "        \n",
    "        for i in range(1,n):\n",
    "            if arr[i].start > time_limit:\n",
    "                ans += 1\n",
    "                time_limit = arr[i].end\n",
    "        return ans\n",
    "        # code here\n",
    "s = Solution()\n",
    "n = int(input())\n",
    "start = [int(i) for i in input().split()]\n",
    "end = [int(i) for i in input().split()]\n",
    "s.maximumMeetings(n,start,end)"
   ]
  },
  {
   "cell_type": "code",
   "execution_count": 34,
   "metadata": {},
   "outputs": [
    {
     "data": {
      "text/plain": [
       "[1, 5]"
      ]
     },
     "execution_count": 34,
     "metadata": {},
     "output_type": "execute_result"
    }
   ],
   "source": [
    "ar = [1,3,5]\n",
    "ar.remove(3)\n",
    "ar"
   ]
  },
  {
   "cell_type": "code",
   "execution_count": 19,
   "metadata": {},
   "outputs": [
    {
     "name": "stdout",
     "output_type": "stream",
     "text": [
      "6297854\n"
     ]
    },
    {
     "data": {
      "text/plain": [
       "False"
      ]
     },
     "execution_count": 19,
     "metadata": {},
     "output_type": "execute_result"
    }
   ],
   "source": [
    "class Solution:\n",
    "    def isPowerOfThree(self, n):\n",
    "        while n != 1:\n",
    "            if n % 3 == 0:\n",
    "                n = n//3\n",
    "            else:\n",
    "                return False\n",
    "            \n",
    "        return True\n",
    "n = int(input())    \n",
    "s = Solution()\n",
    "s.isPowerOfThree(n)"
   ]
  },
  {
   "cell_type": "code",
   "execution_count": 37,
   "metadata": {},
   "outputs": [
    {
     "name": "stdout",
     "output_type": "stream",
     "text": [
      "6\n",
      "0900 0940 0950 1100 1500 1800\n",
      "0910 1200 1120 1130 1900 2000\n"
     ]
    },
    {
     "data": {
      "text/plain": [
       "3"
      ]
     },
     "execution_count": 37,
     "metadata": {},
     "output_type": "execute_result"
    }
   ],
   "source": [
    "class Solution:    \n",
    "\n",
    "    def minimumPlatform(self,n,arr,dep):\n",
    "        arr.sort()\n",
    "        dep.sort()\n",
    "        \n",
    "        finalresult = 1\n",
    "        platformsneeded = 1\n",
    "        i = 1\n",
    "        j = 0\n",
    "        \n",
    "        while i < n and j < n:\n",
    "            if arr[i] <= dep[j]:\n",
    "                platformsneeded += 1\n",
    "                i += 1\n",
    "                \n",
    "            elif arr[i] > dep[j]:\n",
    "                platformsneeded -= 1\n",
    "                j += 1\n",
    "                \n",
    "            finalresult = max(finalresult , platformsneeded)\n",
    "            \n",
    "n = int(input())\n",
    "start = [int(i) for i in input().split()]\n",
    "end = [int(i) for i in input().split()]\n",
    "s.minimumPlatform(n,start,end)    "
   ]
  },
  {
   "cell_type": "code",
   "execution_count": 45,
   "metadata": {},
   "outputs": [
    {
     "name": "stdout",
     "output_type": "stream",
     "text": [
      "1 2 3\n"
     ]
    },
    {
     "data": {
      "text/plain": [
       "[[], [3], [2], [2, 3], [1], [1, 3], [1, 2], [1, 2, 3]]"
      ]
     },
     "execution_count": 45,
     "metadata": {},
     "output_type": "execute_result"
    }
   ],
   "source": [
    "class Solution:\n",
    "    def subsets(self, nums):\n",
    "        if len(nums) == 0:\n",
    "            return [[]]\n",
    "        \n",
    "        \n",
    "        small_op = self.subsets(nums[1:])\n",
    "        ans = []\n",
    "        ans = small_op[:]\n",
    "        for i in small_op:\n",
    "            ans.append([nums[0]]+i)\n",
    "            \n",
    "            \n",
    "        return ans \n",
    "    \n",
    "s = Solution()\n",
    "nums = [int(i) for i in input().split()]\n",
    "ans = s.subsets(nums)\n",
    "ans"
   ]
  },
  {
   "cell_type": "code",
   "execution_count": 55,
   "metadata": {},
   "outputs": [
    {
     "name": "stdout",
     "output_type": "stream",
     "text": [
      "12 23 36 46 62\n",
      "spuda\n"
     ]
    },
    {
     "data": {
      "text/plain": [
       "'a'"
      ]
     },
     "execution_count": 55,
     "metadata": {},
     "output_type": "execute_result"
    }
   ],
   "source": [
    "class Solution:\n",
    "    def slowestKey(self, releaseTimes, keysPressed):\n",
    "        ans = keysPressed[0]\n",
    "        maxipress = releaseTimes[0]\n",
    "        i = 0\n",
    "        j = 1\n",
    "        n = len(keysPressed)\n",
    "        while j < n:\n",
    "            if releaseTimes[j] - releaseTimes[i] >= maxipress:             \n",
    "                if releaseTimes[j] - releaseTimes[i] == maxipress:\n",
    "                    if ord(ans[0]) > ord(keysPressed[j]):\n",
    "                        pass\n",
    "                    else:\n",
    "                        ans = keysPressed[j]\n",
    "                else:\n",
    "                    ans =  keysPressed[j]\n",
    "                    \n",
    "                maxipress = releaseTimes[j] - releaseTimes[i]    \n",
    "                i += 1\n",
    "                j += 1\n",
    "            else:\n",
    "                i += 1\n",
    "                j += 1\n",
    "        return ans        \n",
    "                \n",
    "releaseTimes =  [int(i) for i in input().split()]  \n",
    "keysPressed = input()\n",
    "s = Solution()\n",
    "s.slowestKey(releaseTimes,keysPressed)"
   ]
  },
  {
   "cell_type": "markdown",
   "metadata": {},
   "source": [
    "Job scheduling (Medium)(https://practice.geeksforgeeks.org/problems/job-sequencing-problem-1587115620/1#)(Greedy)"
   ]
  },
  {
   "cell_type": "code",
   "execution_count": 27,
   "metadata": {},
   "outputs": [
    {
     "name": "stdout",
     "output_type": "stream",
     "text": [
      "4\n",
      "1 4 20\n",
      "2 1 10\n",
      "3 1 40 \n",
      "4 1 30\n"
     ]
    },
    {
     "data": {
      "text/plain": [
       "[2, 60]"
      ]
     },
     "execution_count": 27,
     "metadata": {},
     "output_type": "execute_result"
    }
   ],
   "source": [
    "#User function Template for python3\n",
    "class Solution:\n",
    "    \n",
    "    #Function to find the maximum profit and the number of jobs done.\n",
    "    def JobScheduling(self,jobs,n):\n",
    "        jobs.sort(key=lambda x:x.profit)\n",
    "        maximumdeadline = 0\n",
    "        for i in jobs:\n",
    "            maximumdeadline = max(i.deadline,maximumdeadline)\n",
    "        \n",
    "        jobpool = [-1 for i in range(0,maximumdeadline+1)]\n",
    "        count = 0\n",
    "        profit = 0\n",
    "        for i in range(n-1,-1,-1):\n",
    "            for j in range(jobs[i].deadline,0,-1):\n",
    "                if jobpool[j] == -1:\n",
    "                    count += 1\n",
    "                    profit += jobs[i].profit\n",
    "                    jobpool[j] = jobs[i].id\n",
    "                    break\n",
    "\n",
    "        return [count , profit]  \n",
    "    \n",
    "n = int(input())\n",
    "jobs = []\n",
    "for i in range(n):\n",
    "    row = [int(i) for i in input().split()]\n",
    "    jobs.append(row)\n",
    "s = Solution()   \n",
    "s.JobScheduling(jobs,n)"
   ]
  },
  {
   "cell_type": "code",
   "execution_count": 47,
   "metadata": {},
   "outputs": [
    {
     "name": "stdout",
     "output_type": "stream",
     "text": [
      "5\n",
      "111221\n"
     ]
    }
   ],
   "source": [
    "class Solution:\n",
    "    def countAndSay(self, n):\n",
    "        if n == 1:\n",
    "            return '1'\n",
    "        \n",
    "        small_ans  = self.countAndSay(n-1)\n",
    "        i = 0\n",
    "        ans = ''\n",
    "        while i < len(small_ans):\n",
    "            count = 1\n",
    "            j = i + 1\n",
    "            while j < len(small_ans):\n",
    "                if small_ans[i] == small_ans[j]:\n",
    "                    count += 1\n",
    "                    j += 1\n",
    "                else:\n",
    "                    ans = ans + str(count) + str(small_ans[i])\n",
    "                    break\n",
    "            i = j\n",
    "        ans = ans + str(count) + str(small_ans[i-1])   \n",
    "        return ans\n",
    "\n",
    "s = Solution()\n",
    "n = int(input())\n",
    "print(s.countAndSay(n))"
   ]
  },
  {
   "cell_type": "code",
   "execution_count": 71,
   "metadata": {},
   "outputs": [
    {
     "name": "stdout",
     "output_type": "stream",
     "text": [
      "3\n",
      "a a a a\n",
      "a a a a\n",
      "a a a a\n",
      "aaaaaaaaaaaaa\n",
      "false\n"
     ]
    }
   ],
   "source": [
    "class Solution:\n",
    "    \n",
    "    def existHelper(self,board,i,j,word,k,dp):\n",
    "        if k >= len(word):\n",
    "            return True\n",
    "        \n",
    "        if i>= len(board) or i < 0 or j >= len(board[0]) or j < 0:\n",
    "            return False\n",
    "        \n",
    "        if board[i][j] == word[k] and dp[i][j] == False:\n",
    "            dp[i][j] = True\n",
    "            if k >= len(word):\n",
    "                return True            \n",
    "            top = self.existHelper(board,i-1,j,word,k+1,dp)\n",
    "            left = self.existHelper(board,i,j-1,word,k+1,dp)\n",
    "            right = self.existHelper(board,i,j+1,word,k+1,dp)\n",
    "            bottom = self.existHelper(board,i+1,j,word,k+1,dp)\n",
    "            \n",
    "            if top is True or left is True or right is True or bottom is True:\n",
    "                return True\n",
    "            dp[i][j] = False\n",
    "            \n",
    "        elif not dp[i][j] and board[i][j] != word[k]:\n",
    "            k -= 1    \n",
    "        else:\n",
    "            return False\n",
    "\n",
    "    \n",
    "    def exist(self, board,word):\n",
    "        row = len(board)\n",
    "        col = len(board[0])\n",
    "        \n",
    "        dp = [[False for j in range(col)]for i in range(row)]\n",
    "        \n",
    "        for i in range(row):\n",
    "            for j in range(col):\n",
    "                if word[0] == board[i][j]:\n",
    "                    if self.existHelper(board,i,j,word,0,dp):\n",
    "                        return True\n",
    "        return False            \n",
    "\n",
    "\n",
    "n = int(input())\n",
    "board = []\n",
    "for i in range(n):\n",
    "    row = [i for i in input().split()]\n",
    "    board.append(row)\n",
    "    \n",
    "word = input()\n",
    "s = Solution()\n",
    "ans = s.exist(board,word)\n",
    "if ans:\n",
    "    print(\"true\")\n",
    "else:\n",
    "    print(\"false\")"
   ]
  },
  {
   "cell_type": "markdown",
   "metadata": {},
   "source": [
    "Greedy Knapsack problem(https://practice.geeksforgeeks.org/problems/fractional-knapsack-1587115620/1#)"
   ]
  },
  {
   "cell_type": "code",
   "execution_count": 2,
   "metadata": {},
   "outputs": [
    {
     "data": {
      "text/plain": [
       "[[10, 20], [50, 60]]"
      ]
     },
     "execution_count": 2,
     "metadata": {},
     "output_type": "execute_result"
    }
   ],
   "source": [
    "#User function Template for python3\n",
    "\n",
    "class Solution:    \n",
    "    #Function to get the maximum total value in the knapsack.\n",
    "    def fractionalknapsack(self, W,Items,n):\n",
    "        profit = 0\n",
    "        Items.sort(key=lambda x:x.value/x.weight,reverse=True)\n",
    "    \n",
    "        for i in range(n):\n",
    "            if W > 0 and Items[i].weight <= W:\n",
    "                profit += Items[i].value\n",
    "                W -= Items[i].weight\n",
    "            elif W > 0:\n",
    "                profit += (Items[i].value/Items[i].weight)*W\n",
    "                break\n",
    "                # W -=W/Items[i].weight\n",
    "        \n",
    "        return profit"
   ]
  },
  {
   "cell_type": "code",
   "execution_count": 4,
   "metadata": {},
   "outputs": [
    {
     "name": "stdout",
     "output_type": "stream",
     "text": [
      "2 3\n",
      "2\n"
     ]
    },
    {
     "data": {
      "text/plain": [
       "[0, 3, 2, 5]"
      ]
     },
     "execution_count": 4,
     "metadata": {},
     "output_type": "execute_result"
    }
   ],
   "source": [
    "class Solution:\n",
    "    def subsetSums(self, arr, N):\n",
    "        # code here\n",
    "        if len(arr) == 1:\n",
    "            return [0,arr[0]]\n",
    "\n",
    "        small_op = self.subsetSums(arr[1:],N)\n",
    "        ans = small_op[:]\n",
    "        for i in small_op:\n",
    "            ans.append(arr[0] + i)\n",
    "        return ans\n",
    "\n",
    "arr = [int(i) for i in input().split()]\n",
    "N = int(input())\n",
    "s = Solution()\n",
    "s.subsetSums(arr,N)"
   ]
  },
  {
   "cell_type": "code",
   "execution_count": 82,
   "metadata": {},
   "outputs": [
    {
     "name": "stdout",
     "output_type": "stream",
     "text": [
      "a\n",
      "305\n"
     ]
    },
    {
     "data": {
      "text/plain": [
       "'t'"
      ]
     },
     "execution_count": 82,
     "metadata": {},
     "output_type": "execute_result"
    }
   ],
   "source": [
    "class Solution:\n",
    "    def shiftingLetters(self, s,shifts):\n",
    "        ans = []\n",
    "        n = len(s)\n",
    "        for i in range(n-2, -1, -1):\n",
    "            shifts[i] += shifts[i+1]\n",
    "            \n",
    "        for i in range(len(s)):\n",
    "            newindex = (ord(s[i]) - 97 + shifts[i]) % 26\n",
    "            ans.append(chr(newindex + 97))\n",
    "        return ''.join(ans)\n",
    "\n",
    "        \n",
    "s= Solution()\n",
    "st = input()\n",
    "shifts = [int(i) for i in input().split()]\n",
    "s.shiftingLetters(st,shifts)"
   ]
  },
  {
   "cell_type": "code",
   "execution_count": 78,
   "metadata": {},
   "outputs": [
    {
     "data": {
      "text/plain": [
       "25"
      ]
     },
     "execution_count": 78,
     "metadata": {},
     "output_type": "execute_result"
    }
   ],
   "source": [
    "class Solution:\n",
    "    def orderOfLargestPlusSign(self, n: int, mines: List[List[int]]) -> int:\n",
    "        grid = [[0 for j in range(n)]for i in range(n)]\n",
    "        ans = 0\n",
    "        #Preprocessor grids\n",
    "        left = [[0 for j in range(n+2)]for i in range(n+2)]\n",
    "        right = [[0 for j in range(n+2)]for i in range(n+2)]\n",
    "        top = [[0 for j in range(n+2)]for i in range(n+2)]\n",
    "        bottom = [[0 for j in range(n+2)]for i in range(n+2)]\n",
    "        \n",
    "        \n",
    "        #We have to work on mines\n",
    "        for i in range(len(mines)):\n",
    "            grid[mines[i][0]mines[i][1]] = 0\n",
    "            \n",
    "        for i in range(1,n+1):\n",
    "            for j in range(1,n+1):\n",
    "                if grid[i][j] == 0:\n",
    "                    continue\n",
    "                left[i][j] = left[i][j-1] += 1\n",
    "                top[i][j] = top[i-1][j] += 1\n",
    "        \n",
    "        for i in range(n,0,-1):\n",
    "            for j in range(n,0,-1):\n",
    "                if grid[i][j] == 0:\n",
    "                    continue\n",
    "                    \n",
    "                right[i][j] = right[i][j+1] += 1\n",
    "                bottom[i][j] = bottom[i+1][j] += 1\n",
    "            tempans = min(left,right,bottom,top)\n",
    "            \n",
    "            ans = max(ans,tempans)\n",
    "        \n",
    "        return ans"
   ]
  },
  {
   "cell_type": "code",
   "execution_count": 7,
   "metadata": {},
   "outputs": [
    {
     "name": "stdout",
     "output_type": "stream",
     "text": [
      "2\n",
      "1\n"
     ]
    },
    {
     "data": {
      "text/plain": [
       "[]"
      ]
     },
     "execution_count": 7,
     "metadata": {},
     "output_type": "execute_result"
    }
   ],
   "source": [
    "class Solution:\n",
    "    \n",
    "    def combinationSumHelper(self,index,n,candidates,target,ans,tempans):\n",
    "        if index == n or target == 0:\n",
    "            if target == 0:\n",
    "                ans.append(tempans[:])\n",
    "            return \n",
    "        \n",
    "        if target == 0:\n",
    "            ans.append(tempans[:])\n",
    "            \n",
    "        if candidates[index] <= target:\n",
    "            tempans.append(candidates[index])\n",
    "            self.combinationSumHelper(index,n,candidates,target-candidates[index],ans,tempans)\n",
    "            tempans.pop()\n",
    "            \n",
    "        self.combinationSumHelper(index+1,n,candidates,target,ans,tempans)\n",
    "        return ans\n",
    "        \n",
    "    \n",
    "    def combinationSum(self, candidates,target):\n",
    "        ans= []\n",
    "        self.combinationSumHelper(0,len(candidates),candidates,target,ans,[])\n",
    "        return ans\n",
    "    \n",
    "candidates = [int(i) for i in input().split()]\n",
    "target = int(input())\n",
    "s = Solution()\n",
    "s.combinationSum(candidates,target)"
   ]
  },
  {
   "cell_type": "code",
   "execution_count": 5,
   "metadata": {},
   "outputs": [
    {
     "data": {
      "text/plain": [
       "1307674368000"
      ]
     },
     "execution_count": 5,
     "metadata": {},
     "output_type": "execute_result"
    }
   ],
   "source": [
    "#O(n)\n",
    "# class Solution:\n",
    "    \n",
    "def fact(n):\n",
    "    if n == 1:\n",
    "        return 1\n",
    "    return n * fact(n-1)\n",
    "   \n",
    "\n",
    "#     def trailingZeroes(self, n: int) -> int:\n",
    "#         if n == 0:\n",
    "#             return 0\n",
    "#         ans = str(self.fact(n))\n",
    "#         i = len(ans) - 1\n",
    "#         count = 0\n",
    "#         while i > 0:\n",
    "#             if ans[i] == '0':\n",
    "#                 count += 1\n",
    "#                 i -= 1\n",
    "#             else:\n",
    "#                 return count\n",
    "#         return count\n",
    "    \n",
    "    \n",
    "# n = int(input())\n",
    "# s = Solution()\n",
    "# s.trailingZeroes(n)\n",
    "fact(15)"
   ]
  },
  {
   "cell_type": "markdown",
   "metadata": {},
   "source": [
    "trailingZeroes(EASY)(LEETCODE)"
   ]
  },
  {
   "cell_type": "code",
   "execution_count": 8,
   "metadata": {},
   "outputs": [
    {
     "name": "stdout",
     "output_type": "stream",
     "text": [
      "15\n"
     ]
    },
    {
     "data": {
      "text/plain": [
       "3"
      ]
     },
     "execution_count": 8,
     "metadata": {},
     "output_type": "execute_result"
    }
   ],
   "source": [
    "class Solution:\n",
    "    def trailingZeroes(self, n: int) -> int:\n",
    "        #If you analize it closely you can see that\n",
    "        #n == 5 -->120 and from 5 to 9 there is only one zero right .\n",
    "        #n = 10 -->3628800\n",
    "        #and after next 5 i.e 15 ---> 1307674368000 and number of zero is 3\n",
    "        #From there we can say that after every 5 or multiple of 5's the number of zero increase\n",
    "        \n",
    "        a = 0\n",
    "        while n >= 5:\n",
    "            a += n//5\n",
    "            n = n//5\n",
    "        return a\n",
    "    \n",
    "s = Solution()\n",
    "n = int(input())\n",
    "s.trailingZeroes(n)"
   ]
  },
  {
   "cell_type": "code",
   "execution_count": 19,
   "metadata": {},
   "outputs": [
    {
     "ename": "SyntaxError",
     "evalue": "leading zeros in decimal integer literals are not permitted; use an 0o prefix for octal integers (<ipython-input-19-2e9054d23122>, line 9)",
     "output_type": "error",
     "traceback": [
      "\u001b[1;36m  File \u001b[1;32m\"<ipython-input-19-2e9054d23122>\"\u001b[1;36m, line \u001b[1;32m9\u001b[0m\n\u001b[1;33m    reverseBits(00000010100101000001111010011100)\u001b[0m\n\u001b[1;37m                                               ^\u001b[0m\n\u001b[1;31mSyntaxError\u001b[0m\u001b[1;31m:\u001b[0m leading zeros in decimal integer literals are not permitted; use an 0o prefix for octal integers\n"
     ]
    }
   ],
   "source": [
    "# # int('00111001011110000010100101000000',2)\n",
    "# # # bin(2)\n",
    "# st ='00000010100101000001111010011100'\n",
    "# int(st[::-1],2)\n",
    "def reverseBits(self, n: int) -> int:\n",
    "    a = '{:032b}'.format(n)\n",
    "    st = str(n)\n",
    "    return int(st[::-1],2)\n",
    "\n",
    "reverseBits(00000010100101000001111010011100)"
   ]
  },
  {
   "cell_type": "code",
   "execution_count": 34,
   "metadata": {},
   "outputs": [
    {
     "name": "stdout",
     "output_type": "stream",
     "text": [
      "1,1,1,2,2\n",
      "4\n"
     ]
    },
    {
     "data": {
      "text/plain": [
       "[[1, 1, 2], [2, 2]]"
      ]
     },
     "execution_count": 34,
     "metadata": {},
     "output_type": "execute_result"
    }
   ],
   "source": [
    "class Solution:\n",
    "    \n",
    "    def combinationSumHelper(self,index,n,candidates,target,ans,tempans):\n",
    "        if index == n or target == 0:\n",
    "            if target == 0:\n",
    "                ans.append(tempans[:])\n",
    "            return \n",
    "        for i in range(index,n):\n",
    "            if i == index and candidates[index] <= target:\n",
    "                tempans.append(candidates[i])\n",
    "                self.combinationSumHelper(i+1,n,candidates,target - candidates[i],ans,tempans)\n",
    "                tempans.pop()\n",
    "            elif candidates[i] != candidates[i-1] and candidates[index] <= target:\n",
    "                tempans.append(candidates[i])\n",
    "                self.combinationSumHelper(i+1,n,candidates,target - candidates[i],ans,tempans)\n",
    "                tempans.pop()\n",
    "\n",
    "        \n",
    "    \n",
    "    def combinationSum2(self, candidates,target):\n",
    "        ans= []\n",
    "        candidates.sort()\n",
    "        self.combinationSumHelper(0,len(candidates),candidates,target,ans,[])\n",
    "        return ans\n",
    "    \n",
    "candidates = [int(i) for i in input().split(',')]\n",
    "\n",
    "target = int(input())\n",
    "s = Solution()\n",
    "s.combinationSum2(candidates,target)"
   ]
  },
  {
   "cell_type": "code",
   "execution_count": 50,
   "metadata": {},
   "outputs": [
    {
     "name": "stdout",
     "output_type": "stream",
     "text": [
      "1,1,1,1,1,1,1,1,1,1,1,1,1,1,1,1,1,1,1,1,1,1,1\n"
     ]
    },
    {
     "data": {
      "text/plain": [
       "8388331"
      ]
     },
     "execution_count": 50,
     "metadata": {},
     "output_type": "execute_result"
    }
   ],
   "source": [
    "# global ans = 0\n",
    "\n",
    "class Solution:\n",
    "    \n",
    "    def __init__(self):\n",
    "        self.ans = 0\n",
    "    \n",
    "    def numberOfArithmeticSlicesHelper(self,index,nums,dp,diff):\n",
    "        if index == len(nums):\n",
    "            return \n",
    "        \n",
    "        for i in range(index,len(nums)):\n",
    "            if len(dp) == 0:\n",
    "                dp.append(nums[i])\n",
    "                self.numberOfArithmeticSlicesHelper(i+1,nums,dp,diff)\n",
    "                dp.pop()\n",
    "          \n",
    "    \n",
    "            elif len(dp) <= 1 :\n",
    "                dp.append(nums[i])\n",
    "                diff = nums[i] - dp[0]\n",
    "                self.numberOfArithmeticSlicesHelper(i+1,nums,dp,diff)\n",
    "                dp.pop()\n",
    "\n",
    "    \n",
    "            else:\n",
    "                if nums[i] - dp[-1] == diff:\n",
    "                    self.ans += 1\n",
    "                    dp.append(nums[i])\n",
    "                    self.numberOfArithmeticSlicesHelper(i+1,nums,dp,diff)\n",
    "                    dp.pop()\n",
    "                    \n",
    "                    \n",
    "                \n",
    "    def numberOfArithmeticSlices(self, nums):\n",
    "#         ans = 0\n",
    "        self.numberOfArithmeticSlicesHelper(0,nums,[],0)\n",
    "        return self.ans\n",
    "    \n",
    "nums = [int(i) for i in input().split(',')]\n",
    "s = Solution()\n",
    "s.numberOfArithmeticSlices(nums)"
   ]
  },
  {
   "cell_type": "code",
   "execution_count": 55,
   "metadata": {},
   "outputs": [
    {
     "name": "stdout",
     "output_type": "stream",
     "text": [
      "2 4 6 8 10\n",
      "[Counter(), Counter({2: 1}), Counter(), Counter(), Counter()]\n",
      "[Counter(), Counter({2: 1}), Counter({4: 1}), Counter(), Counter()]\n",
      "[Counter(), Counter({2: 1}), Counter({2: 2, 4: 1}), Counter(), Counter()]\n",
      "[Counter(), Counter({2: 1}), Counter({2: 2, 4: 1}), Counter({6: 1}), Counter()]\n",
      "[Counter(), Counter({2: 1}), Counter({2: 2, 4: 1}), Counter({6: 1, 4: 1}), Counter()]\n",
      "[Counter(), Counter({2: 1}), Counter({2: 2, 4: 1}), Counter({2: 3, 6: 1, 4: 1}), Counter()]\n",
      "[Counter(), Counter({2: 1}), Counter({2: 2, 4: 1}), Counter({2: 3, 6: 1, 4: 1}), Counter({8: 1})]\n",
      "[Counter(), Counter({2: 1}), Counter({2: 2, 4: 1}), Counter({2: 3, 6: 1, 4: 1}), Counter({8: 1, 6: 1})]\n",
      "[Counter(), Counter({2: 1}), Counter({2: 2, 4: 1}), Counter({2: 3, 6: 1, 4: 1}), Counter({4: 2, 8: 1, 6: 1})]\n",
      "[Counter(), Counter({2: 1}), Counter({2: 2, 4: 1}), Counter({2: 3, 6: 1, 4: 1}), Counter({2: 4, 4: 2, 8: 1, 6: 1})]\n"
     ]
    },
    {
     "data": {
      "text/plain": [
       "7"
      ]
     },
     "execution_count": 55,
     "metadata": {},
     "output_type": "execute_result"
    }
   ],
   "source": [
    "from collections import Counter\n",
    "class Solution:\n",
    "    def numberOfArithmeticSlices(self, A):\n",
    "        total, n = 0, len(A)\n",
    "        dp = [Counter() for item in A]\n",
    "#         return dp\n",
    "        for i in range(n):\n",
    "            for j in range(i):\n",
    "                diff = A[i] - A[j]\n",
    "                dp[i][diff] += dp[j][diff] + 1\n",
    "                print(dp)\n",
    "                \n",
    "                total += dp[j][diff]\n",
    "        return total\n",
    "    \n",
    "s = Solution()\n",
    "num = nums = [int(i) for i in input().split()]\n",
    "s.numberOfArithmeticSlices(num)"
   ]
  },
  {
   "cell_type": "code",
   "execution_count": 4,
   "metadata": {},
   "outputs": [
    {
     "name": "stdout",
     "output_type": "stream",
     "text": [
      "1 2 3 4\n",
      "[Counter({-1: 1}), Counter(), Counter(), Counter()]\n",
      "[Counter({-1: 1, -2: 1}), Counter(), Counter(), Counter()]\n",
      "[Counter({-1: 1, -2: 1, -3: 1}), Counter(), Counter(), Counter()]\n",
      "[Counter({-1: 1, -2: 1, -3: 1}), Counter({-1: 1}), Counter(), Counter()]\n",
      "[Counter({-1: 1, -2: 1, -3: 1}), Counter({-1: 1, -2: 1}), Counter(), Counter()]\n"
     ]
    },
    {
     "data": {
      "text/plain": [
       "2"
      ]
     },
     "execution_count": 4,
     "metadata": {},
     "output_type": "execute_result"
    }
   ],
   "source": [
    "from collections import Counter\n",
    "class Solution:\n",
    "    def numberOfArithmeticSlices(self, A):\n",
    "        total, n = 0, len(A)\n",
    "        dp = [Counter() for item in A]\n",
    "#         return dp\n",
    "        for i in range(n-2):\n",
    "            for j in range(i+1,n):\n",
    "                diff = A[i] - A[j]\n",
    "                dp[i][diff] += dp[j][diff] + 1\n",
    "                print(dp)\n",
    "                \n",
    "                total += dp[i][diff]\n",
    "        return total\n",
    "    \n",
    "s = Solution()\n",
    "num = nums = [int(i) for i in input().split()]\n",
    "s.numberOfArithmeticSlices(num)"
   ]
  },
  {
   "cell_type": "code",
   "execution_count": 21,
   "metadata": {},
   "outputs": [
    {
     "name": "stdout",
     "output_type": "stream",
     "text": [
      "3\n",
      "1\n"
     ]
    },
    {
     "data": {
      "text/plain": [
       "'123'"
      ]
     },
     "execution_count": 21,
     "metadata": {},
     "output_type": "execute_result"
    }
   ],
   "source": [
    "class Solution:\n",
    "    def getPermutation(self, n: int, k: int) -> str:\n",
    "        nums = []\n",
    "        fact = 1\n",
    "        for i in range(1,n):\n",
    "            fact = fact * i\n",
    "            nums.append(i)\n",
    "        \n",
    "        nums.append(n)\n",
    "        ans = ''\n",
    "        k -= 1\n",
    "        while True:\n",
    "            ans += str(nums[k//fact])\n",
    "            nums.remove(nums[k//fact])\n",
    "            if len(nums) == 0:\n",
    "                break\n",
    "                \n",
    "            k = k % fact\n",
    "            fact = fact // len(nums)\n",
    "        return ans\n",
    "n = int(input())\n",
    "k = int(input())\n",
    "s = Solution()\n",
    "s.getPermutation(n,k)"
   ]
  },
  {
   "cell_type": "code",
   "execution_count": 23,
   "metadata": {},
   "outputs": [
    {
     "ename": "ValueError",
     "evalue": "invalid literal for int() with base 10: ')'",
     "output_type": "error",
     "traceback": [
      "\u001b[1;31m---------------------------------------------------------------------------\u001b[0m",
      "\u001b[1;31mValueError\u001b[0m                                Traceback (most recent call last)",
      "\u001b[1;32m<ipython-input-23-d639302ec3d0>\u001b[0m in \u001b[0;36m<module>\u001b[1;34m\u001b[0m\n\u001b[1;32m----> 1\u001b[1;33m \u001b[0mint\u001b[0m\u001b[1;33m(\u001b[0m\u001b[1;34m')'\u001b[0m\u001b[1;33m)\u001b[0m\u001b[1;33m\u001b[0m\u001b[1;33m\u001b[0m\u001b[0m\n\u001b[0m",
      "\u001b[1;31mValueError\u001b[0m: invalid literal for int() with base 10: ')'"
     ]
    }
   ],
   "source": [
    "int(')')"
   ]
  },
  {
   "cell_type": "code",
   "execution_count": 47,
   "metadata": {},
   "outputs": [
    {
     "name": "stdout",
     "output_type": "stream",
     "text": [
      "1+2+3-78\n"
     ]
    },
    {
     "data": {
      "text/plain": [
       "-1"
      ]
     },
     "execution_count": 47,
     "metadata": {},
     "output_type": "execute_result"
    }
   ],
   "source": [
    "# class Solution:\n",
    "#     def calculate(self, s: str) -> int:\n",
    "#         if len(s) == 1:\n",
    "#             return s\n",
    "#         st1 = []\n",
    "#         st2 = []\n",
    "#         flag = False\n",
    "#         for i in range(len(s)-1,-1,-1):\n",
    "#             if s[i] == '(' or s[i] == ')' or s[i] == ' ':\n",
    "#                 pass\n",
    "#             elif s[i] == \"+\" or s[i] == '-':\n",
    "#                 flag = True\n",
    "#                 st2.append(s[i])\n",
    "#             else:\n",
    "#                 st1.append(int(s[i]))\n",
    "#         val = 0\n",
    "#         while len(st2) != 0:\n",
    "#             n1 = st1.pop()\n",
    "#             n2 = st1.pop()\n",
    "#             n3 = st2.pop()\n",
    "            \n",
    "#             if n3 == '-':\n",
    "#                 val = n1 - n2\n",
    "#             else:\n",
    "#                 val = n1 + n2\n",
    "            \n",
    "#             st1.append(val)\n",
    "            \n",
    "#         if flag is False:\n",
    "#             val = 0\n",
    "#             while len(st1) != 0:\n",
    "#                 val = val*10 + st1.pop()\n",
    "#             return val\n",
    "\n",
    "#         return val\n",
    "    \n",
    "# s = Solution()\n",
    "# st = input()\n",
    "# s.calculate(st) "
   ]
  },
  {
   "cell_type": "code",
   "execution_count": 70,
   "metadata": {},
   "outputs": [
    {
     "name": "stdout",
     "output_type": "stream",
     "text": [
      "1+1\n"
     ]
    },
    {
     "data": {
      "text/plain": [
       "2"
      ]
     },
     "execution_count": 70,
     "metadata": {},
     "output_type": "execute_result"
    }
   ],
   "source": [
    "class Solution:\n",
    "    \n",
    "    def isDigit(self,num):\n",
    "        if num != '(' and num != ')' and num != ' ' and num != '-' and num != '+':\n",
    "            return True\n",
    "        else:\n",
    "            return False\n",
    "    \n",
    "    def calculate(self, s: str) -> int:\n",
    "        operation = 1\n",
    "        numsofar = 0\n",
    "        output = 0\n",
    "        st = []\n",
    "        i = 0\n",
    "        while i < len(s):\n",
    "            if s[i] == \"+\":\n",
    "                operation = 1\n",
    "                i += 1\n",
    "            elif s[i] == '-':\n",
    "                operation = -1\n",
    "                i += 1\n",
    "            elif s[i] == \"(\":\n",
    "                st.append(output)\n",
    "                st.append(operation)\n",
    "                operation = 1\n",
    "                output = 0\n",
    "                i += 1\n",
    "            elif s[i] == \")\":\n",
    "                stoper = st.pop()\n",
    "                output = stoper * output\n",
    "                stoutput = st.pop()\n",
    "                output = output + stoutput\n",
    "                i += 1\n",
    "            elif s[i] != ' ' and self.isDigit(s[i]) == True :\n",
    "                numsofar = int(s[i])\n",
    "                while i + 1 < len(s) and self.isDigit(s[i+1]) is True:\n",
    "                    numsofar = numsofar*10 + int(s[i+1])\n",
    "                    i += 1\n",
    "                numsofar = numsofar*operation\n",
    "                output += numsofar\n",
    "                numsofar = 0 \n",
    "                i += 1\n",
    "            else:\n",
    "                i += 1\n",
    "        return output\n",
    "    \n",
    "s = Solution()\n",
    "st = input()\n",
    "s.calculate(st) "
   ]
  },
  {
   "cell_type": "code",
   "execution_count": 10,
   "metadata": {},
   "outputs": [
    {
     "name": "stdout",
     "output_type": "stream",
     "text": [
      "4\n",
      "[['.Q..', '...Q', 'Q...', '..Q.'], ['..Q.', 'Q...', '...Q', '.Q..']]\n"
     ]
    }
   ],
   "source": [
    "class Solution:\n",
    "    \n",
    "    def isSafe(self,i,j,board,n):\n",
    "        if i == 0:\n",
    "            return True\n",
    "        #Checking for left diagnol \n",
    "        \n",
    "        temp1 = i - 1\n",
    "        temp2 = j - 1\n",
    "        \n",
    "        while temp1 >= 0 and temp2 >= 0:\n",
    "            if board[temp1][temp2] == 'Q':\n",
    "                return False\n",
    "            temp1 -= 1\n",
    "            temp2 -= 1\n",
    "        \n",
    "        #Checking for right diagnol\n",
    "        \n",
    "        temp1 = i - 1\n",
    "        temp2 = j + 1\n",
    "        \n",
    "        while temp1 >= 0 and temp2 < n:\n",
    "            if board[temp1][temp2] == \"Q\":\n",
    "                return False\n",
    "            temp1 -= 1\n",
    "            temp2 += 1\n",
    "            \n",
    "            \n",
    "        #Checking for upside\n",
    "        \n",
    "        while i >= 0:\n",
    "            if board[i-1][j] == \"Q\":\n",
    "                return False \n",
    "            i -= 1\n",
    "            \n",
    "        return True\n",
    "            \n",
    "            \n",
    "            \n",
    "    def solveNQueensHelper(self,n,i,board,ans):\n",
    "        if i == n:\n",
    "            temp = []\n",
    "            for i in range(n):\n",
    "                tempans = ''\n",
    "                for j in range(n):\n",
    "                    tempans += board[i][j]\n",
    "                temp.append(tempans)\n",
    "            ans.append(temp)\n",
    "            \n",
    "#             print(board)\n",
    "            return\n",
    "\n",
    "        \n",
    "\n",
    "        for j in range(n):\n",
    "            if self.isSafe(i,j,board,n):\n",
    "                board[i][j] = \"Q\"\n",
    "                self.solveNQueensHelper(n,i+1,board,ans)\n",
    "                board[i][j] = \".\"\n",
    "        return\n",
    "        \n",
    "        \n",
    "        \n",
    "    \n",
    "    def solveNQueens(self, n):\n",
    "        board = [['.' for i in range(n)] for j in range(n)]\n",
    "        ans = []\n",
    "        self.solveNQueensHelper(n,0,board,ans)\n",
    "        print(ans)\n",
    "        \n",
    "n = int(input())\n",
    "s = Solution()\n",
    "s.solveNQueens(n)"
   ]
  },
  {
   "cell_type": "code",
   "execution_count": 70,
   "metadata": {},
   "outputs": [
    {
     "name": "stdout",
     "output_type": "stream",
     "text": [
      "nlaebolko\n",
      "1\n"
     ]
    }
   ],
   "source": [
    "class Solution:\n",
    "    def maxNumberOfBalloons(self, text):\n",
    "        dic = {}\n",
    "        for i in text:\n",
    "            dic[i] = dic.get(i, 0) + 1\n",
    "            \n",
    "            \n",
    "        ans = 0\n",
    "        while True:\n",
    "            if 'b' in dic:\n",
    "                if dic['b'] >= 1:\n",
    "                    dic['b'] -= 1\n",
    "                else:\n",
    "                    break\n",
    "            else:\n",
    "                break\n",
    "            if 'a' in dic:\n",
    "                if dic['a'] >= 1:\n",
    "                    dic['a'] -= 1\n",
    "                else:\n",
    "                    break\n",
    "            else:\n",
    "                break\n",
    "            \n",
    "            if 'l' in dic:\n",
    "                if dic['l'] >= 2:\n",
    "                    dic['l'] -= 2\n",
    "                else:\n",
    "                    break\n",
    "            else:\n",
    "                break\n",
    "            \n",
    "            if 'o' in dic:\n",
    "                if dic['o'] >= 2:\n",
    "                    dic['o'] -= 2\n",
    "                else:\n",
    "                    break\n",
    "            else:\n",
    "                break\n",
    "            \n",
    "            if 'n' in dic:\n",
    "                if dic['n'] >= 1:\n",
    "                    dic['n'] -= 1\n",
    "                else:\n",
    "                    break\n",
    "            else:\n",
    "                break\n",
    "                \n",
    "            ans += 1\n",
    "            \n",
    "        return ans\n",
    "text = input()\n",
    "s = Solution()\n",
    "print(s.maxNumberOfBalloons(text))"
   ]
  },
  {
   "cell_type": "code",
   "execution_count": 71,
   "metadata": {},
   "outputs": [
    {
     "ename": "KeyError",
     "evalue": "'b'",
     "output_type": "error",
     "traceback": [
      "\u001b[1;31m---------------------------------------------------------------------------\u001b[0m",
      "\u001b[1;31mKeyError\u001b[0m                                  Traceback (most recent call last)",
      "\u001b[1;32m<ipython-input-71-0ff97afc345c>\u001b[0m in \u001b[0;36m<module>\u001b[1;34m\u001b[0m\n\u001b[0;32m      1\u001b[0m \u001b[0ms\u001b[0m \u001b[1;33m=\u001b[0m \u001b[1;33m{\u001b[0m\u001b[1;34m'a'\u001b[0m\u001b[1;33m:\u001b[0m\u001b[1;36m1\u001b[0m\u001b[1;33m}\u001b[0m\u001b[1;33m\u001b[0m\u001b[1;33m\u001b[0m\u001b[0m\n\u001b[1;32m----> 2\u001b[1;33m \u001b[0ms\u001b[0m\u001b[1;33m[\u001b[0m\u001b[1;34m'b'\u001b[0m\u001b[1;33m]\u001b[0m\u001b[1;33m\u001b[0m\u001b[1;33m\u001b[0m\u001b[0m\n\u001b[0m",
      "\u001b[1;31mKeyError\u001b[0m: 'b'"
     ]
    }
   ],
   "source": [
    "class Solution:\n",
    "    def maxNumberOfBalloons(self, text):\n",
    "        dic = {}\n",
    "        for i in text:\n",
    "            dic[i] = dic.get(i, 0) + 1\n",
    "            \n",
    "\n",
    "        return min(dic.get('b',0) , dic.get('a',0) ,dic.get('l',0)//2 ,dic.get('o',0)//2,dic.get('n',0))\n"
   ]
  },
  {
   "cell_type": "code",
   "execution_count": null,
   "metadata": {},
   "outputs": [],
   "source": [
    "## Read input as specified in the question.\n",
    "## Print output as specified in the question.\n",
    "n = int(input())\n",
    "print()\n",
    "i=1\n",
    "while i<=n:\n",
    "    j=0\n",
    "    while j<=i+1:\n",
    "        if(j==0 or j==1):\n",
    "            print(i,end=\"\")\n",
    "        else:\n",
    "            print(0,end=\"\")\n",
    "        j=j+1\n",
    "    i=i+1"
   ]
  },
  {
   "cell_type": "code",
   "execution_count": 19,
   "metadata": {},
   "outputs": [
    {
     "data": {
      "text/plain": [
       "False"
      ]
     },
     "execution_count": 19,
     "metadata": {},
     "output_type": "execute_result"
    }
   ],
   "source": [
    "# # # ord('z')\n",
    "# # 'AA'.lower()\n",
    "# st = 'Av'\n",
    "# st = st.lower()\n",
    "# st\n",
    "'3'.isalpha()"
   ]
  },
  {
   "cell_type": "code",
   "execution_count": 24,
   "metadata": {},
   "outputs": [
    {
     "name": "stdout",
     "output_type": "stream",
     "text": [
      "Test1ng-Leet=code-Q!\n"
     ]
    },
    {
     "data": {
      "text/plain": [
       "'Qedo1ct-eeLg=ntse-T!'"
      ]
     },
     "execution_count": 24,
     "metadata": {},
     "output_type": "execute_result"
    }
   ],
   "source": [
    "class Solution:\n",
    "    def reverseOnlyLetters(self, S):\n",
    "        ans = ''\n",
    "        j = len(ans) - 1\n",
    "        for i, x in enumerate(S):\n",
    "            if x.isalpha():\n",
    "                while not S[j].isalpha():\n",
    "                    j -= 1\n",
    "                ans = ans + S[j]\n",
    "                j -= 1\n",
    "            else:\n",
    "                ans = ans + x\n",
    "        \n",
    "        return ans\n",
    "st = input()\n",
    "s = Solution()\n",
    "s.reverseOnlyLetters(st)"
   ]
  },
  {
   "cell_type": "code",
   "execution_count": 29,
   "metadata": {},
   "outputs": [
    {
     "name": "stdout",
     "output_type": "stream",
     "text": [
      "2\n",
      "1 2 \n",
      "3 4\n",
      "4\n",
      "1\n"
     ]
    },
    {
     "data": {
      "text/plain": [
       "[[1], [2], [3], [4]]"
      ]
     },
     "execution_count": 29,
     "metadata": {},
     "output_type": "execute_result"
    }
   ],
   "source": [
    "class Solution:\n",
    "    def matrixReshape(self, mat,r,c):\n",
    "        orow = len(mat)\n",
    "        ocol = len(mat[0])\n",
    "        if orow * ocol != r*c:\n",
    "            return mat\n",
    "        \n",
    "        ior = 0\n",
    "        ioc = 0\n",
    "        i = 0\n",
    "        j = 0\n",
    "        output = []\n",
    "        while i < r:\n",
    "            row = []\n",
    "            j = 0\n",
    "            while j < c:\n",
    "                if ioc < ocol:\n",
    "                    row.append(mat[ior][ioc])\n",
    "                    ioc += 1\n",
    "                    j += 1\n",
    "                else:\n",
    "                    ior += 1\n",
    "                    ioc = 0\n",
    "            i += 1\n",
    "            output.append(row)\n",
    "        return output\n",
    "\n",
    "s = Solution()\n",
    "n = int(input())\n",
    "mat = []\n",
    "for i in range(n):\n",
    "    row = [int(i) for i in input().split()]\n",
    "    mat.append(row)\n",
    "\n",
    "r = int(input())\n",
    "c = int(input())\n",
    "\n",
    "s.matrixReshape(mat,r,c)"
   ]
  },
  {
   "cell_type": "code",
   "execution_count": 15,
   "metadata": {},
   "outputs": [
    {
     "name": "stdout",
     "output_type": "stream",
     "text": [
      "leetcode\n"
     ]
    },
    {
     "data": {
      "text/plain": [
       "0"
      ]
     },
     "execution_count": 15,
     "metadata": {},
     "output_type": "execute_result"
    }
   ],
   "source": [
    "class Solution:\n",
    "    def firstUniqChar(self, s: str) -> int:\n",
    "        arr = [0]*26\n",
    "        \n",
    "        for i in s:\n",
    "            index = ord(i) % 26\n",
    "            arr[index] += 1\n",
    "        for i in range(len(s)):\n",
    "            index = ord(s[i]) % 26\n",
    "            if arr[index] == 1:\n",
    "                return i\n",
    "        return -1\n",
    "st = input()\n",
    "s = Solution()\n",
    "s.firstUniqChar(st)"
   ]
  },
  {
   "cell_type": "code",
   "execution_count": 24,
   "metadata": {},
   "outputs": [
    {
     "name": "stdout",
     "output_type": "stream",
     "text": [
      "a\n",
      "b\n"
     ]
    },
    {
     "data": {
      "text/plain": [
       "False"
      ]
     },
     "execution_count": 24,
     "metadata": {},
     "output_type": "execute_result"
    }
   ],
   "source": [
    "class Solution:\n",
    "    def canConstruct(self, ransomNote: str, magazine: str) -> bool:\n",
    "        # return True\n",
    "        arr = [0]*26\n",
    "        \n",
    "        for i in ransomNote:\n",
    "            index = ord(i) % 26\n",
    "            arr[index] += 1\n",
    "        \n",
    "        for j  in magazine:\n",
    "            index =ord(j) % 26\n",
    "            if arr[index] != 0:\n",
    "                arr[index] -= 1\n",
    "        \n",
    "        for i in arr:\n",
    "            if i != 0:\n",
    "                return False\n",
    "        return True\n",
    "ransomNote = input()\n",
    "magazine = input()\n",
    "s = Solution()\n",
    "s.canConstruct(ransomNote,magazine)"
   ]
  },
  {
   "cell_type": "code",
   "execution_count": 27,
   "metadata": {},
   "outputs": [
    {
     "name": "stdout",
     "output_type": "stream",
     "text": [
      "rat\n",
      "car\n"
     ]
    },
    {
     "data": {
      "text/plain": [
       "False"
      ]
     },
     "execution_count": 27,
     "metadata": {},
     "output_type": "execute_result"
    }
   ],
   "source": [
    "class Solution:\n",
    "    def anagram(self, ransomNote: str, magazine: str) -> bool:\n",
    "        # return True\n",
    "        arr = [0]*26\n",
    "        \n",
    "        for i in ransomNote:\n",
    "            index = ord(i) % 26\n",
    "            arr[index] += 1\n",
    "        \n",
    "        for j  in magazine:\n",
    "            index =ord(j) % 26\n",
    "#             if arr[index] != 0:\n",
    "            arr[index] -= 1\n",
    "        \n",
    "        for i in arr:\n",
    "            if i != 0:\n",
    "                return False\n",
    "        return True\n",
    "ransomNote = input()\n",
    "magazine = input()\n",
    "s = Solution()\n",
    "s.anagram(ransomNote,magazine)"
   ]
  },
  {
   "cell_type": "markdown",
   "metadata": {},
   "source": [
    "M-Coloring Problem (https://practice.geeksforgeeks.org/problems/m-coloring-problem-1587115620/1#)"
   ]
  },
  {
   "cell_type": "code",
   "execution_count": null,
   "metadata": {},
   "outputs": [],
   "source": [
    "def isSafe(i,graph,j,color,v):\n",
    "    for l in range(v):\n",
    "        if graph[i][l] > 0:\n",
    "            if color[l] == j:\n",
    "                return False\n",
    "    return True\n",
    "\n",
    "def  graphColoringHelper(i,graph,k,v,color):\n",
    "    if i == v:\n",
    "        return True\n",
    "    \n",
    "    for j in range(1,k+1):\n",
    "        if isSafe(i,graph,j,color,v):\n",
    "            color[i] = j\n",
    "            ans =graphColoringHelper(i+1,graph,k,v,color)\n",
    "            if ans:\n",
    "                return True\n",
    "            color[i] = 0\n",
    "    return False\n",
    "            \n",
    "\n",
    "def graphColoring(graph, k, V):\n",
    "    color = [0]*V\n",
    "    return graphColoringHelper(0,graph,k,V,color)"
   ]
  },
  {
   "cell_type": "code",
   "execution_count": 114,
   "metadata": {},
   "outputs": [
    {
     "name": "stdout",
     "output_type": "stream",
     "text": [
      "2\n",
      "1 0\n",
      "1 0\n"
     ]
    },
    {
     "data": {
      "text/plain": [
       "[]"
      ]
     },
     "execution_count": 114,
     "metadata": {},
     "output_type": "execute_result"
    }
   ],
   "source": [
    "class Solution:\n",
    "    \n",
    "    def findPathHelper(self,i,j,m,n,output,tempans,visited):\n",
    "        if i == n-1 and j == n-1:\n",
    "            output.insert(0,tempans)\n",
    "            return \n",
    "\n",
    "        if j-1 >=0 and visited[i][j-1] is False and m[i][j-1] == 1:\n",
    "            visited[i][j] = True\n",
    "            left = self.findPathHelper(i,j-1,m,n,output,tempans+\"L\",visited)\n",
    "            visited[i][j] = False\n",
    "            \n",
    "        if j+1 <n and visited[i][j+1] is False and m[i][j+1] == 1:\n",
    "            visited[i][j] = True\n",
    "            right = self.findPathHelper(i,j+1,m,n,output,tempans+\"R\",visited)\n",
    "            visited[i][j] = False\n",
    "            \n",
    "        if i-1 >=0 and visited[i-1][j] is False and m[i-1][j] == 1:\n",
    "            visited[i][j] = True \n",
    "            top = self.findPathHelper(i-1,j,m,n,output,tempans+\"U\",visited)\n",
    "            visited[i][j] = False\n",
    "        \n",
    "        if i+1 <n and visited[i+1][j] is False and m[i+1][j] == 1:\n",
    "            visited[i][j] = True\n",
    "            bottom = self.findPathHelper(i+1,j,m,n,output,tempans+\"D\",visited)\n",
    "            visited[i][j] = False\n",
    "\n",
    "        \n",
    "    def findPath(self, m, n):\n",
    "        # code here\n",
    "        output = []\n",
    "        visited = [[False for i in range(n)] for j in range(n)]\n",
    "\n",
    "        self.findPathHelper(0,0,m,n,output,'',visited)\n",
    "        return output\n",
    "        \n",
    "n = int(input())\n",
    "s = Solution()\n",
    "maze =[]\n",
    "for i in range(n):\n",
    "    row = [int(i) for i in input().split()]\n",
    "    maze.append(row)\n",
    "s.findPath(maze,n)"
   ]
  },
  {
   "cell_type": "code",
   "execution_count": 138,
   "metadata": {
    "scrolled": true
   },
   "outputs": [
    {
     "name": "stdout",
     "output_type": "stream",
     "text": [
      "9,4,2,10,7,8,8,1,9\n"
     ]
    },
    {
     "data": {
      "text/plain": [
       "5"
      ]
     },
     "execution_count": 138,
     "metadata": {},
     "output_type": "execute_result"
    }
   ],
   "source": [
    "class Solution:\n",
    "    \n",
    "    def isTurbulence(self,arr,j):\n",
    "        return arr[j] < arr[j-1] and arr[j] < arr[j+1] or arr[j] > arr[j-1] and arr[j] > arr[j+1]\n",
    "    \n",
    "    def maxTurbulenceSize(self, arr):\n",
    "        ans = 1\n",
    "        if len(arr) == 1:\n",
    "            return 1\n",
    "        \n",
    "        i = 0\n",
    "        j = 0\n",
    "        while i+1 < len(arr):\n",
    "            if arr[i] == arr[i+1]:\n",
    "                i +=2\n",
    "                continue\n",
    "                \n",
    "            j = i+1\n",
    "                \n",
    "            while j+1 < len(arr) and self.isTurbulence(arr,j):\n",
    "                j += 1\n",
    "                \n",
    "                \n",
    "            ans = max(ans,j-i+1)\n",
    "            i = j\n",
    "        return ans\n",
    "                \n",
    "arr = [int(i) for i in input().split(',')]\n",
    "s =Solution()\n",
    "s.maxTurbulenceSize(arr)"
   ]
  },
  {
   "cell_type": "code",
   "execution_count": 1,
   "metadata": {},
   "outputs": [
    {
     "data": {
      "text/plain": [
       "True"
      ]
     },
     "execution_count": 1,
     "metadata": {},
     "output_type": "execute_result"
    }
   ],
   "source": [
    "# Definition for a binary tree node.\n",
    "# class TreeNode:\n",
    "#     def __init__(self, val=0, left=None, right=None):\n",
    "#         self.val = val\n",
    "#         self.left = left\n",
    "#         self.right = right\n",
    "class Solution:\n",
    "    \n",
    "    def maxtree(self,root):\n",
    "        if root is None:\n",
    "            return -999999\n",
    "        \n",
    "        leftmax = self.maxtree(root.left)\n",
    "        rightmax = self.maxtree(root.right)\n",
    "        \n",
    "        return max(leftmax,rightmax,root.val)\n",
    "    \n",
    "    def mintree(self,root):\n",
    "        if root is None:\n",
    "            return 999999\n",
    "        \n",
    "        leftmin = self.mintree(root.left)\n",
    "        rightmin = self.mintree(root.right)\n",
    "        \n",
    "        return min(root.val,leftmin,rightmin)\n",
    "    \n",
    "    \n",
    "    def isValidBST(self, root: Optional[TreeNode]) -> bool:\n",
    "        if root.left is None and root.right is None:\n",
    "            return True\n",
    "        \n",
    "        \n",
    "        if root.val < root.left.val and root.val >= root.right.val:\n",
    "            return False\n",
    "        \n",
    "        if root.val > self.mintree(root.right) and root.val < self.maxtree(root.left):\n",
    "            return False\n",
    "        \n",
    "        leftvalid = self.isValidBST(root.left)\n",
    "        rightvalid = self.isValidBST(root.right)\n",
    "        \n",
    "        if leftvalid is False or rightvalid is False:\n",
    "            return False\n",
    "        else:\n",
    "            return True\n",
    "        \n",
    "        \n",
    "        \n",
    "        \n",
    "        \n",
    "        \n",
    "        \n"
   ]
  },
  {
   "cell_type": "code",
   "execution_count": 13,
   "metadata": {},
   "outputs": [
    {
     "name": "stdout",
     "output_type": "stream",
     "text": [
      "100 112 256 349 770\n",
      "72 80 113 119 256 445 892\n",
      "5\n",
      "7\n",
      "7\n"
     ]
    },
    {
     "data": {
      "text/plain": [
       "256"
      ]
     },
     "execution_count": 13,
     "metadata": {},
     "output_type": "execute_result"
    }
   ],
   "source": [
    "#User function Template for python3\n",
    "\n",
    "class Solution:\n",
    "    def kthElement(self,  arr1, arr2, n, m, k):\n",
    "        i = 0\n",
    "        j = 0\n",
    "        f1 = False\n",
    "        f2 = False\n",
    "        c = 0\n",
    "        while i < n and j < m:\n",
    "            if c == k:\n",
    "                if f1:\n",
    "                    return arr1[i-1]\n",
    "                else:\n",
    "                    return arr2[j-1]\n",
    "            else:\n",
    "                f1 = False\n",
    "                f2 = False\n",
    "                \n",
    "                if arr1[i] < arr2[j]:\n",
    "                    c += 1\n",
    "                    f1 = True\n",
    "                    i += 1\n",
    "                else:\n",
    "                    c += 1\n",
    "                    f2 = True\n",
    "                    j += 1\n",
    "                    \n",
    "        if c == k:\n",
    "            if f1:\n",
    "                return arr1[i-1]\n",
    "            else:\n",
    "                return arr2[j-1]\n",
    "        else:\n",
    "            while i < n:\n",
    "                if c == k:\n",
    "                    return arr1[i-1]\n",
    "                i += 1\n",
    "                c += 1\n",
    "\n",
    "            while j < m:\n",
    "                if c == k:\n",
    "                    return arr2[j-1]\n",
    "                j += 1\n",
    "                c += 1\n",
    "\n",
    "s = Solution()\n",
    "arr1 = [int(i) for i in input().split()]\n",
    "arr2 = [int(i) for i in input().split()]\n",
    "n = int(input())\n",
    "m = int(input())\n",
    "k = int(input())\n",
    "s.kthElement(arr1,arr2,n,m,k)"
   ]
  },
  {
   "cell_type": "code",
   "execution_count": 40,
   "metadata": {},
   "outputs": [
    {
     "name": "stdout",
     "output_type": "stream",
     "text": [
      "3\n",
      "27\n",
      "3.0000006556510925\n"
     ]
    }
   ],
   "source": [
    "def multiply(num , n):\n",
    "    ans = 1.0\n",
    "    for i in range(n):\n",
    "        ans = ans *num\n",
    "    return ans\n",
    "\n",
    "def nthroot(n,m):\n",
    "    low = 1\n",
    "    high = m\n",
    "    eps = 1e-6\n",
    "    while (high - low) > eps:\n",
    "        mid = (low + high)/2\n",
    "        \n",
    "        if multiply(mid,n) < m:\n",
    "            low = mid\n",
    "        else:\n",
    "            high = mid\n",
    "    \n",
    "    print(high)\n",
    "    \n",
    "n = int(input())\n",
    "m = int(input())\n",
    "nthroot(n,m)"
   ]
  },
  {
   "cell_type": "code",
   "execution_count": 50,
   "metadata": {},
   "outputs": [
    {
     "name": "stdout",
     "output_type": "stream",
     "text": [
      "1 2 3 4 5 6 7\n",
      "10012\n",
      "[6, 7, 1, 2, 3, 4, 5]\n"
     ]
    }
   ],
   "source": [
    "class Solution:\n",
    "    def rotate(self, nums,k):\n",
    "        \"\"\"\n",
    "        Do not return anything, modify nums in-place instead.\n",
    "        \"\"\"\n",
    "        if k == 0:\n",
    "            return\n",
    "        if k > len(nums):\n",
    "            k = k % len(nums)\n",
    "        arr = []\n",
    "        for i in range(len(nums)-k,len(nums)):\n",
    "            arr.append(nums[i])\n",
    "        \n",
    "        for i in range(len(nums)-k -1 ,-1,-1):\n",
    "            nums[i] , nums[i+k] = nums[i+k] , nums[i]\n",
    "        \n",
    "        for i in range(k):\n",
    "            nums[i] = arr[i]\n",
    "        \n",
    "s = Solution()     \n",
    "nums = [int(i) for i in input().split()]\n",
    "k = int(input())\n",
    "s.rotate(nums,k)\n",
    "print(nums)"
   ]
  },
  {
   "cell_type": "code",
   "execution_count": 2,
   "metadata": {},
   "outputs": [
    {
     "name": "stdout",
     "output_type": "stream",
     "text": [
      "4\n",
      "4\n",
      "1 2 3 4\n",
      "1 4 2 3\n"
     ]
    },
    {
     "ename": "IndexError",
     "evalue": "list index out of range",
     "output_type": "error",
     "traceback": [
      "\u001b[1;31m---------------------------------------------------------------------------\u001b[0m",
      "\u001b[1;31mIndexError\u001b[0m                                Traceback (most recent call last)",
      "\u001b[1;32m<ipython-input-2-8edc56d6e70d>\u001b[0m in \u001b[0;36m<module>\u001b[1;34m\u001b[0m\n\u001b[0;32m     28\u001b[0m \u001b[0marr\u001b[0m \u001b[1;33m=\u001b[0m \u001b[1;33m[\u001b[0m\u001b[0mint\u001b[0m\u001b[1;33m(\u001b[0m\u001b[0mi\u001b[0m\u001b[1;33m)\u001b[0m \u001b[1;32mfor\u001b[0m \u001b[0mi\u001b[0m \u001b[1;32min\u001b[0m \u001b[0minput\u001b[0m\u001b[1;33m(\u001b[0m\u001b[1;33m)\u001b[0m\u001b[1;33m.\u001b[0m\u001b[0msplit\u001b[0m\u001b[1;33m(\u001b[0m\u001b[1;33m)\u001b[0m\u001b[1;33m]\u001b[0m\u001b[1;33m\u001b[0m\u001b[1;33m\u001b[0m\u001b[0m\n\u001b[0;32m     29\u001b[0m \u001b[0mqueries\u001b[0m \u001b[1;33m=\u001b[0m \u001b[1;33m[\u001b[0m\u001b[0mint\u001b[0m\u001b[1;33m(\u001b[0m\u001b[0mi\u001b[0m\u001b[1;33m)\u001b[0m \u001b[1;32mfor\u001b[0m \u001b[0mi\u001b[0m \u001b[1;32min\u001b[0m \u001b[0minput\u001b[0m\u001b[1;33m(\u001b[0m\u001b[1;33m)\u001b[0m\u001b[1;33m.\u001b[0m\u001b[0msplit\u001b[0m\u001b[1;33m(\u001b[0m\u001b[1;33m)\u001b[0m\u001b[1;33m]\u001b[0m\u001b[1;33m\u001b[0m\u001b[1;33m\u001b[0m\u001b[0m\n\u001b[1;32m---> 30\u001b[1;33m \u001b[0ms\u001b[0m\u001b[1;33m.\u001b[0m\u001b[0mquerySum\u001b[0m\u001b[1;33m(\u001b[0m\u001b[0mn\u001b[0m\u001b[1;33m,\u001b[0m\u001b[0marr\u001b[0m\u001b[1;33m,\u001b[0m\u001b[0mq\u001b[0m\u001b[1;33m,\u001b[0m\u001b[0mqueries\u001b[0m\u001b[1;33m)\u001b[0m\u001b[1;33m\u001b[0m\u001b[1;33m\u001b[0m\u001b[0m\n\u001b[0m",
      "\u001b[1;32m<ipython-input-2-8edc56d6e70d>\u001b[0m in \u001b[0;36mquerySum\u001b[1;34m(self, n, arr, q, queries)\u001b[0m\n\u001b[0;32m     14\u001b[0m         \u001b[1;32mwhile\u001b[0m \u001b[0mj\u001b[0m \u001b[1;33m<\u001b[0m \u001b[0mq\u001b[0m\u001b[1;33m:\u001b[0m\u001b[1;33m\u001b[0m\u001b[1;33m\u001b[0m\u001b[0m\n\u001b[0;32m     15\u001b[0m             \u001b[1;32mif\u001b[0m \u001b[0mqueries\u001b[0m\u001b[1;33m[\u001b[0m\u001b[0mj\u001b[0m\u001b[1;33m]\u001b[0m \u001b[1;33m>\u001b[0m \u001b[1;36m1\u001b[0m\u001b[1;33m:\u001b[0m\u001b[1;33m\u001b[0m\u001b[1;33m\u001b[0m\u001b[0m\n\u001b[1;32m---> 16\u001b[1;33m                 \u001b[0mvalue\u001b[0m \u001b[1;33m=\u001b[0m \u001b[0mprefix_arr\u001b[0m\u001b[1;33m[\u001b[0m\u001b[0mqueries\u001b[0m\u001b[1;33m[\u001b[0m\u001b[0mj\u001b[0m\u001b[1;33m+\u001b[0m\u001b[1;36m1\u001b[0m\u001b[1;33m]\u001b[0m\u001b[1;33m]\u001b[0m \u001b[1;33m-\u001b[0m \u001b[0mprefix_arr\u001b[0m\u001b[1;33m[\u001b[0m\u001b[0mqueries\u001b[0m\u001b[1;33m[\u001b[0m\u001b[0mj\u001b[0m\u001b[1;33m-\u001b[0m\u001b[1;36m1\u001b[0m\u001b[1;33m]\u001b[0m\u001b[1;33m]\u001b[0m\u001b[1;33m\u001b[0m\u001b[1;33m\u001b[0m\u001b[0m\n\u001b[0m\u001b[0;32m     17\u001b[0m                 \u001b[0moutput\u001b[0m\u001b[1;33m.\u001b[0m\u001b[0mappend\u001b[0m\u001b[1;33m(\u001b[0m\u001b[0mvalue\u001b[0m\u001b[1;33m)\u001b[0m\u001b[1;33m\u001b[0m\u001b[1;33m\u001b[0m\u001b[0m\n\u001b[0;32m     18\u001b[0m                 \u001b[0mj\u001b[0m \u001b[1;33m+=\u001b[0m \u001b[1;36m2\u001b[0m\u001b[1;33m\u001b[0m\u001b[1;33m\u001b[0m\u001b[0m\n",
      "\u001b[1;31mIndexError\u001b[0m: list index out of range"
     ]
    }
   ],
   "source": [
    "class Solution:\n",
    "    def querySum(self, n, arr, q, queries):\n",
    "        # code \n",
    "        prefix_arr = []\n",
    "        \n",
    "        tempsum = 0\n",
    "        \n",
    "        for i in arr:\n",
    "            tempsum += i\n",
    "            prefix_arr.append(tempsum)\n",
    "            \n",
    "        output = []    \n",
    "        j = 0\n",
    "        while j < q:\n",
    "            if queries[j] > 1:\n",
    "                value = prefix_arr[queries[j+1]] - prefix_arr[queries[j-1]]\n",
    "                output.append(value)\n",
    "                j += 2\n",
    "            else:\n",
    "                output.append(queries[j+1])\n",
    "                j += 2\n",
    "        return output\n",
    "    \n",
    "    \n",
    "s = Solution()\n",
    "n = int(input())\n",
    "q = int(input())\n",
    "arr = [int(i) for i in input().split()]\n",
    "queries = [int(i) for i in input().split()]\n",
    "s.querySum(n,arr,q,queries)"
   ]
  },
  {
   "cell_type": "code",
   "execution_count": 18,
   "metadata": {},
   "outputs": [
    {
     "name": "stdout",
     "output_type": "stream",
     "text": [
      "6,3,10,8,2,10,3,5,10,5,3\n"
     ]
    },
    {
     "data": {
      "text/plain": [
       "39"
      ]
     },
     "execution_count": 18,
     "metadata": {},
     "output_type": "execute_result"
    }
   ],
   "source": [
    "#SOLUTION 1\n",
    "class Solution:\n",
    "    def rob(self, nums):\n",
    "        if len(nums) == 0:\n",
    "            return 0\n",
    "        \n",
    "        if len(nums) == 1:\n",
    "            return nums[0]\n",
    "        \n",
    "        dp = [0]*len(nums)\n",
    "        dp[0] = nums[0]\n",
    "        dp[1] = max(nums[0] , nums[1])\n",
    "        \n",
    "        for i in range(2,len(nums)):\n",
    "            dp[i] = max(nums[i] + dp[i-2] , dp[i-1])\n",
    "        return dp[-1]\n",
    "\n",
    "\n",
    "#SOLUTION 2\n",
    "\n",
    "# class Solution:\n",
    "#     def rob(self, nums):\n",
    "#         dp = [0]*(len(nums)+1)\n",
    "#         dp[len(nums)-1] = nums[-1]\n",
    "#         i = len(nums)-2\n",
    "#         dp[-2] = nums[-1]\n",
    "#         ans = nums[-1]\n",
    "#         while i >= 0:\n",
    "#             value = nums[i] + dp[i+2]\n",
    "#             ans = max(ans,value)\n",
    "#             dp[i] = ans\n",
    "#             i -= 1\n",
    "\n",
    "#         i = 0\n",
    "#         n = len(nums)\n",
    "#         ans = dp[0]\n",
    "#         while i < n:\n",
    "#             ans = max(ans , dp[i])\n",
    "#             j = i + 2\n",
    "#             while j < n:\n",
    "#                 value = nums[i] + dp[j]\n",
    "#                 ans =  max(ans , value)\n",
    "#                 j += 1\n",
    "                \n",
    "#             i += 1\n",
    "            \n",
    "#         return ans\n",
    "nums = [ int(i) for i in input().split(\",\")]\n",
    "s = Solution()\n",
    "s.rob(nums)"
   ]
  },
  {
   "cell_type": "code",
   "execution_count": 1,
   "metadata": {},
   "outputs": [
    {
     "name": "stdout",
     "output_type": "stream",
     "text": [
      "1 2 2\n",
      "3 4 5\n"
     ]
    },
    {
     "data": {
      "text/plain": [
       "2.5"
      ]
     },
     "execution_count": 1,
     "metadata": {},
     "output_type": "execute_result"
    }
   ],
   "source": [
    "import sys\n",
    "class Solution:\n",
    "    def MedianOfArrays(self, nums1, nums2):\n",
    "            #code her\n",
    "            \n",
    "        n = len(nums1)\n",
    "        m = len(nums2)\n",
    "        \n",
    "        low = 0\n",
    "        high = n\n",
    "        \n",
    "        while low <= high:\n",
    "            cut1 = (low+high) // 2\n",
    "            cut2 = (n+m)//2 - cut1\n",
    "            \n",
    "            if cut1 == 0:\n",
    "                l1 = -1*sys.maxsize\n",
    "            else:\n",
    "                l1 = nums1[cut1 - 1]\n",
    "                \n",
    "            if cut2 == 0:\n",
    "                l2 = -1*sys.maxsize\n",
    "            else:\n",
    "                l2 = nums2[cut2 - 1]\n",
    "                \n",
    "            if cut1 == n:\n",
    "                r1 = sys.maxsize\n",
    "            else:\n",
    "                r1 = nums1[cut1]\n",
    "                \n",
    "            if cut2 == m:\n",
    "                r2 = sys.maxsize\n",
    "            else:\n",
    "                r2 = nums2[cut2]\n",
    "               \n",
    "            #Condition to check is that is present in the right position    \n",
    "            if  l1 > r2:\n",
    "                high = cut1 - 1\n",
    "            elif l2 > r1:\n",
    "                low = cut1 + 1\n",
    "            else:\n",
    "                if (n+m) % 2 == 0:\n",
    "                    return (max(l1,l2) + min(r1,r2)) / 2\n",
    "                else:\n",
    "                    return min(r1,r2)\n",
    "        return 0.0\n",
    "    \n",
    "    \n",
    "s = Solution()\n",
    "nums1 = [int(i) for i in input().split()]\n",
    "nums2 = [int(i) for i in input().split()]\n",
    "s.MedianOfArrays(nums1,nums2)"
   ]
  },
  {
   "cell_type": "code",
   "execution_count": null,
   "metadata": {},
   "outputs": [],
   "source": []
  },
  {
   "cell_type": "code",
   "execution_count": 18,
   "metadata": {},
   "outputs": [
    {
     "data": {
      "text/plain": [
       "'Pending'"
      ]
     },
     "execution_count": 18,
     "metadata": {},
     "output_type": "execute_result"
    }
   ],
   "source": [
    "class Solution:\n",
    "    \n",
    "    def checkBoard(self,board,moves):\n",
    "        \n",
    "        #Check for row\n",
    "        \n",
    "        for i in range(3):\n",
    "            checkA = 0\n",
    "            checkB = 0\n",
    "            for j in range(3):\n",
    "                if board[i][j] == \"X\":\n",
    "                    checkA += 1\n",
    "                elif board[i][j] == \"O\":\n",
    "                    checkB += 1\n",
    "        \n",
    "            if checkA == 3:\n",
    "                return \"A\"\n",
    "            if checkB == 3:\n",
    "                return \"B\"\n",
    "        \n",
    "        #Check for column\n",
    "        \n",
    "        for i in range(3):\n",
    "            checkA = 0\n",
    "            checkB = 0\n",
    "            for j in range(3):\n",
    "                if board[j][i] == \"X\":\n",
    "                    checkA += 1\n",
    "                elif board[j][i] == \"O\":\n",
    "                    checkB += 1\n",
    "\n",
    "            if checkA == 3:\n",
    "                return \"A\"\n",
    "            if checkB == 3:\n",
    "                return \"B\"\n",
    "\n",
    "        \n",
    "        #Check for diagnol\n",
    "        \n",
    "        #check for A winning\n",
    "        if board[0][0] == \"X\" and board[1][1] == \"X\" and board[2][2] == \"X\":\n",
    "            return \"A\"\n",
    "        \n",
    "        if board[0][0] == \"O\" and board[1][1] == \"O\" and board[2][2] == \"O\":\n",
    "            return \"B\"\n",
    "        \n",
    "        #Check for antidiagnol\n",
    "        if board[0][2] == \"X\" and board[1][1] == \"X\" and board[2][0] == \"X\":\n",
    "            return \"A\"\n",
    "        \n",
    "        if board[0][2] == \"O\" and board[1][1] == \"O\" and board[2][0] == \"O\":\n",
    "            return \"B\"\n",
    "        \n",
    "        #Check for Draw and pending case\n",
    "        if len(moves) !=9:\n",
    "            return \"Pending\"\n",
    "        else:\n",
    "            return \"Draw\"\n",
    "        \n",
    "    \n",
    "    def tictactoe(self, moves):\n",
    "        board = [[\".\" for j in range(3)]for i in range(3)]\n",
    "        \n",
    "        for i in range(len(moves)):\n",
    "            if i % 2 == 0:\n",
    "                board[moves[i][0]][moves[i][1]] = \"X\"\n",
    "            else:\n",
    "                board[moves[i][0]][moves[i][1]] = \"O\"\n",
    "                \n",
    "        return self.checkBoard(board,moves)\n",
    "       \n",
    "moves =[[0,2],[2,0],[1,2],[0,0],[1,0],[2,2]]\n",
    "\n",
    "s = Solution()\n",
    "s.tictactoe(moves)"
   ]
  },
  {
   "cell_type": "code",
   "execution_count": 3,
   "metadata": {},
   "outputs": [
    {
     "name": "stdout",
     "output_type": "stream",
     "text": [
      "1\n",
      "1\n"
     ]
    },
    {
     "data": {
      "text/plain": [
       "0"
      ]
     },
     "execution_count": 3,
     "metadata": {},
     "output_type": "execute_result"
    }
   ],
   "source": [
    "class Solution:\n",
    "    def search(self, nums,target):\n",
    "        if len(nums) == 1:\n",
    "            if nums[0] == target:\n",
    "                return 0\n",
    "            else:\n",
    "                return -1\n",
    "        i = 0 \n",
    "        j = len(nums) - 1\n",
    "        \n",
    "        if nums[i] == target:\n",
    "                return i\n",
    "        elif nums[j] == target:\n",
    "            return j\n",
    "        \n",
    "        while i < j:\n",
    "            mid = (i + j) // 2\n",
    "\n",
    "            if nums[mid] == target:\n",
    "                return mid\n",
    "            \n",
    "            if nums[mid] > target and nums[i] > target:\n",
    "                i = mid + 1\n",
    "            else:\n",
    "                j = mid - 1\n",
    "        return -1 \n",
    "s = Solution()\n",
    "nums = [int(i) for i in input().split(\",\")]\n",
    "target = int(input())\n",
    "s.search(nums,target)"
   ]
  },
  {
   "cell_type": "code",
   "execution_count": null,
   "metadata": {},
   "outputs": [],
   "source": [
    "class Solution:\n",
    "    \n",
    "    def visitIsland(self,grid,i,j,visited):\n",
    "        if j >= len(grid[0]) or i >= len(grid) or visited[i][j] == True:\n",
    "            return\n",
    "        if grid[i][j] == \"0\":\n",
    "            return\n",
    "        visited[i][j] = True\n",
    "        \n",
    "        rightvisited = self.visitIsland(grid,i,j+1,visited)\n",
    "        bottomvisited = self.visitIsland(grid,i+1,j,visited)\n",
    "        \n",
    "        return\n",
    "    \n",
    "    def numIslands(self, grid):\n",
    "        row = len(grid)\n",
    "        col = len(grid[0])\n",
    "        \n",
    "        visited = [[False for j in range(col)]for i in range(row)]\n",
    "        island = 0\n",
    "        \n",
    "        for i in range(row):\n",
    "            for j in range(col):\n",
    "                if grid[i][j] != \"0\" and visited[i][j] == False:\n",
    "                    self.visitIsland(grid,i,j,visited)\n",
    "                    island += 1\n",
    "        return island\n",
    "    \n",
    "grid = [[\"1\",\"1\",\"1\"],[\"0\",\"1\",\"0\"],[\"1\",\"1\",\"1\"]]\n",
    "s = Solution()\n",
    "s.numIslands(grid)"
   ]
  },
  {
   "cell_type": "code",
   "execution_count": 12,
   "metadata": {},
   "outputs": [
    {
     "name": "stdout",
     "output_type": "stream",
     "text": [
      "geekS\n",
      "S\n"
     ]
    }
   ],
   "source": [
    "def checkUpperCase(st):\n",
    "    return ord(st) >= 65 and ord(st) <= 90\n",
    "\n",
    "def GetUppercase(string):\n",
    "    if len(string) == 0:\n",
    "        return string\n",
    "        \n",
    "    if checkUpperCase(string[0]):\n",
    "        return string[0]\n",
    "        \n",
    "    small_op = GetUppercase(string[1:])\n",
    "    return small_op\n",
    "    \n",
    "    \n",
    "string = input()\n",
    "print(GetUppercase(string))"
   ]
  },
  {
   "cell_type": "code",
   "execution_count": 18,
   "metadata": {},
   "outputs": [
    {
     "name": "stdout",
     "output_type": "stream",
     "text": [
      "abcd\n",
      "cdabcdab\n"
     ]
    },
    {
     "data": {
      "text/plain": [
       "1"
      ]
     },
     "execution_count": 18,
     "metadata": {},
     "output_type": "execute_result"
    }
   ],
   "source": [
    "class Solution:\n",
    "    def isSubstring(self,A,B):\n",
    "        if len(B) > len(A):\n",
    "            return False\n",
    "        lenA = len(A)\n",
    "        lenB = len(B)\n",
    "        i = 0\n",
    "        j = 0\n",
    "        while i < lenA and j < lenB:\n",
    "            if A[i] == B[j]:\n",
    "                i += 1\n",
    "                j += 1\n",
    "            elif A[i] != B[j] and j != 0:\n",
    "                j = 0\n",
    "            else:\n",
    "                i += 1\n",
    "        if j == lenB:\n",
    "            return True\n",
    "        else:\n",
    "            return False\n",
    "        \n",
    "    def repeatedStringMatch(self, A, B):\n",
    "\n",
    "        count = 1\n",
    "        repeat = len(B) // len(A) + 2\n",
    "        newString = A\n",
    "        for i in range(0,repeat):\n",
    "            if B.find(newString):\n",
    "                return count\n",
    "            else:\n",
    "                count += 1\n",
    "                newString += A\n",
    "        return  -1\n",
    "        \n",
    "        \n",
    "A = input()\n",
    "B = input()\n",
    "s = Solution()\n",
    "s.repeatedStringMatch(A,B)"
   ]
  },
  {
   "cell_type": "code",
   "execution_count": 28,
   "metadata": {},
   "outputs": [
    {
     "data": {
      "text/plain": [
       "3"
      ]
     },
     "execution_count": 28,
     "metadata": {},
     "output_type": "execute_result"
    }
   ],
   "source": [
    "ord(\"d\")-97"
   ]
  },
  {
   "cell_type": "code",
   "execution_count": 33,
   "metadata": {},
   "outputs": [
    {
     "name": "stdout",
     "output_type": "stream",
     "text": [
      "abc def bp dq eg fh\n",
      "9\n"
     ]
    }
   ],
   "source": [
    "class Solution:\n",
    "    \n",
    "    def selfuniq(self,a):\n",
    "        charPool = [0]*26\n",
    "        for i in a:\n",
    "            if charPool[ord(i) - 97] >= 1:\n",
    "                return -1\n",
    "            else:\n",
    "                charPool[ord(i) - 97] = 1\n",
    "        return len(a)\n",
    "    \n",
    "    def maxLengthHelper(self,arr,index,curr_string,res):\n",
    "        if index == len(arr) and self.selfuniq(curr_string) > res[0] :\n",
    "            res[0] = len(curr_string)\n",
    "            return\n",
    "        if index == len(arr):\n",
    "            return\n",
    "        \n",
    "        self.maxLengthHelper(arr,index+1,curr_string,res)\n",
    "        self.maxLengthHelper(arr,index+1,curr_string+arr[index],res)\n",
    "        4\n",
    "    \n",
    "    def maxLength(self, arr):\n",
    "        res = [0]\n",
    "        self.maxLengthHelper(arr,0,\"\",res)\n",
    "        return res[0]\n",
    "    \n",
    "arr = [i for i in input().split()]\n",
    "s = Solution()\n",
    "print(s.maxLength(arr))\n",
    "        "
   ]
  },
  {
   "cell_type": "code",
   "execution_count": 35,
   "metadata": {},
   "outputs": [
    {
     "data": {
      "text/plain": [
       "35"
      ]
     },
     "execution_count": 35,
     "metadata": {},
     "output_type": "execute_result"
    }
   ],
   "source": [
    "import sys\n",
    "sys.setrecursionlimit(10**6)\n",
    "class Solution:\n",
    "    #Function to return sum of count of set bits in the integers from 1 to n.\n",
    "    def power2Create(self,n):\n",
    "        max2 = 0\n",
    "        while pow (2,max2) <= n:\n",
    "            max2 += 1\n",
    "            \n",
    "        return max2-1\n",
    "    \n",
    "    def countSetBits(self,n):\n",
    "        # code here\n",
    "        # return the count\n",
    "        if n <= 1:\n",
    "            return n\n",
    "        maxpowerof2 = self.power2Create(n)\n",
    "        \n",
    "        tempans = (maxpowerof2 * pow(2, (maxpowerof2 - 1)))\n",
    "        countfornextsetextrabits = (n - pow(2, maxpowerof2) + 1)\n",
    "        \n",
    "        remInput =n - pow(2, maxpowerof2)\n",
    "        ans = tempans + countfornextsetextrabits + self.countSetBits(remInput)\n",
    "        \n",
    "        return ans\n",
    "    \n",
    "s = Solution()\n",
    "s.countSetBits(17)"
   ]
  },
  {
   "cell_type": "code",
   "execution_count": 28,
   "metadata": {},
   "outputs": [
    {
     "data": {
      "text/plain": [
       "35"
      ]
     },
     "execution_count": 28,
     "metadata": {},
     "output_type": "execute_result"
    }
   ],
   "source": [
    "# class Solution:\n",
    "#     def findLargestPower(self, n):\n",
    " \n",
    "#         x = 0\n",
    "#         while ((1 << x) <= n):\n",
    "#             x += 1\n",
    "#         return x - 1\n",
    "     \n",
    "     \n",
    "#     def countSetBits(self, n):\n",
    "     \n",
    "#         if (n <= 1):\n",
    "#             return n\n",
    "#         x = self.findLargestPower(n)\n",
    "#         return (x * pow(2, (x - 1))) + (n - pow(2, x) + 1) + self.countSetBits(n - pow(2, x))\n",
    "    \n",
    "# # countSetBits(17)\n",
    "# s = Solution()\n",
    "# s.countSetBits(17)"
   ]
  },
  {
   "cell_type": "code",
   "execution_count": 75,
   "metadata": {},
   "outputs": [
    {
     "name": "stdout",
     "output_type": "stream",
     "text": [
      "aaaab\n",
      "aaaaa\n"
     ]
    }
   ],
   "source": [
    "class Solution:\n",
    "    def breakPalindrome(self, palindrome):\n",
    "        if len(palindrome) == 1:\n",
    "            return \"\"\n",
    "        \n",
    "        mid = False \n",
    "        if len(palindrome) % 2 != 0:\n",
    "            mid = True\n",
    "        n = len(palindrome)\n",
    "        for i in range(len(palindrome)):\n",
    "            val = ord(palindrome[i]) - 97\n",
    "            if val == 0 and i == len(palindrome) - 1:\n",
    "                \n",
    "                return palindrome[0:n-1] + 'b'\n",
    "            \n",
    "            elif mid == True and i == len(palindrome) // 2:\n",
    "                continue\n",
    "            elif val == 0 and i ==  0:\n",
    "                continue\n",
    "            elif i>=0 and i<len(palindrome) and val != 0:\n",
    "                return palindrome[0:i] + \"a\" + palindrome[i+1:]\n",
    "s = Solution()\n",
    "palindrome = input()\n",
    "print(s.breakPalindrome(palindrome))"
   ]
  },
  {
   "cell_type": "code",
   "execution_count": 52,
   "metadata": {},
   "outputs": [
    {
     "data": {
      "text/plain": [
       "122"
      ]
     },
     "execution_count": 52,
     "metadata": {},
     "output_type": "execute_result"
    }
   ],
   "source": [
    "12344321\n",
    "123**321\n",
    "12****21\n",
    "1******1"
   ]
  },
  {
   "cell_type": "code",
   "execution_count": 78,
   "metadata": {},
   "outputs": [
    {
     "name": "stdout",
     "output_type": "stream",
     "text": [
      "4\n",
      "12344321\n",
      "123**321\n",
      "12****21\n",
      "1******1\n"
     ]
    }
   ],
   "source": [
    "n = int(input())\n",
    "i = 0\n",
    "while i < n:\n",
    "    #increment values\n",
    "    j = 0\n",
    "    while j < n - i:\n",
    "        print(j+1,end='')\n",
    "        j += 1\n",
    "        \n",
    "    #stars \n",
    "    k = 0\n",
    "    while k <2*i:\n",
    "        print(\"*\",end='')\n",
    "        k += 1\n",
    "    \n",
    "    #decrement\n",
    "    l = n-i\n",
    "    while l > 0:\n",
    "        print(l,end='')\n",
    "        l -= 1\n",
    "    \n",
    "    print()\n",
    "    i  += 1"
   ]
  },
  {
   "cell_type": "code",
   "execution_count": 2,
   "metadata": {},
   "outputs": [
    {
     "name": "stdout",
     "output_type": "stream",
     "text": [
      "25\n"
     ]
    },
    {
     "data": {
      "text/plain": [
       "1389537"
      ]
     },
     "execution_count": 2,
     "metadata": {},
     "output_type": "execute_result"
    }
   ],
   "source": [
    "class Solution:\n",
    "    def tribonacci(self, n: int) -> int:\n",
    "        if n == 0:\n",
    "            return 0\n",
    "        if n == 1:\n",
    "            return 1\n",
    "        if n == 2:\n",
    "            return 2\n",
    "        \n",
    "        i = 1\n",
    "        t0 = 0\n",
    "        t1 = 1\n",
    "        t2 = 1\n",
    "        while i <= n-2:\n",
    "            val = t0 + t1 + t2\n",
    "            t0 = t1\n",
    "            t1 = t2\n",
    "            t2 = val\n",
    "            i += 1\n",
    "        return val\n",
    "\n",
    "n = int(input())\n",
    "s = Solution()\n",
    "s.tribonacci(n)"
   ]
  },
  {
   "cell_type": "code",
   "execution_count": 22,
   "metadata": {
    "scrolled": true
   },
   "outputs": [
    {
     "name": "stdout",
     "output_type": "stream",
     "text": [
      "7\n",
      "100 112 256 349 770\n",
      "72 86 113 119 265 445 892\n"
     ]
    },
    {
     "data": {
      "text/plain": [
       "256"
      ]
     },
     "execution_count": 22,
     "metadata": {},
     "output_type": "execute_result"
    }
   ],
   "source": [
    "\n",
    "import sys\n",
    "class Solution:\n",
    "    def kthElement(self, nums1, nums2,n,m,k):\n",
    "            #code her\n",
    "        if n>m:\n",
    "            return self.kthElement(nums2,nums1,m,n,k)\n",
    "        # n = len(nums1)\n",
    "        # m = len(nums2)\n",
    "        \n",
    "        # low = 0\n",
    "        # high = n\n",
    "        low = max(0,k-m) \n",
    "        high = min(n,k)\n",
    "        \n",
    "        while low <= high:\n",
    "            cut1 = (low+high) // 2\n",
    "            cut2 = k - cut1\n",
    "            \n",
    "            if cut1 == 0:\n",
    "                l1 = -1*sys.maxsize\n",
    "            else:\n",
    "                l1 = nums1[cut1 - 1]\n",
    "                \n",
    "            if cut2 == 0:\n",
    "                l2 = -1*sys.maxsize\n",
    "            else:\n",
    "                l2 = nums2[cut2 - 1]\n",
    "                \n",
    "            if cut1 == n:\n",
    "                r1 = sys.maxsize\n",
    "            else:\n",
    "                r1 = nums1[cut1]\n",
    "                \n",
    "            if cut2 == m:\n",
    "                r2 = sys.maxsize\n",
    "            else:\n",
    "                r2 = nums2[cut2]\n",
    "               \n",
    "            #Condition to check is that is present in the right position    \n",
    "            if  l1 > r2:\n",
    "                high = cut1 - 1\n",
    "            elif l2 > r1:\n",
    "                low = cut1 + 1\n",
    "            else:\n",
    "                return max(l1,l2)\n",
    "        return 1"
   ]
  },
  {
   "cell_type": "code",
   "execution_count": null,
   "metadata": {},
   "outputs": [],
   "source": [
    "#Same as allocated min pages\n",
    "\n",
    "class Solution:\n",
    "    \n",
    "    def isAllocatedSafely(self,mid,days,weights):\n",
    "        \n",
    "        allotedPackage = 1\n",
    "        capacity = 0\n",
    "        for i in range(len(weights)):\n",
    "            # if weights[i] > mid:\n",
    "            #     return False\n",
    "            if capacity + weights[i] > mid:\n",
    "                allotedPackage += 1\n",
    "                capacity = weights[i]\n",
    "                if weights[i] > mid:\n",
    "                    return False\n",
    "            else:\n",
    "                capacity += weights[i]\n",
    "                \n",
    "                \n",
    "        if allotedPackage > days:\n",
    "            return False\n",
    "        else:\n",
    "            return True\n",
    "                \n",
    "    \n",
    "    def shipWithinDays(self, weights: List[int], days: int) -> int:\n",
    "        low = min(weights)\n",
    "        high = sum(weights)\n",
    "        ans = -1\n",
    "        while low <= high: \n",
    "            mid = (low + high) >> 1\n",
    "            if self.isAllocatedSafely(mid,days,weights):\n",
    "                ans = mid\n",
    "                high = mid -1 \n",
    "            else:\n",
    "                low = mid + 1\n",
    "                \n",
    "        return ans"
   ]
  },
  {
   "cell_type": "code",
   "execution_count": 30,
   "metadata": {},
   "outputs": [
    {
     "name": "stdout",
     "output_type": "stream",
     "text": [
      "5\n",
      "0 0 0\n",
      "1 1 0\n",
      "1 0 0\n",
      "0 1 1\n",
      "0 0 0\n",
      "1\n"
     ]
    },
    {
     "data": {
      "text/plain": [
       "-1"
      ]
     },
     "execution_count": 30,
     "metadata": {},
     "output_type": "execute_result"
    }
   ],
   "source": [
    "import sys\n",
    "sys.setrecursionlimit(10**6)\n",
    "class Solution:\n",
    "    \n",
    "    def shortestPathHelper(self,i,j,grid,k,visited,dp):\n",
    "        if i == len(grid)-1 and j >= len(grid[0])-1:\n",
    "            return grid[i][j]\n",
    "\n",
    "            \n",
    "        if i >= len(grid) or i < 0 or j >= len(grid[0]) or j < 0 or visited[i][j] == True:\n",
    "            return 999\n",
    "        \n",
    "        if k != 0 and grid[i][j] == 1:\n",
    "            k -= 1\n",
    "        elif grid[i][j] == 1:\n",
    "            return  999\n",
    "        if dp[i][j] == -1:\n",
    "            visited[i][j] = True\n",
    "            left = self.shortestPathHelper(i,j-1,grid,k,visited,dp)\n",
    "            right = self.shortestPathHelper(i,j+1,grid,k,visited,dp)\n",
    "            top = self.shortestPathHelper(i-1,j,grid,k,visited,dp)\n",
    "            bottom = self.shortestPathHelper(i+1,j,grid,k,visited,dp)\n",
    "        \n",
    "            visited[i][j] = False\n",
    "            k += 1 \n",
    "            ans = min(left,right,top,bottom) + 1\n",
    "            \n",
    "            dp[i][j] = ans \n",
    "            return ans\n",
    "        else:\n",
    "            return dp[i][j]\n",
    "     \n",
    "    \n",
    "        \n",
    "    def shortestPath(self, grid, k):\n",
    "        visited = [[False for j in range(len(grid[0])+1)] for i in range(len(grid)+1)]\n",
    "        dp = [[-1 for j in range(len(grid[0])+1)] for i in range(len(grid)+1)]\n",
    "        \n",
    "        ans = self.shortestPathHelper(0,0,grid,k,visited,dp)\n",
    "        if ans-1 == 999:\n",
    "            return -1\n",
    "        else:\n",
    "            return ans\n",
    "n = int(input())\n",
    "grid = []\n",
    "for i in range(n):\n",
    "    row = [int(i) for i in input().split()]\n",
    "    grid.append(row)\n",
    "\n",
    "k = int(input())\n",
    "s = Solution()\n",
    "s.shortestPath(grid,k)"
   ]
  },
  {
   "cell_type": "code",
   "execution_count": 34,
   "metadata": {},
   "outputs": [
    {
     "name": "stdout",
     "output_type": "stream",
     "text": [
      "1\n",
      "aabaabaa\n",
      "aaba\n",
      "4\n"
     ]
    }
   ],
   "source": [
    "class Solution:\n",
    "\n",
    "\n",
    "    def search(self,pat, txt):\n",
    "        # code here\n",
    "        #Create freuency array\n",
    "        maincount = len(txt)\n",
    "        dic = {}\n",
    "        for i in pat:\n",
    "            dic[i] = dic.get(i,0) + 1\n",
    "        \n",
    "        k =  len(pat) #Size of the sliding window\n",
    "        i = 0\n",
    "        j = 0\n",
    "        count = len(dic)\n",
    "        ans = 0\n",
    "        length = 0\n",
    "        while j <= len(txt):\n",
    "            if length == k:\n",
    "                if count == 0:\n",
    "                    ans += 1\n",
    "                    #release i or increment i with a check that i is in dic or not\n",
    "                    if txt[i] in dic:\n",
    "                        dic[txt[i]] = dic[txt[i]] + 1\n",
    "                        if dic[txt[i]] == 1:\n",
    "                            count += 1\n",
    "                    i += 1\n",
    "                    length-=1\n",
    "                else:\n",
    "                    if txt[i] in dic:\n",
    "                        dic[txt[i]] = dic[txt[i]] + 1\n",
    "                        if dic[txt[i]] == 1:\n",
    "                            count += 1\n",
    "                    i += 1\n",
    "                    length -= 1\n",
    "                    \n",
    "                    \n",
    "            else:\n",
    "                if j != len(txt):\n",
    "                    if txt[j] in dic:\n",
    "                        dic[txt[j]] = dic[txt[j]]-1\n",
    "                        if dic[txt[j]]==0:\n",
    "                            count -= 1\n",
    "                        j += 1\n",
    "                        length += 1\n",
    "                    else:\n",
    "                        j += 1\n",
    "                        length += 1\n",
    "                else:\n",
    "                    break\n",
    "        return ans\n",
    "            \n",
    "if __name__ == \"__main__\":\n",
    "    tc = int(input())\n",
    "    txt = input().strip()\n",
    "    pat = input().strip()    \n",
    "    ob = Solution()\n",
    "    ans = ob.search(pat,txt)\n",
    "    print(ans)"
   ]
  },
  {
   "cell_type": "code",
   "execution_count": 12,
   "metadata": {},
   "outputs": [
    {
     "name": "stdout",
     "output_type": "stream",
     "text": [
      "1,2,3,1,4,5,6,7,8,1,0,2\n"
     ]
    },
    {
     "data": {
      "text/plain": [
       "24"
      ]
     },
     "execution_count": 12,
     "metadata": {},
     "output_type": "execute_result"
    }
   ],
   "source": [
    "class Solution:\n",
    "    def robHelper(self,start,end,nums):\n",
    "        prevTwo = 0\n",
    "        prevOne = 0\n",
    "        maxi = 0\n",
    "        for i in range(start,end):\n",
    "          \n",
    "            maxi = max(nums[i] + prevTwo , prevOne)\n",
    "            prevTwo = prevOne\n",
    "            prevOne = maxi\n",
    "\n",
    "                \n",
    "        return maxi\n",
    "    \n",
    "    def rob(self, nums):\n",
    "        \n",
    "        \n",
    "        if len(nums) == 0:\n",
    "            return 0\n",
    "        \n",
    "        if len(nums) <= 3:\n",
    "            return max(nums)\n",
    "        n= len(nums)\n",
    "        return self.robHelper(0,n,nums)\n",
    "s = Solution()\n",
    "nums = [int(i) for i in input().split(',')]\n",
    "s.rob(nums)"
   ]
  },
  {
   "cell_type": "code",
   "execution_count": 23,
   "metadata": {},
   "outputs": [
    {
     "name": "stdout",
     "output_type": "stream",
     "text": [
      "1,1,1,2,4,5,5,5,6\n"
     ]
    },
    {
     "data": {
      "text/plain": [
       "18"
      ]
     },
     "execution_count": 23,
     "metadata": {},
     "output_type": "execute_result"
    }
   ],
   "source": [
    "class Solution:\n",
    "    def deleteAndEarn(self, nums):   \n",
    "        arr = [0]*10001\n",
    "        for i in nums:\n",
    "            arr[i] += 1\n",
    "        inc = 0\n",
    "        exc = 0\n",
    "        \n",
    "        for i in range(10001):\n",
    "            ni = arr[i] * i + exc\n",
    "            ne = max(inc,exc)\n",
    "            \n",
    "            inc = ni\n",
    "            exc = ne\n",
    "        return max(inc,exc)\n",
    "        \n",
    "s = Solution()\n",
    "nums = [int(i) for i in input().split(\",\")]\n",
    "s.deleteAndEarn(nums)"
   ]
  },
  {
   "cell_type": "code",
   "execution_count": 7,
   "metadata": {},
   "outputs": [
    {
     "data": {
      "text/plain": [
       "3"
      ]
     },
     "execution_count": 7,
     "metadata": {},
     "output_type": "execute_result"
    }
   ],
   "source": [
    "arr = [3,2,1]\n",
    "arr.sort(reverse=True)\n",
    "arr.append(4)\n",
    "arr.pop(0)"
   ]
  },
  {
   "cell_type": "code",
   "execution_count": 10,
   "metadata": {},
   "outputs": [
    {
     "name": "stdout",
     "output_type": "stream",
     "text": [
      "Stack elements before sorting: \n",
      "1 2 3 \n",
      "\n",
      "Stack elements after sorting: \n",
      "3 2 1 \n"
     ]
    }
   ],
   "source": [
    "\n",
    "# Python program to sort a stack using recursion\n",
    "\n",
    "# Recursive method to insert element in sorted way\n",
    "def sortedInsert(s , element):\n",
    "\n",
    "    if len(s) == 0 or element > s[-1]:\n",
    "        s.append(element)\n",
    "        return\n",
    "    else:\n",
    "\n",
    "        temp = s.pop()\n",
    "        sortedInsert(s, element)\n",
    "        s.append(temp)\n",
    "\n",
    "# Method to sort stack\n",
    "def sortStack(s):\n",
    "    \n",
    "    # If stack is not empty\n",
    "    if len(s) != 0:\n",
    "        \n",
    "        # Remove the top item\n",
    "        temp = s.pop()\n",
    "        \n",
    "        # Sort remaining stack\n",
    "        sortStack(s)\n",
    "        \n",
    "        # Push the top item back in sorted stack\n",
    "        sortedInsert(s , temp)\n",
    "\n",
    "# Printing contents of stack\n",
    "def printStack(s):\n",
    "    for i in s[::-1]:\n",
    "            print(i , end=\" \")\n",
    "    print()\n",
    "    \n",
    "# Driver Code\n",
    "if __name__=='__main__':\n",
    "    s = [ ]\n",
    "    s.append(3)\n",
    "    s.append(2)\n",
    "    s.append(1)\n",
    "#     s.append(14)\n",
    "#     s.append(-3)\n",
    "\n",
    "    print(\"Stack elements before sorting: \")\n",
    "    printStack(s)\n",
    "\n",
    "    sortStack(s)\n",
    "\n",
    "    print(\"\\nStack elements after sorting: \")\n",
    "    printStack(s)\n",
    "\n",
    "# This code is contributed by Muskan Kalra.\n",
    "\n",
    "\n"
   ]
  },
  {
   "cell_type": "code",
   "execution_count": 58,
   "metadata": {},
   "outputs": [
    {
     "name": "stdout",
     "output_type": "stream",
     "text": [
      "test.email+alex@leetcode.com\",\"test.email.leet+alex@code.com\n"
     ]
    },
    {
     "data": {
      "text/plain": [
       "2"
      ]
     },
     "execution_count": 58,
     "metadata": {},
     "output_type": "execute_result"
    }
   ],
   "source": [
    "class Solution:\n",
    "    def numUniqueEmails(self, emails):\n",
    "        op = []\n",
    "        for i in emails:\n",
    "            arr = i.split(\"@\")\n",
    "            arr1 = arr[0].split(\"+\")[0] \n",
    "            st = \"\"\n",
    "            for i in arr1.split(\".\"):\n",
    "                st = st + i\n",
    "#             print(arr[1])\n",
    "            if st+\"@\"+arr[1] not in op:\n",
    "                op.append(st+\"@\"+arr[1])\n",
    "#         print(op)\n",
    "        return len(op)\n",
    "    \n",
    "emails = [i for i in input().split(',')]\n",
    "s = Solution()\n",
    "s.numUniqueEmails(emails)"
   ]
  },
  {
   "cell_type": "code",
   "execution_count": 19,
   "metadata": {},
   "outputs": [
    {
     "name": "stdout",
     "output_type": "stream",
     "text": [
      "3 2 1 1 4\n"
     ]
    },
    {
     "data": {
      "text/plain": [
       "True"
      ]
     },
     "execution_count": 19,
     "metadata": {},
     "output_type": "execute_result"
    }
   ],
   "source": [
    "#Simple DP solution\n",
    "class Solution:\n",
    "    def canJumpHelper(self,i,nums,dp,mini):\n",
    "        if i == len(nums)-1:\n",
    "            return 0\n",
    "        if i >= len(nums):\n",
    "            return False\n",
    "        \n",
    "        if nums[i] == 0:\n",
    "            return False\n",
    "        \n",
    "        for j in range(1,nums[i]+1):\n",
    "            if dp[i+j] == -1:\n",
    "                temp = self.canJumpHelper(j+i,nums,dp,mini):\n",
    "                    dp[i+j] = min(temp,mini)+1\n",
    "#                     return True\n",
    "                    return dp[i+j]\n",
    "   \n",
    "            else:\n",
    "                return dp[i+j]\n",
    "\n",
    "    def canJump(self, nums):\n",
    "        dp = [-1 for i in range(len(nums) )]\n",
    "        mini = 999\n",
    "        return self.canJumpHelper(0,nums,dp,999)\n",
    "        \n",
    "nums = [int(i) for i in input().split()]\n",
    "s = Solution()\n",
    "s.canJump(nums)"
   ]
  },
  {
   "cell_type": "code",
   "execution_count": 5,
   "metadata": {},
   "outputs": [
    {
     "name": "stdout",
     "output_type": "stream",
     "text": [
      "3 2 1 1 0 4\n"
     ]
    },
    {
     "data": {
      "text/plain": [
       "False"
      ]
     },
     "execution_count": 5,
     "metadata": {},
     "output_type": "execute_result"
    }
   ],
   "source": [
    "#Greedy one\n",
    "class Solution:\n",
    "    def canJump(self, nums):\n",
    "        if nums[0] == 0:\n",
    "            return False\n",
    "    \n",
    "        power = nums[0]\n",
    "        for i in range(1,len(nums)):\n",
    "            power = max(power-1,nums[i])\n",
    "            if power == 0 and i != len(nums) - 1:\n",
    "                return False\n",
    "        return True\n",
    "nums = [int(i) for i in input().split()]\n",
    "s = Solution()\n",
    "s.canJump(nums)"
   ]
  },
  {
   "cell_type": "code",
   "execution_count": 16,
   "metadata": {},
   "outputs": [
    {
     "name": "stdout",
     "output_type": "stream",
     "text": [
      "888 505 627 846\n"
     ]
    },
    {
     "data": {
      "text/plain": [
       "[888, 505, 846, 627]"
      ]
     },
     "execution_count": 16,
     "metadata": {},
     "output_type": "execute_result"
    }
   ],
   "source": [
    "class Solution:\n",
    "    def sortArrayByParityII(self, nums):\n",
    "        if len(nums) == 2:\n",
    "            if nums[0] % 2 != 0:\n",
    "                return [nums[1],nums[0]]\n",
    "            else:\n",
    "                return nums\n",
    "        even = 0\n",
    "        odd = 1\n",
    "        while odd < len(nums) and even < len(nums):\n",
    "            if nums[even] % 2 == 0:\n",
    "                even += 2\n",
    "            else:\n",
    "                if nums[odd] %2 == 0:\n",
    "                    nums[even],nums[odd] = nums[odd],nums[even]\n",
    "                    # even += 2\n",
    "                    # odd += 2\n",
    "                else:\n",
    "                    odd += 2\n",
    "            if nums[odd] %2 != 0:\n",
    "                odd += 2\n",
    "            else:\n",
    "                if nums[even] %2 != 0:\n",
    "                    nums[even],nums[odd] = nums[odd],nums[even]\n",
    "                    # even += 2\n",
    "                    # odd += 2\n",
    "                else:\n",
    "                    even += 2\n",
    "        return nums\n",
    "    \n",
    "nums = [int(i) for i in input().split()]\n",
    "s = Solution()\n",
    "s.sortArrayByParityII(nums)"
   ]
  },
  {
   "cell_type": "code",
   "execution_count": null,
   "metadata": {},
   "outputs": [],
   "source": [
    "#Greedy one\n",
    "class Solution:\n",
    "    def canJump(self, nums):\n",
    "        if nums[0] == 0:\n",
    "            return False\n",
    "    \n",
    "        power = nums[0]\n",
    "        count = 0\n",
    "        for i in range(1,len(nums)):\n",
    "            power = min(power-1,nums[i])\n",
    "            if power == 0 and i != len(nums) - 1:\n",
    "                return False\n",
    "        return True\n",
    "nums = [int(i) for i in input().split()]\n",
    "s = Solution()\n",
    "s.canJump(nums)"
   ]
  },
  {
   "cell_type": "code",
   "execution_count": 9,
   "metadata": {},
   "outputs": [
    {
     "name": "stdout",
     "output_type": "stream",
     "text": [
      "4 1 1 3 1 1 1 \n"
     ]
    },
    {
     "data": {
      "text/plain": [
       "2"
      ]
     },
     "execution_count": 9,
     "metadata": {},
     "output_type": "execute_result"
    }
   ],
   "source": [
    "class Solution:\n",
    "    def jump(self, nums):\n",
    "        jumps = 0\n",
    "        left = right = 0\n",
    "        farthest =0\n",
    "        while right < len(nums)-1:\n",
    "            for i in range(left,right+1):\n",
    "                farthest = max(i+ nums[i] ,farthest)\n",
    "            left = right + 1\n",
    "            right = farthest\n",
    "            jumps += 1\n",
    "        return jumps\n",
    "    \n",
    "    \n",
    "nums = [int(i) for i in input().split()]\n",
    "s = Solution()\n",
    "s.jump(nums)   "
   ]
  },
  {
   "cell_type": "code",
   "execution_count": 3,
   "metadata": {},
   "outputs": [
    {
     "data": {
      "text/plain": [
       "[0, 0, 0]"
      ]
     },
     "execution_count": 3,
     "metadata": {},
     "output_type": "execute_result"
    }
   ],
   "source": [
    "import queue\n",
    "\n",
    "class BinaryTreeNode:\n",
    "    def __init__(self,data):\n",
    "        self.data=data\n",
    "        self.left=None\n",
    "        self.right=None\n",
    "    \n",
    "\n",
    "def checkBST(root,min_range,max_range):\n",
    "    if root is None:\n",
    "        return True\n",
    "    \n",
    "    if root.data<=min_range or root.data>max_range:\n",
    "        return False\n",
    "\n",
    "    \n",
    "    isleftOk=checkBST(root.left,min_range,root.data-1)\n",
    "    isrightOk=checkBST(root.right,root.data,max_range)\n",
    "\n",
    "    return isleftOk and isrightOk\n",
    "    \n",
    "\n",
    "def takeInput():\n",
    "    levelOrder = [int(i) for i in input().split()]\n",
    "    start = 0\n",
    "    \n",
    "    length = len(levelOrder)\n",
    "\n",
    "    if length == 1 :\n",
    "        return None\n",
    "    \n",
    "    root = BinaryTreeNode(levelOrder[start])\n",
    "    start += 1\n",
    "\n",
    "    q = queue.Queue()\n",
    "    q.put(root)\n",
    "\n",
    "    while not q.empty():\n",
    "        currentNode = q.get()\n",
    "\n",
    "        leftChild = levelOrder[start]\n",
    "        start += 1\n",
    "\n",
    "        if leftChild != -1:\n",
    "            leftNode = BinaryTreeNode(leftChild)\n",
    "            currentNode.left =leftNode\n",
    "            q.put(leftNode)\n",
    "\n",
    "        rightChild = levelOrder[start]\n",
    "        start += 1\n",
    "\n",
    "        if rightChild != -1:\n",
    "            rightNode = BinaryTreeNode(rightChild)\n",
    "            currentNode.right =rightNode\n",
    "            q.put(rightNode)\n",
    "\n",
    "    return root\n",
    "def printLevelWise(root):\n",
    "    if root is None:\n",
    "        return\n",
    "    q=queue.Queue()\n",
    "    q.put(root)\n",
    "    while q.empty() is False:\n",
    "        current_node=q.get()\n",
    "        print(current_node.data,end=' ')\n",
    "        if current_node.left!=None:\n",
    "            q.put(current_node.left)\n",
    "        if current_node.right!=None:\n",
    "            q.put(current_node.right)\n",
    "\n",
    "root=takeInput()\n",
    "checkBST(root,-100000,100000)"
   ]
  },
  {
   "cell_type": "code",
   "execution_count": null,
   "metadata": {},
   "outputs": [],
   "source": [
    "\n",
    "class binarytree:\n",
    "    def __init__(self,data):\n",
    "        self.data = data\n",
    "        self.left = None\n",
    "        self.right = None\n",
    "        \n",
    "import queue\n",
    "def takeinputlevelwise():\n",
    "    q= queue.Queue()\n",
    "    print(\"Enter root node: \")\n",
    "    rootdata = int(input())\n",
    "    if rootdata == -1:\n",
    "        return None\n",
    "    root = binarytree(rootdata)\n",
    "    q.put(root)\n",
    "    while not q.empty():\n",
    "        curr_data = q.get()\n",
    "        print(\"Enter left child of \",curr_data.data)\n",
    "        leftchild = int(input())\n",
    "        if leftchild !=-1:\n",
    "            leftchildroot = binarytree(leftchild)\n",
    "            q.put(leftchildroot)\n",
    "            curr_data.left = leftchildroot\n",
    "            \n",
    "        print(\"Enter right child of \",curr_data.data)\n",
    "        rightchild = int(input())\n",
    "        if rightchild !=-1:\n",
    "            rightchildroot = binarytree(rightchild)\n",
    "            q.put(rightchildroot)\n",
    "            curr_data.right = rightchildroot \n",
    "    return root"
   ]
  },
  {
   "cell_type": "code",
   "execution_count": 2,
   "metadata": {},
   "outputs": [
    {
     "name": "stdout",
     "output_type": "stream",
     "text": [
      "Enter root node: \n",
      "1\n",
      "Enter left child of  1\n",
      "2\n",
      "Enter right child of  1\n",
      "3\n",
      "Enter left child of  2\n",
      "4\n",
      "Enter right child of  2\n",
      "5\n",
      "Enter left child of  3\n",
      "-1\n",
      "Enter right child of  3\n",
      "-1\n",
      "Enter left child of  4\n",
      "-1\n",
      "Enter right child of  4\n",
      "-1\n",
      "Enter left child of  5\n",
      "-1\n",
      "Enter right child of  5\n",
      "-1\n",
      "[(0, 1), (-1, 2), (1, 3), (-2, 4), (0, 5)]\n",
      "\n",
      "[4, 2, 1, 5, 3]\n"
     ]
    }
   ],
   "source": [
    "\n",
    "class binarytree:\n",
    "    def __init__(self,data):\n",
    "        self.data = data\n",
    "        self.left = None\n",
    "        self.right = None\n",
    "        \n",
    "import queue\n",
    "def takeinputlevelwise():\n",
    "    q= queue.Queue()\n",
    "    print(\"Enter root node: \")\n",
    "    rootdata = int(input())\n",
    "    if rootdata == -1:\n",
    "        return None\n",
    "    root = binarytree(rootdata)\n",
    "    q.put(root)\n",
    "    while not q.empty():\n",
    "        curr_data = q.get()\n",
    "        print(\"Enter left child of \",curr_data.data)\n",
    "        leftchild = int(input())\n",
    "        if leftchild !=-1:\n",
    "            leftchildroot = binarytree(leftchild)\n",
    "            q.put(leftchildroot)\n",
    "            curr_data.left = leftchildroot\n",
    "            \n",
    "        print(\"Enter right child of \",curr_data.data)\n",
    "        rightchild = int(input())\n",
    "        if rightchild !=-1:\n",
    "            rightchildroot = binarytree(rightchild)\n",
    "            q.put(rightchildroot)\n",
    "            curr_data.right = rightchildroot \n",
    "    return root\n",
    "\n",
    "def verticalOrder( root): \n",
    "        ar = []\n",
    "        queue = [(root, -1)]\n",
    "\n",
    "        while queue:\n",
    "            cur = queue.pop(0)\n",
    "            ar.append((cur[-1] + 1, cur[0].data))\n",
    "    \n",
    "            if cur[0].left: \n",
    "                queue.append((cur[0].left, cur[-1] - 1))\n",
    "            if cur[0].right: \n",
    "                queue.append((cur[0].right, cur[-1] + 1))\n",
    "        \n",
    "        print(ar)\n",
    "        print()\n",
    "        mn, mx = min([i[0] for i in ar]), max([i[0] for i in ar])\n",
    "        br = {i: [] for i in range(mn, mx+1)}\n",
    "        \n",
    "        for i in ar:\n",
    "            br[i[0]].append(i[1])\n",
    "        \n",
    "        ans = []\n",
    "        for i in range(mn, mx+1):\n",
    "            ans += br[i]\n",
    "        \n",
    "        return ans\n",
    "    \n",
    "root= takeinputlevelwise()\n",
    "print(verticalOrder(root))"
   ]
  },
  {
   "cell_type": "code",
   "execution_count": 3,
   "metadata": {},
   "outputs": [
    {
     "data": {
      "text/plain": [
       "(-2, 1)"
      ]
     },
     "execution_count": 3,
     "metadata": {},
     "output_type": "execute_result"
    }
   ],
   "source": [
    "class Solution:\n",
    "    \n",
    "    def canPartitionKSubsetsHelper(self,start,nums,visited,k,subsetsum,currentsum):\n",
    "        if k == 0:\n",
    "            return True\n",
    "        \n",
    "        if currentsum == subsetsum:\n",
    "            return self.canPartitionKSubsetsHelper(0,nums,visited,k-1,subsetsum,currentsum)\n",
    "        \n",
    "        if currentsum > subsetsum:\n",
    "            return False\n",
    "        \n",
    "        for i in range(start,len(nums)):\n",
    "            if visited[i] != True:\n",
    "                visited[i] = True\n",
    "                if self.canPartitionKSubsetsHelper(start+1,nums,visited,k,subsetsum,currentsum+nums[i]):\n",
    "                    return True\n",
    "                \n",
    "                visited[i] = False\n",
    "        return False\n",
    "    \n",
    "    \n",
    "    def canPartitionKSubsets(self, nums: List[int], k: int) -> bool:\n",
    "        sums = sum(nums)\n",
    "        if sums %k != 0:\n",
    "            return False\n",
    "        \n",
    "        if len(nums) < k:\n",
    "            return False\n",
    "        \n",
    "        subsetsum = sums // k\n",
    "        visited = [False for i in range(len(nums))]\n",
    "        self.canPartitionKSubsetsHelper(0,nums,visited,k,subsetsum,0)"
   ]
  },
  {
   "cell_type": "code",
   "execution_count": null,
   "metadata": {},
   "outputs": [],
   "source": [
    "class Solution:\n",
    "    \n",
    "    def maxProductHelper(self,nums,start,currProduct,dp):\n",
    "        if start == len(nums):\n",
    "            return currProduct\n",
    "        if dp[start] != -1:\n",
    "            return dp[start]\n",
    "        \n",
    "        value = max(self.maxProductHelper(nums,start+1,currProduct*nums[start],dp),self.maxProductHelper(nums,start+1,currProduct,dp))\n",
    "        dp[start] = value\n",
    "        return value\n",
    "                        \n",
    "                        \n",
    "    def maxProduct(self, nums):\n",
    "        dp = [-1 for i in range(len(nums))]\n",
    "        self.maxProductHelper(nums,0,1,dp)\n",
    "        print(dp)\n",
    "    \n",
    "nums = [ int(i) for i in input().split()]\n",
    "s = Solution()\n",
    "s.maxProduct(nums)"
   ]
  },
  {
   "cell_type": "code",
   "execution_count": 7,
   "metadata": {},
   "outputs": [
    {
     "name": "stdout",
     "output_type": "stream",
     "text": [
      "abc\n",
      "def\n"
     ]
    },
    {
     "data": {
      "text/plain": [
       "0"
      ]
     },
     "execution_count": 7,
     "metadata": {},
     "output_type": "execute_result"
    }
   ],
   "source": [
    "# class Solution:\n",
    "#     def longestCommonSubsequenceHelper(self,text1,text2,i,j):\n",
    "#         if i == len(text1) or j == len(text2):\n",
    "#             return 0\n",
    "        \n",
    "#         if text1[i] == text2[j]:\n",
    "#             return 1 + self.longestCommonSubsequenceHelper(text1,text2,i+1,j+1)\n",
    "#         else:\n",
    "#             return max(self.longestCommonSubsequenceHelper(text1,text2,i,j+1) ,self.longestCommonSubsequenceHelper(text1,text2,i+1,j))\n",
    "        \n",
    "    \n",
    "    \n",
    "#     def longestCommonSubsequence(self, text1,text2):\n",
    "#         return self.longestCommonSubsequenceHelper(text1,text2,0,0)\n",
    "    \n",
    "# text1 = input()\n",
    "# text2 = input()\n",
    "# s = Solution()\n",
    "# s.longestCommonSubsequence(text1,text2)"
   ]
  },
  {
   "cell_type": "code",
   "execution_count": 14,
   "metadata": {},
   "outputs": [
    {
     "name": "stdout",
     "output_type": "stream",
     "text": [
      "pmjghexybyrgzczy\n",
      "hafcdqbgncrcbihkd\n"
     ]
    },
    {
     "data": {
      "text/plain": [
       "4"
      ]
     },
     "execution_count": 14,
     "metadata": {},
     "output_type": "execute_result"
    }
   ],
   "source": [
    "class Solution:\n",
    "    def longestCommonSubsequence(self,text1,text2):\n",
    "        dp = [[0 for j in range(len(text2)+1)]for i in range(len(text1)+1)]\n",
    "#         print(dp)\n",
    "        \n",
    "        for j in range(len(text1)-1,-1,-1):\n",
    "            for i in range(len(text2)-1,-1,-1):\n",
    "#                 print(text1[j],j ,i, text2[i])\n",
    "                if text1[j] == text2[i]:\n",
    "                    dp[j][i] = 1 + dp[j+1][i+1]\n",
    "                else:\n",
    "                    dp[j][i] = max(dp[j+1][i] , dp[j][i+1])\n",
    "        return dp[0][0]\n",
    "    \n",
    "text1 = input()\n",
    "text2 = input()\n",
    "s = Solution()\n",
    "s.longestCommonSubsequence(text1,text2)"
   ]
  },
  {
   "cell_type": "code",
   "execution_count": null,
   "metadata": {},
   "outputs": [],
   "source": [
    "import sys\n",
    "class Solution:\n",
    "    def maxSubarraySumCircular(self, nums: List[int]) -> int:\n",
    "        simple_max = -1*sys.maxsize\n",
    "        temp_max = 0\n",
    "        \n",
    "        simple_min = sys.maxsize\n",
    "        temp_min = 0\n",
    "        \n",
    "        arry_sum = 0\n",
    "        \n",
    "        \n",
    "        for i in range(1,nums):\n",
    "            temp_max += nums[i]\n",
    "            simple_max = max(temp_max,simple_max)\n",
    "            if temp_max < 0:\n",
    "                temp_max = 0\n",
    "                \n",
    "            temp_min += i\n",
    "            simple_min = min(temp_min , simple_min)\n",
    "            if temp_min > 0:\n",
    "                temp_min = 0\n",
    "            \n",
    "            arry_sum += i\n",
    "        \n",
    "        if simple_min == arry_sum:\n",
    "            return simple_max\n",
    "        else:\n",
    "            return max(simple_max , arry_sum - simple_min)"
   ]
  },
  {
   "cell_type": "code",
   "execution_count": 20,
   "metadata": {},
   "outputs": [
    {
     "name": "stdout",
     "output_type": "stream",
     "text": [
      "-3 0 1 -2\n"
     ]
    },
    {
     "data": {
      "text/plain": [
       "1"
      ]
     },
     "execution_count": 20,
     "metadata": {},
     "output_type": "execute_result"
    }
   ],
   "source": [
    "import sys\n",
    "class Solution:\n",
    "    def maxProduct(self, nums):\n",
    "        max_so_far = nums[0]\n",
    "        min_so_far = nums[0]\n",
    "        maxi = nums[0]\n",
    "        \n",
    "        for i in range(1,len(nums)):\n",
    "            \n",
    "            if i == 0:\n",
    "                max_so_far = 1\n",
    "                min_so_far = 1\n",
    "            else:\n",
    "                temp = max_so_far\n",
    "                max_so_far = max(nums[i],max_so_far*nums[i],min_so_far*nums[i])\n",
    "                min_so_far = min(nums[i],temp*nums[i],min_so_far*nums[i])\n",
    "            \n",
    "            maxi = max(max_so_far,maxi)\n",
    "            \n",
    "        return maxi\n",
    "  \n",
    "nums =[int(i) for i in input().split()]\n",
    "s= Solution()\n",
    "s.maxProduct(nums)"
   ]
  },
  {
   "cell_type": "code",
   "execution_count": 18,
   "metadata": {},
   "outputs": [
    {
     "name": "stdout",
     "output_type": "stream",
     "text": [
      "2 3 -2 4\n"
     ]
    },
    {
     "data": {
      "text/plain": [
       "6"
      ]
     },
     "execution_count": 18,
     "metadata": {},
     "output_type": "execute_result"
    }
   ],
   "source": [
    "# class Solution:\n",
    "#     def maxProduct(self, nums):\n",
    "#         \"\"\"\n",
    "#             The logic is similar to Kadane's Algorithm with some changes.\n",
    "#         \"\"\"\n",
    "\n",
    "#         # Initialising variables\n",
    "#         # At each iteration i, localMax and localMin will have max, min product \n",
    "#         # possible at iteration i-1. Based on nums[i], we determine at each iteration\n",
    "#         # next localMax and localMin which involes nums[i]\n",
    "#         localMax = localMin = globalMax = nums[0]\n",
    "        \n",
    "#         for i in range(1, len(nums)):\n",
    "#             # Finding max and min subarray product that includes nums[i] and\n",
    "#             # elements to the left of nums[i]. Why we consider min subarray too is,\n",
    "#             # since it is product there will be a case where min subarray is a -ve\n",
    "#             # product and upon encountering another -ve value, it might reach a max\n",
    "#             # value.\n",
    "#             a = max(localMax * nums[i], nums[i], localMin * nums[i])\n",
    "#             b = min(localMax * nums[i], nums[i], localMin * nums[i])\n",
    "#             # Assigning them to localMax and localMin\n",
    "#             localMax = a\n",
    "#             localMin = b\n",
    "#             # Updating globalMax\n",
    "#             globalMax = max(globalMax, localMax)\n",
    "        \n",
    "#         return globalMax\n",
    "    \n",
    "# nums =[int(i) for i in input().split()]\n",
    "# s= Solution()\n",
    "# s.maxProduct(nums)"
   ]
  },
  {
   "cell_type": "code",
   "execution_count": 2,
   "metadata": {},
   "outputs": [
    {
     "name": "stdout",
     "output_type": "stream",
     "text": [
      "[[-3, -4, -1], [-5, -10, -4], [0, 0, -5]]\n"
     ]
    },
    {
     "data": {
      "text/plain": [
       "4"
      ]
     },
     "execution_count": 2,
     "metadata": {},
     "output_type": "execute_result"
    }
   ],
   "source": [
    "class Solution:\n",
    "    def calculateMinimumHP(self, arr):\n",
    "        row = len(arr)\n",
    "        col = len(arr[0])\n",
    "        dp = [[-1 for i in range(col)] for j in range(row)]\n",
    "        \n",
    "        for i in range(row-1,-1,-1):\n",
    "            for j in range(col-1,-1,-1):\n",
    "                #first we check if we are at the cell where the princess is\n",
    "                if i == row-1 and j == col -1:\n",
    "                    dp[i][j] = min(0,arr[i][j])\n",
    "                \n",
    "                #IF we are at last row\n",
    "                elif i == row - 1:\n",
    "                    dp[i][j] = min(0,arr[i][j] + dp[i][j-1])\n",
    "                \n",
    "                #if we are at last column\n",
    "                elif j == col -1:\n",
    "                    dp[i][j] = min(0,arr[i][j] + dp[i+1][j])\n",
    "                    \n",
    "                else:\n",
    "                    dp[i][j] = min(0,arr[i][j]+ max(dp[i+1][j] ,dp[i][j-1]))\n",
    "                    \n",
    "        print(dp)\n",
    "        return abs(dp[0][0]) + 1\n",
    "    \n",
    "nums = [[-2,-3,3],[-5,-10,1],[10,30,-5]]\n",
    "\n",
    "s  = Solution()\n",
    "s.calculateMinimumHP(nums)"
   ]
  },
  {
   "cell_type": "code",
   "execution_count": 7,
   "metadata": {},
   "outputs": [
    {
     "name": "stdout",
     "output_type": "stream",
     "text": [
      "[[-1, 2], [-1, -1]]\n"
     ]
    },
    {
     "data": {
      "text/plain": [
       "2"
      ]
     },
     "execution_count": 7,
     "metadata": {},
     "output_type": "execute_result"
    }
   ],
   "source": [
    "class Solution:\n",
    "    def maxScoreSightseeingPair(self, values):\n",
    "        dp = [[-1 for i in range(len(values))] for j in range(len(values))]\n",
    "        n = len(values)\n",
    "        maxi = -1\n",
    "        i = 0\n",
    "        j = 1\n",
    "        while j < n:\n",
    "            dp[i][j] = values[i] + values[j] + i-j\n",
    "            maxi = max(maxi,dp[i][j])\n",
    "            j+= 1\n",
    "        \n",
    "        for i in range(1,n):\n",
    "            for j in range(i+1,n):\n",
    "                value = values[i] - values[i-1]\n",
    "                dp[i][j] = value + dp[i-1][j] + 1\n",
    "                maxi = max(maxi,dp[i][j])\n",
    "        print(dp)\n",
    "        return maxi\n",
    "\n",
    "values =[1,2]\n",
    "s = Solution()\n",
    "s.maxScoreSightseeingPair(values)"
   ]
  },
  {
   "cell_type": "code",
   "execution_count": null,
   "metadata": {},
   "outputs": [],
   "source": [
    "#Problem solved using state machine method \n",
    "class Solution:\n",
    "    def maxProfit(self, prices):\n",
    "        obs = -1*prices[0]\n",
    "        oss = 0\n",
    "        ocs = 0\n",
    "        \n",
    "        for i in range(1,len(prices)):\n",
    "            nbs = 0\n",
    "            nss = 0\n",
    "            ncs = 0\n",
    "            \n",
    "            #how to fill the new buy state\n",
    "            nbs = max(obs,ocs-prices[i])\n",
    "            \n",
    "            #How to fill the new old selling state\n",
    "            nss = max(oss,obs + prices[i])\n",
    "            \n",
    "            #how to fill the calm state \n",
    "            ncs = max(ocs , oss)\n",
    "            \n",
    "            \n",
    "            obs = nbs\n",
    "            oss = nss\n",
    "            ocs = ncs\n",
    "    \n",
    "        return oss"
   ]
  },
  {
   "cell_type": "code",
   "execution_count": 2,
   "metadata": {},
   "outputs": [
    {
     "data": {
      "text/plain": [
       "[1, 2, 3]"
      ]
     },
     "execution_count": 2,
     "metadata": {},
     "output_type": "execute_result"
    }
   ],
   "source": [
    "arr = [3,2,1]\n",
    "arr.sort()\n",
    "arr"
   ]
  },
  {
   "cell_type": "code",
   "execution_count": 8,
   "metadata": {},
   "outputs": [
    {
     "name": "stdout",
     "output_type": "stream",
     "text": [
      "5,4,3,2,1,1000000000\n",
      "2\n"
     ]
    },
    {
     "data": {
      "text/plain": [
       "999999999"
      ]
     },
     "execution_count": 8,
     "metadata": {},
     "output_type": "execute_result"
    }
   ],
   "source": [
    "class Solution:\n",
    "\n",
    "    def canPlace(self,m,position,mid):\n",
    "        count = 1\n",
    "        placedCoordinate = position[0]\n",
    "        for i in range(1,len(position)):\n",
    "            if (position[i] - placedCoordinate ) >= mid:\n",
    "                count += 1\n",
    "                placedCoordinate = position[i]\n",
    "            \n",
    "            if count == m:\n",
    "                return True\n",
    "        return False\n",
    "    \n",
    "    def maxDistance(self, position , m):\n",
    "        position.sort()\n",
    "        ans = position[0]\n",
    "        low = 1\n",
    "        high = position[-1] - position[0] #6\n",
    "        while low <= high:\n",
    "            mid = (low+high) // 2\n",
    "            if self.canPlace(m,position,mid):\n",
    "                ans = max(mid,ans)\n",
    "                low = mid + 1\n",
    "            else:\n",
    "                high = mid - 1\n",
    "        \n",
    "        return ans\n",
    "            \n",
    "s = Solution()\n",
    "position = [int(i) for i in input().split(',') ]\n",
    "m = int(input())\n",
    "s.maxDistance(position , m)"
   ]
  },
  {
   "cell_type": "code",
   "execution_count": 10,
   "metadata": {},
   "outputs": [
    {
     "data": {
      "text/plain": [
       "[2, 3]"
      ]
     },
     "execution_count": 10,
     "metadata": {},
     "output_type": "execute_result"
    }
   ],
   "source": [
    "class Solution:\n",
    "    def findDuplicates(self, nums):\n",
    "        res = []\n",
    "        for num in nums:\n",
    "            if nums[abs(num) - 1] < 0:\n",
    "                res.append(abs(num))\n",
    "            else:\n",
    "                nums[abs(num) - 1] *= -1\n",
    "            \n",
    "        return res\n",
    "        \n",
    "s = Solution()\n",
    "nums = [4,3,2,7,8,2,3,1]\n",
    "s.findDuplicates(nums)"
   ]
  },
  {
   "cell_type": "code",
   "execution_count": 6,
   "metadata": {},
   "outputs": [
    {
     "name": "stdout",
     "output_type": "stream",
     "text": [
      "gfg\n",
      "gfg\n",
      "[[0, 1, 2, 3], [1, 0, 0, 0], [2, 0, 0, 0], [3, 0, 0, 0]]\n",
      "[[0, 1, 2, 3], [1, 0, 1, 2], [2, 1, 0, 1], [3, 2, 1, 0]]\n"
     ]
    },
    {
     "data": {
      "text/plain": [
       "0"
      ]
     },
     "execution_count": 6,
     "metadata": {},
     "output_type": "execute_result"
    }
   ],
   "source": [
    "class Solution:        #   m  n\n",
    "    def editDistance(self, s, t):\n",
    "        # Code here\n",
    "        dp = [[0 for i in range(len(t)+1)]for j in range(len(s)+1)]\n",
    "        \n",
    "        #Here we can use 3 operations which is insert , replace and remove\n",
    "        #insert means we are inserting previoud to the string let suppose we have 'abc' and we have to insert 'd' then we do like\n",
    "        #this 'abcd' means we are inserting it to right side ok so in that if we are at index 3 for s string and t for 2nd string\n",
    "        #we use fun(m,n-1)\n",
    "        \n",
    "        #similarly in delete/remove we do fun(m-1,n)\n",
    "        #and in replace we use fun(m-1,n-1)\n",
    "        \n",
    "\n",
    "        #Edge case when s is empty and t is full then we have to use insert operation\n",
    "        for i in range(len(s)+1):\n",
    "            dp[i][0] = i\n",
    "        \n",
    "        #Edge case when s is full and t is empty\n",
    "        for i in range(len(t)+1):\n",
    "            dp[0][i] = i\n",
    "            \n",
    "   \n",
    "        for i in range(1,len(s)+1):\n",
    "            for j in range(1,len(t)+1):\n",
    "                if s[i-1] == t[j-1]:\n",
    "                    dp[i][j] = dp[i-1][j-1]\n",
    "                else:\n",
    "                    dp[i][j] = min(dp[i-1][j] , dp[i-1][j-1] , dp[i][j-1]) + 1\n",
    "   \n",
    "        return dp[len(s)][len(t)]\n",
    "    \n",
    "st = input()\n",
    "t = input()\n",
    "s = Solution()\n",
    "s.editDistance(st,t)"
   ]
  },
  {
   "cell_type": "code",
   "execution_count": 7,
   "metadata": {},
   "outputs": [
    {
     "name": "stdout",
     "output_type": "stream",
     "text": [
      "4\n",
      "*000*000*\n",
      "0*00*00*0\n",
      "00*0*0*00\n",
      "000***000\n"
     ]
    }
   ],
   "source": [
    "## Read input as specified in the question.\n",
    "## Print output as specified in the question.\n",
    "n=int(input())\n",
    "for i in range (1,n+1,1):\n",
    "    for j in range (1,n+1,1):\n",
    "        if j==i:\n",
    "            print(\"*\", end=\"\")\n",
    "        else:\n",
    "            print(\"0\", end=\"\")\n",
    "    print(\"*\", end=\"\")\n",
    "    for j in range (1,n+1,1):\n",
    "        if j==n+1-i:\n",
    "            print(\"*\", end=\"\")\n",
    "        else:\n",
    "            print(\"0\", end=\"\")\n",
    "    print()"
   ]
  },
  {
   "cell_type": "code",
   "execution_count": 14,
   "metadata": {},
   "outputs": [
    {
     "ename": "IndexError",
     "evalue": "string index out of range",
     "output_type": "error",
     "traceback": [
      "\u001b[1;31m---------------------------------------------------------------------------\u001b[0m",
      "\u001b[1;31mIndexError\u001b[0m                                Traceback (most recent call last)",
      "\u001b[1;32m<ipython-input-14-0d447cbc1fe4>\u001b[0m in \u001b[0;36m<module>\u001b[1;34m\u001b[0m\n\u001b[0;32m      1\u001b[0m \u001b[0mi\u001b[0m \u001b[1;33m=\u001b[0m \u001b[1;34m''\u001b[0m\u001b[1;33m\u001b[0m\u001b[1;33m\u001b[0m\u001b[0m\n\u001b[1;32m----> 2\u001b[1;33m \u001b[0mi\u001b[0m\u001b[1;33m[\u001b[0m\u001b[1;33m-\u001b[0m\u001b[1;36m1\u001b[0m\u001b[1;33m]\u001b[0m\u001b[1;33m\u001b[0m\u001b[1;33m\u001b[0m\u001b[0m\n\u001b[0m",
      "\u001b[1;31mIndexError\u001b[0m: string index out of range"
     ]
    }
   ],
   "source": [
    "i = ''\n",
    "i[-1]"
   ]
  },
  {
   "cell_type": "code",
   "execution_count": 15,
   "metadata": {},
   "outputs": [
    {
     "name": "stdout",
     "output_type": "stream",
     "text": [
      "nttin\n",
      "ntin\n"
     ]
    }
   ],
   "source": [
    "str1=input()\n",
    "str2=\"\"\n",
    "for i in str1:\n",
    "    if i not in str2:\n",
    "        str2 += i\n",
    "    if str2[len(str2) -1] != i:\n",
    "        str2 += i\n",
    "\n",
    "\n",
    "print(str2)"
   ]
  },
  {
   "cell_type": "markdown",
   "metadata": {},
   "source": [
    "# Trie Data Structure"
   ]
  },
  {
   "cell_type": "code",
   "execution_count": null,
   "metadata": {},
   "outputs": [],
   "source": [
    "class TrieNode:\n",
    "     \n",
    "    # Trie node class\n",
    "    def __init__(self):\n",
    "        self.children = [None]*26\n",
    " \n",
    "        # isEndOfWord is True if node represent the end of the word\n",
    "        self.isEndOfWord = False\n",
    "\n",
    "class Trie:\n",
    "\n",
    "    def __init__(self):\n",
    "        self.root = self.getNode()\n",
    "        \n",
    "        \n",
    "    def getNode(self):\n",
    "        return TrieNode()\n",
    "\n",
    "    def _charToIndex(self,ch):\n",
    "        return ord(ch)-ord('a')\n",
    "    \n",
    "    \n",
    "    def insert(self, word: str) -> None:\n",
    "        currpoint = self.root\n",
    "        length = len(word)\n",
    "        for level in range(length):\n",
    "            index = self._charToIndex(word[level])\n",
    "            \n",
    "            if not currpoint.children[index]:\n",
    "                currpoint.children[index] = self.getNode()\n",
    "            \n",
    "            currpoint =  currpoint.children[index]\n",
    "        currpoint.isEndOfWord = True\n",
    "            \n",
    "\n",
    "    def search(self, word: str) -> bool:\n",
    "        pCrawl = self.root\n",
    "        length = len(word)\n",
    "        for level in range(length):\n",
    "            index = self._charToIndex(word[level])\n",
    "            if not pCrawl.children[index]:\n",
    "                return False\n",
    "            pCrawl = pCrawl.children[index]\n",
    " \n",
    "        return pCrawl.isEndOfWord\n",
    "\n",
    "    def startsWith(self, prefix: str) -> bool:\n",
    "        pCrawl = self.root\n",
    "        length = len(prefix)\n",
    "        for level in range(length):\n",
    "            index = self._charToIndex(prefix[level])\n",
    "            if not pCrawl.children[index]:\n",
    "                return False\n",
    "            pCrawl = pCrawl.children[index]\n",
    " \n",
    "        return True\n",
    "\n",
    "\n",
    "\n",
    "# Your Trie object will be instantiated and called as such:\n",
    "# obj = Trie()\n",
    "# obj.insert(word)\n",
    "# param_2 = obj.search(word)\n",
    "# param_3 = obj.startsWith(prefix)"
   ]
  },
  {
   "cell_type": "code",
   "execution_count": null,
   "metadata": {},
   "outputs": [],
   "source": [
    "class Solution:\n",
    "    def count(self, S, m, n): \n",
    "        # code here \n",
    "        #m = size of coin array here it is S\n",
    "        #n = sum\n",
    "        dp = [[0 for i in range(n+1)]for i in range(m+1)]\n",
    "        \n",
    "        #Initilization\n",
    "        #Column initialization which represents the target sum\n",
    "        for i in range(n+1):\n",
    "            dp[0][i] = 0\n",
    "            \n",
    "            \n",
    "        for j in range(m+1):\n",
    "            dp[j][0] = 1\n",
    "            \n",
    "        for i in range(1,m+1):\n",
    "            for j in range(1,n+1):\n",
    "                if S[i-1] <= j:\n",
    "                    dp[i][j] = dp[i][j-S[i-1]] + dp[i-1][j]\n",
    "                else:\n",
    "                    dp[i][j] = dp[i-1][j]\n",
    "        return dp[m][n]"
   ]
  },
  {
   "cell_type": "code",
   "execution_count": 5,
   "metadata": {},
   "outputs": [
    {
     "name": "stdout",
     "output_type": "stream",
     "text": [
      "4\n",
      "4 4 4 4 \n",
      "4 4 4 4 \n",
      "4 4 4 4 \n",
      "4 4 4 4 \n"
     ]
    }
   ],
   "source": [
    "n = int(input()) #4\n",
    "i = 0\n",
    "while i < n:\n",
    "    j = 0\n",
    "    while j < n:\n",
    "        print(n,end=\" \")\n",
    "        j += 1\n",
    "    print()\n",
    "    i += 1"
   ]
  },
  {
   "cell_type": "code",
   "execution_count": 20,
   "metadata": {},
   "outputs": [
    {
     "name": "stdout",
     "output_type": "stream",
     "text": [
      "[[0, 9223372036854775807, 9223372036854775807, 9223372036854775807, 9223372036854775807, 9223372036854775807, 9223372036854775807], [0, 1, 2, 3, 4, 5, 6], [0, 1, 1, 2, 2, 3, 3], [0, 1, 1, 2, 2, 1, 2]]\n"
     ]
    },
    {
     "data": {
      "text/plain": [
       "2"
      ]
     },
     "execution_count": 20,
     "metadata": {},
     "output_type": "execute_result"
    }
   ],
   "source": [
    "import sys\n",
    "def minCoinChange(coin , sums):\n",
    "    dp = [[(sys.maxsize) for i in range(sums+1)]for j in range(len(coin)+1)]\n",
    "        #Initialize 1st column\n",
    "        for i in range(1,len(coin)+1):\n",
    "            dp[i][0] = 0\n",
    "\n",
    "        dp[0][0] = 0\n",
    "\n",
    "        #main code for dp which is similar to the unbounded knapsack\n",
    "        for i in range(1,len(coin) +1 ):\n",
    "            for j in range(1,sums+1):\n",
    "                if coin[i-1] <= j:\n",
    "                    dp[i][j] = min(1+dp[i][j -coin[i-1]] , dp[i-1][j])\n",
    "                else:\n",
    "                    dp[i][j] = dp[i-1][j]\n",
    "\n",
    "        if dp[len(coin)][sums] == sys.maxsize:\n",
    "            return -1\n",
    "        return dp[len(coin)][sums]\n",
    "\n",
    "coin = [1,2,5]\n",
    "minCoinChange(coin,6)"
   ]
  },
  {
   "cell_type": "code",
   "execution_count": 37,
   "metadata": {},
   "outputs": [
    {
     "name": "stdout",
     "output_type": "stream",
     "text": [
      "4\n",
      "1 3\n",
      "2 4\n",
      "6 8\n",
      "9 10\n"
     ]
    },
    {
     "data": {
      "text/plain": [
       "[[1, 4], [6, 8], [9, 10]]"
      ]
     },
     "execution_count": 37,
     "metadata": {},
     "output_type": "execute_result"
    }
   ],
   "source": [
    "class Solution:\n",
    "    def overlappedInterval(self, Intervals):\n",
    "        #Code here\n",
    "        Intervals.sort()\n",
    "        ans= [Intervals[0]]\n",
    "        for i in range(1,len(Intervals)):\n",
    "            temp_arr = []\n",
    "            flag = False\n",
    "            for j in range(len(ans)):\n",
    "                if Intervals[i][0] <= ans[j][1]:\n",
    "                    temp_arr.append(ans[j][0])\n",
    "                    if Intervals[i][1] > ans[j][1]:\n",
    "                        temp_arr.append(Intervals[i][1])\n",
    "                    else:\n",
    "                        temp_arr.append(ans[j][1])\n",
    "                    \n",
    "                    flag = True\n",
    "                    ans[j] = temp_arr\n",
    "                    break\n",
    "            if flag:\n",
    "                pass\n",
    "            else:\n",
    "                ans.append(Intervals[i])\n",
    "        return ans\n",
    "Intervals = []\n",
    "n = int(input())\n",
    "for i in range(n):\n",
    "    row = []\n",
    "    row = [int(i) for i in input().split()]\n",
    "    Intervals.append(row)\n",
    "\n",
    "s = Solution()\n",
    "s.overlappedInterval(Intervals)"
   ]
  },
  {
   "cell_type": "code",
   "execution_count": 45,
   "metadata": {},
   "outputs": [
    {
     "name": "stdout",
     "output_type": "stream",
     "text": [
      "catsandog\n",
      "cats dog sand and cat\n"
     ]
    },
    {
     "data": {
      "text/plain": [
       "False"
      ]
     },
     "execution_count": 45,
     "metadata": {},
     "output_type": "execute_result"
    }
   ],
   "source": [
    "class Solution:\n",
    "    \n",
    "    def wordBreakHelper(self,s,wordDict,dic,index):\n",
    "        if len(s) == 0:\n",
    "            return True\n",
    "        \n",
    "        if s in dic:\n",
    "            return dic[s]\n",
    "        \n",
    "        for i in range(index,len(wordDict)):\n",
    "            dict_part = wordDict[i]\n",
    "            if s[:len(dict_part)] == dict_part:\n",
    "                tempAns = self.wordBreakHelper(s[len(dict_part):],wordDict,dic,index)\n",
    "                dic[s[:len(dict_part)]] = tempAns\n",
    "                if tempAns:\n",
    "                    return True\n",
    "                    \n",
    "                # return tempAns\n",
    "        \n",
    "        return False\n",
    "            \n",
    "    def wordBreak(self, s,wordDict):\n",
    "        dic = {}\n",
    "        return self.wordBreakHelper(s,wordDict,dic,0)\n",
    "s = Solution()\n",
    "st = input()\n",
    "wordDict = [i for i in input().split()]\n",
    "s.wordBreak(st,wordDict)"
   ]
  },
  {
   "cell_type": "code",
   "execution_count": null,
   "metadata": {},
   "outputs": [],
   "source": [
    "def pairSum(arr,sums):\n",
    "    arr.sort()\n",
    "    i = 0\n",
    "    j = len(arr) - 1\n",
    "    count = 0\n",
    "    while i < j:\n",
    "        if arr[i]+arr[j] < sums:\n",
    "            count += 1\n",
    "        else:\n",
    "            j-=1\n",
    "#         if arr[i] + arr[j] > sums:\n",
    "#             j -= 1\n",
    "        \n",
    "        "
   ]
  },
  {
   "cell_type": "code",
   "execution_count": 21,
   "metadata": {},
   "outputs": [
    {
     "name": "stdout",
     "output_type": "stream",
     "text": [
      "-2 0 1 3\n",
      "4\n",
      "2\n"
     ]
    },
    {
     "data": {
      "text/plain": [
       "2"
      ]
     },
     "execution_count": 21,
     "metadata": {},
     "output_type": "execute_result"
    }
   ],
   "source": [
    "class Solution:\n",
    "    def countTriplets(self, arr, n, sumo):\n",
    "        #code here\n",
    "        arr.sort()\n",
    "        count = 0\n",
    "        for k in range(0,n-2):\n",
    "            i = k+1\n",
    "            j = n-1\n",
    "            while i < j:\n",
    "                if arr[i] + arr[j] + arr[k] < sumo:\n",
    "                    count += j - i\n",
    "                    i += 1\n",
    "                else:\n",
    "                    j -= 1\n",
    "        return count\n",
    "    \n",
    "arr = [ int(i) for i in input().split()]\n",
    "n = int(input())\n",
    "sumo = int(input())\n",
    "s  = Solution()\n",
    "s.countTriplets(arr,n,sumo)"
   ]
  },
  {
   "cell_type": "code",
   "execution_count": 6,
   "metadata": {},
   "outputs": [
    {
     "name": "stdout",
     "output_type": "stream",
     "text": [
      "12\n",
      "[1, 1, 0]\n",
      "[1, 1, 2]\n"
     ]
    },
    {
     "data": {
      "text/plain": [
       "2"
      ]
     },
     "execution_count": 6,
     "metadata": {},
     "output_type": "execute_result"
    }
   ],
   "source": [
    "class Solution:\n",
    "    def numDecodings(self, s):\n",
    "        dp = [0 for i in range(len(s)+1)]\n",
    "#         print(dp)\n",
    "        dp[0] = 1\n",
    "        if s[0] == '0':\n",
    "            return 0\n",
    "        else:\n",
    "            dp[1] = 1\n",
    "        print(dp)\n",
    "        for i in range(2,len(s)+1):\n",
    "            if s[i-1] == \"0\":\n",
    "                if s[i-2] == \"1\" or s[i-2] == \"2\":\n",
    "                    dp[i] = dp[i-2]\n",
    "                else:\n",
    "                    return 0\n",
    "            else:\n",
    "                if s[i-2] == '1' or s[i-2] == '2' and int(s[i-1]) < 7:\n",
    "                    dp[i] = dp[i-1] + dp[i-2]\n",
    "                else:\n",
    "                    dp[i] = dp[i-1]\n",
    "        print(dp)\n",
    "        return dp[len(s)]\n",
    "    \n",
    "ST = input()\n",
    "s = Solution()\n",
    "s.numDecodings(ST)"
   ]
  },
  {
   "cell_type": "code",
   "execution_count": null,
   "metadata": {},
   "outputs": [],
   "source": [
    "class TreeNode:\n",
    "    def __init__(self, val=0, left=None, right=None):\n",
    "        self.val = val\n",
    "        self.left = left\n",
    "        self.right = right\n",
    "class Solution:\n",
    "    def bstFromPreorder(self, preorder):\n",
    "        if len(preorder) <= 0:\n",
    "            return None\n",
    "        \n",
    "        root_val = preorder[0]\n",
    "        right_start_idx = len(preorder)\n",
    "        for i, v in enumerate(preorder[1:]):\n",
    "            if v > root_val:\n",
    "                right_start_idx = i+1\n",
    "                break\n",
    "        \n",
    "        leftSubTree = self.bstFromPreorder(preorder[1:right_start_idx])\n",
    "        rightSubTree = self.bstFromPreorder(preorder[right_start_idx:])\n",
    "        \n",
    "        return TreeNode(root_val, leftSubTree, rightSubTree)\n",
    "preorder =  [8,5,1,7,10,12]\n",
    "s = Solution()\n",
    "s.bstFromPreorder(preorder)"
   ]
  },
  {
   "cell_type": "code",
   "execution_count": 12,
   "metadata": {},
   "outputs": [
    {
     "data": {
      "text/plain": [
       "'451'"
      ]
     },
     "execution_count": 12,
     "metadata": {},
     "output_type": "execute_result"
    }
   ],
   "source": [
    "ar = \"45132\"\n",
    "# ar[-2]+ar[-1]\n",
    "ar[:-2]"
   ]
  },
  {
   "cell_type": "code",
   "execution_count": 19,
   "metadata": {},
   "outputs": [
    {
     "name": "stdout",
     "output_type": "stream",
     "text": [
      "6759\n",
      "6760\n"
     ]
    }
   ],
   "source": [
    "def roundoff(n):\n",
    "    if len(n) == 1:\n",
    "        if int(n) <= 5:\n",
    "            return n\n",
    "        else:\n",
    "            return 10\n",
    "    elif len(n) == 2:\n",
    "        if int(n[-1]) <= 5:\n",
    "            return n[0] + '0'\n",
    "    last_one =  n[-1]\n",
    "    last_two = n[-2]\n",
    "    if int(last_one) <= 5:\n",
    "        return n[:-2] +last_two+ '0'\n",
    "    else:\n",
    "        return n[:-2] + str(int(last_two)+1) +'0'\n",
    "    \n",
    "n = input()\n",
    "print(roundoff(n))"
   ]
  },
  {
   "cell_type": "code",
   "execution_count": 3,
   "metadata": {},
   "outputs": [
    {
     "name": "stdout",
     "output_type": "stream",
     "text": [
      "13\n",
      "2\n"
     ]
    }
   ],
   "source": [
    "import math,sys\n",
    "def squarerepresentnI(num):\n",
    "    dp = [-1 for i in range(num + 1) ]\n",
    "    dp[0] = 0\n",
    "    dp[1] = 1\n",
    "    for i in range(2,num+1):\n",
    "        root = int(math.sqrt(i))\n",
    "        ans = sys.maxsize\n",
    "        for j in range(1,root+1):\n",
    "            currans = 1 + dp[i-j*j]\n",
    "            ans =  min(ans,currans)\n",
    "        dp[i] = ans\n",
    "        \n",
    "    return dp[num]    \n",
    "\n"
   ]
  },
  {
   "cell_type": "code",
   "execution_count": 8,
   "metadata": {},
   "outputs": [
    {
     "name": "stdout",
     "output_type": "stream",
     "text": [
      "4\n"
     ]
    }
   ],
   "source": [
    "def lsc_memo_iter(s,t,i,j):\n",
    "    n = len(s)\n",
    "    m = len(t)\n",
    "    maxi = -9999\n",
    "    dp = [[0 for i in range(m+1)] for j in range(n+1)]\n",
    "    for i in range(n-1,-1,-1):\n",
    "        for j in range(m-1,-1,-1):\n",
    "            if s[i] == t[j]:\n",
    "                dp[i][j] = 1 + dp[i+1][j+1]\n",
    "                maxi = max(dp[i][j]  , maxi)\n",
    "            else:\n",
    "                dp[i][j] = 0\n",
    "                maxi = max(dp[i][j]  , maxi)\n",
    "    return maxi\n",
    "\n",
    "s = 'ABCDGH'\n",
    "t = 'ACDGHR'\n",
    "print(lsc_memo_iter(s,t,0,0))"
   ]
  },
  {
   "cell_type": "code",
   "execution_count": 1,
   "metadata": {},
   "outputs": [
    {
     "ename": "NameError",
     "evalue": "name 'zxabcdezy' is not defined",
     "output_type": "error",
     "traceback": [
      "\u001b[1;31m---------------------------------------------------------------------------\u001b[0m",
      "\u001b[1;31mNameError\u001b[0m                                 Traceback (most recent call last)",
      "\u001b[1;32m<ipython-input-1-36d40d2c9680>\u001b[0m in \u001b[0;36m<module>\u001b[1;34m\u001b[0m\n\u001b[1;32m----> 1\u001b[1;33m \u001b[0mzxabcdezy\u001b[0m\u001b[1;33m\u001b[0m\u001b[1;33m\u001b[0m\u001b[0m\n\u001b[0m\u001b[0;32m      2\u001b[0m \u001b[0myzabcdezx\u001b[0m\u001b[1;33m\u001b[0m\u001b[1;33m\u001b[0m\u001b[0m\n",
      "\u001b[1;31mNameError\u001b[0m: name 'zxabcdezy' is not defined"
     ]
    }
   ],
   "source": [
    "class Solution:\n",
    "    def Ugly(self):\n",
    "        dp = [False for i in range(1691)]\n",
    "        dp[1] = True\n",
    "        \n",
    "        for i in range(2,1691):\n",
    "            if i % 2 == 0:\n",
    "                dp[i] = dp[i//2]\n",
    "                \n",
    "            elif i % 3 == 0:\n",
    "                dp[i] = dp[i//3]\n",
    "                \n",
    "                \n",
    "            elif i % 5 == 0:\n",
    "                dp[i] = dp[i//5]\n",
    "            \n",
    "            \n",
    "            else:\n",
    "                dp[i] = False\n",
    "        return dp\n",
    "\n",
    "    def nthUglyNumber(self, n):\n",
    "        i = 0\n",
    "        j =  0\n",
    "        dp = self.Ugly()\n",
    "        ans = 1\n",
    "        while i != n:\n",
    "            if dp[j]:\n",
    "                ans = j\n",
    "                j += 1\n",
    "                i += 1\n",
    "            else:\n",
    "                j += 1\n",
    "        \n",
    "        return ans\n",
    "            \n",
    "n = int(input())\n",
    "s =Solution()\n",
    "s.nthUglyNumber(n)"
   ]
  },
  {
   "cell_type": "code",
   "execution_count": 39,
   "metadata": {},
   "outputs": [
    {
     "name": "stdout",
     "output_type": "stream",
     "text": [
      "1690\n"
     ]
    },
    {
     "data": {
      "text/plain": [
       "2123366400"
      ]
     },
     "execution_count": 39,
     "metadata": {},
     "output_type": "execute_result"
    }
   ],
   "source": [
    "class Solution:\n",
    "    def nthUglyNumber(self, n):\n",
    "        \n",
    "        fix = {1}\n",
    "        ans = 1\n",
    "        possible = {2,3,5}\n",
    "        while len(fix) != n:\n",
    "            ans = min(possible)\n",
    "            fix.add(ans)\n",
    "            possible.remove(ans)\n",
    "            possible.add(ans*2)\n",
    "            possible.add(ans*3)\n",
    "            possible.add(ans*5)\n",
    "        \n",
    "        return ans\n",
    "n = int(input())\n",
    "s = Solution()\n",
    "s.nthUglyNumber(n)"
   ]
  },
  {
   "cell_type": "code",
   "execution_count": 46,
   "metadata": {},
   "outputs": [
    {
     "name": "stdout",
     "output_type": "stream",
     "text": [
      "1024\n"
     ]
    },
    {
     "data": {
      "text/plain": [
       "1190155742208"
      ]
     },
     "execution_count": 46,
     "metadata": {},
     "output_type": "execute_result"
    }
   ],
   "source": [
    "import heapq\n",
    "class Solution:\n",
    "    def nthUglyNumber(self, n):\n",
    "        \n",
    "        fix = {1}\n",
    "        ans = 1\n",
    "#         possible = {2,3,5}\n",
    "        possible = [2,3,5]\n",
    "        heapq.heapify(possible)\n",
    "    \n",
    "        while len(fix) != n:\n",
    "            ans = heapq.heappop(possible)\n",
    "            fix.add(ans)\n",
    "            if ans*2 not in possible:\n",
    "                heapq.heappush(possible,ans*2)\n",
    "            if ans*3 not in possible:    \n",
    "                heapq.heappush(possible,ans*3)\n",
    "            if ans*5 not in possible:\n",
    "                heapq.heappush(possible,ans*4)\n",
    "\n",
    "        return ans\n",
    "n = int(input())\n",
    "s = Solution()\n",
    "s.nthUglyNumber(n)"
   ]
  }
 ],
 "metadata": {
  "kernelspec": {
   "display_name": "Python 3",
   "language": "python",
   "name": "python3"
  },
  "language_info": {
   "codemirror_mode": {
    "name": "ipython",
    "version": 3
   },
   "file_extension": ".py",
   "mimetype": "text/x-python",
   "name": "python",
   "nbconvert_exporter": "python",
   "pygments_lexer": "ipython3",
   "version": "3.9.6"
  }
 },
 "nbformat": 4,
 "nbformat_minor": 4
}
