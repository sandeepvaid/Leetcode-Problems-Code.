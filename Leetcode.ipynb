{
 "cells": [
  {
   "cell_type": "markdown",
   "metadata": {},
   "source": [
    "Program to return median from two sorted arrays ."
   ]
  },
  {
   "cell_type": "code",
   "execution_count": 2,
   "metadata": {},
   "outputs": [
    {
     "data": {
      "text/plain": [
       "2.5"
      ]
     },
     "execution_count": 2,
     "metadata": {},
     "output_type": "execute_result"
    }
   ],
   "source": [
    "class Solution(object):\n",
    "    def findMedianSortedArrays(self, nums1, nums2):\n",
    "        \"\"\"\n",
    "        :type nums1: List[int]\n",
    "        :type nums2: List[int]\n",
    "        :rtype: float\n",
    "        \"\"\"\n",
    "        i=0\n",
    "        j=0\n",
    "        merged_array = []\n",
    "        while i < len(nums1) and j<len(nums2):\n",
    "            if nums1[i] < nums2[j]:\n",
    "                merged_array.append(nums1[i])\n",
    "                i=i+1\n",
    "            else:\n",
    "                merged_array.append(nums2[j])\n",
    "                j=j+1\n",
    "        while i < len(nums1):\n",
    "                merged_array.append(nums1[i])\n",
    "                i=i+1\n",
    "        while j<len(nums2):\n",
    "                merged_array.append(nums2[j])\n",
    "                j=j+1   \n",
    "        \n",
    "        if len(merged_array) %2!=0:\n",
    "            median = len(merged_array)//2\n",
    "            return merged_array[median]\n",
    "    \n",
    "        else:\n",
    "            median = len(merged_array)//2\n",
    "            return (merged_array[median-1] + merged_array[median])/2\n",
    "                    \n",
    "        \n",
    "s1=Solution()\n",
    "s1.findMedianSortedArrays([1,2],[3,4])"
   ]
  },
  {
   "cell_type": "markdown",
   "metadata": {},
   "source": [
    "Program for containing with most water"
   ]
  },
  {
   "cell_type": "code",
   "execution_count": 6,
   "metadata": {},
   "outputs": [
    {
     "name": "stdout",
     "output_type": "stream",
     "text": [
      "2\n"
     ]
    }
   ],
   "source": [
    "#Formula used to solve problem is :- 1st and last array length difference eg:-[1,2,3] so here [1] has 1 length and [3] has 3 and \n",
    "#difference is 2. After that the minimum of these two value is 1. and we calculate value as(length_differ * min. value of two) .\n",
    "\n",
    "class Solution1(object):\n",
    "    def maxArea(self, height):\n",
    "        i = 0\n",
    "        j = len(height) - 1\n",
    "        ans = 0\n",
    "        \n",
    "        while i < j:\n",
    "            length = (j+1) - (i+1) \n",
    "            minival = min(height[i] , height[j])\n",
    "            calc = length * minival\n",
    "            if calc > ans:\n",
    "                ans = calc\n",
    "            if  height[i] < height[j]:\n",
    "                i = i+1\n",
    "            else:\n",
    "                j=j-1\n",
    "        \n",
    "        return ans\n",
    "    \n",
    "s1  =Solution1()  \n",
    "print(s1.maxArea([1,2,1]))"
   ]
  },
  {
   "cell_type": "code",
   "execution_count": 1,
   "metadata": {},
   "outputs": [
    {
     "data": {
      "text/plain": [
       "[[0, 0, 0], [0, 0, 0], [0, 0, 0], [0, 0, 0]]"
      ]
     },
     "execution_count": 1,
     "metadata": {},
     "output_type": "execute_result"
    }
   ],
   "source": [
    "output = [[0 for j in range(3)]for i in range(4)]    \n",
    "output"
   ]
  },
  {
   "cell_type": "code",
   "execution_count": 13,
   "metadata": {},
   "outputs": [
    {
     "name": "stdout",
     "output_type": "stream",
     "text": [
      "5\n",
      "0 1 0 1 1\n",
      "1 1 1 0 1\n",
      "0 1 0 1 0\n",
      "1 0 1 1 1\n",
      "1 0 0 0 1\n"
     ]
    },
    {
     "data": {
      "text/plain": [
       "[[0, 1, 0, 1, 2],\n",
       " [1, 2, 1, 0, 1],\n",
       " [0, 1, 0, 1, 0],\n",
       " [1, 0, 1, 1, 1],\n",
       " [1, 0, 0, 0, 1]]"
      ]
     },
     "execution_count": 13,
     "metadata": {},
     "output_type": "execute_result"
    }
   ],
   "source": [
    "import sys\n",
    "sys.setrecursionlimit(10**6)\n",
    "class Solution:\n",
    "    def GetMin(self,mat,i,j,n,m,output):\n",
    "        if mat[i][j] == 0:\n",
    "            return 0\n",
    "        if j-1>=0:\n",
    "            output[i][j] = min(output[i][j] , output[i][j-1] + 1 )\n",
    "        \n",
    "        if j + 1 < m:\n",
    "            output[i][j] = min(output[i][j] , output[i][j+1] + 1)\n",
    "        \n",
    "        \n",
    "        if i-1 >= 0:\n",
    "            output[i][j] = min(output[i][j] , output[i-1][j] + 1)\n",
    "    \n",
    "        if i+1 < n:\n",
    "            output[i][j] = min(output[i][j] , output[i+1][j] + 1)\n",
    "        \n",
    "        return output[i][j]\n",
    "    \n",
    "    def updateMatrixHelper(self,i,j,n,m,mat,output):\n",
    "        while i < n:\n",
    "            while j < m:\n",
    "                if mat[i][j] == 0:\n",
    "                    output[i][j] = 0\n",
    "                    j += 1\n",
    "                else:\n",
    "                    output[i][j] = self.GetMin(mat,i,j,n,m,output)\n",
    "                    j += 1\n",
    "            i += 1\n",
    "            j = 0\n",
    "            \n",
    "        k = n - 1\n",
    "        l = m - 1\n",
    "        while k >= 0:\n",
    "            while l >= 0:\n",
    "                if output[k][l] == 0:\n",
    "                    l -= 1 \n",
    "                    \n",
    "                else:\n",
    "                    output[k][l] = self.GetMin(mat,k,l,n,m,output)\n",
    "                    l -= 1\n",
    "            l = m - 1\n",
    "            k -= 1\n",
    "        return output    \n",
    "    \n",
    "    def updateMatrix(self,mat):\n",
    "        i = 0\n",
    "        j = 0\n",
    "        n = len(mat)\n",
    "        m = 0\n",
    "        for k in mat:\n",
    "            m += len(k)\n",
    "            break\n",
    "        output = [[sys.maxsize-1 for j in range(m)]for i in range(n)]    \n",
    "        return self.updateMatrixHelper(i,j,n,m,mat,output)     \n",
    "                \n",
    "        \n",
    "mat = []\n",
    "n = int(input())\n",
    "while n!=0:\n",
    "    row = [int(i) for i in input().split()]\n",
    "    mat.append(row)\n",
    "    n -= 1\n",
    "    \n",
    "s = Solution()\n",
    "ans = s.updateMatrix(mat)\n",
    "ans"
   ]
  },
  {
   "cell_type": "code",
   "execution_count": 18,
   "metadata": {},
   "outputs": [
    {
     "data": {
      "text/plain": [
       "[None]"
      ]
     },
     "execution_count": 18,
     "metadata": {},
     "output_type": "execute_result"
    }
   ],
   "source": [
    "a = []\n",
    "a.append(None)\n",
    "a"
   ]
  },
  {
   "cell_type": "code",
   "execution_count": 26,
   "metadata": {},
   "outputs": [
    {
     "name": "stdout",
     "output_type": "stream",
     "text": [
      "1 2 3 4 5 6\n"
     ]
    },
    {
     "data": {
      "text/plain": [
       "[4, 2, 6, 1, 3, 5]"
      ]
     },
     "execution_count": 26,
     "metadata": {},
     "output_type": "execute_result"
    }
   ],
   "source": [
    "import queue\n",
    "# Definition for a binary tree node.\n",
    "class TreeNode:\n",
    "    def __init__(self, val=0, left=None, right=None):\n",
    "        self.val = val\n",
    "        self.left = left\n",
    "        self.right = right\n",
    "class Solution:\n",
    "    def sortedArrayToBSTHelper(self,nums):\n",
    "        if len(nums) == 0:\n",
    "            return \n",
    "        mid = len(nums) // 2\n",
    "        node = TreeNode(nums[mid])\n",
    "        node.left = self.sortedArrayToBSTHelper(nums[:mid])\n",
    "        node.right = self.sortedArrayToBSTHelper(nums[mid+1:])  \n",
    "        return node\n",
    "    \n",
    "    def CreateOutput(self,root):\n",
    "        output = []\n",
    "        q = queue.Queue()\n",
    "        q.put(root)\n",
    "        while not q.empty():\n",
    "            ele = q.get()\n",
    "            if ele is None:\n",
    "                output.append(None)\n",
    "            else:\n",
    "                output.append(ele.val)\n",
    "            if ele is not None:\n",
    "                if ele.left is not None and ele.right is not None:\n",
    "                    q.put(ele.left)\n",
    "                    q.put(ele.right)\n",
    "                elif ele.left is not None:\n",
    "                    q.put(ele.left)\n",
    "                    q.put(None)\n",
    "                elif ele.right is not None:\n",
    "                    q.put(ele.right)\n",
    "                    q.put(None)\n",
    "                \n",
    "        if output[-1] == None:\n",
    "            output.pop()\n",
    "            return output\n",
    "        else:\n",
    "            return output\n",
    "    \n",
    "#     def PrintTree(self,root):\n",
    "#         if root is None:\n",
    "#             return\n",
    "#         print(root.val , end=' ')\n",
    "#         self.PrintTree(root.left)\n",
    "#         self.PrintTree(root.right)\n",
    "    \n",
    "    def sortedArrayToBST(self, nums):\n",
    "        root =  self.sortedArrayToBSTHelper(nums)\n",
    "#         self.PrintTree(root)\n",
    "\n",
    "        ans = self.CreateOutput(root)\n",
    "        return ans\n",
    "nums = [int(i) for i in input().split()]        \n",
    "s = Solution()\n",
    "s.sortedArrayToBST(nums)"
   ]
  },
  {
   "cell_type": "code",
   "execution_count": 30,
   "metadata": {},
   "outputs": [
    {
     "name": "stdout",
     "output_type": "stream",
     "text": [
      "5\n",
      "[[1], [1, 1], [1, 2, 1], [1, 3, 3, 1], [1, 4, 6, 4, 1]]\n"
     ]
    }
   ],
   "source": [
    "class Solution:\n",
    "    def generate(self,nums):\n",
    "        output = []\n",
    "        if nums == 0:\n",
    "            return \n",
    "        for i in range(nums):\n",
    "            if i == 0:\n",
    "                output.append([1])\n",
    "            else:\n",
    "                \n",
    "                temp = []\n",
    "                for j in range(i+1):\n",
    "                    if j == 0 or j == i:\n",
    "                        temp.append(1)\n",
    "                    else:\n",
    "                        ans = 0\n",
    "                        for k in range(2):\n",
    "                            ans += output[i-1][j-1+k]\n",
    "                        temp.append(ans)\n",
    "                output.append(temp)        \n",
    "        return output\n",
    "    \n",
    "s = Solution()\n",
    "n = int(input())\n",
    "ans = s.generate(n)\n",
    "print(ans)"
   ]
  },
  {
   "cell_type": "code",
   "execution_count": 43,
   "metadata": {},
   "outputs": [
    {
     "name": "stdout",
     "output_type": "stream",
     "text": [
      "-1 0 1 2 -1 -4 \n",
      "[[-1, -1, 2], [-1, 0, 1]]\n"
     ]
    }
   ],
   "source": [
    "def pairSum(arr, n ,num):\n",
    "    arr.sort()\n",
    "    i=0\n",
    "    j=n-1\n",
    "    comb=[]\n",
    "    while i<j:\n",
    "        if arr[i] + arr[j] < num:\n",
    "            i=i+1\n",
    "        elif arr[i] + arr[j] >num:\n",
    "            j=j-1\n",
    "        else:\n",
    "            temp = []\n",
    "            temp.append(arr[i])\n",
    "            temp.append(arr[j])\n",
    "            i += 1\n",
    "            j -= 1\n",
    "            comb.append(temp)\n",
    "\n",
    "    return comb\n",
    "\n",
    "def tripletSum(arr) :\n",
    "    count=0\n",
    "    arr.sort()\n",
    "    n = len(arr)\n",
    "    output = []\n",
    "    visited = {}\n",
    "    for i in range(0,n):\n",
    "        temp1 = []\n",
    "        new_num = 0 + arr[i]\n",
    "        if arr[i] not in visited:\n",
    "            visited[arr[i]] = True\n",
    "            temp1.append(arr[i])\n",
    "            new_arr=arr[i+1:]\n",
    "            n=len(new_arr)\n",
    "            temp2 = pairSum(new_arr,n,-1*new_num)\n",
    "            if len(temp2)>=1:\n",
    "                for ele in temp2:\n",
    "                    temp1.append(ele)\n",
    "                    ele.insert(0,temp1[0])\n",
    "                    output = output + [ele]\n",
    "            else:\n",
    "                pass\n",
    "        else:\n",
    "            pass\n",
    "    return output\n",
    "\n",
    "arr=[int(i) for i in input().strip().split()]\n",
    "ans=tripletSum(arr)\n",
    "print(ans)   "
   ]
  },
  {
   "cell_type": "code",
   "execution_count": 47,
   "metadata": {},
   "outputs": [
    {
     "name": "stdout",
     "output_type": "stream",
     "text": [
      "-1 0 1 2 -1 -4 \n",
      "[[-1, -1, 2], [-1, 0, 1]]\n"
     ]
    }
   ],
   "source": [
    "class Solution:\n",
    "    def pairSum(self,arr, n ,num):\n",
    "        arr.sort()\n",
    "        i=0\n",
    "        j=n-1\n",
    "        comb=[]\n",
    "        visited1 ={}\n",
    "        while i<j:\n",
    "            if arr[i] + arr[j] < num:\n",
    "                i=i+1\n",
    "            elif arr[i] + arr[j] >num:\n",
    "                j=j-1\n",
    "            else:\n",
    "                if arr[i] not in visited1 and arr[j] not in visited1:\n",
    "                    visited1[arr[i]] = True\n",
    "                    visited1[arr[j]] = True\n",
    "                    temp = []\n",
    "                    temp.append(arr[i])\n",
    "                    temp.append(arr[j])\n",
    "                    i += 1\n",
    "                    j -= 1\n",
    "                    comb.append(temp)\n",
    "                else:\n",
    "                    i += 1\n",
    "                    j -= 1\n",
    "        return comb\n",
    "    \n",
    "    \n",
    "    def threeSum(self, arr):\n",
    "        arr.sort()\n",
    "        n = len(arr)\n",
    "        output = []\n",
    "        visited = {}\n",
    "        for i in range(0,n):\n",
    "            temp1 = []\n",
    "            new_num = 0 + arr[i]\n",
    "            if arr[i] not in visited:\n",
    "                visited[arr[i]] = True\n",
    "                temp1.append(arr[i])\n",
    "                new_arr=arr[i+1:]\n",
    "                n=len(new_arr)\n",
    "                temp2 = self.pairSum(new_arr,n,-1*new_num)\n",
    "                if len(temp2)>=1:\n",
    "                    for ele in temp2:\n",
    "                        temp1.append(ele)\n",
    "                        ele.insert(0,temp1[0])\n",
    "                        output = output + [ele]\n",
    "                else:\n",
    "                    pass\n",
    "            else:\n",
    "                pass\n",
    "        return output\n",
    "    \n",
    "s = Solution()\n",
    "arr=[int(i) for i in input().strip().split()]\n",
    "ans = s.threeSum(arr)\n",
    "print(ans)"
   ]
  },
  {
   "cell_type": "code",
   "execution_count": 53,
   "metadata": {},
   "outputs": [
    {
     "name": "stdout",
     "output_type": "stream",
     "text": [
      "2 2 2 2 2 \n",
      "8\n",
      "[[2, 2, 2, 2]]\n"
     ]
    }
   ],
   "source": [
    "class Solution:\n",
    "    def pairSum(self,arr, n ,num):\n",
    "        arr.sort()\n",
    "        i=0\n",
    "        j=n-1\n",
    "        comb=[]\n",
    "        visited1 ={}\n",
    "        while i<j:\n",
    "            if arr[i] + arr[j] < num:\n",
    "                i=i+1\n",
    "            elif arr[i] + arr[j] >num:\n",
    "                j=j-1\n",
    "            else:\n",
    "                if arr[i] not in visited1 and arr[j] not in visited1:\n",
    "                    visited1[arr[i]] = True\n",
    "                    visited1[arr[j]] = True\n",
    "                    temp = []\n",
    "                    temp.append(arr[i])\n",
    "                    temp.append(arr[j])\n",
    "                    i += 1\n",
    "                    j -= 1\n",
    "                    comb.append(temp)\n",
    "                else:\n",
    "                    i += 1\n",
    "                    j -= 1\n",
    "        return comb    \n",
    "    def threeSum(self, arr,n,target):\n",
    "        arr.sort()\n",
    "        n = len(arr)\n",
    "        output = []\n",
    "        visited = {}\n",
    "        for i in range(0,n):\n",
    "            temp1 = []\n",
    "            new_num = target - arr[i]\n",
    "            if arr[i] not in visited:\n",
    "                visited[arr[i]] = True\n",
    "                temp1.append(arr[i])\n",
    "                new_arr=arr[i+1:]\n",
    "                n=len(new_arr)\n",
    "                temp2 = self.pairSum(new_arr,n,new_num)\n",
    "                if len(temp2)>=1:\n",
    "                    for ele in temp2:\n",
    "                        temp1.append(ele)\n",
    "                        ele.insert(0,temp1[0])\n",
    "                        output = output + [ele]\n",
    "                else:\n",
    "                    pass\n",
    "            else:\n",
    "                pass\n",
    "        return output    \n",
    "    def fourSum(self, arr, target):\n",
    "        arr.sort()\n",
    "        n = len(arr)\n",
    "        output = []\n",
    "        visited = {}\n",
    "        for i in range(0,n):\n",
    "            temp1 = []\n",
    "            new_num = target - arr[i]\n",
    "            if arr[i] not in visited:\n",
    "                visited[arr[i]] = True\n",
    "                temp1.append(arr[i])\n",
    "                new_arr=arr[i+1:]\n",
    "                n=len(new_arr)\n",
    "                temp2 = self.threeSum(new_arr,n,new_num)\n",
    "                if len(temp2)>=1:\n",
    "                    for ele in temp2:\n",
    "                        temp1.append(ele)\n",
    "                        ele.insert(0,temp1[0])\n",
    "                        output = output + [ele]\n",
    "                else:\n",
    "                    pass\n",
    "            else:\n",
    "                pass\n",
    "        return output        \n",
    "    \n",
    "s = Solution()\n",
    "arr=[int(i) for i in input().strip().split()]\n",
    "target = int(input())\n",
    "ans = s.fourSum(arr,target)\n",
    "print(ans)    "
   ]
  },
  {
   "cell_type": "code",
   "execution_count": 5,
   "metadata": {},
   "outputs": [
    {
     "name": "stdout",
     "output_type": "stream",
     "text": [
      "1\n",
      "1\n"
     ]
    },
    {
     "data": {
      "text/plain": [
       "-1"
      ]
     },
     "execution_count": 5,
     "metadata": {},
     "output_type": "execute_result"
    }
   ],
   "source": [
    "class Solution:\n",
    "    def search(self, nums,target):\n",
    "        if len(nums) == 1:\n",
    "            if nums[0] == target:\n",
    "                return 0\n",
    "            else:\n",
    "                return -1\n",
    "        i = 0 \n",
    "        j = len(nums) - 1\n",
    "        while i < j:\n",
    "            if nums[i] == target:\n",
    "                return i\n",
    "            elif nums[j] == target:\n",
    "                return j\n",
    "            elif nums[i] > nums[j]:\n",
    "                if nums[i] > target:\n",
    "                    j -= 1\n",
    "                else:\n",
    "                    i += 1\n",
    "            else:\n",
    "                if nums[j] > target:\n",
    "                    j -= 1\n",
    "                else:\n",
    "                    i += 1\n",
    "        return -1\n",
    "    \n",
    "    \n",
    "nums = [ int(i) for i in input().split()]\n",
    "target = int(input())\n",
    "s = Solution()\n",
    "s.search(nums,target)"
   ]
  },
  {
   "cell_type": "code",
   "execution_count": null,
   "metadata": {},
   "outputs": [],
   "source": [
    "class Solution:\n",
    "    \n",
    "    def CheckNum(self,i,j,board,num):\n",
    "        #Check horizontal\n",
    "        col = 0\n",
    "        while col <  9:\n",
    "            if board[i][col] == num and j != col:\n",
    "                return False\n",
    "            else:\n",
    "                col += 1\n",
    "        #check vertical\n",
    "        row = 0\n",
    "        while row < 9:\n",
    "            if board[row][j] == num and row != i:\n",
    "                return False\n",
    "            else:\n",
    "                row += 1\n",
    "                \n",
    "        #Check box\n",
    "        row = i - (i % 3)\n",
    "        col = j - (j % 3)\n",
    "        for k in range(row, row+3):\n",
    "            for l in range(col , col+3):\n",
    "                if board[k][l] == num and k != i and l!= j:\n",
    "                    return False\n",
    "                else:\n",
    "                    pass\n",
    "        \n",
    "        return True\n",
    "        \n",
    "    def isValidSudoku(self, board):\n",
    "        for i in range(9):\n",
    "            for j in range(9):\n",
    "                if board[i][j] != '.':\n",
    "                    check = self.CheckNum(i,j,board,board[i][j])\n",
    "                    if check:\n",
    "                        pass\n",
    "                    else:\n",
    "                        return False\n",
    "                else:\n",
    "                    pass\n",
    "        return True       \n",
    "    \n",
    "board = []\n",
    "for i in range(9):\n",
    "    row = [i for i in input().split()]\n",
    "    board.append(row)\n",
    "s =Solution()\n",
    "ans = s.isValidSudoku(board)\n",
    "if ans:\n",
    "    print(\"true\")\n",
    "else:\n",
    "    print(\"false\")"
   ]
  },
  {
   "cell_type": "code",
   "execution_count": 9,
   "metadata": {},
   "outputs": [
    {
     "name": "stdout",
     "output_type": "stream",
     "text": [
      "4 2 0 3 2 5 \n",
      "9\n"
     ]
    }
   ],
   "source": [
    "class Solution:\n",
    "    def trap(self, arr):\n",
    "        left = 0\n",
    "        right = len(arr) - 1\n",
    "        leftmax = 0\n",
    "        rightmax = 0\n",
    "        result = 0\n",
    "        while left < right:\n",
    "            if arr[left] <= arr[right]:\n",
    "                if leftmax > arr[left]:\n",
    "                    result += leftmax - arr[left]\n",
    "                    left += 1\n",
    "                else:\n",
    "                    leftmax = arr[left]\n",
    "                    left += 1\n",
    "            else:\n",
    "                if arr[right] < rightmax:\n",
    "                    result += rightmax - arr[right]\n",
    "                    right -= 1\n",
    "                else:\n",
    "                    rightmax = arr[right]\n",
    "                    right -= 1\n",
    "        return result\n",
    "    \n",
    "arr = [int(i) for i in input().split()]    \n",
    "s = Solution()                \n",
    "ans = s.trap(arr)\n",
    "print(ans)"
   ]
  },
  {
   "cell_type": "markdown",
   "metadata": {},
   "source": [
    "Best Time to Buy and Sell Stock"
   ]
  },
  {
   "cell_type": "code",
   "execution_count": 8,
   "metadata": {},
   "outputs": [
    {
     "name": "stdout",
     "output_type": "stream",
     "text": [
      "7 1 5 3 6 4\n"
     ]
    },
    {
     "data": {
      "text/plain": [
       "5"
      ]
     },
     "execution_count": 8,
     "metadata": {},
     "output_type": "execute_result"
    }
   ],
   "source": [
    "#Brute approach :- Time complexity=O9n^2\n",
    "class Solution:\n",
    "    def maxProfit(self, price):\n",
    "        profit = 0\n",
    "        for i in range(0,len(price)):\n",
    "            for j in range(i+1,len(price)):\n",
    "                if price[i] < price[j]:\n",
    "                    if price[j] - price[i] > profit:\n",
    "                        profit =price[j] - price[i]\n",
    "        return profit\n",
    "    \n",
    "    \n",
    "s = Solution()\n",
    "price = [int(i) for i in input().split()]\n",
    "s.maxProfit(price)"
   ]
  },
  {
   "cell_type": "code",
   "execution_count": 17,
   "metadata": {},
   "outputs": [
    {
     "name": "stdout",
     "output_type": "stream",
     "text": [
      "7 1 5 3 6 4\n"
     ]
    },
    {
     "data": {
      "text/plain": [
       "5"
      ]
     },
     "execution_count": 17,
     "metadata": {},
     "output_type": "execute_result"
    }
   ],
   "source": [
    "#Same question\n",
    "#TIme-complexity--> O(n)\n",
    "#space-complexity--->O(n)\n",
    "class Solution:\n",
    "    def maxProfit(self, price):\n",
    "        maxarr = [0 for i in range(len(price))]\n",
    "        i = len(maxarr) - 1\n",
    "        maxi = 0\n",
    "        while i >= 0:\n",
    "            maxarr[i] = maxi\n",
    "            if price[i] > maxi:\n",
    "                maxi = price[i]\n",
    "            i -= 1\n",
    "            \n",
    "       \n",
    "        j = 0\n",
    "        profit = 0\n",
    "        while j < len(price):\n",
    "            if price[j] < maxarr[j]:\n",
    "                if maxarr[j] - price[j] > profit:\n",
    "                    profit = maxarr[j] - price[j]\n",
    "                    j += 1\n",
    "                else:\n",
    "                    j +=1\n",
    "            else:\n",
    "                j += 1\n",
    "                \n",
    "        return profit\n",
    "    \n",
    "    \n",
    "s = Solution()\n",
    "price = [int(i) for i in input().split()]\n",
    "s.maxProfit(price)                \n",
    "         "
   ]
  },
  {
   "cell_type": "code",
   "execution_count": 19,
   "metadata": {},
   "outputs": [
    {
     "name": "stdout",
     "output_type": "stream",
     "text": [
      "7 1 5 3 6 4\n"
     ]
    },
    {
     "data": {
      "text/plain": [
       "5"
      ]
     },
     "execution_count": 19,
     "metadata": {},
     "output_type": "execute_result"
    }
   ],
   "source": [
    "#Same question\n",
    "#TIme-complexity--> O(n)\n",
    "#space-complexity--->O(1)\n",
    "class Solution:\n",
    "    def maxProfit(self, price):\n",
    "        if len(price) < 2:\n",
    "            return 0\n",
    "        \n",
    "        mini = price[0]\n",
    "        profit = 0\n",
    "        for i in range(1,len(price)):\n",
    "            if mini > price[i]:\n",
    "                mini = price[i]\n",
    "            else:\n",
    "                profit = max(profit,price[i] - mini)\n",
    "        return profit\n",
    "    \n",
    "    \n",
    "s = Solution()\n",
    "price = [int(i) for i in input().split()]\n",
    "s.maxProfit(price)                \n",
    "         "
   ]
  },
  {
   "cell_type": "code",
   "execution_count": 5,
   "metadata": {},
   "outputs": [
    {
     "name": "stdout",
     "output_type": "stream",
     "text": [
      "8\n",
      "1 2 3 0\n",
      "[]\n"
     ]
    }
   ],
   "source": [
    "class Solution:\n",
    "    def twoSum(self, nums,target):\n",
    "        d = {}\n",
    "        j = 0\n",
    "        for i in nums:\n",
    "            d[i] = j\n",
    "            j += 1\n",
    "            \n",
    "        for i in range(len(nums)):\n",
    "            if (target - nums[i]) in d:\n",
    "                if i == d[target - nums[i]]:\n",
    "                    pass\n",
    "                else:\n",
    "                    return [i,d[target - nums[i]]]\n",
    "        return []\n",
    "\n",
    "target = int(input())\n",
    "nums = [int(i) for i in input().split()]\n",
    "s = Solution()\n",
    "ans = s.twoSum(nums,target)\n",
    "print(ans)"
   ]
  },
  {
   "cell_type": "code",
   "execution_count": 14,
   "metadata": {},
   "outputs": [
    {
     "name": "stdout",
     "output_type": "stream",
     "text": [
      "1 2 3\n",
      "[[1, 2, 3], [1, 3, 2], [2, 1, 3], [3, 1, 2], [2, 3, 1], [3, 2, 1]]\n"
     ]
    }
   ],
   "source": [
    "class Solution:\n",
    "    def permute(self, nums):\n",
    "        if len(nums) == 0:\n",
    "            return [[]]\n",
    "\n",
    "        small_ip = nums[1:]\n",
    "        small_op = self.permute(small_ip)\n",
    "        output = []\n",
    "        for i in range(len(nums)):\n",
    "            for j in range(len(small_op)):\n",
    "                output.append(small_op[j][0:i] + [nums[0]] + small_op[j][i:] )\n",
    "\n",
    "        return output\n",
    "\n",
    "                \n",
    "nums = [int(i) for i in input().split()]\n",
    "s = Solution()\n",
    "ans = s.permute(nums)\n",
    "print(ans)                      "
   ]
  },
  {
   "cell_type": "code",
   "execution_count": 35,
   "metadata": {},
   "outputs": [
    {
     "name": "stdout",
     "output_type": "stream",
     "text": [
      "2 2\n",
      "2\n",
      "[0, 1]\n"
     ]
    }
   ],
   "source": [
    "class Solution:\n",
    "    def searchRange(self, arr,target):\n",
    "        if len(arr) == 0:   #Edge case\n",
    "            return [-1,-1]\n",
    "\n",
    "        if len(arr) == 1:  #Edge case\n",
    "            if arr[0] == target:\n",
    "                return [0,0]\n",
    "            else:\n",
    "                return [-1,-1]\n",
    "        #Indexing\n",
    "        \n",
    "        i = 0  \n",
    "        j = len(arr) - 1\n",
    "        \n",
    "        while i <= j:\n",
    "            if arr[i] == target:\n",
    "                k = i\n",
    "                while k+1 < len(arr):\n",
    "                    if arr[i] == arr[k+1]:\n",
    "                        k += 1\n",
    "                    else:    \n",
    "                         break\n",
    "                return [i,k]            \n",
    "            \n",
    "            elif  arr[j] == target:\n",
    "                l = j \n",
    "                while l - 1>0:\n",
    "                    if arr[j] == arr[l-1]:\n",
    "                        l -= 1\n",
    "                    else:\n",
    "                        break\n",
    "                return [l,j]               \n",
    "            \n",
    "            elif arr[i] > target:\n",
    "                return [-1,-1]\n",
    "\n",
    "            else:\n",
    "                if arr[j] > target:\n",
    "                    if target - arr[i] < arr[j] - target:\n",
    "                        i += 1\n",
    "                    else:\n",
    "                        j -= 1\n",
    "                else:\n",
    "                    if target - arr[i] < target - arr[j]:\n",
    "                        i += 1\n",
    "                    else:\n",
    "                        j -= 1 \n",
    "        return [-1,-1]                \n",
    "                        \n",
    "                        \n",
    "nums = [int(i) for i in input().split()]\n",
    "target = int(input())\n",
    "s = Solution()\n",
    "ans = s.searchRange(nums,target)\n",
    "print(ans)                               "
   ]
  },
  {
   "cell_type": "markdown",
   "metadata": {},
   "source": [
    "Program making a large island"
   ]
  },
  {
   "cell_type": "code",
   "execution_count": 62,
   "metadata": {},
   "outputs": [
    {
     "name": "stdout",
     "output_type": "stream",
     "text": [
      "4\n",
      "0 1 0 0\n",
      "0 1 1 0\n",
      "0 1 0 0\n",
      "1 0 1 0\n",
      "7\n"
     ]
    }
   ],
   "source": [
    "\n",
    "class Solution:\n",
    "    \n",
    "    def GetId(self,i,j,arr,ids):\n",
    "        #Edge conditions\n",
    "        if i >= len(arr) or i < 0 or j >= len(arr[0]) or j < 0 or arr[i][j] != 1:\n",
    "            return 0\n",
    "        \n",
    "        arr[i][j] = ids\n",
    "        \n",
    "        left = self.GetId(i,j-1,arr,ids)\n",
    "        right = self.GetId(i,j+1,arr,ids)\n",
    "        top = self.GetId(i-1,j,arr,ids)\n",
    "        bottom = self.GetId(i+1,j,arr,ids)\n",
    "        \n",
    "        return 1 + left + right + top + bottom\n",
    "    \n",
    "    \n",
    "    def largestIsland(self, arr):\n",
    "        ids = 2\n",
    "        dic={}\n",
    "        n = len(arr) #row\n",
    "        m = len(arr[0]) #column\n",
    "        for i in range(n):  #Create a dictionary\n",
    "            for j in range(m):\n",
    "                if arr[i][j] == 1:\n",
    "                    value = self.GetId(i,j,arr,ids)\n",
    "                    dic[ids] = value\n",
    "                    ids += 1\n",
    "                    \n",
    "        maximum_area = dic.get(2,0)    \n",
    "        #Toggle zero to 1\n",
    "        for i in range(n):\n",
    "            for j in range(m):\n",
    "                if arr[i][j] == 0:\n",
    "                    s = set()\n",
    "                    #left\n",
    "                    if j-1 >= 0:\n",
    "                        s.add(arr[i][j-1])\n",
    "                    #top \n",
    "                    if i-1>=0:\n",
    "                        s.add(arr[i-1][j])\n",
    "                    #right \n",
    "                    if j+1 < len(arr[0]):\n",
    "                        s.add(arr[i][j+1])\n",
    "            \n",
    "                    #bottom\n",
    "                    if i+1 < len(arr):\n",
    "                        s.add(arr[i+1][j])\n",
    "                    \n",
    "                    temparea = 0\n",
    "                    for k in s:\n",
    "                        temparea += dic.get(k,0)\n",
    "                    \n",
    "                    maximum_area = max(maximum_area,1+temparea)\n",
    "                \n",
    "        return maximum_area\n",
    "    \n",
    "n = int((input()))    \n",
    "arr = []\n",
    "for i in range(n):\n",
    "    row = [int(i) for i in input().split()]\n",
    "    arr.append(row)\n",
    "    \n",
    "s = Solution()\n",
    "ans = s.largestIsland(arr)\n",
    "print(ans)"
   ]
  },
  {
   "cell_type": "markdown",
   "metadata": {},
   "source": [
    "Program on Max area of island"
   ]
  },
  {
   "cell_type": "code",
   "execution_count": 65,
   "metadata": {},
   "outputs": [
    {
     "name": "stdout",
     "output_type": "stream",
     "text": [
      "2\n",
      "1 1\n",
      "1 0\n",
      "3\n"
     ]
    }
   ],
   "source": [
    "class Solution:\n",
    "    \n",
    "    def GetId(self,i,j,arr,ids):\n",
    "        #Edge conditions\n",
    "        if i >= len(arr) or i < 0 or j >= len(arr[0]) or j < 0 or arr[i][j] != 1:\n",
    "            return 0\n",
    "        \n",
    "        arr[i][j] = ids\n",
    "        \n",
    "        left = self.GetId(i,j-1,arr,ids)\n",
    "        right = self.GetId(i,j+1,arr,ids)\n",
    "        top = self.GetId(i-1,j,arr,ids)\n",
    "        bottom = self.GetId(i+1,j,arr,ids)\n",
    "        \n",
    "        return 1 + left + right + top + bottom\n",
    "    \n",
    "    def maxAreaOfIsland(self,grid):\n",
    "        ids = 2\n",
    "        dic={}\n",
    "        n = len(arr) #row\n",
    "        m = len(arr[0]) #column\n",
    "        for i in range(n):  #Create a dictionary\n",
    "            for j in range(m):\n",
    "                if arr[i][j] == 1:\n",
    "                    value = self.GetId(i,j,arr,ids)\n",
    "                    dic[ids] = value\n",
    "                    ids += 1        \n",
    "        ans = dic.get(2,0)\n",
    "        for i in dic:\n",
    "            if ans < dic[i]:\n",
    "                ans = dic[i]\n",
    "        return ans\n",
    "    \n",
    "n = int((input()))    \n",
    "arr = []\n",
    "for i in range(n):\n",
    "    row = [int(i) for i in input().split()]\n",
    "    arr.append(row)\n",
    "    \n",
    "s = Solution()\n",
    "ans = s.maxAreaOfIsland(arr)\n",
    "print(ans)    "
   ]
  },
  {
   "cell_type": "markdown",
   "metadata": {},
   "source": [
    "SUbset 2"
   ]
  },
  {
   "cell_type": "code",
   "execution_count": 54,
   "metadata": {},
   "outputs": [
    {
     "name": "stdout",
     "output_type": "stream",
     "text": [
      "6 5 5\n"
     ]
    },
    {
     "data": {
      "text/plain": [
       "5"
      ]
     },
     "execution_count": 54,
     "metadata": {},
     "output_type": "execute_result"
    }
   ],
   "source": [
    "class Solution:\n",
    "    def majorityElement(self, nums):\n",
    "        dic = {}\n",
    "        for i in nums:\n",
    "            dic[i] = dic.get(i,0) + 1\n",
    "         \n",
    "     \n",
    "        ans = nums[0]\n",
    "        for ele in dic:\n",
    "            if dic[ele] > dic[ans]:\n",
    "                ans = ele\n",
    "        return ans        \n",
    "      \n",
    "\n",
    "s =Solution() \n",
    "nums = [int(i) for i in input().split()]\n",
    "ans = s.majorityElement(nums)\n",
    "ans       "
   ]
  },
  {
   "cell_type": "code",
   "execution_count": 39,
   "metadata": {},
   "outputs": [
    {
     "name": "stdout",
     "output_type": "stream",
     "text": [
      "1 2 2\n"
     ]
    },
    {
     "data": {
      "text/plain": [
       "[[], [1], [1, 2], [1, 2, 2], [2], [2, 2]]"
      ]
     },
     "execution_count": 39,
     "metadata": {},
     "output_type": "execute_result"
    }
   ],
   "source": [
    "class Solution:\n",
    "    \n",
    "    def subsetsWithDupHelper(self,index,nums,tempans,ans):\n",
    "        ans.append(tempans[:])\n",
    "        for i in range(index,len(nums)):\n",
    "            if i != index and nums[i] == nums[i-1]:\n",
    "                continue\n",
    "            else:\n",
    "                tempans.append(nums[i])\n",
    "                self.subsetsWithDupHelper(i+1,nums,tempans,ans)\n",
    "                tempans.pop()\n",
    "    \n",
    "    def subsetsWithDup(self, nums):\n",
    "        nums.sort()\n",
    "        ans = []\n",
    "        tempans = []\n",
    "        self.subsetsWithDupHelper(0,nums,tempans,ans)\n",
    "        return ans\n",
    "    \n",
    "\n",
    "s =Solution() \n",
    "nums = [int(i) for i in input().split()]\n",
    "ans = s.subsetsWithDup(nums)\n",
    "ans "
   ]
  },
  {
   "cell_type": "code",
   "execution_count": 47,
   "metadata": {},
   "outputs": [
    {
     "name": "stdout",
     "output_type": "stream",
     "text": [
      "4 1 2 1 2\n"
     ]
    },
    {
     "data": {
      "text/plain": [
       "4"
      ]
     },
     "execution_count": 47,
     "metadata": {},
     "output_type": "execute_result"
    }
   ],
   "source": [
    "class Solution:\n",
    "    def singleNumber(self, nums):\n",
    "        dic = {}\n",
    "        uniq = -1\n",
    "        for i in nums:\n",
    "            dic[i] = dic.get(i,0) + 1\n",
    "        uniq = -1\n",
    "        for d in dic:\n",
    "            if dic[d] == 1:\n",
    "                uniq = d\n",
    "        return uniq        \n",
    "     \n",
    "s =Solution() \n",
    "nums = [int(i) for i in input().split()]\n",
    "ans = s.singleNumber(nums)\n",
    "ans         "
   ]
  },
  {
   "cell_type": "code",
   "execution_count": 60,
   "metadata": {},
   "outputs": [
    {
     "name": "stdout",
     "output_type": "stream",
     "text": [
      "2 3 4 1 2 -1 1 -1 -1 -1 -1 -1 -1\n",
      "7\n"
     ]
    },
    {
     "data": {
      "text/plain": [
       "[[]]"
      ]
     },
     "execution_count": 60,
     "metadata": {},
     "output_type": "execute_result"
    }
   ],
   "source": [
    "# Definition for a binary tree node.\n",
    "# class TreeNode:\n",
    "#     def __init__(self, val=0, left=None, right=None):\n",
    "#         self.val = val\n",
    "#         self.left = left\n",
    "#         self.right = right\n",
    "import queue\n",
    "class BinaryTreeNode:\n",
    "    def __init__(self, val):\n",
    "        self.val = val\n",
    "        self.left = None\n",
    "        self.right = None\n",
    "        \n",
    "def takeInput():\n",
    "    levelOrder = [int(i) for i in input().split()]\n",
    "    start = 0\n",
    "    \n",
    "    length = len(levelOrder)\n",
    "\n",
    "    if length == 1 :\n",
    "        return None\n",
    "    \n",
    "    root = BinaryTreeNode(levelOrder[start])\n",
    "    start += 1\n",
    "\n",
    "    q = queue.Queue()\n",
    "    q.put(root)\n",
    "\n",
    "    while not q.empty():\n",
    "        currentNode = q.get()\n",
    "\n",
    "        leftChild = levelOrder[start]\n",
    "        start += 1\n",
    "\n",
    "        if leftChild != -1:\n",
    "            leftNode = BinaryTreeNode(leftChild)\n",
    "            currentNode.left =leftNode\n",
    "            q.put(leftNode)\n",
    "\n",
    "        rightChild = levelOrder[start]\n",
    "        start += 1\n",
    "\n",
    "        if rightChild != -1:\n",
    "            rightNode = BinaryTreeNode(rightChild)\n",
    "            currentNode.right =rightNode\n",
    "            q.put(rightNode)\n",
    "\n",
    "    return root\n",
    "\n",
    "class Solution:\n",
    "    \n",
    "    def pathSumHelper(self,root,targetsum,ans):\n",
    "        if root is None:\n",
    "            return None\n",
    "        if root.left is None and root.right is None:\n",
    "            if targetsum - root.val == 0:\n",
    "                return ans+ [root.val]\n",
    "            else:\n",
    "                return None\n",
    "        leftans = self.pathSumHelper(root.left,targetsum-root.val,ans+[root.val])\n",
    "        rightans = self.pathSumHelper(root.right ,targetsum-root.val,ans+[root.val])\n",
    "        if leftans is None and rightans is None:\n",
    "            return\n",
    "        if leftans is not None:\n",
    "            return ans\n",
    "        \n",
    "        if rightans is not None:\n",
    "            return ans\n",
    "    \n",
    "    def pathSum(self, root , targetsum):\n",
    "        output = []\n",
    "        ans = self.pathSumHelper(root,targetsum,[])\n",
    "        if ans is None:\n",
    "            pass\n",
    "        else:\n",
    "            output.append(ans)\n",
    "            return output\n",
    "        \n",
    "        \n",
    "root = takeInput()\n",
    "s = Solution()\n",
    "targetsum = int(input())\n",
    "ans = s.pathSum(root,targetsum)\n",
    "ans"
   ]
  },
  {
   "cell_type": "code",
   "execution_count": 92,
   "metadata": {},
   "outputs": [
    {
     "name": "stdout",
     "output_type": "stream",
     "text": [
      "1\n",
      "2\n",
      "-1\n",
      "-1\n",
      "3\n",
      "-1\n",
      "-1\n",
      "5\n"
     ]
    },
    {
     "data": {
      "text/plain": [
       "[]"
      ]
     },
     "execution_count": 92,
     "metadata": {},
     "output_type": "execute_result"
    }
   ],
   "source": [
    "# Definition for a binary tree node.\n",
    "# class TreeNode:\n",
    "#     def __init__(self, val=0, left=None, right=None):\n",
    "#         self.val = val\n",
    "#         self.left = left\n",
    "#         self.right = right\n",
    "\n",
    "class binarytree:\n",
    "    def __init__(self,val):\n",
    "        self.val = val\n",
    "        self.left = None\n",
    "        self.right = None\n",
    "        \n",
    "def taketreeinput():\n",
    "    rootdata = int(input())\n",
    "    if rootdata == -1:\n",
    "        return None\n",
    "    root = binarytree(rootdata)\n",
    "    leftsubtree = taketreeinput()\n",
    "    rightsubtree =  taketreeinput()\n",
    "    root.left = leftsubtree\n",
    "    root.right = rightsubtree\n",
    "    return root\n",
    "\n",
    "class Solution:\n",
    "    \n",
    "    def pathSumHelper(self,root,targetsum,ans,mainans):\n",
    "        if root is None:\n",
    "            return None\n",
    "        if root.left is None and root.right is None:\n",
    "            if targetsum - root.val == 0:\n",
    "                mainans.append(ans+ [root.val])\n",
    "                return\n",
    "            else:\n",
    "                return None\n",
    "        leftans = self.pathSumHelper(root.left,targetsum-root.val,ans+[root.val],mainans)\n",
    "        rightans = self.pathSumHelper(root.right ,targetsum-root.val,ans+[root.val],mainans)\n",
    "        \n",
    "        return\n",
    "\n",
    "    \n",
    "            \n",
    "    \n",
    "    def pathSum(self, root , targetsum):\n",
    "        mainans = []\n",
    "        self.pathSumHelper(root,targetsum,[],mainans)\n",
    "        return mainans\n",
    "        \n",
    "        \n",
    "root = taketreeinput()\n",
    "s = Solution()\n",
    "targetsum = int(input())\n",
    "ans = s.pathSum(root,targetsum)\n",
    "ans"
   ]
  },
  {
   "cell_type": "code",
   "execution_count": 25,
   "metadata": {},
   "outputs": [
    {
     "name": "stdout",
     "output_type": "stream",
     "text": [
      "12\n",
      "5\n"
     ]
    }
   ],
   "source": [
    "class Solution:\n",
    "    def countPrimes(self, n):\n",
    "        if n == 0 or n == 1:\n",
    "            return 0\n",
    "        if n == 2:\n",
    "            return 0\n",
    "        flag = False\n",
    "        count = 0\n",
    "        for i in range(2,n):\n",
    "            k = i-1\n",
    "            while k >= 2:\n",
    "                if i == 2:\n",
    "                    k -= 1\n",
    "                elif i % k == 0:\n",
    "                    flag = True\n",
    "                    break\n",
    "                else:\n",
    "                    k -= 1\n",
    "                    \n",
    "            if flag is False:\n",
    "                count += 1\n",
    "                flag = False\n",
    "            else:\n",
    "                flag = False\n",
    "        return count \n",
    "    \n",
    "n = int(input())    \n",
    "s = Solution()\n",
    "ans = s.countPrimes(n)\n",
    "print(ans)"
   ]
  },
  {
   "cell_type": "code",
   "execution_count": 36,
   "metadata": {},
   "outputs": [
    {
     "name": "stdout",
     "output_type": "stream",
     "text": [
      "3\n",
      "1\n"
     ]
    }
   ],
   "source": [
    "import math\n",
    "class Solution:\n",
    "    def countPrimes(self, n):\n",
    "        if n == 0 or n == 1:\n",
    "            return 0\n",
    "        if n == 2:\n",
    "            return 0\n",
    "        \n",
    "        sieve = [True for i in range(n+1)]\n",
    "        i = 2\n",
    "        while i*i<n:\n",
    "            if sieve[i] == True:\n",
    "                for j in range(i*i,n+1,i):\n",
    "                    sieve[j] = False\n",
    "                i += 1\n",
    "            else:\n",
    "                i += 1\n",
    "        count = 0\n",
    "        for i in range(2,n):\n",
    "            if sieve[i] == True:\n",
    "                count += 1\n",
    "        return count     \n",
    "\n",
    "n = int(input())  \n",
    "s = Solution()\n",
    "ans = s.countPrimes(n)\n",
    "print(ans)"
   ]
  },
  {
   "cell_type": "code",
   "execution_count": 43,
   "metadata": {},
   "outputs": [
    {
     "name": "stdout",
     "output_type": "stream",
     "text": [
      "3 2 10 4\n",
      "false\n"
     ]
    }
   ],
   "source": [
    "class Solution:\n",
    "    def stoneGame(self, piles):\n",
    "        al = 0\n",
    "        an = 0\n",
    "        flag = False\n",
    "        while len(piles) != 0:\n",
    "            if flag == False:\n",
    "                if piles[0] > piles[-1]:\n",
    "                    al += piles[0]\n",
    "                    piles = piles[1:]\n",
    "                    flag = True\n",
    "                else:\n",
    "                    al += piles[-1]\n",
    "                    piles = piles[:-1]\n",
    "                    flag = True\n",
    "            else:\n",
    "                if piles[0] > piles[-1]:\n",
    "                    an += piles[0]\n",
    "                    piles = piles[1:]\n",
    "                    flag = False\n",
    "                else:\n",
    "                    an += piles[-1]\n",
    "                    piles = piles[:-1]\n",
    "                    flag = False                \n",
    "        if al>an:\n",
    "            return True\n",
    "        else:\n",
    "            return False\n",
    "        \n",
    "s= Solution()        \n",
    "piles = [int(i) for i in input().split()]\n",
    "ans = s.stoneGame(piles)\n",
    "if ans:\n",
    "    print(\"true\")\n",
    "else:\n",
    "    print(\"false\")"
   ]
  },
  {
   "cell_type": "code",
   "execution_count": 55,
   "metadata": {},
   "outputs": [
    {
     "name": "stdout",
     "output_type": "stream",
     "text": [
      "9 8 7 4\n",
      "true\n"
     ]
    }
   ],
   "source": [
    "class Solution:\n",
    "    \n",
    "    def stoneGameHelper(self,piles,i,j,dp):\n",
    "        if i > j:\n",
    "            return True\n",
    "        \n",
    "        if dp[i][j] != -1:\n",
    "            return dp[i][j]\n",
    "        else:\n",
    "            dp[i][j] = max(piles[i] - self.stoneGameHelper(piles,i+1,j,dp) , piles[j] - self.stoneGameHelper(piles,i,j-1,dp))\n",
    "            return dp[i][j]\n",
    "        \n",
    "    \n",
    "    def stoneGame(self, piles):\n",
    "        i = 0\n",
    "        j = len(piles) - 1\n",
    "        dp = [[-1 for i in range(501)]for j in range(501)]\n",
    "        return self.stoneGameHelper(piles,i,j,dp) > 0\n",
    " \n",
    "        \n",
    "s= Solution()        \n",
    "piles = [int(i) for i in input().split()]\n",
    "ans = s.stoneGame(piles)\n",
    "if ans:\n",
    "    print(\"true\")\n",
    "else:\n",
    "    print(\"false\")"
   ]
  },
  {
   "cell_type": "code",
   "execution_count": 12,
   "metadata": {},
   "outputs": [
    {
     "name": "stdout",
     "output_type": "stream",
     "text": [
      "4\n",
      "5 1 9 11\n",
      "2 4 8 10\n",
      "13 3 6 7\n",
      "15 14 12 16\n",
      "\n",
      "[[15, 13, 2, 5], [14, 3, 4, 1], [12, 6, 8, 9], [16, 7, 10, 11]]\n"
     ]
    }
   ],
   "source": [
    "class Solution:\n",
    "    \n",
    "    def Transpose(self,matrix):\n",
    "        n = len(matrix)\n",
    "        for i in range(n):\n",
    "            j = i\n",
    "            k = i\n",
    "            while j < n and k < n:\n",
    "                if j == i and k == i:\n",
    "                    j += 1\n",
    "                    k += 1\n",
    "                else:\n",
    "                    matrix[j][i],matrix[i][k] = matrix[i][k],matrix[j][i]\n",
    "                    j += 1\n",
    "                    k += 1\n",
    "\n",
    "                \n",
    "    def rotateHelper(self,matrix):\n",
    "        n = len(matrix)\n",
    "        if n % 2 == 0:\n",
    "            i = 0\n",
    "            j = n-1\n",
    "            while i < j:\n",
    "                for k in range(n):\n",
    "                    matrix[k][i] , matrix[k][j] = matrix[k][j] , matrix[k][i]\n",
    "                i += 1\n",
    "                j -= 1\n",
    "        else:\n",
    "            i = 0\n",
    "            j = n-1\n",
    "            while i != j:\n",
    "                for k in range(n):\n",
    "                    matrix[k][i] , matrix[k][j] = matrix[k][j] , matrix[k][i]\n",
    "                i += 1\n",
    "                j -= 1                \n",
    "                \n",
    "        print()\n",
    "        print(matrix)\n",
    "                \n",
    "                \n",
    "    def rotate(self, matrix):\n",
    "        self.Transpose(matrix)\n",
    "        self.rotateHelper(matrix)\n",
    "        \"\"\"def\n",
    "        Do not return anything, modify matrix in-place instead.\n",
    "        \"\"\"\n",
    "    \n",
    "matrix = []\n",
    "n = int(input())\n",
    "for i in range(n):\n",
    "    row = [int(i) for i in input().split()]\n",
    "    matrix.append(row)\n",
    "    \n",
    "\n",
    "s = Solution()    \n",
    "s.rotate(matrix)"
   ]
  },
  {
   "cell_type": "code",
   "execution_count": 4,
   "metadata": {},
   "outputs": [
    {
     "name": "stdout",
     "output_type": "stream",
     "text": [
      "Enter root data\n",
      "1\n",
      "Enter number of children for root data 1\n",
      "2\n",
      "Enter root data\n",
      "3\n",
      "Enter number of children for root data 3\n",
      "0\n",
      "Enter root data\n",
      "4\n",
      "Enter number of children for root data 4\n",
      "0\n"
     ]
    },
    {
     "data": {
      "text/plain": [
       "[[1], [3, 4]]"
      ]
     },
     "execution_count": 4,
     "metadata": {},
     "output_type": "execute_result"
    }
   ],
   "source": [
    "import queue\n",
    "class Treenode:\n",
    "    def __init__(self,val):\n",
    "        self.val = val\n",
    "        self.children = list()\n",
    "def taketreeinput():\n",
    "    print(\"Enter root data\")\n",
    "    rootdata = int(input())\n",
    "    if rootdata ==-1:\n",
    "        return None\n",
    "    root = Treenode(rootdata)\n",
    "    print(\"Enter number of children for root data\",rootdata)\n",
    "    countchild = int(input())\n",
    "    for i in range(countchild): #For proper understanding please dry run this and you get that.\n",
    "        child = taketreeinput()\n",
    "        root.children.append(child)\n",
    "        \n",
    "    return root\n",
    "\n",
    "class Solution:\n",
    "    \n",
    "    def levelOrderHelper(self,root,ans):\n",
    "        q = queue.Queue()\n",
    "        q.put(root)\n",
    "        \n",
    "        while not q.empty():\n",
    "            size = q.qsize()\n",
    "            temp = []\n",
    "            while (size) != 0:\n",
    "                ele = q.get()\n",
    "                temp.append(ele.val)\n",
    "                for child in ele.children:\n",
    "                    q.put(child)\n",
    "                    \n",
    "                size -= 1\n",
    "                \n",
    "            ans.append(temp)\n",
    "        return ans\n",
    "\n",
    "    \n",
    "    def levelOrder(self, root):\n",
    "        if root is None:\n",
    "            return\n",
    "        ans = []\n",
    "        self.levelOrderHelper(root,ans)\n",
    "        return ans\n",
    "        \n",
    "root = taketreeinput()\n",
    "s = Solution()\n",
    "ans = s.levelOrder(root)\n",
    "ans"
   ]
  },
  {
   "cell_type": "code",
   "execution_count": 5,
   "metadata": {},
   "outputs": [
    {
     "name": "stdout",
     "output_type": "stream",
     "text": [
      "1 2 3 4 \n",
      "false\n"
     ]
    }
   ],
   "source": [
    "class Solution:\n",
    "    def containsDuplicate(self, nums):\n",
    "        dic = {}\n",
    "        for i in nums:\n",
    "            dic[i] = dic.get(i,0) + 1\n",
    "          \n",
    "        if len(nums) == len(dic):\n",
    "            return False\n",
    "        else:\n",
    "            return True\n",
    "        \n",
    "        \n",
    "\n",
    "s = Solution()\n",
    "row = [int(i) for i in input().split()]\n",
    "ans = s.containsDuplicate(row)\n",
    "if ans:\n",
    "    print(\"true\")\n",
    "else:\n",
    "    print(\"false\")"
   ]
  },
  {
   "cell_type": "code",
   "execution_count": 8,
   "metadata": {},
   "outputs": [
    {
     "name": "stdout",
     "output_type": "stream",
     "text": [
      "3 0 1\n"
     ]
    },
    {
     "data": {
      "text/plain": [
       "2"
      ]
     },
     "execution_count": 8,
     "metadata": {},
     "output_type": "execute_result"
    }
   ],
   "source": [
    "class Solution:\n",
    "    def missingNumber(self, nums):\n",
    "        n = len(nums)\n",
    "        i = n\n",
    "        while i >= 0:\n",
    "            if i in nums:\n",
    "                i -= 1\n",
    "            else:\n",
    "                return i\n",
    "s = Solution()\n",
    "row = [int(i) for i in input().split()]\n",
    "ans = s.missingNumber(row)\n",
    "ans  "
   ]
  },
  {
   "cell_type": "code",
   "execution_count": 23,
   "metadata": {},
   "outputs": [
    {
     "name": "stdout",
     "output_type": "stream",
     "text": [
      "1 2 1 2 0 1 0 0\n",
      "[1, 2, 1, 2, 1, 0, 0, 0]\n"
     ]
    }
   ],
   "source": [
    "class Solution:\n",
    "    def moveZeroes(self, arr):\n",
    "        \"\"\"\n",
    "        Do not return anything, modify nums in-place instead.\n",
    "        \"\"\"\n",
    "\n",
    "        i = 0\n",
    "        nz = 0\n",
    "        while i < len(arr) :\n",
    "            if arr[i] != 0:\n",
    "                arr[i],arr[nz] = arr[nz],arr[i]\n",
    "                nz += 1\n",
    "                i += 1\n",
    "            else:\n",
    "                i += 1\n",
    "       \n",
    "        \n",
    " \n",
    "s = Solution()\n",
    "row = [int(i) for i in input().split()]\n",
    "ans = s.moveZeroes(row)\n",
    "print(row)"
   ]
  },
  {
   "cell_type": "code",
   "execution_count": 27,
   "metadata": {},
   "outputs": [
    {
     "name": "stdout",
     "output_type": "stream",
     "text": [
      "4 9 5\n",
      "9 4 9 8 4\n",
      "[4, 9]\n"
     ]
    }
   ],
   "source": [
    "class Solution:\n",
    "    def intersect(self, nums1,nums2):\n",
    "        nums1.sort()\n",
    "        nums2.sort()\n",
    "        n = len(nums1)\n",
    "        m = len(nums2)\n",
    "        i = 0\n",
    "        j = 0\n",
    "        ans = []\n",
    "        while i < n and j < m:\n",
    "            if nums1[i] > nums2[j]:\n",
    "                j += 1\n",
    "            elif nums1[i] < nums2[j]:\n",
    "                i += 1\n",
    "                \n",
    "            else:\n",
    "                ans.append(nums1[i])\n",
    "                i += 1\n",
    "                j += 1\n",
    "        return ans\n",
    "    \n",
    "s = Solution()\n",
    "row1 = [int(i) for i in input().split()]\n",
    "row2 = [int(i) for i in input().split()]\n",
    "ans = s.intersect(row1,row2)\n",
    "print(ans)    "
   ]
  },
  {
   "cell_type": "code",
   "execution_count": 46,
   "metadata": {},
   "outputs": [
    {
     "name": "stdout",
     "output_type": "stream",
     "text": [
      "3\n",
      "1 2 3 4\n",
      "5 6 7 8\n",
      "9 10 11 12\n",
      "[1, 2, 3, 4, 8, 12, 11, 10, 9, 5, 6, 7]\n"
     ]
    }
   ],
   "source": [
    "class Solution:\n",
    "    def spiralOrder(self, matrix):\n",
    "        ans = []\n",
    "        rs = 0\n",
    "        re = len(matrix) - 1 #2\n",
    "        cs = 0\n",
    "        \n",
    "        n = len(matrix)\n",
    "        m = len(matrix[0])\n",
    "        ce = m-1\n",
    "        k = 0\n",
    "        while k < (n)*(m):\n",
    "            \n",
    "            #upper row\n",
    "        \n",
    "            for i in range(cs,ce+1):\n",
    "                if k < n*m:\n",
    "                    ans.append(matrix[rs][i])\n",
    "                    k += 1\n",
    "                else:\n",
    "                    break\n",
    "            rs += 1\n",
    "            \n",
    "            #right column\n",
    "            \n",
    "            \n",
    "            for i in range(rs,re+1):\n",
    "                if k < n*m:\n",
    "                    ans.append(matrix[i][ce])\n",
    "                    k += 1\n",
    "                else:\n",
    "                    break\n",
    "            ce -= 1\n",
    "            \n",
    "            #bottom row\n",
    "            for i in range(ce,cs-1,-1):\n",
    "                if k < n*m:\n",
    "                    ans.append(matrix[re][i])\n",
    "                    k += 1\n",
    "                else:\n",
    "                    break\n",
    "                \n",
    "            re -= 1\n",
    "            for i in range(re,rs-1,-1):\n",
    "                if k < n*m:\n",
    "                    ans.append(matrix[i][cs])\n",
    "                    k += 1\n",
    "                else:\n",
    "                    break\n",
    "\n",
    "            cs += 1\n",
    "            \n",
    "        return ans  \n",
    "    \n",
    "matrix = []\n",
    "n = int(input())\n",
    "for i in range(n):\n",
    "    row = [int(i) for i in input().split()]\n",
    "    matrix.append(row)\n",
    "    \n",
    "\n",
    "s = Solution()    \n",
    "ans = s.spiralOrder(matrix)             \n",
    "print(ans)"
   ]
  },
  {
   "cell_type": "code",
   "execution_count": 50,
   "metadata": {},
   "outputs": [
    {
     "name": "stdout",
     "output_type": "stream",
     "text": [
      "1 0 2 1\n",
      "false\n"
     ]
    }
   ],
   "source": [
    "class Solution:\n",
    "    def canJump(self, nums):\n",
    "        i = 0\n",
    "        n = len(nums)\n",
    "        while i < n:\n",
    "            if nums[i] == 0:\n",
    "                if i == n-1:\n",
    "                    return True\n",
    "                else:\n",
    "                    return False\n",
    "            else:\n",
    "                if i == n-1:\n",
    "                    return True\n",
    "                else:\n",
    "                    i += nums[i]\n",
    "        if i == n-1:\n",
    "            return True\n",
    "        else:\n",
    "            return False\n",
    "        \n",
    " \n",
    "s = Solution()\n",
    "row = [int(i) for i in input().split()]\n",
    "ans = s.canJump(row)\n",
    "if ans:\n",
    "    print(\"true\")\n",
    "else:\n",
    "    print(\"false\")"
   ]
  },
  {
   "cell_type": "code",
   "execution_count": 15,
   "metadata": {
    "scrolled": false
   },
   "outputs": [
    {
     "name": "stdout",
     "output_type": "stream",
     "text": [
      "3 0 8 2 0 0 1\n",
      "true\n"
     ]
    }
   ],
   "source": [
    "class Solution:\n",
    "    \n",
    "    def canJumpHelper(self,arr,i,n,dp):\n",
    "        if i == n-1:\n",
    "            return True\n",
    "        \n",
    "        if i >= n:\n",
    "            return False\n",
    "        \n",
    "        if arr[i] == 0:\n",
    "            return False\n",
    "        \n",
    "        for j in range(1,arr[i]+1):\n",
    "            if dp[i+j] == -1:\n",
    "                if self.canJumpHelper(arr,i+j,n,dp):\n",
    "                    dp[i+j] = True\n",
    "                    return True\n",
    "            else:\n",
    "                return dp[i+j]\n",
    "            \n",
    "    def canJump(self, nums):\n",
    "        i = 0\n",
    "        n = len(nums)\n",
    "        dp=[-1 for i in range(n)]\n",
    "        return self.canJumpHelper(nums,i,n,dp)\n",
    " \n",
    "s = Solution()\n",
    "row = [int(i) for i in input().split()]\n",
    "ans = s.canJump(row)\n",
    "if ans:\n",
    "    print(\"true\")\n",
    "else:\n",
    "    print(\"false\")"
   ]
  },
  {
   "cell_type": "code",
   "execution_count": 44,
   "metadata": {},
   "outputs": [
    {
     "name": "stdout",
     "output_type": "stream",
     "text": [
      "abs\n"
     ]
    },
    {
     "data": {
      "text/plain": [
       "2"
      ]
     },
     "execution_count": 44,
     "metadata": {},
     "output_type": "execute_result"
    }
   ],
   "source": [
    "class Solution:\n",
    "    def minCut(self, string):\n",
    "        dp =[[sys.maxsize for j in range(len(string))]for i in range(len(string))]\n",
    "        n = len(string)\n",
    "        for g in range(n):\n",
    "            i = 0 \n",
    "            j = g\n",
    "            while j < n:\n",
    "                if g == 0:\n",
    "                    dp[i][j] = True\n",
    "                elif g == 1:\n",
    "                    if string[i] == string[j]:\n",
    "                        dp[i][j] = True\n",
    "                    else:\n",
    "                        dp[i][j] = False\n",
    "                else:\n",
    "                    if string[i] == string[j]:\n",
    "                        if dp[i+1][j-1] == True:\n",
    "                            dp[i][j] = True\n",
    "                        else:\n",
    "                            dp[i][j] = False\n",
    "                    else:\n",
    "                        dp[i][j] = False\n",
    "                i += 1\n",
    "                j += 1\n",
    "\n",
    "        dp2 =  [[sys.maxsize for j in range(len(string))]for i in range(len(string))]    \n",
    "        for g in range(n):\n",
    "            i = 0 \n",
    "            j = g\n",
    "            while j < n:\n",
    "                if g == 0:\n",
    "                    dp2[i][j] = 0\n",
    "                elif g == 1:\n",
    "                    if string[i] == string[j]:\n",
    "                        dp2[i][j] = 0\n",
    "                    else:\n",
    "                        dp2[i][j] = 1\n",
    "                else:\n",
    "                    if dp[i][j]:\n",
    "                        dp2[i][j] = 0\n",
    "                    else:   \n",
    "                        mini = sys.maxsize \n",
    "                        for k in range(i,j):\n",
    "                            left = dp2[i][k]\n",
    "                            right = dp2[k+1][j]\n",
    "                            if mini > left + right + 1:\n",
    "                                mini = left + right + 1\n",
    "                        dp2[i][j] = mini\n",
    "                i += 1\n",
    "                j += 1\n",
    "        return dp2[0][n-1]\n",
    "\n",
    "    \n",
    "s = Solution()\n",
    "s1 = input()\n",
    "ans = s.minCut(s1)\n",
    "ans"
   ]
  },
  {
   "cell_type": "markdown",
   "metadata": {},
   "source": [
    "Bollean gap strategy"
   ]
  },
  {
   "cell_type": "code",
   "execution_count": 51,
   "metadata": {},
   "outputs": [
    {
     "name": "stdout",
     "output_type": "stream",
     "text": [
      "asdadas\n"
     ]
    },
    {
     "data": {
      "text/plain": [
       "4"
      ]
     },
     "execution_count": 51,
     "metadata": {},
     "output_type": "execute_result"
    }
   ],
   "source": [
    "import sys\n",
    "class Solution:\n",
    "    def minCut(self,string):  #Boolean gap strategy\n",
    "        dp =[[sys.maxsize for j in range(len(string))]for i in range(len(string))]\n",
    "        n = len(string)\n",
    "        for g in range(n):\n",
    "            i = 0 \n",
    "            j = g\n",
    "            while j < n:\n",
    "                if g == 0:\n",
    "                    dp[i][j] = True\n",
    "                elif g == 1:\n",
    "                    if string[i] == string[j]:\n",
    "                        dp[i][j] = True\n",
    "                    else:\n",
    "                        dp[i][j] = False\n",
    "                else:\n",
    "                    if string[i] == string[j]:\n",
    "                        if dp[i+1][j-1] == True:\n",
    "                            dp[i][j] = True\n",
    "                        else:\n",
    "                            dp[i][j] = False\n",
    "                    else:\n",
    "                        dp[i][j] = False\n",
    "                i += 1\n",
    "                j += 1\n",
    "        ans = [-1 for i in range(n)]\n",
    "        ans[0] = 0\n",
    "        for j in range(1,n):\n",
    "            if dp[0][j]:\n",
    "                ans[j] = 0\n",
    "            else:\n",
    "                mini = sys.maxsize\n",
    "                for i in range(j,0,-1):\n",
    "                    if dp[i][j]:\n",
    "                        if ans[i-1] < mini:\n",
    "                            mini = ans[i-1]\n",
    "                ans[j] = mini + 1            \n",
    "        \n",
    "        return ans[n-1]\n",
    "s = Solution()    \n",
    "string = input()\n",
    "ans = s.minCut(string)\n",
    "ans"
   ]
  },
  {
   "cell_type": "code",
   "execution_count": 18,
   "metadata": {},
   "outputs": [
    {
     "name": "stdout",
     "output_type": "stream",
     "text": [
      "11\n",
      "123\n",
      "134\n"
     ]
    }
   ],
   "source": [
    "class Solution:\n",
    "    def addStrings(self, num1,num2):\n",
    "        nnum1 = 0\n",
    "        nnum2 = 0\n",
    "        \n",
    "        for i in num1:\n",
    "            nnum1 = nnum1*10 + (ord(i)-48)\n",
    "            \n",
    "        for j in num2:\n",
    "            nnum2 = nnum2*10 + (ord(j)-48)\n",
    "            \n",
    "\n",
    "        return str(nnum1 + nnum2)\n",
    "    \n",
    "s = Solution()\n",
    "num1 = input()\n",
    "num2 = input()\n",
    "ans = s.addStrings(num1,num2)\n",
    "print(ans)"
   ]
  },
  {
   "cell_type": "code",
   "execution_count": 21,
   "metadata": {},
   "outputs": [
    {
     "data": {
      "text/plain": [
       "{2: False}"
      ]
     },
     "execution_count": 21,
     "metadata": {},
     "output_type": "execute_result"
    }
   ],
   "source": [
    "dic={2:(True,1)}\n",
    "dic[2]= False\n",
    "dic"
   ]
  },
  {
   "cell_type": "markdown",
   "metadata": {},
   "source": [
    "Merge ranges which overlap with each other"
   ]
  },
  {
   "cell_type": "code",
   "execution_count": 35,
   "metadata": {},
   "outputs": [
    {
     "name": "stdout",
     "output_type": "stream",
     "text": [
      "2\n",
      "1 4\n",
      "0 0\n"
     ]
    },
    {
     "data": {
      "text/plain": [
       "[[0, 0], [1, 4]]"
      ]
     },
     "execution_count": 35,
     "metadata": {},
     "output_type": "execute_result"
    }
   ],
   "source": [
    "class Solution:\n",
    "    def merge(self, intervals):\n",
    "        vis = [False for i in range(len(intervals))]\n",
    "        ans = []\n",
    "        intervals.sort()\n",
    "        for i in range(len(intervals)):\n",
    "            if vis[i] == False:\n",
    "                temp = []\n",
    "                vis[i] = True\n",
    "                temp.append(intervals[i][0])\n",
    "                val = intervals[i][1]\n",
    "                j = i+1\n",
    "                while j < len(intervals):\n",
    "                    if intervals[j][0] <= val and vis[j] == False:\n",
    "                        if intervals[j][0] < temp[0]:\n",
    "                            temp[0] = intervals[j][0]\n",
    "                        if val < intervals[j][1]:    \n",
    "                            val = intervals[j][1]\n",
    "                        vis[j] = True\n",
    "                        j += 1\n",
    "                    else:\n",
    "                        j += 1\n",
    "                temp.append(val)\n",
    "                ans.append(temp)\n",
    "        return ans\n",
    "    \n",
    "s = Solution()\n",
    "intervals = []\n",
    "n = int(input())\n",
    "while n > 0:\n",
    "    row = [int(i) for i in input().split()]\n",
    "    intervals.append(row)\n",
    "    n -= 1\n",
    "ans = s.merge(intervals)    \n",
    "ans"
   ]
  },
  {
   "cell_type": "markdown",
   "metadata": {},
   "source": [
    "Minimum flip require to make monotone number"
   ]
  },
  {
   "cell_type": "code",
   "execution_count": 17,
   "metadata": {},
   "outputs": [
    {
     "name": "stdout",
     "output_type": "stream",
     "text": [
      "10011111110010111011\n",
      "5\n"
     ]
    }
   ],
   "source": [
    "#Concept is to find minimum flips right not to find minimum flips for zero or ones\n",
    "\n",
    "class Solution:\n",
    "    def minFlipsMonoIncr(self, s):\n",
    "        n = len(s)\n",
    "        i = 0\n",
    "        while i < n and s[i] == '0':\n",
    "            i += 1\n",
    "            \n",
    "        countzero = 0\n",
    "        countone = 0   \n",
    "            \n",
    "        for j in range(i,n):\n",
    "            if s[j] == '0':\n",
    "                countone += 1\n",
    "            else:\n",
    "                countzero += 1\n",
    "            \n",
    "            countone = min(countzero,countone)\n",
    "                \n",
    "                \n",
    "        return countone\n",
    "        \n",
    "\n",
    "    \n",
    "st = input()\n",
    "s = Solution()\n",
    "ans = s.minFlipsMonoIncr(st)\n",
    "print(ans)"
   ]
  },
  {
   "cell_type": "markdown",
   "metadata": {},
   "source": [
    "Sort colors(striver)"
   ]
  },
  {
   "cell_type": "code",
   "execution_count": 15,
   "metadata": {
    "scrolled": true
   },
   "outputs": [
    {
     "name": "stdout",
     "output_type": "stream",
     "text": [
      "2 0 2 0 1 2 0 1\n",
      "[0, 0, 0, 1, 1, 2, 2, 2]\n"
     ]
    }
   ],
   "source": [
    "class Solution:\n",
    "    def sortColors(self, nums):\n",
    "        i = 0\n",
    "        nz = 0\n",
    "        nt = len(nums) - 1\n",
    "        while i< nt:\n",
    "            if nums[i] == 0:\n",
    "                if i == nz:\n",
    "                    i += 1\n",
    "                    nz += 1\n",
    "                else:    \n",
    "                    nums[i],nums[nz] = nums[nz] , nums[i]\n",
    "                    nz += 1\n",
    "                    \n",
    "\n",
    "             \n",
    "            elif nums[i] == 2:\n",
    "                while nums[nt] == 2 and nt>i:\n",
    "                    nt -= 1\n",
    "                nums[i],nums[nt] = nums[nt] , nums[i]\n",
    "                nt -=1 \n",
    "\n",
    "            else:\n",
    "                i += 1\n",
    "                \n",
    "                \n",
    "s = Solution()\n",
    "nums = [int(i) for i in input().split()]\n",
    "s.sortColors(nums)\n",
    "print(nums)"
   ]
  },
  {
   "cell_type": "markdown",
   "metadata": {},
   "source": [
    "Array of Doubled Pairs"
   ]
  },
  {
   "cell_type": "code",
   "execution_count": 55,
   "metadata": {},
   "outputs": [
    {
     "name": "stdout",
     "output_type": "stream",
     "text": [
      "-1 4 6 8 -4 6 -6 3 -2 3 -3 -8\n",
      "true\n"
     ]
    }
   ],
   "source": [
    "class Solution:\n",
    "    def absolute_value(self,num):\n",
    "        return abs(num)    \n",
    "\n",
    "    \n",
    "    def canReorderDoubled(self, arr):\n",
    "        arr.sort(key=self.absolute_value)\n",
    "        dic = {}\n",
    "        for i in arr:\n",
    "            dic[i] = dic.get(i,0) + 1\n",
    "        \n",
    "        for i in arr:\n",
    "            if dic[i] == 0:\n",
    "                continue\n",
    "            elif dic.get(2*i,0) == 0:\n",
    "                return False\n",
    "            \n",
    "            dic[i] -= 1\n",
    "            dic[2*i] -= 1\n",
    "            \n",
    "        return True    \n",
    "\n",
    "s = Solution()\n",
    "arr = [int(i) for i in input().split()]\n",
    "ans = s.canReorderDoubled(arr)\n",
    "if ans:\n",
    "    print(\"true\")\n",
    "else:\n",
    "    print(\"false\")"
   ]
  },
  {
   "cell_type": "code",
   "execution_count": 76,
   "metadata": {},
   "outputs": [
    {
     "name": "stdout",
     "output_type": "stream",
     "text": [
      "4 3 6 2 1 1\n"
     ]
    },
    {
     "data": {
      "text/plain": [
       "[1, 5]"
      ]
     },
     "execution_count": 76,
     "metadata": {},
     "output_type": "execute_result"
    }
   ],
   "source": [
    "class Solution:\n",
    "    def findTwoElement( self,arr, n): \n",
    "        # code here\n",
    "        arr.sort()\n",
    "        rep =  -1\n",
    "        miss = -1\n",
    "        if arr[0] == 1:\n",
    "            i = 0\n",
    "        else:\n",
    "            miss = 1\n",
    "            i = 0\n",
    "        while i < n-1:\n",
    "            if arr[i] == arr[i+1]:\n",
    "                rep = arr[i]\n",
    "                i += 1\n",
    "            elif arr[i+1] - arr[i] != 1:\n",
    "                miss = arr[i]+1\n",
    "                i += 1\n",
    "              \n",
    "            else:\n",
    "                i += 1\n",
    "        if rep == n and miss == -1:\n",
    "            miss = 1\n",
    "            \n",
    "        if miss == -1:\n",
    "            miss = n\n",
    "            \n",
    "        return [rep , miss]\n",
    "    \n",
    "s = Solution()\n",
    "arr = [int(i) for i in input().split()]\n",
    "n = len(arr)\n",
    "ans = s.findTwoElement(arr,n)\n",
    "ans"
   ]
  },
  {
   "cell_type": "code",
   "execution_count": 78,
   "metadata": {},
   "outputs": [
    {
     "name": "stdout",
     "output_type": "stream",
     "text": [
      "4 3 6 2 1 1\n"
     ]
    },
    {
     "data": {
      "text/plain": [
       "[1, 5]"
      ]
     },
     "execution_count": 78,
     "metadata": {},
     "output_type": "execute_result"
    }
   ],
   "source": [
    "class Solution:\n",
    "    def findTwoElement1( self,arr, n): \n",
    "        dic = {}\n",
    "        for i in arr:\n",
    "            dic[i] = dic.get(i,0) + 1\n",
    "         \n",
    "        rep = -1\n",
    "        miss = -1\n",
    "        for i in dic:\n",
    "            if dic[i] == 2:\n",
    "                rep = i\n",
    "        for i in range(1,n+1):\n",
    "            if i not in dic:\n",
    "                miss = i\n",
    "        return [rep,miss]\n",
    "                \n",
    "s = Solution()\n",
    "arr = [int(i) for i in input().split()]\n",
    "n = len(arr)\n",
    "ans = s.findTwoElement1(arr,n)\n",
    "ans        "
   ]
  },
  {
   "cell_type": "code",
   "execution_count": 16,
   "metadata": {},
   "outputs": [
    {
     "name": "stdout",
     "output_type": "stream",
     "text": [
      "a\n"
     ]
    },
    {
     "data": {
      "text/plain": [
       "[['a']]"
      ]
     },
     "execution_count": 16,
     "metadata": {},
     "output_type": "execute_result"
    }
   ],
   "source": [
    "class Solution:\n",
    "    \n",
    "    def getfreq(self,st1):\n",
    "        d = {}\n",
    "        for i in st1:\n",
    "            d[i] = d.get(i,0) + 1\n",
    "        return d    \n",
    "    \n",
    "    def groupAnagrams(self, strs):\n",
    "        if len(strs) == 0:\n",
    "            return [['']]\n",
    "        \n",
    "        vis = [False for i in range(len(strs))]\n",
    "        dic = {}\n",
    "        for i in range(len(strs)):\n",
    "            dic[i] = self.getfreq(strs[i])\n",
    "            \n",
    "        ans = []\n",
    "        k = 0\n",
    "        print\n",
    "        for i in range(len(strs)):\n",
    "            if vis[i] == False:\n",
    "                vis[i] = True\n",
    "                ans.append([strs[i]])\n",
    "                for j in range(i+1,len(strs)):\n",
    "                    if vis[j] == False:\n",
    "                        if len(strs[i]) == len(strs[j]):\n",
    "                            if dic[i] == dic[j]:\n",
    "                                ans[k].append(strs[j])\n",
    "                                vis[j] = True\n",
    "                k += 1\n",
    "            \n",
    "        return ans\n",
    "    \n",
    "s = Solution()    \n",
    "strs = [i for i in input().split()]\n",
    "ans = s.groupAnagrams(strs)\n",
    "\n",
    "ans"
   ]
  },
  {
   "cell_type": "markdown",
   "metadata": {},
   "source": [
    "Merge two sorted arrays with O(1) time complexity"
   ]
  },
  {
   "cell_type": "code",
   "execution_count": 31,
   "metadata": {},
   "outputs": [
    {
     "name": "stdout",
     "output_type": "stream",
     "text": [
      "1 3 5 7\n",
      "0 2 6 8 9\n",
      "[0, 1, 2, 3]\n",
      "[5, 6, 7, 8, 9]\n"
     ]
    }
   ],
   "source": [
    "#Method 1\n",
    "\n",
    "import heapq\n",
    "class Solution:\n",
    "    \n",
    "    #Function to merge the arrays.\n",
    "    def merge(self,arr1,arr2):\n",
    "        #code here\n",
    "        i = 0\n",
    "        j = 0\n",
    "        heapq.heapify(arr2)\n",
    "        while i < len(arr1):\n",
    "            if arr1[i] > arr2[0]:\n",
    "                val = arr1[i]\n",
    "                arr1[i] = arr2[0]\n",
    "                heapq.heapreplace(arr2,val)\n",
    "                i += 1\n",
    "            else:\n",
    "                i += 1\n",
    "        arr2.sort()\n",
    "\n",
    "    \n",
    "s = Solution()\n",
    "arr1 = [int(i) for i in input().split()]\n",
    "arr2 = [int(i) for i in input().split()]\n",
    "s.merge(arr1,arr2)\n",
    "print(arr1)\n",
    "print(arr2)"
   ]
  },
  {
   "cell_type": "code",
   "execution_count": 39,
   "metadata": {},
   "outputs": [
    {
     "name": "stdout",
     "output_type": "stream",
     "text": [
      "1 3 5 7\n",
      "0 2 6 8 9\n",
      "[0, 1, 2, 3]\n",
      "[8, 5, 7, 6, 9]\n"
     ]
    }
   ],
   "source": [
    "#Method 2\n",
    "\n",
    "    while gap > 0:\n",
    " \n",
    "        # comparing elements in\n",
    "        # the first array.\n",
    "        i = 0\n",
    "        while i + gap < n:\n",
    "            if (arr1[i] > arr1[i + gap]):\n",
    "                arr1[i], arr1[i + gap] = arr1[i + gap], arr1[i]\n",
    " \n",
    "            i += 1\n",
    " \n",
    "        # comparing elements in both arrays.\n",
    "        j = gap - n if gap > n else 0\n",
    "        while i < n and j < m:\n",
    "            if (arr1[i] > arr2[j]):\n",
    "                arr1[i], arr2[j] = arr2[j], arr1[i]\n",
    " \n",
    "            i += 1\n",
    "            j += 1\n",
    " \n",
    "        if (j < m):\n",
    " \n",
    "            # comparing elements in the\n",
    "            # second array.\n",
    "            j = 0\n",
    "            while j + gap < m:\n",
    "                if (arr2[j] > arr2[j + gap]):\n",
    "                    arr2[j], arr2[j + gap] = arr2[j + gap], arr2[j]\n",
    " \n",
    "                j += 1\n",
    " \n",
    "        gap = nextGap(gap)\n",
    " \n",
    "s = Solution()\n",
    "arr1 = [int(i) for i in input().split()]\n",
    "arr2 = [int(i) for i in input().split()]\n",
    "s.merge1(arr1,arr2)\n",
    "print(arr1)\n",
    "print(arr2)         \n"
   ]
  },
  {
   "cell_type": "markdown",
   "metadata": {},
   "source": [
    "Set Matrix Zeroes\n",
    "Time complexity : O(m*n + m+n)\n",
    "space complexity : O(m*n)"
   ]
  },
  {
   "cell_type": "code",
   "execution_count": 14,
   "metadata": {},
   "outputs": [
    {
     "name": "stdout",
     "output_type": "stream",
     "text": [
      "3\n",
      "1 1 1\n",
      "1 0 1\n",
      "1 1 1\n",
      "[[1, 0, 0], [0, 0, 0], [0, 0, 0]]\n"
     ]
    }
   ],
   "source": [
    "class Solution:\n",
    "    \n",
    "    def FillRowCol(self,matrix,i,j,vis):\n",
    "        n = len(matrix)\n",
    "        m = len(matrix[0])\n",
    "        #Fill column\n",
    "        row = 0\n",
    "        while row < m:\n",
    "            if matrix[i][row] != 0 and vis[i][row] == False:\n",
    "                vis[i][row] = True\n",
    "                matrix[i][row] = 0\n",
    "                row += 1\n",
    "            else:\n",
    "                row += 1\n",
    "                \n",
    "        #Fill Column\n",
    "        column = 0\n",
    "        \n",
    "        while column < n:\n",
    "            if vis[column][j] == False and matrix[column][j] != 0:\n",
    "                vis[column][j] = True\n",
    "                matrix[column][j] = 0\n",
    "                column += 1\n",
    "            else:\n",
    "                column += 1\n",
    "    \n",
    "    def setZeroes(self, matrix):\n",
    "        vis = [[False for i in range(len(matrix[0]))]for j in range(len(matrix))]\n",
    "        for i in range(len(matrix)):\n",
    "            for j in range(len(matrix[0])):\n",
    "                if matrix[i][j] == 0 and vis[i][j] == False:\n",
    "                    self.FillRowCol(matrix,i,j,vis)\n",
    "        \n",
    "        \n",
    "        \n",
    "        \n",
    "s = Solution()\n",
    "matrix = []\n",
    "n = int(input())\n",
    "for i in range(n):\n",
    "    row = [int(i) for i in input().split()]\n",
    "    matrix.append(row)\n",
    "    \n",
    "s.setZeroes(matrix)\n",
    "print(matrix)"
   ]
  },
  {
   "cell_type": "raw",
   "metadata": {},
   "source": [
    "-->Set matrix zeroes \n",
    "-->Optimal approach\n",
    "Time complexity -->O(m*n+m*n)\n",
    "Space complexity --> O(1)"
   ]
  },
  {
   "cell_type": "code",
   "execution_count": 13,
   "metadata": {},
   "outputs": [
    {
     "name": "stdout",
     "output_type": "stream",
     "text": [
      "3\n",
      "0 1 2 0\n",
      "1 2 4 2\n",
      "4 5 4 8\n",
      "[[0, 1, 0, 0], [0, 2, 4, 0], [0, 5, 4, 0]]\n"
     ]
    }
   ],
   "source": [
    "#Here we consider the 1st row and column as dummy array and make it zero if we get any cell as zero\n",
    "\n",
    "class Solution:\n",
    "    \n",
    "    def setZeroes1(self, matrix):\n",
    "        iscol = True\n",
    "        for i in range(len(matrix)):\n",
    "            if matrix[i][0] == 0:\n",
    "                iscol = False\n",
    "            for j in range(1,len(matrix[0])):\n",
    "                if matrix[i][j] == 0:\n",
    "                    matrix[0][j] = 0\n",
    "                    matrix[i][0] = 0\n",
    "                    \n",
    "        for i in range(len(matrix)-1 ,-1,-1):\n",
    "            for j in range(len(matrix[0])-1,0,-1):  #Here we go till j >= 1 coz if the 1st column is already zero it is\n",
    "                if matrix[0][j] == 0  or matrix[i][0] == 0:  #care by iscol flag because if any of the element of 1st column is\n",
    "                    matrix[i][j] = 0  #zero it become False and then we make that cell zero .\n",
    "                    \n",
    "            if iscol == False:\n",
    "                matrix[i][0] = 0\n",
    "                    \n",
    "        \n",
    "s = Solution()\n",
    "matrix = []\n",
    "n = int(input())\n",
    "for i in range(n):\n",
    "    row = [int(i) for i in input().split()]\n",
    "    matrix.append(row)\n",
    "    \n",
    "s.setZeroes1(matrix)\n",
    "print(matrix)"
   ]
  },
  {
   "cell_type": "code",
   "execution_count": 5,
   "metadata": {},
   "outputs": [
    {
     "name": "stdout",
     "output_type": "stream",
     "text": [
      "-2 1 -3 4 -1 2 1 -5 4 \n"
     ]
    },
    {
     "data": {
      "text/plain": [
       "6"
      ]
     },
     "execution_count": 5,
     "metadata": {},
     "output_type": "execute_result"
    }
   ],
   "source": [
    "import sys\n",
    "\n",
    "class Solution:\n",
    "    def maxSubArray(self, nums):\n",
    "        maxi = -1*sys.maxsize\n",
    "        sumi = 0\n",
    "        for i in nums:\n",
    "            sumi += i\n",
    "            maxi = max(sumi , maxi)\n",
    "            if sumi < 0 :\n",
    "                sumi = 0\n",
    "        return maxi \n",
    "    \n",
    "    \n",
    "s = Solution()\n",
    "nums = [int(i) for i in input().split()]\n",
    "ans = s.maxSubArray(nums)\n",
    "ans"
   ]
  },
  {
   "cell_type": "markdown",
   "metadata": {},
   "source": [
    "Remove Boxes"
   ]
  },
  {
   "cell_type": "code",
   "execution_count": 13,
   "metadata": {},
   "outputs": [
    {
     "name": "stdout",
     "output_type": "stream",
     "text": [
      "2 1 2\n"
     ]
    },
    {
     "data": {
      "text/plain": [
       "5"
      ]
     },
     "execution_count": 13,
     "metadata": {},
     "output_type": "execute_result"
    }
   ],
   "source": [
    "class Solution:\n",
    "    def removeBoxes(self,boxes):\n",
    "        profit = 0\n",
    "        if len(boxes) == 0:\n",
    "            return 0\n",
    "        \n",
    "        if len(boxes) == 1:\n",
    "            return 1\n",
    "        \n",
    "        startindex = 0\n",
    "        endindex = 0\n",
    "        while startindex < len(boxes):\n",
    "            remove_number = boxes[startindex]\n",
    "            count = 0\n",
    "            while endindex < len(boxes) and remove_number == boxes[endindex]:\n",
    "                endindex += 1\n",
    "                count += 1\n",
    "                \n",
    "                \n",
    "            if endindex >= len(boxes):\n",
    "                profit = max(profit , count*count)\n",
    "                    \n",
    "            else:\n",
    "                profit = max(profit , self.removeBoxes(boxes[0:startindex] + boxes[endindex:len(boxes)]) + count*count)\n",
    "                    \n",
    "            startindex = endindex\n",
    "   \n",
    "        return profit\n",
    "    \n",
    "        \n",
    "        \n",
    "s = Solution()    \n",
    "boxes = [int(i) for i in input().split()]        \n",
    "ans = s.removeBoxes(boxes)\n",
    "ans"
   ]
  },
  {
   "cell_type": "code",
   "execution_count": 26,
   "metadata": {},
   "outputs": [
    {
     "ename": "NameError",
     "evalue": "name 'List' is not defined",
     "output_type": "error",
     "traceback": [
      "\u001b[1;31m---------------------------------------------------------------------------\u001b[0m",
      "\u001b[1;31mNameError\u001b[0m                                 Traceback (most recent call last)",
      "\u001b[1;32m<ipython-input-26-7575b4abd25a>\u001b[0m in \u001b[0;36m<module>\u001b[1;34m\u001b[0m\n\u001b[1;32m----> 1\u001b[1;33m \u001b[1;32mclass\u001b[0m \u001b[0mSolution\u001b[0m\u001b[1;33m:\u001b[0m\u001b[1;33m\u001b[0m\u001b[1;33m\u001b[0m\u001b[0m\n\u001b[0m\u001b[0;32m      2\u001b[0m     \u001b[1;32mdef\u001b[0m \u001b[0mremoveBoxes\u001b[0m\u001b[1;33m(\u001b[0m\u001b[0mself\u001b[0m\u001b[1;33m,\u001b[0m \u001b[0mboxes\u001b[0m\u001b[1;33m:\u001b[0m \u001b[0mList\u001b[0m\u001b[1;33m[\u001b[0m\u001b[0mint\u001b[0m\u001b[1;33m]\u001b[0m\u001b[1;33m)\u001b[0m \u001b[1;33m->\u001b[0m \u001b[0mint\u001b[0m\u001b[1;33m:\u001b[0m\u001b[1;33m\u001b[0m\u001b[1;33m\u001b[0m\u001b[0m\n\u001b[0;32m      3\u001b[0m         \u001b[1;32mdef\u001b[0m \u001b[0mdp\u001b[0m\u001b[1;33m(\u001b[0m\u001b[0ml\u001b[0m\u001b[1;33m,\u001b[0m\u001b[0mr\u001b[0m\u001b[1;33m,\u001b[0m\u001b[0mcount\u001b[0m\u001b[1;33m=\u001b[0m\u001b[1;36m0\u001b[0m\u001b[1;33m)\u001b[0m\u001b[1;33m:\u001b[0m\u001b[1;33m\u001b[0m\u001b[1;33m\u001b[0m\u001b[0m\n\u001b[0;32m      4\u001b[0m             \u001b[1;32mif\u001b[0m \u001b[0ml\u001b[0m \u001b[1;33m>\u001b[0m \u001b[0mr\u001b[0m\u001b[1;33m:\u001b[0m\u001b[1;33m\u001b[0m\u001b[1;33m\u001b[0m\u001b[0m\n\u001b[0;32m      5\u001b[0m                 \u001b[1;32mreturn\u001b[0m \u001b[1;36m0\u001b[0m\u001b[1;33m\u001b[0m\u001b[1;33m\u001b[0m\u001b[0m\n",
      "\u001b[1;32m<ipython-input-26-7575b4abd25a>\u001b[0m in \u001b[0;36mSolution\u001b[1;34m()\u001b[0m\n\u001b[0;32m      1\u001b[0m \u001b[1;32mclass\u001b[0m \u001b[0mSolution\u001b[0m\u001b[1;33m:\u001b[0m\u001b[1;33m\u001b[0m\u001b[1;33m\u001b[0m\u001b[0m\n\u001b[1;32m----> 2\u001b[1;33m     \u001b[1;32mdef\u001b[0m \u001b[0mremoveBoxes\u001b[0m\u001b[1;33m(\u001b[0m\u001b[0mself\u001b[0m\u001b[1;33m,\u001b[0m \u001b[0mboxes\u001b[0m\u001b[1;33m:\u001b[0m \u001b[0mList\u001b[0m\u001b[1;33m[\u001b[0m\u001b[0mint\u001b[0m\u001b[1;33m]\u001b[0m\u001b[1;33m)\u001b[0m \u001b[1;33m->\u001b[0m \u001b[0mint\u001b[0m\u001b[1;33m:\u001b[0m\u001b[1;33m\u001b[0m\u001b[1;33m\u001b[0m\u001b[0m\n\u001b[0m\u001b[0;32m      3\u001b[0m         \u001b[1;32mdef\u001b[0m \u001b[0mdp\u001b[0m\u001b[1;33m(\u001b[0m\u001b[0ml\u001b[0m\u001b[1;33m,\u001b[0m\u001b[0mr\u001b[0m\u001b[1;33m,\u001b[0m\u001b[0mcount\u001b[0m\u001b[1;33m=\u001b[0m\u001b[1;36m0\u001b[0m\u001b[1;33m)\u001b[0m\u001b[1;33m:\u001b[0m\u001b[1;33m\u001b[0m\u001b[1;33m\u001b[0m\u001b[0m\n\u001b[0;32m      4\u001b[0m             \u001b[1;32mif\u001b[0m \u001b[0ml\u001b[0m \u001b[1;33m>\u001b[0m \u001b[0mr\u001b[0m\u001b[1;33m:\u001b[0m\u001b[1;33m\u001b[0m\u001b[1;33m\u001b[0m\u001b[0m\n\u001b[0;32m      5\u001b[0m                 \u001b[1;32mreturn\u001b[0m \u001b[1;36m0\u001b[0m\u001b[1;33m\u001b[0m\u001b[1;33m\u001b[0m\u001b[0m\n",
      "\u001b[1;31mNameError\u001b[0m: name 'List' is not defined"
     ]
    }
   ],
   "source": [
    "class Solution:\n",
    "    def removeBoxes(self, boxes: List[int]) -> int:\n",
    "        def dp(l,r,count=0):\n",
    "            if l > r:\n",
    "                return 0\n",
    "            while l+1 < r and boxes[l] == boxes[l+1]:\n",
    "                count += 1\n",
    "                l += 1\n",
    "                \n",
    "            ans = (count+1)**2 + dp(l+1,r)\n",
    "            for j in range(l+1,r+1):\n",
    "                if boxes[l] == boxes[j]:\n",
    "                    ans = max(ans , dp(j,r,count+1) + dp(l+1,j-1,0))\n",
    "              \n",
    "            return ans\n",
    "        \n",
    "        \n",
    "        return dp(0,n-1)\n",
    "        \n",
    "s = Solution()    \n",
    "boxes = [int(i) for i in input().split()]        \n",
    "ans = s.removeBoxes(boxes)\n",
    "ans"
   ]
  },
  {
   "cell_type": "code",
   "execution_count": 17,
   "metadata": {},
   "outputs": [
    {
     "name": "stdout",
     "output_type": "stream",
     "text": [
      "ADOBECODEBANC\n",
      "ABC\n"
     ]
    },
    {
     "data": {
      "text/plain": [
       "'BANC'"
      ]
     },
     "execution_count": 17,
     "metadata": {},
     "output_type": "execute_result"
    }
   ],
   "source": [
    "class Solution:\n",
    "    def minWindow(self, s,t):\n",
    "        ans = ''\n",
    "        dic2 ={}\n",
    "        for i in t:\n",
    "            dic2[i] = dic2.get(i,0) + 1\n",
    "            \n",
    "        dic1 = {}\n",
    "        i = -1\n",
    "        j = -1\n",
    "        desire_count = len(t)\n",
    "        count = 0\n",
    "        \n",
    "        while(True):\n",
    "            flag1 = False\n",
    "            flag2 = False\n",
    "            #acquire \n",
    "            while i < len(s)-1 and count < desire_count:\n",
    "                i = i + 1\n",
    "                ch = s[i]\n",
    "                dic1[ch] = dic1.get(ch,0) + 1\n",
    "                if dic1.get(ch,0) <= dic2.get(ch,0):\n",
    "                    count += 1\n",
    "                    \n",
    "                flag1 = True        \n",
    "            #release\n",
    "            \n",
    "            while j < i and count == desire_count:\n",
    "                pans = s[j+1:i+1]\n",
    "\n",
    "                if len(ans) == 0 or len(pans) < len(ans):\n",
    "                    ans = pans\n",
    "                j += 1\n",
    "                ch = s[j]\n",
    "                if dic1[ch] == 1:\n",
    "                    dic1.pop(ch)\n",
    "                    \n",
    "                else:\n",
    "                    dic1[ch] = dic1[ch] - 1\n",
    "                    \n",
    "                if dic1.get(ch,0) < dic2.get(ch,0):\n",
    "                        count -= 1\n",
    "                        \n",
    "                flag2 = True \n",
    "            \n",
    "            if flag1 == False and flag2 == False:\n",
    "                break\n",
    "\n",
    "        return ans\n",
    "    \n",
    "    \n",
    "s = Solution()\n",
    "st1 = input()\n",
    "st2 = input()\n",
    "ans = s.minWindow(st1,st2)\n",
    "ans"
   ]
  },
  {
   "cell_type": "code",
   "execution_count": 23,
   "metadata": {},
   "outputs": [
    {
     "name": "stdout",
     "output_type": "stream",
     "text": [
      "1 2 4 3 4\n"
     ]
    },
    {
     "data": {
      "text/plain": [
       "4"
      ]
     },
     "execution_count": 23,
     "metadata": {},
     "output_type": "execute_result"
    }
   ],
   "source": [
    "class Solution:\n",
    "    def findDuplicate(self, nums):\n",
    "        n = len(nums)\n",
    "        i = 0\n",
    "        j = n-1\n",
    "        while i < j:\n",
    "            if nums[i] != nums[i+1] and nums[i] != nums[j]:\n",
    "                i += 1\n",
    "            else:\n",
    "                return nums[i]\n",
    "        i = 0\n",
    "        while j > i:\n",
    "            if nums[j] != nums[j-1] and nums[j] != nums[i]:\n",
    "                j -= 1\n",
    "            else:\n",
    "                return nums[j]\n",
    "            \n",
    "s = Solution()\n",
    "nums = [int(i) for i in input().split()]\n",
    "s.findDuplicate(nums)"
   ]
  },
  {
   "cell_type": "code",
   "execution_count": 27,
   "metadata": {},
   "outputs": [
    {
     "name": "stdout",
     "output_type": "stream",
     "text": [
      "2 5 9 6 9 3 8 9 7 1\n"
     ]
    },
    {
     "data": {
      "text/plain": [
       "9"
      ]
     },
     "execution_count": 27,
     "metadata": {},
     "output_type": "execute_result"
    }
   ],
   "source": [
    "class Solution:\n",
    "    def findDuplicate(self, nums):\n",
    "        i = 0\n",
    "        slow = nums[0]\n",
    "        fast = nums[0]\n",
    "        while i == 0:\n",
    "            slow = nums[slow]\n",
    "            fast = nums[nums[fast]]\n",
    "            i += 1\n",
    "            \n",
    "        while fast != slow:\n",
    "            slow = nums[slow]\n",
    "            fast = nums[nums[fast]]\n",
    "            \n",
    "        fast = nums[0]\n",
    "        while fast != slow:\n",
    "            fast = nums[fast]\n",
    "            slow = nums[slow]\n",
    "            \n",
    "        return fast\n",
    "    \n",
    "    \n",
    "s = Solution()\n",
    "nums = [int(i) for i in input().split()]\n",
    "s.findDuplicate(nums)    "
   ]
  },
  {
   "cell_type": "markdown",
   "metadata": {},
   "source": [
    "--->Roman to integer\n",
    "https://leetcode.com/problems/roman-to-integer/\n"
   ]
  },
  {
   "cell_type": "code",
   "execution_count": 19,
   "metadata": {},
   "outputs": [
    {
     "name": "stdout",
     "output_type": "stream",
     "text": [
      "IV\n"
     ]
    },
    {
     "data": {
      "text/plain": [
       "4"
      ]
     },
     "execution_count": 19,
     "metadata": {},
     "output_type": "execute_result"
    }
   ],
   "source": [
    "class Solution:\n",
    "    def romanToInt(self, s):\n",
    "        d ={'I':1 , \"V\":5 , \"X\":10 , \"L\":50 , \"C\":100 , 'D':500 , \"M\":1000}\n",
    "        \n",
    "        prev = 0\n",
    "        ans_integer = 0\n",
    "        for i in range(len(s)):\n",
    "            curr = d[s[i]]\n",
    "            if curr >prev:\n",
    "                ans_integer += curr - 2*prev\n",
    "            else:\n",
    "                ans_integer += curr\n",
    "            prev = curr    \n",
    "                    \n",
    "        return ans_integer\n",
    "    \n",
    "s = Solution()\n",
    "st = input() \n",
    "ans = s.romanToInt(st)\n",
    "ans                    "
   ]
  },
  {
   "cell_type": "markdown",
   "metadata": {},
   "source": [
    "Next permutation --->(https://leetcode.com/problems/next-permutation/submissions/)"
   ]
  },
  {
   "cell_type": "code",
   "execution_count": 29,
   "metadata": {},
   "outputs": [
    {
     "name": "stdout",
     "output_type": "stream",
     "text": [
      "1\n",
      "[1]\n"
     ]
    }
   ],
   "source": [
    "class Solution:\n",
    "    def nextPermutation(self, nums):\n",
    "        index1 = -1\n",
    "        for i in range(len(nums)-1,0,-1):\n",
    "            if nums[i] > nums[i-1]:\n",
    "                index1 = i-1\n",
    "                break\n",
    "        if index1 != -1:\n",
    "            for i in range(len(nums)-1 , index1,-1):\n",
    "                if nums[index1] < nums[i]:\n",
    "                    index2 = i\n",
    "                    break\n",
    "            nums[index1],nums[index2] = nums[index2],nums[index1]  \n",
    "            i = index1+1 \n",
    "            j = len(nums) - 1\n",
    "            while i < j:\n",
    "                nums[i],nums[j] = nums[j],nums[i]    \n",
    "                i += 1\n",
    "                j -= 1\n",
    "        else:\n",
    "            i = 0 \n",
    "            j = len(nums) - 1\n",
    "            while i < j:\n",
    "                nums[i],nums[j] = nums[j],nums[i]    \n",
    "                i += 1\n",
    "                j -= 1            \n",
    "\n",
    "s = Solution()\n",
    "nums = [int(i) for i in input().split()]\n",
    "s.nextPermutation(nums)\n",
    "print(nums)"
   ]
  },
  {
   "cell_type": "code",
   "execution_count": 52,
   "metadata": {},
   "outputs": [
    {
     "name": "stdout",
     "output_type": "stream",
     "text": [
      "2\n",
      "-1\n",
      "4\n",
      "10\n",
      "-1\n",
      "-1\n",
      "8\n",
      "4\n",
      "-1\n",
      "-1\n",
      "-1\n",
      "4\n"
     ]
    }
   ],
   "source": [
    "class binarytree:\n",
    "    def __init__(self,val):\n",
    "        self.val = val\n",
    "        self.left = None\n",
    "        self.right = None\n",
    "def taketreeinput():\n",
    "    rootdata = int(input())\n",
    "    if rootdata == -1:\n",
    "        return None\n",
    "    root = binarytree(rootdata)\n",
    "    leftsubtree = taketreeinput()\n",
    "    rightsubtree =  taketreeinput()\n",
    "    root.left = leftsubtree\n",
    "    root.right = rightsubtree\n",
    "    return root\n",
    "\n",
    "\n",
    "# Definition for a binary tree node.\n",
    "# class TreeNode:\n",
    "#     def __init__(self, val=0, left=None, right=None):\n",
    "#         self.val = val\n",
    "#         self.left = left\n",
    "#         self.right = right\n",
    "class Solution:\n",
    "    \n",
    "    def goodNodesHelper(self,root,value,count):\n",
    "        if root is None:\n",
    "            return count\n",
    "            \n",
    "        if root.val >= value:\n",
    "            value = root.val\n",
    "            count += 1\n",
    "            \n",
    "        count = self.goodNodesHelper(root.left,value,count)\n",
    "        count = self.goodNodesHelper(root.right,value,count)\n",
    "        return count\n",
    "        \n",
    "\n",
    "\n",
    "    def goodNodes(self, root):\n",
    "        goodnodescount = self.goodNodesHelper(root,root.val,0)\n",
    "        return goodnodescount\n",
    "        \n",
    "        \n",
    "s = Solution()\n",
    "root = taketreeinput()\n",
    "ans = s.goodNodes(root)\n",
    "print(ans)"
   ]
  },
  {
   "cell_type": "markdown",
   "metadata": {},
   "source": [
    "Inversion count (Hard) (https://practice.geeksforgeeks.org/problems/inversion-of-array-1587115620/1#)"
   ]
  },
  {
   "cell_type": "code",
   "execution_count": 36,
   "metadata": {},
   "outputs": [
    {
     "name": "stdout",
     "output_type": "stream",
     "text": [
      "4\n",
      "5 2 6 1\n",
      "{5: 1, 6: 1, 2: 2}\n"
     ]
    },
    {
     "data": {
      "text/plain": [
       "[1, 2, 1, 0]"
      ]
     },
     "execution_count": 36,
     "metadata": {},
     "output_type": "execute_result"
    }
   ],
   "source": [
    "class Solution:\n",
    "\n",
    "    \n",
    "    def CalculateInversionCount(self,arr,left,mid,right,temp,ans):\n",
    "        i = left\n",
    "        j = mid\n",
    "        k = left\n",
    "        inv_count = 0\n",
    "        while i < mid and j <= right:\n",
    "            if arr[i] <= arr[j]:\n",
    "                temp[k] = arr[i]\n",
    "                i += 1\n",
    "                k += 1\n",
    "            else:\n",
    "                ans[arr[i]] = ans.get(arr[i],0) + mid - i\n",
    "#                 ans[i] += (mid - i)\n",
    "                temp[k] = arr[j]\n",
    "                j += 1\n",
    "                k += 1\n",
    "                \n",
    "        while i < mid:\n",
    "            temp[k] = arr[i]\n",
    "            i += 1\n",
    "            k += 1  \n",
    "            \n",
    "        while j <= right:\n",
    "            temp[k] = arr[j]\n",
    "            j += 1\n",
    "            k += 1\n",
    "            \n",
    "        for i in range(left,right+1):\n",
    "            arr[i] = temp[i]\n",
    "         \n",
    "        return inv_count\n",
    "    \n",
    "    def merge(self,arr,left,right,temp,ans):\n",
    "        inv_count = 0\n",
    "        if left < right:\n",
    "            mid = (left+right)//2\n",
    "            \n",
    "            self.merge(arr,left,mid,temp,ans)\n",
    "            self.merge(arr,mid + 1 , right,temp,ans)\n",
    "            \n",
    "            self.CalculateInversionCount(arr,left,mid+1,right,temp,ans)\n",
    "        return ans\n",
    "    \n",
    "    def inversionCount(self, arr, n):\n",
    "        copy = arr[::]\n",
    "        temp = n*[0]\n",
    "        ans = {}\n",
    "        ans = self.merge(arr,0,n-1,temp,ans)\n",
    "        print(ans)\n",
    "        for i in range(len(arr)):\n",
    "            temp[i] = ans.get(copy[i],0)\n",
    "        return temp    \n",
    "         \n",
    "s=Solution()\n",
    "n = int(input())\n",
    "arr = [int(i) for i in input().split()]\n",
    "ans = s.inversionCount(arr,n)\n",
    "ans"
   ]
  },
  {
   "cell_type": "code",
   "execution_count": null,
   "metadata": {},
   "outputs": [],
   "source": [
    "Longest Common Prefix(Easy)"
   ]
  },
  {
   "cell_type": "code",
   "execution_count": 22,
   "metadata": {},
   "outputs": [
    {
     "name": "stdout",
     "output_type": "stream",
     "text": [
      "cir car\n"
     ]
    },
    {
     "data": {
      "text/plain": [
       "'cr'"
      ]
     },
     "execution_count": 22,
     "metadata": {},
     "output_type": "execute_result"
    }
   ],
   "source": [
    "import sys \n",
    "class Solution:\n",
    "    def longestCommonPrefix(self, strs):\n",
    "        if len(strs) == 1:\n",
    "            return strs[0]\n",
    "        ans = ''\n",
    "        mini = sys.maxsize\n",
    "        for  i in range(len(strs)):\n",
    "            mini = min(len(strs[i]),mini)\n",
    "        flag = False\n",
    "        for i in range(mini):\n",
    "            val = strs[0][i]\n",
    "            for j in range(1,len(strs)):\n",
    "                if strs[j][i] == val:\n",
    "                    flag = True\n",
    "                else:\n",
    "                    flag =False\n",
    "                    break\n",
    "            if flag:\n",
    "                ans += val\n",
    "            else:\n",
    "                break\n",
    "        return ans        \n",
    "                \n",
    "strs = [i for i in input().split()]               \n",
    "s = Solution()\n",
    "ans = s.longestCommonPrefix(strs)\n",
    "ans"
   ]
  },
  {
   "cell_type": "markdown",
   "metadata": {},
   "source": [
    "Decode Ways(Medium)(1st way to do it)(https://leetcode.com/explore/challenge/card/august-leetcoding-challenge-2021/615/week-3-august-15th-august-21st/3902/)"
   ]
  },
  {
   "cell_type": "code",
   "execution_count": 67,
   "metadata": {},
   "outputs": [
    {
     "name": "stdout",
     "output_type": "stream",
     "text": [
      "11106\n"
     ]
    },
    {
     "data": {
      "text/plain": [
       "2"
      ]
     },
     "execution_count": 67,
     "metadata": {},
     "output_type": "execute_result"
    }
   ],
   "source": [
    "class Solution:\n",
    "\n",
    "    def numDecodings(self, s):\n",
    "        if s[0] == '0':\n",
    "            return 0\n",
    "        dp = [0 for i in range(len(s))]\n",
    "        dp[0] = 1\n",
    "        for i in range(1,len(s)):\n",
    "            if s[i] == '0' and s[i-1] == '0':\n",
    "                dp[i] = 0\n",
    "            \n",
    "            elif s[i] != '0' and s[i-1] == '0':\n",
    "                dp[i] = dp[i-1]\n",
    "            \n",
    "            elif s[i] == '0' and s[i-1] != '0':\n",
    "                if int(s[i-1:i+1]) <= 26:\n",
    "                    if i-2 >= 0:\n",
    "                        dp[i] += dp[i-2]\n",
    "                    else:\n",
    "                        dp[i] += 1\n",
    "                else:\n",
    "                    dp[i] = 0\n",
    "            \n",
    "            else:\n",
    "                if int(s[i-1:i+1]) <= 26:\n",
    "                    if i-2 >= 0:\n",
    "                        dp[i] = dp[i-1] + dp[i-2]\n",
    "                    else:\n",
    "                        dp[i] = dp[i-1]+ 1\n",
    "                else:\n",
    "                    dp[i] = dp[i-1]\n",
    "                    \n",
    "        return dp[-1]          \n",
    "            \n",
    "            \n",
    "s = Solution()\n",
    "st = input()\n",
    "        \n",
    "ans = s.numDecodings(st)\n",
    "ans"
   ]
  },
  {
   "cell_type": "markdown",
   "metadata": {},
   "source": [
    "Decode Ways(Medium)(2nd way to do it)(https://leetcode.com/explore/challenge/card/august-leetcoding-challenge-2021/615/week-3-august-15th-august-21st/3902/)"
   ]
  },
  {
   "cell_type": "code",
   "execution_count": null,
   "metadata": {},
   "outputs": [],
   "source": [
    "class Solution(object):\n",
    "    def numDecodings(self, s):\n",
    "        n = len(s)\n",
    "        dp = [0 for i in range(n)]\n",
    "        if s[0]!='0':\n",
    "            dp[0]=1\n",
    "        for i in range(1,n):\n",
    "            x = int(s[i])\n",
    "            y = int(s[i-1:i+1])\n",
    "            if x>=1 and x<=9:\n",
    "                dp[i]+=dp[i-1]\n",
    "            if y>=10 and y<=26:\n",
    "                if i-2>=0:\n",
    "                    dp[i]+=dp[i-2]\n",
    "                else:\n",
    "                    dp[i]+=1\n",
    "        return dp[-1]"
   ]
  },
  {
   "cell_type": "markdown",
   "metadata": {},
   "source": [
    " Search a 2D Matrix(Medium)"
   ]
  },
  {
   "cell_type": "code",
   "execution_count": 9,
   "metadata": {},
   "outputs": [
    {
     "name": "stdout",
     "output_type": "stream",
     "text": [
      "3\n",
      "22\n",
      "1 3 5 7\n",
      "10 11 16 20 \n",
      "23 30 34 60\n",
      "false\n"
     ]
    }
   ],
   "source": [
    "class Solution:\n",
    "    \n",
    "    def checkBound(self,i,j,k,matrix,target):\n",
    "        if matrix[i][j] <= target and matrix[i][k] >= target:\n",
    "            return True\n",
    "        else:\n",
    "            return False\n",
    "    \n",
    "    def searchMatrix(self, matrix, target):\n",
    "        row = len(matrix)\n",
    "        col = len(matrix[0])\n",
    "        i = 0\n",
    "        j = 0\n",
    "        k = col - 1\n",
    "        while i < row:\n",
    "            if self.checkBound(i,j,k,matrix,target):\n",
    "                for j in range(col):\n",
    "                    if matrix[i][j] == target:\n",
    "                        return True\n",
    "            else:\n",
    "                i += 1\n",
    "                \n",
    "        return False        \n",
    "\n",
    "    \n",
    "s = Solution()\n",
    "matrix = []\n",
    "n = int(input())\n",
    "target = int(input())\n",
    "for i in range(n):\n",
    "    row = [int(i) for i in input().split()]\n",
    "    matrix.append(row)\n",
    "    \n",
    "ans = s.searchMatrix(matrix,target)\n",
    "if ans:\n",
    "    print(\"true\")\n",
    "else:\n",
    "    print(\"false\")"
   ]
  },
  {
   "cell_type": "markdown",
   "metadata": {},
   "source": [
    "valid parantheses(easy)"
   ]
  },
  {
   "cell_type": "code",
   "execution_count": 16,
   "metadata": {},
   "outputs": [
    {
     "name": "stdout",
     "output_type": "stream",
     "text": [
      "{[]}\n",
      "true\n"
     ]
    }
   ],
   "source": [
    "class Solution:\n",
    "    def isValid(self, s):\n",
    "        st = []\n",
    "        for i in s:\n",
    "            if i == '(' or i == '[' or i == '{':\n",
    "                st.append(i)\n",
    "            else:\n",
    "                if len(st) == 0:\n",
    "                    return False\n",
    "                else:\n",
    "                    if i == ')':\n",
    "                        if st.pop() == '(':\n",
    "                            pass\n",
    "                        else:\n",
    "                            return False\n",
    "                    elif i == ']':\n",
    "                        if st.pop() == '[':\n",
    "                            pass\n",
    "                        else:\n",
    "                            return False\n",
    "                    else:\n",
    "                        if st.pop() == '{':\n",
    "                            pass\n",
    "                        else:\n",
    "                            return False\n",
    "        if len(st) == 0:\n",
    "            return True\n",
    "        else:\n",
    "            return False\n",
    "        \n",
    "s = Solution()\n",
    "exp = input()\n",
    "ans = s.isValid(exp)\n",
    "if ans:\n",
    "    print(\"true\")\n",
    "else:\n",
    "    print(\"false\")"
   ]
  },
  {
   "cell_type": "code",
   "execution_count": 45,
   "metadata": {},
   "outputs": [
    {
     "name": "stdout",
     "output_type": "stream",
     "text": [
      "2.00000\n",
      "-2\n"
     ]
    },
    {
     "data": {
      "text/plain": [
       "0.25"
      ]
     },
     "execution_count": 45,
     "metadata": {},
     "output_type": "execute_result"
    }
   ],
   "source": [
    "class Solution:\n",
    "    def myPow(self, x,n):\n",
    "        if n == 0:\n",
    "            return 1\n",
    "        ans = 1\n",
    "        flag = False\n",
    "        if n < 0:\n",
    "            flag = True\n",
    "            n = abs(n)\n",
    "            \n",
    "        while n > 0:\n",
    "            if n % 2 == 0:\n",
    "                x = x*x\n",
    "                n = n//2\n",
    "            else:\n",
    "                ans = ans * x\n",
    "                n = n - 1\n",
    "                \n",
    "        if flag:\n",
    "            ans = 1/ans\n",
    "            return float(ans)\n",
    "        else:\n",
    "            return float(ans)\n",
    "        \n",
    "s = Solution()\n",
    "x = float(input())\n",
    "n = float(input())\n",
    "ans = s.myPow(x,n)\n",
    "ans"
   ]
  },
  {
   "cell_type": "markdown",
   "metadata": {},
   "source": [
    "Moores ALgorithm(Easy)Majority element greater than floor value of n / 2(https://leetcode.com/problems/majority-element/)"
   ]
  },
  {
   "cell_type": "code",
   "execution_count": null,
   "metadata": {},
   "outputs": [],
   "source": [
    "class Solution:\n",
    "    def majorityElement(self, nums):\n",
    "        ans = nums[0]\n",
    "        count = 1\n",
    "        for i in range(1,len(nums)):\n",
    "            if nums[i] == ans:\n",
    "                count += 1\n",
    "            else:\n",
    "                count -= 1\n",
    "            \n",
    "            if count == 0:\n",
    "                ans = nums[i]\n",
    "                count = 1\n",
    "                \n",
    "        return ans"
   ]
  },
  {
   "cell_type": "markdown",
   "metadata": {},
   "source": [
    "Boyer moore algorithm(Medium)(Google)(Majority element 2)(https://leetcode.com/problems/majority-element-ii/)"
   ]
  },
  {
   "cell_type": "code",
   "execution_count": 68,
   "metadata": {},
   "outputs": [
    {
     "name": "stdout",
     "output_type": "stream",
     "text": [
      "1 2 2\n"
     ]
    },
    {
     "data": {
      "text/plain": [
       "[2]"
      ]
     },
     "execution_count": 68,
     "metadata": {},
     "output_type": "execute_result"
    }
   ],
   "source": [
    "import sys\n",
    "class Solution:\n",
    "    def majorityElement(self, nums):\n",
    "        ans1 = -1*sys.maxsize\n",
    "        ans2 = -1*sys.maxsize\n",
    "        count1 = 0\n",
    "        count2 = 0\n",
    "        for i in range(len(nums)):\n",
    "            if nums[i] == ans1:\n",
    "                count1 += 1\n",
    "            elif nums[i] == ans2:\n",
    "                count2 += 1\n",
    "                \n",
    "            elif count1 == 0:\n",
    "                ans1 = nums[i]\n",
    "                count1 = 1\n",
    "            elif count2 == 0:\n",
    "                ans2 = nums[i]\n",
    "                count2 = 1\n",
    "            else:\n",
    "                count1 -= 1\n",
    "                count2 -= 1\n",
    "        ans = []\n",
    "        \n",
    "        #Verification for answer1 that is comes floor(n/3) times in the array\n",
    "        n = len(nums)\n",
    "        count = 0\n",
    "        for i in nums:\n",
    "            if i == ans1:\n",
    "                count += 1\n",
    "        if count > n//3:\n",
    "            ans.append(ans1)\n",
    "            \n",
    "        #Verification for answer2 that is comes floor(n/3) times in the array    \n",
    "        count = 0   \n",
    "        for i in nums:\n",
    "            if i == ans2:\n",
    "                count += 1 \n",
    "                \n",
    "        if count > n//3:\n",
    "            ans.append(ans2)       \n",
    "            \n",
    "        return ans \n",
    "    \n",
    "    \n",
    "s = Solution()    \n",
    "nums = [int(i) for i in input().split()]\n",
    "ans = s.majorityElement(nums)\n",
    "ans"
   ]
  },
  {
   "cell_type": "markdown",
   "metadata": {},
   "source": [
    "Maximum Product of Splitted Binary Tree(Medium)(https://leetcode.com/explore/challenge/card/august-leetcoding-challenge-2021/615/week-3-august-15th-august-21st/3903/)\n",
    "\n",
    "Brute force"
   ]
  },
  {
   "cell_type": "code",
   "execution_count": 70,
   "metadata": {},
   "outputs": [
    {
     "name": "stdout",
     "output_type": "stream",
     "text": [
      "1\n",
      "-1\n",
      "2\n",
      "3\n",
      "-1\n",
      "-1\n",
      "4\n",
      "5\n",
      "-1\n",
      "-1\n",
      "6\n",
      "-1\n",
      "-1\n"
     ]
    },
    {
     "data": {
      "text/plain": [
       "90"
      ]
     },
     "execution_count": 70,
     "metadata": {},
     "output_type": "execute_result"
    }
   ],
   "source": [
    "class binarytree:\n",
    "    def __init__(self,val):\n",
    "        self.val = val\n",
    "        self.left = None\n",
    "        self.right = None\n",
    "def taketreeinput():\n",
    "    rootdata = int(input())\n",
    "    if rootdata == -1:\n",
    "        return None\n",
    "    root = binarytree(rootdata)\n",
    "    leftsubtree = taketreeinput()\n",
    "    rightsubtree =  taketreeinput()\n",
    "    root.left = leftsubtree\n",
    "    root.right = rightsubtree\n",
    "    return root\n",
    "\n",
    "\n",
    "\n",
    "class Solution:\n",
    "    def treesum(self,root):\n",
    "        if root is None:\n",
    "            return 0\n",
    "        \n",
    "        leftsum = self.treesum(root.left)\n",
    "        rightsum = self.treesum(root.right)\n",
    "        return leftsum + rightsum + root.val\n",
    "    \n",
    "    def maxProductHelper(self,root,maximumProduct,mainsum):\n",
    "        if root.left is None and root.right is None:\n",
    "            return maximumProduct\n",
    "        \n",
    "        if root.left is not None and root.right is not None:\n",
    "            leftsums = self.treesum(root.left)\n",
    "            sums = mainsum - leftsums\n",
    "            maximumProduct = max(maximumProduct,leftsums*sums)\n",
    "            leftmax = self.maxProductHelper(root.left,maximumProduct,mainsum)\n",
    "            rightsums = self.treesum(root.right)\n",
    "            sums = mainsum - rightsums\n",
    "            maximumProduct = max(maximumProduct,rightsums*sums)            \n",
    "            rightmax = self.maxProductHelper(root.right,maximumProduct,mainsum)\n",
    "            return max(leftmax,rightmax)\n",
    "        elif root.left is not None:\n",
    "            leftsums = self.treesum(root.left)\n",
    "            sums = mainsum - leftsums\n",
    "            maximumProduct = max(maximumProduct,leftsums*sums)\n",
    "            leftmax = self.maxProductHelper(root.left,maximumProduct,mainsum)\n",
    "            return leftmax\n",
    "        else:\n",
    "            rightsums = self.treesum(root.right)\n",
    "            sums = mainsum - rightsums\n",
    "            maximumProduct = max(maximumProduct,rightsums*sums)            \n",
    "            rightmax = self.maxProductHelper(root.right,maximumProduct,mainsum)            \n",
    "            return rightmax\n",
    "            \n",
    "    def maxProduct(self, root):\n",
    "        maximumProduct = -99999\n",
    "        mainsum = self.treesum(root)\n",
    "        ans = self.maxProductHelper(root,maximumProduct,mainsum)\n",
    "        return ans % (10**9 + 7)\n",
    "    \n",
    "    \n",
    "s = Solution()\n",
    "root = taketreeinput()\n",
    "ans = s.maxProduct(root)\n",
    "ans"
   ]
  },
  {
   "cell_type": "markdown",
   "metadata": {},
   "source": [
    "#Optimal approach"
   ]
  },
  {
   "cell_type": "code",
   "execution_count": 99,
   "metadata": {},
   "outputs": [
    {
     "name": "stdout",
     "output_type": "stream",
     "text": [
      "1\n",
      "2\n",
      "4\n",
      "-1\n",
      "-1\n",
      "5\n",
      "-1\n",
      "-1\n",
      "3\n",
      "6\n",
      "-1\n",
      "-1\n",
      "-1\n"
     ]
    },
    {
     "data": {
      "text/plain": [
       "110"
      ]
     },
     "execution_count": 99,
     "metadata": {},
     "output_type": "execute_result"
    }
   ],
   "source": [
    "class binarytree:\n",
    "    def __init__(self,val):\n",
    "        self.val = val\n",
    "        self.left = None\n",
    "        self.right = None\n",
    "def taketreeinput():\n",
    "    rootdata = int(input())\n",
    "    if rootdata == -1:\n",
    "        return None\n",
    "    root = binarytree(rootdata)\n",
    "    leftsubtree = taketreeinput()\n",
    "    rightsubtree =  taketreeinput()\n",
    "    root.left = leftsubtree\n",
    "    root.right = rightsubtree\n",
    "    return root\n",
    "\n",
    "\n",
    "\n",
    "class Solution:\n",
    "    def treesum(self,root):\n",
    "        if root is None:\n",
    "            return 0\n",
    "        \n",
    "        leftsum = self.treesum(root.left)\n",
    "        rightsum = self.treesum(root.right)\n",
    "        return leftsum + rightsum + root.val\n",
    "    \n",
    "    def maxProductHelper(self,root,maximumProduct,mainsum):\n",
    "        if root is  None:\n",
    "            return 0,maximumProduct\n",
    "        \n",
    "        leftsum,maximumProduct = self.maxProductHelper(root.left,maximumProduct,mainsum)\n",
    "        rightsum,maximumProduct = self.maxProductHelper(root.right,maximumProduct,mainsum)\n",
    "        up = mainsum - leftsum-rightsum - root.val\n",
    "        \n",
    "        option1 = leftsum*(root.val+rightsum+up)\n",
    "        option2 = rightsum*(root.val+leftsum+up)\n",
    "        option3 = up*(root.val+rightsum+leftsum)\n",
    "        maximumProduct = max(maximumProduct,option1,option2,option3)\n",
    "        return leftsum + rightsum + root.val , maximumProduct\n",
    "        \n",
    "        maximumProduct = max()\n",
    "    def maxProduct(self, root):\n",
    "        maximumProduct = -99999\n",
    "        mainsum = self.treesum(root)\n",
    "        sums,maximumProduct = self.maxProductHelper(root,maximumProduct,mainsum)\n",
    "        return maximumProduct \n",
    "    \n",
    "s = Solution()\n",
    "root = taketreeinput()\n",
    "ans = s.maxProduct(root)\n",
    "ans"
   ]
  },
  {
   "cell_type": "markdown",
   "metadata": {},
   "source": [
    " Unique Paths(Medium)(https://leetcode.com/problems/unique-paths/)"
   ]
  },
  {
   "cell_type": "code",
   "execution_count": 21,
   "metadata": {},
   "outputs": [
    {
     "name": "stdout",
     "output_type": "stream",
     "text": [
      "3\n",
      "7\n"
     ]
    },
    {
     "data": {
      "text/plain": [
       "28"
      ]
     },
     "execution_count": 21,
     "metadata": {},
     "output_type": "execute_result"
    }
   ],
   "source": [
    "#time complexity = exponential and space complexity is exponenetial because we use recursion stack\n",
    "\n",
    "class Solution:\n",
    "    \n",
    "    def uniquePathsHelper(self,i,j,m,n):\n",
    "        if i == m-1 and j == n-1:\n",
    "            return 1\n",
    "        \n",
    "        if j >= n or i >= m:\n",
    "            return 0\n",
    "        \n",
    "        right = self.uniquePathsHelper(i,j+1,m,n)\n",
    "        down = self.uniquePathsHelper(i+1,j,m,n)\n",
    "        return right + down\n",
    "    \n",
    "    def uniquePaths(self, m,n):\n",
    "        return self.uniquePathsHelper(0,0,m,n)\n",
    "  \n",
    "m = int(input())\n",
    "n = int(input())\n",
    "s = Solution()\n",
    "ans = s.uniquePaths(m,n)\n",
    "ans"
   ]
  },
  {
   "cell_type": "code",
   "execution_count": 32,
   "metadata": {},
   "outputs": [
    {
     "name": "stdout",
     "output_type": "stream",
     "text": [
      "3\n",
      "3\n"
     ]
    },
    {
     "data": {
      "text/plain": [
       "6"
      ]
     },
     "execution_count": 32,
     "metadata": {},
     "output_type": "execute_result"
    }
   ],
   "source": [
    "##time complexity = O(n*m) and space complexity is O(n*m)\n",
    "class Solution:\n",
    "    \n",
    "    def uniquePathsHelper(self,i,j,m,n,dp):\n",
    "        if i == m-1 and j == n-1:\n",
    "            return 1\n",
    "        if i >=m or j>=n:\n",
    "            return 0\n",
    "        \n",
    "        if dp[i][j] == -1:\n",
    "            dp[i][j] = self.uniquePathsHelper(i+1,j,m,n,dp) + self.uniquePathsHelper(i,j+1,m,n,dp)\n",
    "            return dp[i][j]\n",
    "        else:\n",
    "            return dp[i][j]\n",
    "    \n",
    "    def uniquePaths(self, m,n):\n",
    "        dp = [[-1 for j in range(n+1)]for i in range(m+1)]\n",
    "        return self.uniquePathsHelper(0,0,m,n,dp)\n",
    "  \n",
    "m = int(input())\n",
    "n = int(input())\n",
    "s = Solution()\n",
    "ans = s.uniquePaths(m,n)\n",
    "ans"
   ]
  },
  {
   "cell_type": "code",
   "execution_count": 37,
   "metadata": {},
   "outputs": [
    {
     "name": "stdout",
     "output_type": "stream",
     "text": [
      "3\n",
      "3\n"
     ]
    },
    {
     "data": {
      "text/plain": [
       "6"
      ]
     },
     "execution_count": 37,
     "metadata": {},
     "output_type": "execute_result"
    }
   ],
   "source": [
    "#Time complexity is O(m-1) or O(n-1) which is small in m and n\n",
    "#Space complexity is O(1)\n",
    "class Solution:\n",
    "\n",
    "    def uniquePaths(self, m,n):\n",
    "        N = n+m-2\n",
    "        r = min(m,n)\n",
    "        r = r-1\n",
    "        ans = 1\n",
    "        for i in range(1,r+1):\n",
    "            ans = ans * (N-r+i)/i\n",
    "        return int(ans)\n",
    "s = Solution()\n",
    "m = int(input())\n",
    "n = int(input())  \n",
    "ans = s.uniquePaths(m,n)\n",
    "ans"
   ]
  },
  {
   "cell_type": "markdown",
   "metadata": {},
   "source": [
    ". Implement strStr(Easy)"
   ]
  },
  {
   "cell_type": "code",
   "execution_count": 60,
   "metadata": {},
   "outputs": [
    {
     "name": "stdout",
     "output_type": "stream",
     "text": [
      "helolo\n",
      "ll\n"
     ]
    },
    {
     "data": {
      "text/plain": [
       "-1"
      ]
     },
     "execution_count": 60,
     "metadata": {},
     "output_type": "execute_result"
    }
   ],
   "source": [
    "class Solution:\n",
    "    def strStr(self, haystack, needle):\n",
    "        if haystack == needle:\n",
    "            return 0\n",
    "        if len(needle) == 0 or len(haystack) < len(needle):\n",
    "            return -1\n",
    "        i = 0\n",
    "        j = 0\n",
    "        while i < len(haystack) :\n",
    "            if haystack[i] == needle[j]:\n",
    "                if haystack[i:i+len(needle)] == needle:\n",
    "                    return i\n",
    "                else:\n",
    "                    i += 1\n",
    "            else:\n",
    "                i += 1\n",
    "                \n",
    "        return -1\n",
    "    \n",
    "haystack = input()    \n",
    "needle = input()\n",
    "s=Solution()\n",
    "ans = s.strStr(haystack,needle)\n",
    "ans"
   ]
  },
  {
   "cell_type": "markdown",
   "metadata": {},
   "source": [
    " Add Two Numbers(Medium)(https://leetcode.com/problems/add-two-numbers/)"
   ]
  },
  {
   "cell_type": "code",
   "execution_count": 19,
   "metadata": {},
   "outputs": [
    {
     "name": "stdout",
     "output_type": "stream",
     "text": [
      "2 4 9\n",
      "5 6 4 9\n",
      "7->0->4->0->1->None\n"
     ]
    }
   ],
   "source": [
    "#Time complexity = O(len(largest linked list))\n",
    "#Space complexity = O(len(largest linked list)+1)\n",
    "\n",
    "# Definition for singly-linked list.\n",
    "# class ListNode:\n",
    "#     def __init__(self, val=0, next=None):\n",
    "#         self.val = val\n",
    "#         self.next = next\n",
    "\n",
    "class ListNode:\n",
    "    def __init__(self,val):\n",
    "        self.val = val\n",
    "        self.next = None\n",
    "\n",
    "def TakeNodeInput():\n",
    "    NodeArray=[int(x) for x in input().split()]\n",
    "    head=None\n",
    "    tail =None\n",
    "    for ele in NodeArray:\n",
    "        if ele == -1:\n",
    "            break\n",
    "        NewNode=ListNode(ele) \n",
    "        if head==None:\n",
    "            head=NewNode\n",
    "            tail=head\n",
    "        else:\n",
    "            tail.next = NewNode\n",
    "            tail=tail.next\n",
    "    return head\n",
    "\n",
    "def PrintLL(head):\n",
    "    while head!=None:\n",
    "        print(str(head.val) + '->',end='')\n",
    "        head=head.next\n",
    "    print(\"None\")   \n",
    "    return\n",
    "\n",
    "class Solution:\n",
    "    def addTwoNumbers(self, l1 , l2):\n",
    "        carry = 0\n",
    "        curr1 = l1\n",
    "        curr2 = l2\n",
    "        head = None\n",
    "        tail = None\n",
    "        while curr1 is not None and curr2 is not None:\n",
    "            sums = curr1.val + curr2.val + carry\n",
    "            carry = 0\n",
    "            if sums > 9:\n",
    "                carry = sums //10 \n",
    "            addedpart = sums % 10\n",
    "            if head is None:\n",
    "                head = ListNode(addedpart)\n",
    "                tail = head\n",
    "            else:\n",
    "                tail.next = ListNode(addedpart)\n",
    "                tail = tail.next\n",
    "            \n",
    "            curr1 = curr1.next\n",
    "            curr2 = curr2.next\n",
    "            \n",
    "        while curr1 is not None:\n",
    "            sums = curr1.val + carry\n",
    "            carry = 0\n",
    "            if sums > 9:\n",
    "                carry = sums // 10\n",
    "               \n",
    "            addedpart = sums % 10\n",
    "            if head is None:\n",
    "                head = ListNode(addedpart)\n",
    "                tail = head\n",
    "            else:\n",
    "                tail.next = ListNode(addedpart)\n",
    "                tail = tail.next\n",
    "            \n",
    "            curr1 = curr1.next\n",
    "            \n",
    "            \n",
    "        while curr2 is not None:\n",
    "            sums = curr2.val + carry\n",
    "            carry = 0\n",
    "            if sums > 9:\n",
    "                carry = sums // 10\n",
    "            addedpart = sums % 10    \n",
    "            if head is None:\n",
    "                head = ListNode(addedpart)\n",
    "                tail = head\n",
    "            else:\n",
    "                tail.next = ListNode(addedpart)\n",
    "                tail = tail.next\n",
    "            \n",
    "            curr2 = curr2.next \n",
    "        \n",
    "        while carry != 0:    \n",
    "            tail.next = ListNode(carry%10) \n",
    "            tail = tail.next        \n",
    "            carry = carry//10\n",
    "        return head\n",
    "    \n",
    "    \n",
    "l1 = TakeNodeInput()\n",
    "l2 = TakeNodeInput()\n",
    "s = Solution()\n",
    "ans = s.addTwoNumbers(l1,l2)\n",
    "PrintLL(ans)"
   ]
  },
  {
   "cell_type": "markdown",
   "metadata": {},
   "source": [
    "IsPalindrome (Easy)"
   ]
  },
  {
   "cell_type": "code",
   "execution_count": 26,
   "metadata": {},
   "outputs": [
    {
     "name": "stdout",
     "output_type": "stream",
     "text": [
      "001100\n",
      "false\n"
     ]
    }
   ],
   "source": [
    "class Solution:\n",
    "    def isPalindrome(self, x):\n",
    "        if x == 0:\n",
    "            return True\n",
    "        \n",
    "        if x < 0:\n",
    "            return False\n",
    "        ne = x\n",
    "        rev = 0\n",
    "        while ne != 0:\n",
    "            md = ne%10\n",
    "            rev = rev *10 + md\n",
    "            ne = ne // 10\n",
    "            \n",
    "        if x == rev:\n",
    "            return True \n",
    "        else:\n",
    "            return False\n",
    "        \n",
    "        \n",
    "x = int(input())        \n",
    "s = Solution()\n",
    "ans = s.isPalindrome(x)\n",
    "if ans:\n",
    "    print(\"true\")\n",
    "else:\n",
    "    print(\"false\")"
   ]
  },
  {
   "cell_type": "markdown",
   "metadata": {},
   "source": [
    "Longest Substring Without Repeating Characters(Medium)(https://leetcode.com/problems/longest-substring-without-repeating-characters/)"
   ]
  },
  {
   "cell_type": "code",
   "execution_count": 40,
   "metadata": {},
   "outputs": [
    {
     "name": "stdout",
     "output_type": "stream",
     "text": [
      "abcabcbb\n"
     ]
    },
    {
     "data": {
      "text/plain": [
       "3"
      ]
     },
     "execution_count": 40,
     "metadata": {},
     "output_type": "execute_result"
    }
   ],
   "source": [
    "# #Time complexity O(n^2)\n",
    "# #Space complexity O(n)\n",
    "# class Solution:\n",
    "#     def lengthOfLongestSubstring(self, s):\n",
    "#         ans = ''\n",
    "#         cache = ''\n",
    "#         flag = 1\n",
    "#         i = 0\n",
    "#         while i < len(s):\n",
    "#             if s[i] not in cache:\n",
    "#                 cache += s[i]\n",
    "#                 i += 1\n",
    "#             else:\n",
    "#                 i = flag\n",
    "#                 flag += 1\n",
    "#                 cache = ''\n",
    "                \n",
    "                \n",
    "#             if len(cache) > len(ans):\n",
    "#                 ans = cache\n",
    "#         return len(ans)\n",
    "    \n",
    "    \n",
    "# st = input()    \n",
    "# s = Solution()\n",
    "# ans = s.lengthOfLongestSubstring(st)\n",
    "# ans"
   ]
  },
  {
   "cell_type": "code",
   "execution_count": 50,
   "metadata": {},
   "outputs": [
    {
     "name": "stdout",
     "output_type": "stream",
     "text": [
      "pwwkew\n"
     ]
    },
    {
     "data": {
      "text/plain": [
       "3"
      ]
     },
     "execution_count": 50,
     "metadata": {},
     "output_type": "execute_result"
    }
   ],
   "source": [
    "#Time complexity is O(n^2)\n",
    "#Space complexity is O(n)\n",
    "\n",
    "class Solution:\n",
    "    def lengthOfLongestSubstring(self, s):\n",
    "        ans = 0\n",
    "        i = 0\n",
    "        cache = ''\n",
    "        while i < len(s) - 1:\n",
    "            j = i+1\n",
    "            while j < len(s):\n",
    "                if s[i] != s[j] and s[j] != s[j-1] and s[j] not in cache:\n",
    "                    cache += s[j]\n",
    "                    ans = max(ans,j-i+1)\n",
    "                    if j == len(s) - 1:\n",
    "                        return ans\n",
    "                    else:\n",
    "                        j += 1\n",
    "                else:\n",
    "                    cache = ''\n",
    "                    i += 1\n",
    "                    break\n",
    "        if ans <=0:\n",
    "            if len(s) > 0:\n",
    "                return 1\n",
    "            \n",
    "        return ans\n",
    "    \n",
    "    \n",
    "st = input()    \n",
    "s = Solution()\n",
    "ans = s.lengthOfLongestSubstring(st)\n",
    "ans    "
   ]
  },
  {
   "cell_type": "code",
   "execution_count": 7,
   "metadata": {},
   "outputs": [
    {
     "name": "stdout",
     "output_type": "stream",
     "text": [
      "bbbbb\n"
     ]
    },
    {
     "data": {
      "text/plain": [
       "1"
      ]
     },
     "execution_count": 7,
     "metadata": {},
     "output_type": "execute_result"
    }
   ],
   "source": [
    "#Time complexity is O(n)\n",
    "#Space complexity is O(N)\n",
    "#Approach -->Sliding window or acquire and release approach using Hashmaps\n",
    "class Solution:\n",
    "    def lengthOfLongestSubstring(self, s):\n",
    "        ans = 0\n",
    "        dic = {}\n",
    "        i = 0\n",
    "        j = 0\n",
    "        while i < len(s):\n",
    "            if s[i] not in dic:\n",
    "                ans = max(ans , i-j+1)\n",
    "                dic[s[i]] = i\n",
    "                i += 1\n",
    "            else:\n",
    "                if dic[s[i]] >= j:\n",
    "                    j = dic[s[i]] + 1\n",
    "                    dic[s[i]] = i\n",
    "                    i += 1\n",
    "                else:\n",
    "                    ans = max(ans,i-j+1)\n",
    "                    dic[s[i]] = i\n",
    "                    i += 1\n",
    "        return ans\n",
    "    \n",
    "    \n",
    "    \n",
    "st = input()    \n",
    "s = Solution()\n",
    "ans = s.lengthOfLongestSubstring(st)\n",
    "ans        "
   ]
  },
  {
   "cell_type": "code",
   "execution_count": null,
   "metadata": {},
   "outputs": [],
   "source": [
    "def isSafeopt(board,row,col,opt):\n",
    "    #Check for box\n",
    "    i = row - (row % 3)\n",
    "    j = col - (col % 3)\n",
    "    for k in range(i,i+3):\n",
    "        for l in range(j,j+3):\n",
    "            if board[k][l] == opt:\n",
    "                return False\n",
    "\n",
    "    #Check for row\n",
    "    for j in range(9):\n",
    "        if board[row][j] == opt:\n",
    "            return False\n",
    "        \n",
    "    #Check for column\n",
    "    for i in range(9):\n",
    "        if board[i][col] == opt:\n",
    "            return False\n",
    "        \n",
    "    return True    \n",
    "\n",
    "def solveSudokuHelper(board,x,j):\n",
    "    if x == 8 and j == 9 :\n",
    "        for i in range(9):\n",
    "            for j in range(9):\n",
    "                print(board[i][j],end=' ')\n",
    "            print()\n",
    "        return True    \n",
    "    \n",
    "    if j == 9:\n",
    "        return solveSudokuHelper(board,x+1,0)\n",
    "\n",
    "    if board[x][j] != '.':\n",
    "        return solveSudokuHelper(board,x,j+1)\n",
    "    else:\n",
    "        for option in range(1,10):\n",
    "            if isSafeopt(board,x,j,option):\n",
    "                board[x][j] = option\n",
    "                if solveSudokuHelper(board,x,j+1):\n",
    "                    return True\n",
    "                else:\n",
    "                    \n",
    "                    board[x][j] = 0\n",
    "                     \n",
    "        return False        \n",
    "\n",
    "\n",
    "def solveSudoku(board):\n",
    "    solveSudokuHelper(board,0,0)\n",
    "    return board\n",
    "\n",
    "\n",
    "board = [[ int(ele) for ele in input().split() ]for i in range(9)]\n",
    "ans = solveSudoku(board)\n",
    "if ans is True:\n",
    "    print('true')\n",
    "else:\n",
    "    print('false')"
   ]
  },
  {
   "cell_type": "code",
   "execution_count": null,
   "metadata": {},
   "outputs": [],
   "source": [
    "class Solution:\n",
    "    def isSafeopt(self,board,row,col,opt):\n",
    "        #Check for box\n",
    "        i = row - (row % 3)\n",
    "        j = col - (col % 3)\n",
    "        for k in range(i,i+3):\n",
    "            for l in range(j,j+3):\n",
    "                if board[k][l] == str(opt):\n",
    "                    return False\n",
    "\n",
    "        #Check for row\n",
    "        for j in range(9):\n",
    "            if board[row][j] == str(opt):\n",
    "                return False\n",
    "\n",
    "        #Check for column\n",
    "        for i in range(9):\n",
    "            if board[i][col] == str(opt):\n",
    "                return False\n",
    "\n",
    "        return True     \n",
    "\n",
    "    \n",
    "    \n",
    "    def solveSudokuHelper(self,board,x,j):\n",
    "        if x == '8' and j == '9' :\n",
    "#             for i in range(9):\n",
    "#                 for j in range(9):\n",
    "#                     print(board[i][j],end=' ')\n",
    "#                 print()\n",
    "            return True    \n",
    "\n",
    "        if j == '9':\n",
    "            return self.solveSudokuHelper(board,x+1,0)\n",
    "\n",
    "        if board[x][j] != '.':\n",
    "            return self.solveSudokuHelper(board,x,j+1)\n",
    "        else:\n",
    "            for option in range(1,10):\n",
    "                if self.isSafeopt(board,x,j,option):\n",
    "                    board[x][j] = str(option)\n",
    "                    if self.solveSudokuHelper(board,x,j+1):\n",
    "                        return True\n",
    "                    else:\n",
    "\n",
    "                        board[x][j] = '.'\n",
    "\n",
    "            return False        \n",
    "    \n",
    "    \n",
    "    \n",
    "    \n",
    "    \n",
    "    def solveSudoku(self, board):\n",
    "        \"\"\"\n",
    "        Do not return anything, modify board in-place instead.\n",
    "        \"\"\"\n",
    "        self.solveSudokuHelper(board,0,0)\n"
   ]
  },
  {
   "cell_type": "markdown",
   "metadata": {},
   "source": [
    "isPalindrome(Easy)"
   ]
  },
  {
   "cell_type": "code",
   "execution_count": 27,
   "metadata": {},
   "outputs": [
    {
     "name": "stdout",
     "output_type": "stream",
     "text": [
      "race a car\n"
     ]
    },
    {
     "data": {
      "text/plain": [
       "False"
      ]
     },
     "execution_count": 27,
     "metadata": {},
     "output_type": "execute_result"
    }
   ],
   "source": [
    "class Solution:\n",
    "    def isPalindrome(self, s):\n",
    "        validstring = ''\n",
    "        s = s.lower()\n",
    "        for i in s:\n",
    "            if ord(i) >= 97 and ord(i) <= 122 or ord(i) >=48 and ord(i) <= 57:\n",
    "                validstring += i\n",
    "                \n",
    "        if validstring == validstring[::-1]:\n",
    "            return True\n",
    "        else:\n",
    "            return False\n",
    "        \n",
    "s = Solution()\n",
    "st = input()\n",
    "s.isPalindrome(st)"
   ]
  },
  {
   "cell_type": "code",
   "execution_count": 36,
   "metadata": {},
   "outputs": [
    {
     "name": "stdout",
     "output_type": "stream",
     "text": [
      "abc\n"
     ]
    },
    {
     "data": {
      "text/plain": [
       "False"
      ]
     },
     "execution_count": 36,
     "metadata": {},
     "output_type": "execute_result"
    }
   ],
   "source": [
    "# class Solution:\n",
    "#     def validPalindrome(self, s):\n",
    "#         if s == s[::-1]:\n",
    "#             return True\n",
    "        \n",
    "#         for i in range(len(s)):\n",
    "#             temp = s[0:i]+s[i+1:]\n",
    "#             if temp == temp[::-1]:\n",
    "#                 return True\n",
    "            \n",
    "            \n",
    "#         return False    \n",
    "    \n",
    "# s = Solution()\n",
    "# st = input()\n",
    "# s.validPalindrome(st)    "
   ]
  },
  {
   "cell_type": "code",
   "execution_count": 55,
   "metadata": {},
   "outputs": [
    {
     "name": "stdout",
     "output_type": "stream",
     "text": [
      "ebcbbececabbacecbbcbe\n"
     ]
    },
    {
     "data": {
      "text/plain": [
       "True"
      ]
     },
     "execution_count": 55,
     "metadata": {},
     "output_type": "execute_result"
    }
   ],
   "source": [
    "class Solution:\n",
    "    \n",
    "    def isvalid(self,s,i,j):\n",
    "        while i < j:\n",
    "            if s[i]!=s[j]:\n",
    "                return False\n",
    "            i += 1\n",
    "            j -= 1\n",
    "        return True    \n",
    "    \n",
    "    def validPalindrome(self,s):\n",
    "        i = 0\n",
    "        j = len(s) - 1\n",
    "\n",
    "        while i < j:\n",
    "            if s[i] == s[j]:\n",
    "                i += 1\n",
    "                j -= 1\n",
    "            else:\n",
    "                return self.isvalid(s,i+1,j) or self.isvalid(s,i,j-1)\n",
    "            \n",
    "        return True\n",
    "    \n",
    "s = Solution()\n",
    "st = input()\n",
    "s.validPalindrome(st)    "
   ]
  },
  {
   "cell_type": "markdown",
   "metadata": {},
   "source": [
    "Palindrome Linkedlist"
   ]
  },
  {
   "cell_type": "code",
   "execution_count": 69,
   "metadata": {},
   "outputs": [
    {
     "name": "stdout",
     "output_type": "stream",
     "text": [
      "1 2 3\n"
     ]
    },
    {
     "data": {
      "text/plain": [
       "False"
      ]
     },
     "execution_count": 69,
     "metadata": {},
     "output_type": "execute_result"
    }
   ],
   "source": [
    "# Definition for singly-linked list.\n",
    "# class ListNode:\n",
    "#     def __init__(self, val=0, next=None):\n",
    "#         self.val = val\n",
    "#         self.next = next\n",
    "\n",
    "class ListNode:\n",
    "    def __init__(self,val):\n",
    "        self.val = val\n",
    "        self.next = None\n",
    "\n",
    "def TakeNodeInput():\n",
    "    NodeArray=[int(x) for x in input().split()]\n",
    "    head=None\n",
    "    tail =None\n",
    "    for ele in NodeArray:\n",
    "        if ele == -1:\n",
    "            break\n",
    "        NewNode=ListNode(ele) \n",
    "        if head==None:\n",
    "            head=NewNode\n",
    "            tail=head\n",
    "        else:\n",
    "            tail.next = NewNode\n",
    "            tail=tail.next\n",
    "    return head\n",
    "\n",
    "def PrintLL(head):\n",
    "    while head!=None:\n",
    "        print(str(head.val) + '->',end='')\n",
    "        head=head.next\n",
    "    print(\"None\")   \n",
    "    return\n",
    "\n",
    "class Solution:\n",
    "    \n",
    "    def reverse(self,head):\n",
    "        prev = None\n",
    "        curr = head\n",
    "        \n",
    "        while curr.next is not None:\n",
    "            temp = curr.next\n",
    "            curr.next = prev\n",
    "            prev = curr\n",
    "            curr = temp\n",
    "            \n",
    "        curr.next = prev\n",
    "        return curr\n",
    "    \n",
    "    def isPalindrome(self, head):\n",
    "        if head.next is None:\n",
    "            return True\n",
    "        fast = head\n",
    "        slow = head\n",
    "        \n",
    "        while fast.next is not None and fast.next.next is not None:\n",
    "            slow = slow.next\n",
    "            fast = fast.next.next\n",
    "            \n",
    "        head2 = slow.next\n",
    "        slow.next = None\n",
    "        \n",
    "        head2 = self.reverse(head2)\n",
    "        curr1 = head \n",
    "        curr2 = head2\n",
    "        \n",
    "        while curr1 is not None and curr2 is not None:\n",
    "            if curr1.val != curr2.val:\n",
    "                return False\n",
    "            curr1 = curr1.next\n",
    "            curr2 = curr2.next\n",
    "            \n",
    "        return True \n",
    "    \n",
    "    \n",
    "head = TakeNodeInput()\n",
    "s = Solution()\n",
    "s.isPalindrome(head)"
   ]
  },
  {
   "cell_type": "code",
   "execution_count": 27,
   "metadata": {},
   "outputs": [
    {
     "name": "stdout",
     "output_type": "stream",
     "text": [
      "dqmvxouqesajlmksdawfenyaqtnnfhmqbdcniynwhuywucbjzqxhofdzvposbegkvqqrdehxzgikgtibimupumaetjknrjjuygxvncvjlahdbibatmlobctclgbmihiphshfpymgtmpeneldeygmzlpkwzouvwvqkunihmzzzrqodtepgtnljribmqneumbzusgppodmqdvxjhqwqcztcuoqlqenvuuvgxljcnwqfnvilgqrkibuehactsxphxkiwnubszjflvvuhyfwmkgkmlhmvhygncrtcttioxndbszxsyettklotadmudcybhamlcjhjpsmfvvchduxjngoajclmkxiugdtryzinivuuwlkejcgrscldgmwujfygqrximksecmfzathdytauogffxcmfjsczaxnfzvqmylujfevjwuwwaqwtcllrilyncmkjdztleictdebpkzcdilgdmzmvcllnmuwpqxqjmyoageisiaeknbwzxxezfbfejdfausfproowsyyberhiznfmrtzqtgjkyhutieyqgrzlcfvfvxawbcdaawbeqmzjrnbidnzuxfwnfiqspjtrszetubnjbznnjfjxfwtzhzejahravwmkakqsmuynklmeffangwicghckrcjwtusfpdyxxqqmfcxeurnsrmqyameuvouqspahkvouhsjqvimznbkvmtqqzpqzyqivsmznnyoauezmrgvproomvqiuzjolejptuwbdzwalfcmweqqmvdhejguwlmvkaydjrjkijtrkdezbipxoccicygmmibflxdeoxvudzeobyyrutbcydusjhmlwnfncahxgswxiupgxgvktwkdxumqp\n"
     ]
    },
    {
     "data": {
      "text/plain": [
       "'mupum'"
      ]
     },
     "execution_count": 27,
     "metadata": {},
     "output_type": "execute_result"
    }
   ],
   "source": [
    "# class Solution:\n",
    "#     def longestPalindrome(self, st):\n",
    "#         n = len(st)\n",
    "#         dp = [[0 for i in range(len(st))] for j in range(len(st))]\n",
    "#         ans = ''\n",
    "#         anslen = 1\n",
    "#         i = 0\n",
    "#         while (i < n) :\n",
    "#             dp[i][i] = 1\n",
    "#             ans = st[i]\n",
    "            \n",
    "#             i = i + 1   \n",
    "            \n",
    "\n",
    "#         i = 0\n",
    "#         while i < n - 1 :\n",
    "#             if (st[i] == st[i + 1]) :\n",
    "#                 dp[i][i + 1] = 1\n",
    "#                 anslen = 2\n",
    "#                 ans = st[i:i+1+1]\n",
    "                \n",
    "#             i = i + 1    \n",
    "\n",
    "#         k = 3\n",
    "#         while k <= n :\n",
    "#             # Fix the starting index\n",
    "#             i = 0 \n",
    "#             while i < (n - k + 1) :\n",
    "#                 j = i + k - 1 #2\n",
    "#                 if (dp[i + 1][j - 1] == 1 and st[i] == st[j]) :\n",
    "#                     dp[i][j] = 1\n",
    "#                     if k > anslen:\n",
    "#                         anslen = k\n",
    "#                         ans = st[i:j+1] \n",
    "#                 else:\n",
    "#                     dp[i][j] = 0\n",
    "#                 i = i + 1\n",
    "#             k = k + 1                                \n",
    "    \n",
    "            \n",
    "#         return ans    \n",
    "    \n",
    "# st = input()\n",
    "# s = Solution()\n",
    "# ans = s.longestPalindrome(st)\n",
    "# ans\n"
   ]
  },
  {
   "cell_type": "code",
   "execution_count": 39,
   "metadata": {},
   "outputs": [
    {
     "name": "stdout",
     "output_type": "stream",
     "text": [
      "aba\n"
     ]
    },
    {
     "data": {
      "text/plain": [
       "'aba'"
      ]
     },
     "execution_count": 39,
     "metadata": {},
     "output_type": "execute_result"
    }
   ],
   "source": [
    "class Solution:\n",
    "    def longestPalindrome(self, s):\n",
    "        res = ''\n",
    "        for i in range(len(s)):\n",
    "            \n",
    "            even = self.helper(s,i,i+1)\n",
    "            odd = self.helper(s,i,i)      \n",
    "            \n",
    "            res =  max(res,odd,even,key=len)\n",
    "            \n",
    "        return res    \n",
    "        \n",
    "    def helper(self,s,l,r):\n",
    "        while l >=0 and r < len(s) and s[l] == s[r]:\n",
    "            l -=1 \n",
    "            r+= 1\n",
    "        return s[l+1:r] \n",
    "    \n",
    "st = input()\n",
    "s = Solution()\n",
    "ans = s.longestPalindrome(st)\n",
    "ans"
   ]
  },
  {
   "cell_type": "markdown",
   "metadata": {},
   "source": [
    "Two Sum IV - Input is a BST(Easy)(https://leetcode.com/explore/challenge/card/august-leetcoding-challenge-2021/616/week-4-august-22nd-august-28th/3908/)"
   ]
  },
  {
   "cell_type": "code",
   "execution_count": 35,
   "metadata": {},
   "outputs": [
    {
     "name": "stdout",
     "output_type": "stream",
     "text": [
      "Enter root node: \n",
      "0\n",
      "Enter left child of  0\n",
      "-1\n",
      "Enter right child of  0\n",
      "2\n",
      "Enter left child of  -1\n",
      "-1\n",
      "Enter right child of  -1\n",
      "-9\n",
      "Enter left child of  2\n",
      "-9\n",
      "Enter right child of  2\n",
      "4\n",
      "Enter left child of  -1\n",
      "-3\n",
      "Enter right child of  -1\n",
      "-9\n",
      "Enter left child of  4\n",
      "-9\n",
      "Enter right child of  4\n",
      "-9\n",
      "Enter left child of  -3\n",
      "-9\n",
      "Enter right child of  -3\n",
      "-9\n",
      "-4\n"
     ]
    },
    {
     "data": {
      "text/plain": [
       "True"
      ]
     },
     "execution_count": 35,
     "metadata": {},
     "output_type": "execute_result"
    }
   ],
   "source": [
    "#TIme complexity = O(n)\n",
    "#Space complexity = O(n)\n",
    "import queue\n",
    "class binarytree:\n",
    "    def __init__(self, val):\n",
    "        self.val = val\n",
    "        self.left = None\n",
    "        self.right = None\n",
    "\n",
    "def takeinputlevelwise():\n",
    "    q= queue.Queue()\n",
    "    print(\"Enter root node: \")\n",
    "    rootdata = int(input())\n",
    "    if rootdata == -9:\n",
    "        return None\n",
    "    root = binarytree(rootdata)\n",
    "    q.put(root)\n",
    "    while not q.empty():\n",
    "        curr_data = q.get()\n",
    "        print(\"Enter left child of \",curr_data.val)\n",
    "        leftchild = int(input())\n",
    "        if leftchild !=-9:\n",
    "            leftchildroot = binarytree(leftchild)\n",
    "            q.put(leftchildroot)\n",
    "            curr_data.left = leftchildroot\n",
    "            \n",
    "        print(\"Enter right child of \",curr_data.val)\n",
    "        rightchild = int(input())\n",
    "        if rightchild !=-9:\n",
    "            rightchildroot = binarytree(rightchild)\n",
    "            q.put(rightchildroot)\n",
    "            curr_data.right = rightchildroot \n",
    "    return root\n",
    "\n",
    "class Solution:\n",
    "\n",
    "   \n",
    "    def CreateArr(self,arr,root):\n",
    "        if root is None:\n",
    "            return arr\n",
    "        \n",
    "        self.CreateArr(arr,root.left)\n",
    "        arr.append(root.val)\n",
    "        self.CreateArr(arr,root.right)\n",
    "        \n",
    "        return arr\n",
    "                \n",
    "    \n",
    "    def findTarget(self, root,k):\n",
    "        if root is None:\n",
    "            return False\n",
    "        arr = []\n",
    "        arr = self.CreateArr(arr,root)\n",
    "        i = 0\n",
    "        j = len(arr) - 1\n",
    "        while i < j:\n",
    "            if arr[i] + arr[j] > k:\n",
    "                j -= 1\n",
    "            elif arr[i] + arr[j] < k:\n",
    "                i += 1\n",
    "            else:\n",
    "                return True\n",
    "        return False    \n",
    "            \n",
    "            \n",
    "root =  takeinputlevelwise()     \n",
    "s = Solution()\n",
    "x = int(input())\n",
    "s.findTarget(root,x)"
   ]
  },
  {
   "cell_type": "markdown",
   "metadata": {},
   "source": [
    "convertToTitle(Easy)"
   ]
  },
  {
   "cell_type": "code",
   "execution_count": 76,
   "metadata": {},
   "outputs": [
    {
     "name": "stdout",
     "output_type": "stream",
     "text": [
      "752\n"
     ]
    },
    {
     "data": {
      "text/plain": [
       "'ABX'"
      ]
     },
     "execution_count": 76,
     "metadata": {},
     "output_type": "execute_result"
    }
   ],
   "source": [
    "class Solution:\n",
    "    def convertToTitle(self, columnNumber):\n",
    "        ans = ''\n",
    "        while columnNumber != 0:\n",
    "            val = columnNumber%26\n",
    "            if val == 0:\n",
    "                ans = 'Z' + ans\n",
    "                columnNumber = (columnNumber//26) - 1\n",
    "            else:\n",
    "                ans = chr(val+64) + ans\n",
    "                columnNumber = columnNumber//26\n",
    "                \n",
    "        return ans\n",
    "    \n",
    "    \n",
    "st = int(input())\n",
    "s = Solution()\n",
    "s.convertToTitle(st)    "
   ]
  },
  {
   "cell_type": "code",
   "execution_count": 67,
   "metadata": {},
   "outputs": [
    {
     "name": "stdout",
     "output_type": "stream",
     "text": [
      "BX\n"
     ]
    },
    {
     "data": {
      "text/plain": [
       "76"
      ]
     },
     "execution_count": 67,
     "metadata": {},
     "output_type": "execute_result"
    }
   ],
   "source": [
    "class Solution:\n",
    "    def titleToNumber(self, columnTitle):\n",
    "        ans = 0\n",
    "        i = 0\n",
    "        n = len(columnTitle)\n",
    "        while i < n:\n",
    "            ans += 26**i * (ord(columnTitle[n-(i+1)])-65+1)\n",
    "            i += 1\n",
    "        return ans\n",
    "    \n",
    "st = input()\n",
    "s = Solution()\n",
    "s.titleToNumber(st)"
   ]
  },
  {
   "cell_type": "markdown",
   "metadata": {},
   "source": [
    "Reverse Pairs(Hard)(https://leetcode.com/problems/reverse-pairs/submissions/)"
   ]
  },
  {
   "cell_type": "code",
   "execution_count": 92,
   "metadata": {},
   "outputs": [
    {
     "name": "stdout",
     "output_type": "stream",
     "text": [
      "1 3 2 3 1\n"
     ]
    },
    {
     "data": {
      "text/plain": [
       "2"
      ]
     },
     "execution_count": 92,
     "metadata": {},
     "output_type": "execute_result"
    }
   ],
   "source": [
    "class Solution:\n",
    "    \n",
    "    def merge(self,nums,low,mid,high):\n",
    "        count = 0\n",
    "        j = mid + 1\n",
    "        for i in range(low,mid+1):\n",
    "            while j <= high and nums[i] > 2*nums[j]:\n",
    "                j += 1\n",
    "            \n",
    "            count += j - (mid + 1)\n",
    "            \n",
    "        temp = []\n",
    "        left = low\n",
    "        right = mid + 1\n",
    "        while left <= mid and right <= high:\n",
    "            if nums[left] < nums[right]:\n",
    "                temp.append(nums[left])\n",
    "                left += 1\n",
    "            else:\n",
    "                temp.append(nums[right])\n",
    "                right += 1\n",
    "                \n",
    "        while left <= mid:\n",
    "            temp.append(nums[left])\n",
    "            left += 1\n",
    "          \n",
    "        while right <= high:\n",
    "            temp.append(nums[right])\n",
    "            right += 1\n",
    "            \n",
    "        for i in range(low,high+1):\n",
    "            nums[i] = temp[i-low]\n",
    "            \n",
    "        return count    \n",
    "            \n",
    "    \n",
    "    def mergesort(self,nums,left,right):\n",
    "        invco = 0\n",
    "        if left >= right:\n",
    "            return invco\n",
    "        mid = (left+right)//2\n",
    "        \n",
    "        invco += self.mergesort(nums,left,mid)\n",
    "        invco += self.mergesort(nums,mid+1,right)\n",
    "        \n",
    "        invco += self.merge(nums,left,mid,right)\n",
    "        return invco\n",
    "    def reversePairs(self, nums):\n",
    "        return self.mergesort(nums,0,len(nums)-1)\n",
    "    \n",
    "    \n",
    "nums = [int(i) for i in input().split()]    \n",
    "s = Solution()\n",
    "s.reversePairs(nums)"
   ]
  },
  {
   "cell_type": "code",
   "execution_count": 104,
   "metadata": {},
   "outputs": [
    {
     "data": {
      "text/plain": [
       "'-1asd'"
      ]
     },
     "execution_count": 104,
     "metadata": {},
     "output_type": "execute_result"
    }
   ],
   "source": [
    "class Solution:\n",
    "    def complexNumberMultiply(self, num1: str, num2: str) -> str:\n",
    "        a,b = map(int,num1[:-1].split('+'))\n",
    "        c,d = map(int,num2[:-1].split('+'))\n",
    "        \n",
    "        return f\"{a*c-b*d}+{a*d+b*c}i\""
   ]
  },
  {
   "cell_type": "code",
   "execution_count": 9,
   "metadata": {},
   "outputs": [
    {
     "name": "stdout",
     "output_type": "stream",
     "text": [
      "vasa\n",
      "vass\n"
     ]
    },
    {
     "data": {
      "text/plain": [
       "False"
      ]
     },
     "execution_count": 9,
     "metadata": {},
     "output_type": "execute_result"
    }
   ],
   "source": [
    "class Solution:\n",
    "    def isAnagram(self, s: str, t: str) -> bool:\n",
    "        frq_arr = [0]*256\n",
    "        for i in s:\n",
    "            frq_arr[ord(i)] += 1\n",
    "            \n",
    "        for i in t:\n",
    "            frq_arr[ord(i)] -= 1\n",
    "            \n",
    "        for i in frq_arr:\n",
    "            if i != 0:\n",
    "                return False\n",
    "        \n",
    "        return True\n",
    "    \n",
    "st1 = input()\n",
    "st2 = input()        \n",
    "s = Solution()\n",
    "s.isAnagram(st1,st2)"
   ]
  },
  {
   "cell_type": "code",
   "execution_count": 13,
   "metadata": {},
   "outputs": [
    {
     "name": "stdout",
     "output_type": "stream",
     "text": [
      "h a n n a h\n",
      "['h', 'a', 'n', 'n', 'a', 'h']\n"
     ]
    }
   ],
   "source": [
    "class Solution:\n",
    "    def reverseString(self, s):\n",
    "        if len(s) == 1:\n",
    "            return s\n",
    "        \n",
    "        i = 0\n",
    "        j = len(s) - 1 \n",
    "        while i < j:\n",
    "            s[i] , s[j] = s[j] , s[i]\n",
    "            i += 1\n",
    "            j -= 1\n",
    "            \n",
    "st = [i for i in input().split()]            \n",
    "s = Solution()\n",
    "s.reverseString(st)\n",
    "print(st)"
   ]
  },
  {
   "cell_type": "code",
   "execution_count": null,
   "metadata": {},
   "outputs": [],
   "source": [
    "class Solution:\n",
    "    def firstUniqChar(self, s: str) -> int:\n",
    "        if len(s) == 1:\n",
    "            return 0\n",
    "        # flag = False\n",
    "        for i in range(len(s)):\n",
    "            flag = False\n",
    "            for j in range(0,len(s)):\n",
    "                if i == j:\n",
    "                    pass\n",
    "                elif s[i] == s[j]:\n",
    "                    flag = True\n",
    "                    break\n",
    "                    \n",
    "            if flag is False:\n",
    "                return i\n",
    "        return -1    "
   ]
  },
  {
   "cell_type": "code",
   "execution_count": 24,
   "metadata": {},
   "outputs": [
    {
     "name": "stdout",
     "output_type": "stream",
     "text": [
      "aabb\n"
     ]
    },
    {
     "data": {
      "text/plain": [
       "-1"
      ]
     },
     "execution_count": 24,
     "metadata": {},
     "output_type": "execute_result"
    }
   ],
   "source": [
    "class Solution:\n",
    "    def firstUniqChar(self, s: str) -> int:\n",
    "        if len(s) == 1:\n",
    "            return 0\n",
    "        \n",
    "        dic = {}\n",
    "        cont = ''\n",
    "        for i in range(len(s)):\n",
    "            if s[i] not in dic and s[i]  not in cont:\n",
    "                cont += s[i]\n",
    "                dic[s[i]] = i\n",
    "            else:\n",
    "                if s[i] in dic:\n",
    "                    dic.pop(s[i])\n",
    "                \n",
    "        if len(dic) == 0:\n",
    "            return -1\n",
    "        ans = len(s) + 1\n",
    "        for i in dic:\n",
    "            ans = min(dic[i],ans)\n",
    "            \n",
    "        return ans\n",
    "    \n",
    "st  = input()    \n",
    "s = Solution()\n",
    "s.firstUniqChar(st)"
   ]
  },
  {
   "cell_type": "code",
   "execution_count": 29,
   "metadata": {},
   "outputs": [
    {
     "name": "stdout",
     "output_type": "stream",
     "text": [
      "2 7 11 15\n",
      "9\n"
     ]
    },
    {
     "data": {
      "text/plain": [
       "[0, 1]"
      ]
     },
     "execution_count": 29,
     "metadata": {},
     "output_type": "execute_result"
    }
   ],
   "source": [
    "class Solution:\n",
    "    def twoSum(self, nums, target):\n",
    "        dic = {}\n",
    "        for i in range(len(nums)):\n",
    "            dic[nums[i]] = i\n",
    "            \n",
    "        for i in range(len(nums)):\n",
    "            if target - nums[i] in dic and i != dic[target - nums[i]]:\n",
    "                if i < dic[target - nums[i]]:\n",
    "                    return [i,dic[target - nums[i]]]\n",
    "                else:\n",
    "                    return[dic[target - nums[i]],i]\n",
    "                \n",
    "           \n",
    "nums = [int(i) for i in input().split()]\n",
    "target = int(input())\n",
    "s = Solution()\n",
    "s.twoSum(nums,target)"
   ]
  },
  {
   "cell_type": "code",
   "execution_count": 35,
   "metadata": {},
   "outputs": [
    {
     "name": "stdout",
     "output_type": "stream",
     "text": [
      "0 -1\n"
     ]
    },
    {
     "data": {
      "text/plain": [
       "2"
      ]
     },
     "execution_count": 35,
     "metadata": {},
     "output_type": "execute_result"
    }
   ],
   "source": [
    "class Solution:\n",
    "    def longestConsecutive(self, nums):\n",
    "        if len(nums) == 0:\n",
    "            return 0\n",
    "        dic = {}\n",
    "        for i in nums:\n",
    "            dic[i] = True\n",
    "            \n",
    "        ans = 1\n",
    "        for i in range(len(nums)):\n",
    "            if dic[nums[i]] == True:\n",
    "                count = 1\n",
    "                dic[nums[i]] = False\n",
    "                val = nums[i]\n",
    "                \n",
    "                #Check for increasing\n",
    "                while val + 1 in dic and dic[val+1] == True:\n",
    "                    count += 1\n",
    "                    dic[val+1] = False\n",
    "                    val += 1\n",
    "                    \n",
    "                #Check for decreasing\n",
    "                val = nums[i]\n",
    "                \n",
    "                while val - 1 in dic and dic[val-1] == True:\n",
    "                    count += 1\n",
    "                    dic[val-1] = False\n",
    "                    val -= 1\n",
    "                    \n",
    "                ans = max(count , ans)\n",
    "        return ans\n",
    "    \n",
    "nums = [int(i) for i in input().split()]    \n",
    "s = Solution()\n",
    "s.longestConsecutive(nums)"
   ]
  },
  {
   "cell_type": "code",
   "execution_count": 57,
   "metadata": {},
   "outputs": [
    {
     "name": "stdout",
     "output_type": "stream",
     "text": [
      "100000000\n"
     ]
    },
    {
     "data": {
      "text/plain": [
       "True"
      ]
     },
     "execution_count": 57,
     "metadata": {},
     "output_type": "execute_result"
    }
   ],
   "source": [
    "import math\n",
    "\n",
    "class Solution:\n",
    "    \n",
    "    def checkT(self,arr,target):\n",
    "        i = 0\n",
    "        j = len(arr) - 1\n",
    "        while i < j:\n",
    "            if arr[i] + arr[i] == target:\n",
    "                return True\n",
    "            if arr[j] + arr[j] == target:\n",
    "                return True\n",
    "            if arr[i] + arr[j] == target:\n",
    "                return True\n",
    "            \n",
    "            if arr[i] + arr[j] > target:\n",
    "                j -= 1\n",
    "            else:\n",
    "                i += 1\n",
    "        return False        \n",
    "    \n",
    "    def judgeSquareSum(self, c):\n",
    "        if c == 0 or c == 1:\n",
    "            return True\n",
    "        arr = []\n",
    "        for i in range(int(math.sqrt(c))+1):\n",
    "            arr.append(i*i)\n",
    "        return self.checkT(arr,c)\n",
    "    \n",
    "c = int(input())    \n",
    "s = Solution()\n",
    "s.judgeSquareSum(c)"
   ]
  },
  {
   "cell_type": "code",
   "execution_count": 47,
   "metadata": {},
   "outputs": [
    {
     "data": {
      "text/plain": [
       "3.4641016151377544"
      ]
     },
     "execution_count": 47,
     "metadata": {},
     "output_type": "execute_result"
    }
   ],
   "source": []
  }
 ],
 "metadata": {
  "kernelspec": {
   "display_name": "Python 3",
   "language": "python",
   "name": "python3"
  },
  "language_info": {
   "codemirror_mode": {
    "name": "ipython",
    "version": 3
   },
   "file_extension": ".py",
   "mimetype": "text/x-python",
   "name": "python",
   "nbconvert_exporter": "python",
   "pygments_lexer": "ipython3",
   "version": "3.9.6"
  }
 },
 "nbformat": 4,
 "nbformat_minor": 4
}
